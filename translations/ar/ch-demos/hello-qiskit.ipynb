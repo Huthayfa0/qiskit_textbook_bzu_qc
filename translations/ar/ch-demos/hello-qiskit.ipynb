{
  "cells": [
    {
      "cell_type": "markdown",
      "metadata": {
        "tags": [
          "remove_cell"
        ],
        "id": "ONpwNiEY9OwI"
      },
      "source": [
        "# Hello Qiskit"
      ]
    },
    {
      "cell_type": "markdown",
      "metadata": {
        "id": "1Drz3XDT9OwL"
      },
      "source": [
        "<div dir=\"rtl\">\n",
        "هناك ألغاز بسيطة سوف نتعرف عليها للبدء بالكيوبتات و البوابات الكمومية\n",
        "\n",
        "##   المستوى الأول: البدء بالبتات\n",
        "\n",
        "كما هو الحال في جميع أجزاء الكتاب, هذا المستند عبارة عن مفكرة Jupyter تفاعلية عليك تشغيلها لكي تعمل و تشاهد النتيجة.\n",
        "\n",
        "لا داعي للقلق إذا لم تستخدم مفكرة Jupyter من قبل. فهذا يعني فقط أنك سترى الكثير من المربعات الرمادية التي تحتوي على كود بداخلها، مثل المربع أدناه. تُعرف هذه المربعات باسم الخلايا."
      ]
    },
    {
      "cell_type": "code",
      "execution_count": null,
      "metadata": {
        "colab": {
          "base_uri": "https://localhost:8080/"
        },
        "id": "B23kkkCT9OwN",
        "outputId": "e3861656-7155-4e72-c0ef-578f74e08681"
      },
      "outputs": [
        {
          "output_type": "stream",
          "name": "stdout",
          "text": [
            "Hello! I'm a code cell\n"
          ]
        }
      ],
      "source": [
        "print(\"Hello! I'm a code cell\")"
      ]
    },
    {
      "cell_type": "markdown",
      "metadata": {
        "id": "KfWT05Wc9OwO"
      },
      "source": [
        "<div dir=\"rtl\">\n",
        "طريقة تشغيل الكود داخل الخلية تعتمد على الجهاز وطريقة الإدخال التي\n",
        "تستخدمها. في معظم الحالات، ينبغي عليك النقر على الخلية ثم الضغط على Shift-Enter. ومع ذلك، إذا كنت تستخدم هذا على موقع كتاب Qiskit، يمكنك فقط النقر على زر Run.\n",
        "\n",
        "ابدأ بتنفيذ ذلك على الخلية أدناه (سيستغرق بضع ثوانٍ للتشغيل)."
      ]
    },
    {
      "cell_type": "code",
      "execution_count": null,
      "metadata": {
        "id": "EcCQQMl-9OwO",
        "outputId": "641c7822-33ee-4ea4-ec94-494a56b52348"
      },
      "outputs": [
        {
          "name": "stdout",
          "output_type": "stream",
          "text": [
            "Set up started...\n",
            "Set up complete!\n"
          ]
        }
      ],
      "source": [
        "print('Set up started...')\n",
        "from qiskit_textbook.games import hello_quantum\n",
        "print('Set up complete!')"
      ]
    },
    {
      "cell_type": "markdown",
      "metadata": {
        "id": "n6MuFpwE9OwP"
      },
      "source": [
        "<div dir=\"rtl\">\n",
        "بقية الخلايا في هذه المفكرة تحتوي على كود يجهز الألغاز التي يجب عليك حلها. لتشغيل الألغاز، فقط شغّل الخلايا. لإعادة تشغيل لغز، أعد تشغيل الخلية. يمكنك تكرار هذه العملية قدر ما تشاء."
      ]
    },
    {
      "cell_type": "markdown",
      "metadata": {
        "id": "6AS0JU879OwQ"
      },
      "source": [
        "<div dir=\"rtl\">\n",
        "<h1> اللغز الاول</h1>\n",
        "\n",
        "## المقدمة\n",
        "\n",
        "تعتمد الحواسيب الكمومية على الكيوبتات  (qubits), و هي النسخة الكمومية من البت (bit). و لكن ما هو البت بالضبك؟ و كيف يمكننا استخدامه في أجهزة الحاسوب؟\n",
        "\n",
        "الميزة الأساسية للبت هي أن له قيمتين محتملتين. يمكن تسميتها 1 و 0، أو 'تشغيل' و 'إيقاف'، أو 'صحيح' و 'خطأ'. لا تهم الأسماء التي نستخدمها بقدر أهمية وجود قيمتين فقط.\n",
        "\n",
        "للتعرف على البتات، دعونا نجرب أبسط شيء يمكنك القيام به مع البت (بخلاف تركه كما هو) هو عكس قيمته. نُطلق على هذه العملية البسيطة :  بوابة النفي NOT  .\n",
        "\n",
        "قم بتجربة التمرين التالي\n",
        "\n",
        "<h2> التمرين </h2>\n",
        "استخدمنا بوابة NOT ثلاث مرات"
      ]
    },
    {
      "cell_type": "code",
      "execution_count": null,
      "metadata": {
        "id": "viNdZeN_9OwQ"
      },
      "outputs": [],
      "source": [
        "initialize = []\n",
        "success_condition = {}\n",
        "allowed_gates = {'0': {'NOT': 3}, '1': {}, 'both': {}}\n",
        "vi = [[1], False, False]\n",
        "qubit_names = {'0':'the only bit', '1':None}\n",
        "puzzle = hello_quantum.run_game(initialize, success_condition, allowed_gates, vi, qubit_names)"
      ]
    },
    {
      "cell_type": "markdown",
      "metadata": {
        "id": "Yp3_FqKo9OwQ"
      },
      "source": [
        "<div dir=\"rtl\">\n",
        "\n",
        "#### الخاتمة\n",
        "\n",
        "قمنا هنا بتصور البت باستخدام دائرة كانت إما \"مضاءة\" (بيضاء) أو \"مطفأة\" (سوداء). وكانت تأثيرات بوابة NOT تتمثل في تشغيلها وإطفائها، مما يجعل البت ينتقل بين حالتيه المختلفتين."
      ]
    },
    {
      "cell_type": "markdown",
      "metadata": {
        "id": "yiDKzBwU9OwR"
      },
      "source": [
        "<div dir=\"rtl\">\n",
        "\n",
        "##  اللغز الثاني\n",
        "<h2>  المقدمة</h2>\n",
        "اللعب مع بتين أكثر إثارة من اللعب مع واحد فقط. لذا، إليك بت آخر لتلعب به. سيبدو كما كان سابقًا، ولكن بما أنه بت مختلف، فسيكون في مكان مختلف.\n",
        "\n",
        "التمرين\n",
        "قم بتشغيل البت الآخر."
      ]
    },
    {
      "cell_type": "code",
      "execution_count": null,
      "metadata": {
        "id": "ofDsJGzm9OwR"
      },
      "outputs": [],
      "source": [
        "initialize = []\n",
        "success_condition = {}\n",
        "allowed_gates = {'0': {}, '1': {'NOT': 0}, 'both': {}}\n",
        "vi = [[], False, False]\n",
        "qubit_names = {'0':'the bit on the left', '1':'the bit on the right'}\n",
        "puzzle = hello_quantum.run_game(initialize, success_condition, allowed_gates, vi, qubit_names)"
      ]
    },
    {
      "cell_type": "markdown",
      "metadata": {
        "id": "fuo6ahZj9OwS"
      },
      "source": [
        "<div dir=\"rtl\">\n",
        "\n",
        "#### الخاتمة\n",
        "لقد أتقنت الآن بوابة NOT: وهي الأساس الأكثر بساطة في عالم الحوسبة.\n",
        "\n"
      ]
    },
    {
      "cell_type": "markdown",
      "metadata": {
        "id": "kbSLsLON9OwS"
      },
      "source": [
        "<div dir=\"rtl\">\n",
        "\n",
        "## اللغز القالث\n",
        "<h2> المقدمة </h2>\n",
        "نستخدم كلمة \"بوابة\" لوصف الأدوات البسيطة التي يمكننا استخدامها لمعالجة الكيوبتات. بوابة NOT هي أبسط مثال. لكن للقيام بأشياء مثيرة مع البتات، نحتاج إلى القيام بأكثر من مجرد تشغيلها وإيقافها.\n",
        "\n",
        "بوابة أكثر تطورًا قليلاً تُسمى CNOT، وهي اختصار لـ \"controlled-NOT\". تُستخدم هذه البوابة مع أزواج من البتات.\n",
        "\n",
        "نختار أحد البتات ليكون \"التحكم\". هذا البت هو الذي يقرر ما إذا كانت بوابة CNOT ستقوم بأي شيء أم لا. أما البت الآخر فهو \"الهدف\". ببساطة، تقوم بوابة CNOT بتنفيذ عملية NOT على البت الهدف، ولكن فقط إذا كان البت المتحكم \"مشتعلًا\".\n",
        "\n",
        "*\n",
        "أفضل طريقة لفهم هذا هي أن تجربه بنفسك!\n",
        "\n",
        "<h2> التمرين </h2>\n",
        "\n",
        "استخدم بوابة CNOT لتشغيل البت الموجود على اليمين.\n",
        "ملحوظة: عند سؤالك عن اختيار بت، فأنت تختار أي بت سيكون البت الهدف.\n",
        "\n"
      ]
    },
    {
      "cell_type": "code",
      "execution_count": null,
      "metadata": {
        "id": "GlhqxQKe9OwT"
      },
      "outputs": [],
      "source": [
        "initialize = [['x', '0']]\n",
        "success_condition = {'IZ': -1.0}\n",
        "allowed_gates = {'0': {'CNOT': 0}, '1': {'CNOT': 0}, 'both': {}}\n",
        "vi = [[], False, False]\n",
        "qubit_names = {'0':'the bit on the left', '1':'the bit on the right'}\n",
        "puzzle = hello_quantum.run_game(initialize, success_condition, allowed_gates, vi, qubit_names)"
      ]
    },
    {
      "cell_type": "markdown",
      "metadata": {
        "id": "iqUuaJcU9OwT"
      },
      "source": [
        "<div dir=\"rtl\">\n",
        "\n",
        "### اللغز الرابع\n",
        "<h2> المقدمة </h2>\n",
        "\n",
        "<p> أي برنامج نقوم بتشغيله يتكون من العديد من البوابات على العديد من الكيوبتات. كخطوة نحو هذا، دعنا نجرب شيئًا يتطلب استخدام عدة بوابات CNOT.</p>\n",
        "\n",
        "<h2> التمرين </h2>\n",
        "\n",
        "* استخدم بعض بوابات CNOT لإطفاء البت الموجود على اليسار وتشغيل البت الموجود على اليمين."
      ]
    },
    {
      "cell_type": "code",
      "execution_count": null,
      "metadata": {
        "id": "2fngmtZU9OwT"
      },
      "outputs": [],
      "source": [
        "initialize = [['x', '0']]\n",
        "success_condition = {'ZI': 1.0, 'IZ': -1.0}\n",
        "allowed_gates = {'0': {'CNOT': 0}, '1': {'CNOT': 0}, 'both': {}}\n",
        "vi = [[], False, False]\n",
        "qubit_names = {'0':'the bit on the left', '1':'the bit on the right'}\n",
        "puzzle = hello_quantum.run_game(initialize, success_condition, allowed_gates, vi, qubit_names)"
      ]
    },
    {
      "cell_type": "markdown",
      "metadata": {
        "id": "aNmtqHWn9OwT"
      },
      "source": [
        "<div dir=\"rtl\">\n",
        "\n",
        "#### الخاتمة\n",
        "\n",
        "أحسنت صنعاً\n",
        "\n",
        "<p> هذا النوع من التلاعبات هو ما يتم تحويل كل عمليات الحوسبة إليه. إذا كان لديك بتات أكثر وبوابة CNOT مضبوطة، يمكنك بناء أي شيء بدءًا من ألعاب الفيديو مثل Tetris وصولاً إلى السيارات ذاتية القيادة. </p>"
      ]
    },
    {
      "cell_type": "markdown",
      "metadata": {
        "id": "HVp8U2y89OwU"
      },
      "source": [
        "<div dir=\"rtl\">\n",
        "\n",
        "### اللغز الخامس\n",
        "\n",
        "#### المقدمة\n",
        "\n",
        "<P> ربما لاحظت وجود الكثير من الفراغ على لوحة اللغز (puzzle board). هذا لأنه يمكن استخدامه لتصور المزيد من المعلومات حول البتات الخاصة بنا. على سبيل المثال، ماذا لو تم توليد قيم البتات من خلال عملية عشوائية؟ </p>\n",
        "\n",
        "لقد استخدمنا دوائر سوداء وبيضاء لتمثيل قيم البتات `0` و `1`. لذا بالنسبة لبت عشوائي يعطينا `0` أو `1` باحتمالية متساوية، سنستخدم دائرة رمادية.\n",
        "\n",
        "الآن يمكننا أن نرى كيف تتلاعب بواباتنا بهذه العشوائية.\n",
        "\n",
        "\n",
        "#### التمرين\n",
        "* اجعل البت الموجود على اليمين عشوائيًا باستخدام بوابة `CNOT`."
      ]
    },
    {
      "cell_type": "code",
      "execution_count": null,
      "metadata": {
        "id": "Z5IkHYji9OwU"
      },
      "outputs": [],
      "source": [
        "initialize = [['h', '0']]\n",
        "success_condition = {'IZ': 0.0}\n",
        "allowed_gates = {'0': {'CNOT': 0}, '1': {'CNOT': 0}, 'both': {}}\n",
        "vi = [[], False, False]\n",
        "qubit_names = {'0':'the bit on the left', '1':'the bit on the right'}\n",
        "puzzle = hello_quantum.run_game(initialize, success_condition, allowed_gates, vi, qubit_names)"
      ]
    },
    {
      "cell_type": "markdown",
      "metadata": {
        "id": "yweHmzvp9OwU"
      },
      "source": [
        "<div dir=\"rtl\">\n",
        "\n",
        "#### الخاتمة\n",
        "\n",
        "أحسنت/ي\n",
        "\n",
        " دعنا نفكر فيما حدث هنا. لقد قمنا بتنفيذ بوابة `CNOT`، وكان البت المتحكم هو بت عشوائي قد يكون \"مشتعلًا\" أو \"مطفيًا\". إذا كان \"مطفيًا\"، فإن `CNOT` لا تفعل شيئًا ويبقى البت الأيمن مطفيًا. إذا كان البت الأيسر \"مشتعلًا\"، فإن `CNOT` تقوم بعملية `NOT` على البت الأيمن لتشغيله أيضًا.\n",
        "\n",
        "هذه العملية تقوم بنسخ القيمة العشوائية للبت الأيسر إلى البت الأيمن. وبذلك، ستبدو مخرجات كلا البتين عشوائية، لكن بميزة مهمة: ستنتجان دائماً نفس النتيجة العشوائية.\n",
        "\n",
        "في نهاية اللغز السابق، تم تمثيل البتين بدائرتين رماديتين. وهذا يشير إلى أن كلاهما عشوائي، لكنه لا يخبرنا بأي شيء عن حقيقة أنهما دائماً متطابقان. نفس الدائرتين الرماديتين قد تُستخدم إذا كانت البتات عشوائية بشكل مستقل، أو إذا كانت عشوائية ولكن دائماً متناقضة. لمساعدتنا في التمييز بين هذه الحالات، نحتاج إلى إضافة شيء إلى لوحة اللغز.\n"
      ]
    },
    {
      "cell_type": "markdown",
      "metadata": {
        "id": "3LgCCzWX9OwU"
      },
      "source": [
        "<div dir=\"rtl\">\n",
        "\n",
        "### اللغز السادس\n",
        "\n",
        "#### المقدمة\n",
        "\n",
        "بهذا اللغز , سوف تشاهد دارة جديدة.\n",
        "\n",
        "على عكس الدوائر التي رأيتها حتى الآن، هذه الدائرة لا تمثل بت جديد. بدلاً من ذلك، تُخبرنا ما إذا كان البتان سيتفقان أم لا.\n",
        "\n",
        "عندما يكون من المؤكد أنهما سيتفقان، ستكون الدائرة مُطفأة. وعندما يكون من المؤكد أنهما سيختلفان، ستكون مُضاءة. وإذا كانت اتفاقاتهما واختلافاتهما عشوائية، فستكون رمادية.\n",
        "\n",
        "\n",
        "#### التمرين\n",
        "*  اجعل البتين دائماً في حالة اختلاف (وهذا يعني جعل الدائرة الوسطى بيضاء)"
      ]
    },
    {
      "cell_type": "code",
      "execution_count": null,
      "metadata": {
        "id": "P0ip6UjC9OwU"
      },
      "outputs": [],
      "source": [
        "initialize = [['h', '0']]\n",
        "success_condition = {'ZZ': -1.0}\n",
        "allowed_gates = {'0': {'NOT': 0, 'CNOT': 0}, '1': {'NOT': 0, 'CNOT': 0}, 'both': {}}\n",
        "vi = [[], False, True]\n",
        "qubit_names = {'0':'the bit on the left', '1':'the bit on the right'}\n",
        "puzzle = hello_quantum.run_game(initialize, success_condition, allowed_gates, vi, qubit_names)"
      ]
    },
    {
      "cell_type": "markdown",
      "metadata": {
        "id": "9HQf9rWQ9OwV"
      },
      "source": [
        "<div dir=\"rtl\">\n",
        "\n",
        "### اللغز السابع\n",
        "\n",
        "#### المقدمة\n",
        "\n",
        "الآن تعرف تقريبًا كل ما تحتاج إلى معرفته عن البتات. دعنا نجري تمرينًا آخر قبل أن ننتقل إلى المرحلة التالية.\n",
        "#### التمرين\n",
        "*  قم بتشغيل البت الموجود على اليمين"
      ]
    },
    {
      "cell_type": "code",
      "execution_count": null,
      "metadata": {
        "id": "Mdfyc9gM9OwV"
      },
      "outputs": [],
      "source": [
        "initialize = [['h', '1']]\n",
        "success_condition = {'IZ': -1.0}\n",
        "allowed_gates = {'0': {'NOT': 0, 'CNOT': 0}, '1': {'NOT': 0, 'CNOT': 0}, 'both': {}}\n",
        "vi = [[], False, True]\n",
        "qubit_names = {'0':'the bit on the left', '1':'the bit on the right'}\n",
        "puzzle = hello_quantum.run_game(initialize, success_condition, allowed_gates, vi, qubit_names)"
      ]
    },
    {
      "cell_type": "markdown",
      "metadata": {
        "id": "UJTxuhhr9OwV"
      },
      "source": [
        "<div dir=\"rtl\">\n",
        "\n",
        "#### الخاتمة\n",
        "\n",
        "الآن حان الوقت لمعرفة ما يحدث عندما تصبح البتات كمومية. حان الوقت للانتقال إلى الكيوبتات!"
      ]
    },
    {
      "cell_type": "markdown",
      "metadata": {
        "id": "TR574VwA9OwV"
      },
      "source": [
        "<div dir=\"rtl\">\n",
        "\n",
        "## المستوى 2: البوابات الأساسية للكيوبت الواحد"
      ]
    },
    {
      "cell_type": "markdown",
      "metadata": {
        "id": "CDg2Ha0Y9OwW"
      },
      "source": [
        "<div dir=\"rtl\">\n",
        "\n",
        "### اللغز 1\n",
        "\n",
        "#### المقدمة\n",
        "\n",
        "بدلاً من البدء بمحاضرة حول ميكانيكا الكم، إليك كيوبت لتجربته. جرّب أبسط بوابة للكيوبت، وهي بوابة `X`.\n",
        "\n",
        "####  التمرين\n",
        "* استخدم بوابة `X` ثلاث مرات، وشاهد ما سيحدث."
      ]
    },
    {
      "cell_type": "code",
      "execution_count": null,
      "metadata": {
        "id": "iGlScA1p9OwW"
      },
      "outputs": [],
      "source": [
        "initialize = [ [\"x\",\"0\"] ]\n",
        "success_condition = {\"ZI\":1.0}\n",
        "allowed_gates = { \"0\":{\"x\":3}, \"1\":{}, \"both\":{} }\n",
        "vi = [[1],True,True]\n",
        "qubit_names = {'0':'the only qubit', '1':None}\n",
        "puzzle = hello_quantum.run_game(initialize, success_condition, allowed_gates, vi, qubit_names)"
      ]
    },
    {
      "cell_type": "markdown",
      "metadata": {
        "id": "7j4s-AyR9OwW"
      },
      "source": [
        "<div dir=\"rtl\">\n",
        "\n",
        "#### الخاتمة\n",
        "\n",
        "يجب أن يبدو هذا اللغز مألوفًا جدًا. كان بالضبط نفس اللغز الأول لبعض الوقت، باستثناء أن هناك دائرة إضافية لم تفعل شيئًا. بخلاف ذلك، كان لبوابة `X` نفس التأثير الذي كان لبوابة NOT."
      ]
    },
    {
      "cell_type": "markdown",
      "metadata": {
        "id": "WOz28ZFC9OwX"
      },
      "source": [
        "<div dir=\"rtl\">\n",
        "\n",
        "### اللغز 2\n",
        "\n",
        "#### المقدمة\n",
        "\n",
        "ي اللغز السابق، كان هناك دائرتان. لم تمثل هذه الدوائر بتات مختلفة، بل مثلتا نفس الكيوبت.\n",
        "\n",
        "الكيوبتات هي النسخة الكمومية من البتات. لديها بعض الخصائص المشابهة للبتات، ولكن لديها أيضًا ميزات إضافية.\n",
        "\n",
        "تمامًا كما تكون البتات محدودة بقيمتين فقط، كذلك الكيوبتات. عندما تستخرج ناتجًا من الكيوبت، ستحصل على قيمة بت بسيطة: `0` أو `1`. ومع ذلك، هناك عدة طرق يمكننا استخدامها لاستخراج هذه القيمة من الكيوبت. النتيجة التي نحصل عليها تعتمد على الطريقة التي نستخدمها.\n",
        "\n",
        "الدائرتان في اللغز السابق تمثلان طريقتين مختلفتين يمكننا من خلالهما الحصول على بت من نفس الكيوبت. تسمى هذه الطرق قياسات X و قياسات Z. الدائرة السفلية تمثل الناتج لقياس Z، والدائرة العلوية تمثل ناتج قياس X.\n",
        "\n",
        "لون الدائرة يستخدم بنفس الطريقة السابقة. إذا كانت الدائرة سوداء، فهذا يعني أن الناتج المقابل سيكون القيمة 0. وإذا كانت بيضاء، فهذا يعني أننا سنحصل على 1.\n",
        "\n",
        "\n",
        "#### التمرين\n",
        "\n",
        "*  أوقف الناتج `z`"
      ]
    },
    {
      "cell_type": "code",
      "execution_count": null,
      "metadata": {
        "id": "oHRN6g9U9OwX"
      },
      "outputs": [],
      "source": [
        "initialize = [['x', '0']]\n",
        "success_condition = {'ZI': 1.0}\n",
        "allowed_gates = {'0': {'x': 0}, '1': {}, 'both': {}}\n",
        "vi = [[1], True, True]\n",
        "qubit_names = {'0':'the only qubit', '1':None}\n",
        "puzzle = hello_quantum.run_game(initialize, success_condition, allowed_gates, vi, qubit_names)"
      ]
    },
    {
      "cell_type": "markdown",
      "metadata": {
        "id": "aIM04yFX9OwX"
      },
      "source": [
        "<div dir=\"rtl\">\n",
        "\n",
        "#### الخاتمة\n",
        "\n",
        "عملية استخراج بت من كيوبت تُسمى \"القياس\".\n",
        "\n",
        "لا يمكن استخراج ناتجي X و Z بشكل مستقل. عليك أن تختار واحدًا فقط."
      ]
    },
    {
      "cell_type": "markdown",
      "metadata": {
        "id": "jLzdFX3g9OwX"
      },
      "source": [
        "<div dir=\"rtl\">\n",
        "\n",
        "### اللغز 3\n",
        "\n",
        "#### المفدمة\n",
        "\n",
        "في هذا اللغز، سنرى كيوبت آخر. مرة أخرى، ستكون أعماله الداخلية ممثلة بدائرتين. بالنسبة لهذا الكيوبت، ستكون هذه الدوائر على يمين لوحة اللغز\n",
        "\n",
        "#### التمرين\n",
        "\n",
        "*  قم بإيقاف تشغيل مخرج Z للبت الكمي الآخر."
      ]
    },
    {
      "cell_type": "code",
      "execution_count": null,
      "metadata": {
        "id": "moANJkX89OwY"
      },
      "outputs": [],
      "source": [
        "initialize = [['x', '1']]\n",
        "success_condition = {'IZ': 1.0}\n",
        "allowed_gates = {'0': {}, '1': {'x': 0}, 'both': {}}\n",
        "vi = [[0], True, True]\n",
        "qubit_names = {'0':None, '1':'the other qubit'}\n",
        "puzzle = hello_quantum.run_game(initialize, success_condition, allowed_gates, vi, qubit_names)"
      ]
    },
    {
      "cell_type": "markdown",
      "metadata": {
        "id": "jVWtQp1f9OwZ"
      },
      "source": [
        "<div dir=\"rtl\">\n",
        "\n",
        "#### الخاتمة\n",
        "\n",
        "من الآن فصاعدًا، سنبدأ بتسمية الكيوبتات بالأسماء المستخدمة في البرامج: الكيوبت على اليسار سيُسمى `q[0]`، وعلى اليمين `q[1]`.\n",
        "\n",
        "أيضًا، لاحظ أن المصطلحين \"ناتج Z\" و \"ناتج X\" ليسا شائعين الاستخدام. سيكون من المعتاد أكثر أن نقول \"ناتج قياس Z\" وما إلى ذلك. ولكن هذا يُعتبر مطولًا قليلاً لهذه الألغاز.\n",
        "\n"
      ]
    },
    {
      "cell_type": "markdown",
      "metadata": {
        "id": "dMgx6hRZ9OwZ"
      },
      "source": [
        "<div dir=\"rtl\">\n",
        "\n",
        "### اللغز 4\n",
        "\n",
        "#### المقدمة\n",
        "\n",
        "الآن حان الوقت لتجربة بوابة جديدة: بوابة `h`\n",
        "\n",
        "هذه البوابة ليست ممكنة بالنسبة للبتات البسيطة. تأثيرها هو تبديل الدائرتين الخاصتين بالكيوبت الذي يتم تطبيقها عليه.\n",
        "\n",
        "إذا كنت ترغب في رؤية هذا بشكل متحرك جميل، تحقق من تطبيق [Hello Quantum](https://helloquantum.mybluemix.net/). ولكن بينما أنت هنا، اختبرها باستخدام الحيلة القديمة وهي التكرار ثلاث مرات\n",
        "\n",
        "\n",
        "#### التمرين\n",
        "* استخدم بوابة `h` ثلاث مرات"
      ]
    },
    {
      "cell_type": "code",
      "execution_count": null,
      "metadata": {
        "id": "8IwkP1pa9OwZ"
      },
      "outputs": [],
      "source": [
        "initialize = []\n",
        "success_condition = {'ZI': 0.0}\n",
        "allowed_gates = {'0': {'h': 3}, '1': {}, 'both': {}}\n",
        "vi = [[1], True, True]\n",
        "qubit_names = {'0':'q[0]', '1':'q[1]'}\n",
        "puzzle = hello_quantum.run_game(initialize, success_condition, allowed_gates, vi, qubit_names)"
      ]
    },
    {
      "cell_type": "markdown",
      "metadata": {
        "id": "g0i9JHuu9Owa"
      },
      "source": [
        "<div dir=\"rtl\">\n",
        "\n",
        "#### الخاتمة\n",
        "\n",
        "الآن بدأت في صنع برامج كمومية، سترى ظهورها أسفل اللغز.\n",
        "\n",
        "هذه برامج Qiskit فعلية يمكن تشغيلها على حواسيب كمومية حقيقية. يمكن أيضًا تمثيلها بما يسمى مخططات الدوائر. لرؤية مخطط الدائرة الخاص ببرنامجك الكمومي، قم بتشغيل الخلية البرمجية أدناه."
      ]
    },
    {
      "cell_type": "code",
      "execution_count": null,
      "metadata": {
        "id": "-Omx4DNm9Owa",
        "outputId": "40edd331-5347-46b0-ffea-f7b464a8488f"
      },
      "outputs": [
        {
          "data": {
            "image/svg+xml": [
              "<?xml version=\"1.0\" encoding=\"UTF-8\"?><!DOCTYPE svg  PUBLIC '-//W3C//DTD SVG 1.1//EN'  'http://www.w3.org/Graphics/SVG/1.1/DTD/svg11.dtd'><svg width=\"79.671pt\" height=\"168.93pt\" version=\"1.1\" viewBox=\"0 0 79.671 168.93\" xmlns=\"http://www.w3.org/2000/svg\" xmlns:xlink=\"http://www.w3.org/1999/xlink\"><defs><style type=\"text/css\">*{stroke-linecap:butt;stroke-linejoin:round;}</style></defs><path d=\"m0 168.93h79.671v-168.93h-79.671z\" fill=\"#ffffff\"/><path d=\"m63.381 43.561h4.5451\" clip-path=\"url(#p18e8ae411b)\" fill=\"none\" stroke=\"#000000\" stroke-linecap=\"square\" stroke-width=\"2\"/><path d=\"m63.381 89.012h4.5451\" clip-path=\"url(#p18e8ae411b)\" fill=\"none\" stroke=\"#000000\" stroke-linecap=\"square\" stroke-width=\"2\"/><path d=\"m63.381 132.99h4.5451\" clip-path=\"url(#p18e8ae411b)\" fill=\"none\" stroke=\"#778899\" stroke-linecap=\"square\" stroke-width=\"2\"/><path d=\"m63.381 135.94h4.5451\" clip-path=\"url(#p18e8ae411b)\" fill=\"none\" stroke=\"#778899\" stroke-linecap=\"square\" stroke-width=\"2\"/><path d=\"m72.471 139.01 4.5451-9.0902\" clip-path=\"url(#p18e8ae411b)\" fill=\"none\" stroke=\"#778899\" stroke-linecap=\"square\" stroke-width=\"1.5\"/><g clip-path=\"url(#p18e8ae411b)\"><defs><path id=\"DejaVuSans-Oblique-113\" d=\"m41.703 8.2031q-3.6094-4.7344-8.5312-7.1875-4.9062-2.4375-10.859-2.4375-8.2969 0-13.016 5.5938-4.7031 5.5938-4.7031 15.406 0 7.9062 2.9062 15.281t8.3281 13.234q3.5156 3.8125 8.0781 5.8594t9.5938 2.0469q6.0469 0 9.9531-2.3906t5.6719-7.2188l1.5625 8.2031h9.0312l-14.594-75.203h-9.0469zm-27.781 12.703q0-7.2344 3.0156-11.016 3.0312-3.7812 8.75-3.7812 8.5 0 14.5 8.125t6 19.75q0 7.0312-3.1094 10.766-3.0938 3.7344-8.8906 3.7344-4.25 0-7.875-1.9844-3.6094-1.9688-6.2969-5.7812-2.8281-4-4.4688-9.375-1.625-5.3594-1.625-10.438z\"/><path id=\"DejaVuSans-48\" d=\"m31.781 66.406q-7.6094 0-11.453-7.5-3.8281-7.4844-3.8281-22.531 0-14.984 3.8281-22.484 3.8438-7.5 11.453-7.5 7.6719 0 11.5 7.5 3.8438 7.5 3.8438 22.484 0 15.047-3.8438 22.531-3.8281 7.5-11.5 7.5zm0 7.8125q12.266 0 18.734-9.7031 6.4688-9.6875 6.4688-28.141 0-18.406-6.4688-28.109-6.4688-9.6875-18.734-9.6875-12.25 0-18.719 9.6875-6.4688 9.7031-6.4688 28.109 0 18.453 6.4688 28.141 6.4688 9.7031 18.719 9.7031z\"/></defs><g transform=\"translate(36.253 48.012) scale(.1625 -.1625)\"><use xlink:href=\"#DejaVuSans-Oblique-113\"/><use transform=\"translate(63.477 -16.406) scale(.7)\" xlink:href=\"#DejaVuSans-48\"/></g></g><g clip-path=\"url(#p18e8ae411b)\"><defs><path id=\"DejaVuSans-49\" d=\"m12.406 8.2969h16.109v55.625l-17.531-3.5156v8.9844l17.438 3.5156h9.8594v-64.609h16.109v-8.2969h-41.984z\"/></defs><g transform=\"translate(36.253 93.463) scale(.1625 -.1625)\"><use xlink:href=\"#DejaVuSans-Oblique-113\"/><use transform=\"translate(63.477 -16.406) scale(.7)\" xlink:href=\"#DejaVuSans-49\"/></g></g><g clip-path=\"url(#p18e8ae411b)\"><defs><path id=\"DejaVuSans-50\" d=\"m19.188 8.2969h34.422v-8.2969h-46.281v8.2969q5.6094 5.8125 15.297 15.594 9.7031 9.7969 12.188 12.641 4.7344 5.3125 6.6094 9 1.8906 3.6875 1.8906 7.25 0 5.8125-4.0781 9.4688-4.0781 3.6719-10.625 3.6719-4.6406 0-9.7969-1.6094-5.1406-1.6094-11-4.8906v9.9688q5.9531 2.3906 11.125 3.6094 5.1875 1.2188 9.4844 1.2188 11.328 0 18.062-5.6719 6.7344-5.6562 6.7344-15.125 0-4.5-1.6875-8.5312-1.6719-4.0156-6.125-9.4844-1.2188-1.4219-7.7656-8.1875-6.5312-6.7656-18.453-18.922z\"/></defs><g transform=\"translate(67.926 127.75) scale(.104 -.104)\"><use xlink:href=\"#DejaVuSans-50\"/></g></g><g clip-path=\"url(#p18e8ae411b)\"><defs><path id=\"DejaVuSans-98\" d=\"m48.688 27.297q0 9.9062-4.0781 15.547t-11.203 5.6406q-7.1406 0-11.219-5.6406t-4.0781-15.547 4.0781-15.547 11.219-5.6406q7.125 0 11.203 5.6406t4.0781 15.547zm-30.578 19.094q2.8438 4.875 7.1562 7.2344 4.3281 2.375 10.328 2.375 9.9688 0 16.188-7.9062 6.2344-7.9062 6.2344-20.797t-6.2344-20.812q-6.2188-7.9062-16.188-7.9062-6 0-10.328 2.375-4.3125 2.375-7.1562 7.25v-8.2031h-9.0312v75.984h9.0312z\"/></defs><g transform=\"translate(43.975 138.95) scale(.1625 -.1625)\"><use xlink:href=\"#DejaVuSans-98\"/></g></g><defs><clipPath id=\"p18e8ae411b\"><rect x=\"7.2\" y=\"7.2\" width=\"65.271\" height=\"154.53\"/></clipPath></defs></svg>"
            ],
            "text/plain": [
              "<Figure size 86.452x204.68 with 1 Axes>"
            ]
          },
          "execution_count": 14,
          "metadata": {},
          "output_type": "execute_result"
        }
      ],
      "source": [
        "puzzle.get_circuit().draw(output='mpl')"
      ]
    },
    {
      "cell_type": "markdown",
      "metadata": {
        "id": "UtxJ-e999Owj"
      },
      "source": [
        "<div dir=\"rtl\">\n",
        "\n",
        "### Puzzle 5\n",
        "\n",
        "#### المقدمة\n",
        "\n",
        "عندما يكون ناتج `Z` مؤكدًا (مُطفأً تمامًا أو مُضاءً)، تقوم بوابة `X` ببساطة بتبديل القيمة. لكن ماذا لو كان ناتج `Z` عشوائيًا، كما رأينا في اللغز السابق؟ مع هذا التمرين، ستكتشف ذلك.\n",
        "\n",
        "#### Exercise\n",
        "* اجعل ناتج `Z` مطفأً تمامًا. يمكنك استخدام بوابة `H` كما تشاء، لكن استخدم X ثلاث مرات بالضبط."
      ]
    },
    {
      "cell_type": "code",
      "execution_count": null,
      "metadata": {
        "id": "fvOj8d7X9Owj"
      },
      "outputs": [],
      "source": [
        "initialize = [['h', '1']]\n",
        "success_condition = {'IZ': 1.0}\n",
        "allowed_gates = {'0': {}, '1': {'x': 3, 'h': 0}, 'both': {}}\n",
        "vi = [[0], True, True]\n",
        "qubit_names = {'0':'q[0]', '1':'q[1]'}\n",
        "puzzle = hello_quantum.run_game(initialize, success_condition, allowed_gates, vi, qubit_names)"
      ]
    },
    {
      "cell_type": "code",
      "execution_count": null,
      "metadata": {
        "id": "PbbhP8Jq9Owk",
        "outputId": "a2c8ec74-f121-457f-d30f-d2bd0d909326"
      },
      "outputs": [
        {
          "data": {
            "image/svg+xml": [
              "<?xml version=\"1.0\" encoding=\"UTF-8\"?><!DOCTYPE svg  PUBLIC '-//W3C//DTD SVG 1.1//EN'  'http://www.w3.org/Graphics/SVG/1.1/DTD/svg11.dtd'><svg width=\"79.671pt\" height=\"168.93pt\" version=\"1.1\" viewBox=\"0 0 79.671 168.93\" xmlns=\"http://www.w3.org/2000/svg\" xmlns:xlink=\"http://www.w3.org/1999/xlink\"><defs><style type=\"text/css\">*{stroke-linecap:butt;stroke-linejoin:round;}</style></defs><path d=\"m0 168.93h79.671v-168.93h-79.671z\" fill=\"#ffffff\"/><path d=\"m63.381 43.561h4.5451\" clip-path=\"url(#pc6b9bf578a)\" fill=\"none\" stroke=\"#000000\" stroke-linecap=\"square\" stroke-width=\"2\"/><path d=\"m63.381 89.012h4.5451\" clip-path=\"url(#pc6b9bf578a)\" fill=\"none\" stroke=\"#000000\" stroke-linecap=\"square\" stroke-width=\"2\"/><path d=\"m63.381 132.99h4.5451\" clip-path=\"url(#pc6b9bf578a)\" fill=\"none\" stroke=\"#778899\" stroke-linecap=\"square\" stroke-width=\"2\"/><path d=\"m63.381 135.94h4.5451\" clip-path=\"url(#pc6b9bf578a)\" fill=\"none\" stroke=\"#778899\" stroke-linecap=\"square\" stroke-width=\"2\"/><path d=\"m72.471 139.01 4.5451-9.0902\" clip-path=\"url(#pc6b9bf578a)\" fill=\"none\" stroke=\"#778899\" stroke-linecap=\"square\" stroke-width=\"1.5\"/><g clip-path=\"url(#pc6b9bf578a)\"><defs><path id=\"DejaVuSans-Oblique-113\" d=\"m41.703 8.2031q-3.6094-4.7344-8.5312-7.1875-4.9062-2.4375-10.859-2.4375-8.2969 0-13.016 5.5938-4.7031 5.5938-4.7031 15.406 0 7.9062 2.9062 15.281t8.3281 13.234q3.5156 3.8125 8.0781 5.8594t9.5938 2.0469q6.0469 0 9.9531-2.3906t5.6719-7.2188l1.5625 8.2031h9.0312l-14.594-75.203h-9.0469zm-27.781 12.703q0-7.2344 3.0156-11.016 3.0312-3.7812 8.75-3.7812 8.5 0 14.5 8.125t6 19.75q0 7.0312-3.1094 10.766-3.0938 3.7344-8.8906 3.7344-4.25 0-7.875-1.9844-3.6094-1.9688-6.2969-5.7812-2.8281-4-4.4688-9.375-1.625-5.3594-1.625-10.438z\"/><path id=\"DejaVuSans-48\" d=\"m31.781 66.406q-7.6094 0-11.453-7.5-3.8281-7.4844-3.8281-22.531 0-14.984 3.8281-22.484 3.8438-7.5 11.453-7.5 7.6719 0 11.5 7.5 3.8438 7.5 3.8438 22.484 0 15.047-3.8438 22.531-3.8281 7.5-11.5 7.5zm0 7.8125q12.266 0 18.734-9.7031 6.4688-9.6875 6.4688-28.141 0-18.406-6.4688-28.109-6.4688-9.6875-18.734-9.6875-12.25 0-18.719 9.6875-6.4688 9.7031-6.4688 28.109 0 18.453 6.4688 28.141 6.4688 9.7031 18.719 9.7031z\"/></defs><g transform=\"translate(36.253 48.012) scale(.1625 -.1625)\"><use xlink:href=\"#DejaVuSans-Oblique-113\"/><use transform=\"translate(63.477 -16.406) scale(.7)\" xlink:href=\"#DejaVuSans-48\"/></g></g><g clip-path=\"url(#pc6b9bf578a)\"><defs><path id=\"DejaVuSans-49\" d=\"m12.406 8.2969h16.109v55.625l-17.531-3.5156v8.9844l17.438 3.5156h9.8594v-64.609h16.109v-8.2969h-41.984z\"/></defs><g transform=\"translate(36.253 93.463) scale(.1625 -.1625)\"><use xlink:href=\"#DejaVuSans-Oblique-113\"/><use transform=\"translate(63.477 -16.406) scale(.7)\" xlink:href=\"#DejaVuSans-49\"/></g></g><g clip-path=\"url(#pc6b9bf578a)\"><defs><path id=\"DejaVuSans-50\" d=\"m19.188 8.2969h34.422v-8.2969h-46.281v8.2969q5.6094 5.8125 15.297 15.594 9.7031 9.7969 12.188 12.641 4.7344 5.3125 6.6094 9 1.8906 3.6875 1.8906 7.25 0 5.8125-4.0781 9.4688-4.0781 3.6719-10.625 3.6719-4.6406 0-9.7969-1.6094-5.1406-1.6094-11-4.8906v9.9688q5.9531 2.3906 11.125 3.6094 5.1875 1.2188 9.4844 1.2188 11.328 0 18.062-5.6719 6.7344-5.6562 6.7344-15.125 0-4.5-1.6875-8.5312-1.6719-4.0156-6.125-9.4844-1.2188-1.4219-7.7656-8.1875-6.5312-6.7656-18.453-18.922z\"/></defs><g transform=\"translate(67.926 127.75) scale(.104 -.104)\"><use xlink:href=\"#DejaVuSans-50\"/></g></g><g clip-path=\"url(#pc6b9bf578a)\"><defs><path id=\"DejaVuSans-98\" d=\"m48.688 27.297q0 9.9062-4.0781 15.547t-11.203 5.6406q-7.1406 0-11.219-5.6406t-4.0781-15.547 4.0781-15.547 11.219-5.6406q7.125 0 11.203 5.6406t4.0781 15.547zm-30.578 19.094q2.8438 4.875 7.1562 7.2344 4.3281 2.375 10.328 2.375 9.9688 0 16.188-7.9062 6.2344-7.9062 6.2344-20.797t-6.2344-20.812q-6.2188-7.9062-16.188-7.9062-6 0-10.328 2.375-4.3125 2.375-7.1562 7.25v-8.2031h-9.0312v75.984h9.0312z\"/></defs><g transform=\"translate(43.975 138.95) scale(.1625 -.1625)\"><use xlink:href=\"#DejaVuSans-98\"/></g></g><defs><clipPath id=\"pc6b9bf578a\"><rect x=\"7.2\" y=\"7.2\" width=\"65.271\" height=\"154.53\"/></clipPath></defs></svg>"
            ],
            "text/plain": [
              "<Figure size 86.452x204.68 with 1 Axes>"
            ]
          },
          "execution_count": 16,
          "metadata": {},
          "output_type": "execute_result"
        }
      ],
      "source": [
        "puzzle.get_circuit().draw(output='mpl')"
      ]
    },
    {
      "cell_type": "markdown",
      "metadata": {
        "id": "AVuzJnws9Owk"
      },
      "source": [
        "<div dir=\"rtl\">\n",
        "\n",
        "#### الخاتمة\n",
        "\n",
        "يظهر أن النتيجة العشوائية تظل عشوائية، حتى إذا قمت بتبديلها."
      ]
    },
    {
      "cell_type": "markdown",
      "metadata": {
        "id": "gY6s4O8u9Owl"
      },
      "source": [
        "<div dir=\"rtl\">\n",
        "\n",
        "### اللغز 6\n",
        "\n",
        "#### المقدمة\n",
        "\n",
        "لقد رأينا أن بوابة X تقلب ناتج Z، لكنها ليس لها تأثير على ناتج X. لهذا نحتاج إلى بوابة جديدة: بوابة `Z`.\n",
        "\n",
        "#### التمرين\n",
        "*  قم بإطفاء ناتج X."
      ]
    },
    {
      "cell_type": "code",
      "execution_count": null,
      "metadata": {
        "id": "6Hu9Z6fD9Owl"
      },
      "outputs": [],
      "source": [
        "initialize = [['h', '0'], ['z', '0']]\n",
        "success_condition = {'XI': 1.0}\n",
        "allowed_gates = {'0': {'z': 0, 'h': 0}, '1': {}, 'both': {}}\n",
        "vi = [[1], True, True]\n",
        "qubit_names = {'0':'q[0]', '1':'q[1]'}\n",
        "puzzle = hello_quantum.run_game(initialize, success_condition, allowed_gates, vi, qubit_names)"
      ]
    },
    {
      "cell_type": "code",
      "execution_count": null,
      "metadata": {
        "id": "AD_oOEEV9Owl",
        "outputId": "e39d7353-b7e1-4948-ad11-e45062ff686a"
      },
      "outputs": [
        {
          "data": {
            "image/svg+xml": [
              "<?xml version=\"1.0\" encoding=\"UTF-8\"?><!DOCTYPE svg  PUBLIC '-//W3C//DTD SVG 1.1//EN'  'http://www.w3.org/Graphics/SVG/1.1/DTD/svg11.dtd'><svg width=\"79.671pt\" height=\"168.93pt\" version=\"1.1\" viewBox=\"0 0 79.671 168.93\" xmlns=\"http://www.w3.org/2000/svg\" xmlns:xlink=\"http://www.w3.org/1999/xlink\"><defs><style type=\"text/css\">*{stroke-linecap:butt;stroke-linejoin:round;}</style></defs><path d=\"m0 168.93h79.671v-168.93h-79.671z\" fill=\"#ffffff\"/><path d=\"m63.381 43.561h4.5451\" clip-path=\"url(#pe71c30425e)\" fill=\"none\" stroke=\"#000000\" stroke-linecap=\"square\" stroke-width=\"2\"/><path d=\"m63.381 89.012h4.5451\" clip-path=\"url(#pe71c30425e)\" fill=\"none\" stroke=\"#000000\" stroke-linecap=\"square\" stroke-width=\"2\"/><path d=\"m63.381 132.99h4.5451\" clip-path=\"url(#pe71c30425e)\" fill=\"none\" stroke=\"#778899\" stroke-linecap=\"square\" stroke-width=\"2\"/><path d=\"m63.381 135.94h4.5451\" clip-path=\"url(#pe71c30425e)\" fill=\"none\" stroke=\"#778899\" stroke-linecap=\"square\" stroke-width=\"2\"/><path d=\"m72.471 139.01 4.5451-9.0902\" clip-path=\"url(#pe71c30425e)\" fill=\"none\" stroke=\"#778899\" stroke-linecap=\"square\" stroke-width=\"1.5\"/><g clip-path=\"url(#pe71c30425e)\"><defs><path id=\"DejaVuSans-Oblique-113\" d=\"m41.703 8.2031q-3.6094-4.7344-8.5312-7.1875-4.9062-2.4375-10.859-2.4375-8.2969 0-13.016 5.5938-4.7031 5.5938-4.7031 15.406 0 7.9062 2.9062 15.281t8.3281 13.234q3.5156 3.8125 8.0781 5.8594t9.5938 2.0469q6.0469 0 9.9531-2.3906t5.6719-7.2188l1.5625 8.2031h9.0312l-14.594-75.203h-9.0469zm-27.781 12.703q0-7.2344 3.0156-11.016 3.0312-3.7812 8.75-3.7812 8.5 0 14.5 8.125t6 19.75q0 7.0312-3.1094 10.766-3.0938 3.7344-8.8906 3.7344-4.25 0-7.875-1.9844-3.6094-1.9688-6.2969-5.7812-2.8281-4-4.4688-9.375-1.625-5.3594-1.625-10.438z\"/><path id=\"DejaVuSans-48\" d=\"m31.781 66.406q-7.6094 0-11.453-7.5-3.8281-7.4844-3.8281-22.531 0-14.984 3.8281-22.484 3.8438-7.5 11.453-7.5 7.6719 0 11.5 7.5 3.8438 7.5 3.8438 22.484 0 15.047-3.8438 22.531-3.8281 7.5-11.5 7.5zm0 7.8125q12.266 0 18.734-9.7031 6.4688-9.6875 6.4688-28.141 0-18.406-6.4688-28.109-6.4688-9.6875-18.734-9.6875-12.25 0-18.719 9.6875-6.4688 9.7031-6.4688 28.109 0 18.453 6.4688 28.141 6.4688 9.7031 18.719 9.7031z\"/></defs><g transform=\"translate(36.253 48.012) scale(.1625 -.1625)\"><use xlink:href=\"#DejaVuSans-Oblique-113\"/><use transform=\"translate(63.477 -16.406) scale(.7)\" xlink:href=\"#DejaVuSans-48\"/></g></g><g clip-path=\"url(#pe71c30425e)\"><defs><path id=\"DejaVuSans-49\" d=\"m12.406 8.2969h16.109v55.625l-17.531-3.5156v8.9844l17.438 3.5156h9.8594v-64.609h16.109v-8.2969h-41.984z\"/></defs><g transform=\"translate(36.253 93.463) scale(.1625 -.1625)\"><use xlink:href=\"#DejaVuSans-Oblique-113\"/><use transform=\"translate(63.477 -16.406) scale(.7)\" xlink:href=\"#DejaVuSans-49\"/></g></g><g clip-path=\"url(#pe71c30425e)\"><defs><path id=\"DejaVuSans-50\" d=\"m19.188 8.2969h34.422v-8.2969h-46.281v8.2969q5.6094 5.8125 15.297 15.594 9.7031 9.7969 12.188 12.641 4.7344 5.3125 6.6094 9 1.8906 3.6875 1.8906 7.25 0 5.8125-4.0781 9.4688-4.0781 3.6719-10.625 3.6719-4.6406 0-9.7969-1.6094-5.1406-1.6094-11-4.8906v9.9688q5.9531 2.3906 11.125 3.6094 5.1875 1.2188 9.4844 1.2188 11.328 0 18.062-5.6719 6.7344-5.6562 6.7344-15.125 0-4.5-1.6875-8.5312-1.6719-4.0156-6.125-9.4844-1.2188-1.4219-7.7656-8.1875-6.5312-6.7656-18.453-18.922z\"/></defs><g transform=\"translate(67.926 127.75) scale(.104 -.104)\"><use xlink:href=\"#DejaVuSans-50\"/></g></g><g clip-path=\"url(#pe71c30425e)\"><defs><path id=\"DejaVuSans-98\" d=\"m48.688 27.297q0 9.9062-4.0781 15.547t-11.203 5.6406q-7.1406 0-11.219-5.6406t-4.0781-15.547 4.0781-15.547 11.219-5.6406q7.125 0 11.203 5.6406t4.0781 15.547zm-30.578 19.094q2.8438 4.875 7.1562 7.2344 4.3281 2.375 10.328 2.375 9.9688 0 16.188-7.9062 6.2344-7.9062 6.2344-20.797t-6.2344-20.812q-6.2188-7.9062-16.188-7.9062-6 0-10.328 2.375-4.3125 2.375-7.1562 7.25v-8.2031h-9.0312v75.984h9.0312z\"/></defs><g transform=\"translate(43.975 138.95) scale(.1625 -.1625)\"><use xlink:href=\"#DejaVuSans-98\"/></g></g><defs><clipPath id=\"pe71c30425e\"><rect x=\"7.2\" y=\"7.2\" width=\"65.271\" height=\"154.53\"/></clipPath></defs></svg>"
            ],
            "text/plain": [
              "<Figure size 86.452x204.68 with 1 Axes>"
            ]
          },
          "execution_count": 18,
          "metadata": {},
          "output_type": "execute_result"
        }
      ],
      "source": [
        "puzzle.get_circuit().draw(output='mpl')"
      ]
    },
    {
      "cell_type": "markdown",
      "metadata": {
        "id": "PycNf0Mr9Owm"
      },
      "source": [
        "<div dir=\"rtl\">\n",
        "\n",
        "#### الخاتمة\n",
        "\n",
        "بوابة `X` تقلب ناتج  `Z`  وبوابة `Z` تقلب ناتج `X`. قد يبدو هذا نظام تسمية غريب في الوقت الحالي. ولكن مع تعلمك المزيد عن الحوسبة الكمومية، ستبدأ هذه الأسماء في أن تكون منطقية."
      ]
    },
    {
      "cell_type": "markdown",
      "metadata": {
        "id": "gZ80sQR29Owm"
      },
      "source": [
        "<div dir=\"rtl\">\n",
        "\n",
        "### اللغز 7\n",
        "\n",
        "#### المقدمة\n",
        "\n",
        "الهدف في هذا اللغز هو تشغيل مخرجات Z دون استخدام بوابة x. كما هو موضح في المقدمة، يمكننا تحقيق هذا من خلال دمج بوابات معينة لتحقيق تأثيرات مشابهة. مثلاً، استخدام بوابتي z و h يمكن أن يؤدي وظيفة x.\n",
        "\n",
        "#### التمرين\n",
        "*  م بتشغيل مخرج Z دون استخدام البوابة `x`."
      ]
    },
    {
      "cell_type": "code",
      "execution_count": null,
      "metadata": {
        "id": "mKk-lFkH9Owm"
      },
      "outputs": [],
      "source": [
        "initialize = []\n",
        "success_condition = {'ZI': -1.0}\n",
        "allowed_gates = {'0': {'z': 0, 'h': 0}, '1': {}, 'both': {}}\n",
        "vi = [[1], True, True]\n",
        "qubit_names = {'0':'q[0]', '1':'q[1]'}\n",
        "puzzle = hello_quantum.run_game(initialize, success_condition, allowed_gates, vi, qubit_names)"
      ]
    },
    {
      "cell_type": "code",
      "execution_count": null,
      "metadata": {
        "id": "GJawko0H9Own",
        "outputId": "89e27234-bb57-49f5-e6ce-5135ff6c6727"
      },
      "outputs": [
        {
          "data": {
            "image/svg+xml": [
              "<?xml version=\"1.0\" encoding=\"UTF-8\"?><!DOCTYPE svg  PUBLIC '-//W3C//DTD SVG 1.1//EN'  'http://www.w3.org/Graphics/SVG/1.1/DTD/svg11.dtd'><svg width=\"79.671pt\" height=\"168.93pt\" version=\"1.1\" viewBox=\"0 0 79.671 168.93\" xmlns=\"http://www.w3.org/2000/svg\" xmlns:xlink=\"http://www.w3.org/1999/xlink\"><defs><style type=\"text/css\">*{stroke-linecap:butt;stroke-linejoin:round;}</style></defs><path d=\"m0 168.93h79.671v-168.93h-79.671z\" fill=\"#ffffff\"/><path d=\"m63.381 43.561h4.5451\" clip-path=\"url(#p8e1a5518f3)\" fill=\"none\" stroke=\"#000000\" stroke-linecap=\"square\" stroke-width=\"2\"/><path d=\"m63.381 89.012h4.5451\" clip-path=\"url(#p8e1a5518f3)\" fill=\"none\" stroke=\"#000000\" stroke-linecap=\"square\" stroke-width=\"2\"/><path d=\"m63.381 132.99h4.5451\" clip-path=\"url(#p8e1a5518f3)\" fill=\"none\" stroke=\"#778899\" stroke-linecap=\"square\" stroke-width=\"2\"/><path d=\"m63.381 135.94h4.5451\" clip-path=\"url(#p8e1a5518f3)\" fill=\"none\" stroke=\"#778899\" stroke-linecap=\"square\" stroke-width=\"2\"/><path d=\"m72.471 139.01 4.5451-9.0902\" clip-path=\"url(#p8e1a5518f3)\" fill=\"none\" stroke=\"#778899\" stroke-linecap=\"square\" stroke-width=\"1.5\"/><g clip-path=\"url(#p8e1a5518f3)\"><defs><path id=\"DejaVuSans-Oblique-113\" d=\"m41.703 8.2031q-3.6094-4.7344-8.5312-7.1875-4.9062-2.4375-10.859-2.4375-8.2969 0-13.016 5.5938-4.7031 5.5938-4.7031 15.406 0 7.9062 2.9062 15.281t8.3281 13.234q3.5156 3.8125 8.0781 5.8594t9.5938 2.0469q6.0469 0 9.9531-2.3906t5.6719-7.2188l1.5625 8.2031h9.0312l-14.594-75.203h-9.0469zm-27.781 12.703q0-7.2344 3.0156-11.016 3.0312-3.7812 8.75-3.7812 8.5 0 14.5 8.125t6 19.75q0 7.0312-3.1094 10.766-3.0938 3.7344-8.8906 3.7344-4.25 0-7.875-1.9844-3.6094-1.9688-6.2969-5.7812-2.8281-4-4.4688-9.375-1.625-5.3594-1.625-10.438z\"/><path id=\"DejaVuSans-48\" d=\"m31.781 66.406q-7.6094 0-11.453-7.5-3.8281-7.4844-3.8281-22.531 0-14.984 3.8281-22.484 3.8438-7.5 11.453-7.5 7.6719 0 11.5 7.5 3.8438 7.5 3.8438 22.484 0 15.047-3.8438 22.531-3.8281 7.5-11.5 7.5zm0 7.8125q12.266 0 18.734-9.7031 6.4688-9.6875 6.4688-28.141 0-18.406-6.4688-28.109-6.4688-9.6875-18.734-9.6875-12.25 0-18.719 9.6875-6.4688 9.7031-6.4688 28.109 0 18.453 6.4688 28.141 6.4688 9.7031 18.719 9.7031z\"/></defs><g transform=\"translate(36.253 48.012) scale(.1625 -.1625)\"><use xlink:href=\"#DejaVuSans-Oblique-113\"/><use transform=\"translate(63.477 -16.406) scale(.7)\" xlink:href=\"#DejaVuSans-48\"/></g></g><g clip-path=\"url(#p8e1a5518f3)\"><defs><path id=\"DejaVuSans-49\" d=\"m12.406 8.2969h16.109v55.625l-17.531-3.5156v8.9844l17.438 3.5156h9.8594v-64.609h16.109v-8.2969h-41.984z\"/></defs><g transform=\"translate(36.253 93.463) scale(.1625 -.1625)\"><use xlink:href=\"#DejaVuSans-Oblique-113\"/><use transform=\"translate(63.477 -16.406) scale(.7)\" xlink:href=\"#DejaVuSans-49\"/></g></g><g clip-path=\"url(#p8e1a5518f3)\"><defs><path id=\"DejaVuSans-50\" d=\"m19.188 8.2969h34.422v-8.2969h-46.281v8.2969q5.6094 5.8125 15.297 15.594 9.7031 9.7969 12.188 12.641 4.7344 5.3125 6.6094 9 1.8906 3.6875 1.8906 7.25 0 5.8125-4.0781 9.4688-4.0781 3.6719-10.625 3.6719-4.6406 0-9.7969-1.6094-5.1406-1.6094-11-4.8906v9.9688q5.9531 2.3906 11.125 3.6094 5.1875 1.2188 9.4844 1.2188 11.328 0 18.062-5.6719 6.7344-5.6562 6.7344-15.125 0-4.5-1.6875-8.5312-1.6719-4.0156-6.125-9.4844-1.2188-1.4219-7.7656-8.1875-6.5312-6.7656-18.453-18.922z\"/></defs><g transform=\"translate(67.926 127.75) scale(.104 -.104)\"><use xlink:href=\"#DejaVuSans-50\"/></g></g><g clip-path=\"url(#p8e1a5518f3)\"><defs><path id=\"DejaVuSans-98\" d=\"m48.688 27.297q0 9.9062-4.0781 15.547t-11.203 5.6406q-7.1406 0-11.219-5.6406t-4.0781-15.547 4.0781-15.547 11.219-5.6406q7.125 0 11.203 5.6406t4.0781 15.547zm-30.578 19.094q2.8438 4.875 7.1562 7.2344 4.3281 2.375 10.328 2.375 9.9688 0 16.188-7.9062 6.2344-7.9062 6.2344-20.797t-6.2344-20.812q-6.2188-7.9062-16.188-7.9062-6 0-10.328 2.375-4.3125 2.375-7.1562 7.25v-8.2031h-9.0312v75.984h9.0312z\"/></defs><g transform=\"translate(43.975 138.95) scale(.1625 -.1625)\"><use xlink:href=\"#DejaVuSans-98\"/></g></g><defs><clipPath id=\"p8e1a5518f3\"><rect x=\"7.2\" y=\"7.2\" width=\"65.271\" height=\"154.53\"/></clipPath></defs></svg>"
            ],
            "text/plain": [
              "<Figure size 86.452x204.68 with 1 Axes>"
            ]
          },
          "execution_count": 20,
          "metadata": {},
          "output_type": "execute_result"
        }
      ],
      "source": [
        "puzzle.get_circuit().draw(output='mpl')"
      ]
    },
    {
      "cell_type": "markdown",
      "metadata": {
        "id": "FfPmxwu09Own"
      },
      "source": [
        "<div dir=\"rtl\">\n",
        "\n",
        "### اللغز 8\n",
        "\n",
        "#### المقدمة\n",
        "\n",
        "قد تلاحظ أن مخرجات X تكون دائمًا عشوائية عندما تكون مخرجات Z إما قيد التشغيل بالكامل أو الإيقاف الكامل. يعود السبب في ذلك إلى أن الكيوبتات لا يمكنها أن تكون متأكدة بشكل متزامن من كل نوع من المخرجات. فإذا كانت متأكدة من نوع واحد، يجب أن يكون النوع الآخر عشوائيًا.\n",
        "\n",
        "إذا لم يكن هذا صحيحًا، لكنا قادرين على استخدام مخرجات Z و X لتخزين بتين من المعلومات. وهذا يتجاوز الذاكرة التي يمتلكها الكيوبت. وعلى الرغم من أننا قادرون على استخراج مخرجات بطرق متعددة، إلا أننا لا نزال غير مسموح لنا بتخزين أكثر من بت واحد في الكيوبت\n",
        "\n",
        "#### التمرين\n",
        "*  اجعل إخراج X متوقفًا وإخراج Z عشوائيًا."
      ]
    },
    {
      "cell_type": "code",
      "execution_count": null,
      "metadata": {
        "id": "sLP4sNMW9Own"
      },
      "outputs": [],
      "source": [
        "initialize = [['h', '0']]\n",
        "success_condition = {'IX': 1.0}\n",
        "allowed_gates = {'0': {}, '1': {'z': 0, 'h': 0}, 'both': {}}\n",
        "vi = [[0], True, True]\n",
        "qubit_names = {'0':'q[0]', '1':'q[1]'}\n",
        "puzzle = hello_quantum.run_game(initialize, success_condition, allowed_gates, vi, qubit_names)"
      ]
    },
    {
      "cell_type": "code",
      "execution_count": null,
      "metadata": {
        "id": "reT4xf-E9Owo",
        "outputId": "96f3d831-1d73-4f44-d394-ab8d02066117"
      },
      "outputs": [
        {
          "data": {
            "image/svg+xml": [
              "<?xml version=\"1.0\" encoding=\"UTF-8\"?><!DOCTYPE svg  PUBLIC '-//W3C//DTD SVG 1.1//EN'  'http://www.w3.org/Graphics/SVG/1.1/DTD/svg11.dtd'><svg width=\"79.671pt\" height=\"168.93pt\" version=\"1.1\" viewBox=\"0 0 79.671 168.93\" xmlns=\"http://www.w3.org/2000/svg\" xmlns:xlink=\"http://www.w3.org/1999/xlink\"><defs><style type=\"text/css\">*{stroke-linecap:butt;stroke-linejoin:round;}</style></defs><path d=\"m0 168.93h79.671v-168.93h-79.671z\" fill=\"#ffffff\"/><path d=\"m63.381 43.561h4.5451\" clip-path=\"url(#p9d695358be)\" fill=\"none\" stroke=\"#000000\" stroke-linecap=\"square\" stroke-width=\"2\"/><path d=\"m63.381 89.012h4.5451\" clip-path=\"url(#p9d695358be)\" fill=\"none\" stroke=\"#000000\" stroke-linecap=\"square\" stroke-width=\"2\"/><path d=\"m63.381 132.99h4.5451\" clip-path=\"url(#p9d695358be)\" fill=\"none\" stroke=\"#778899\" stroke-linecap=\"square\" stroke-width=\"2\"/><path d=\"m63.381 135.94h4.5451\" clip-path=\"url(#p9d695358be)\" fill=\"none\" stroke=\"#778899\" stroke-linecap=\"square\" stroke-width=\"2\"/><path d=\"m72.471 139.01 4.5451-9.0902\" clip-path=\"url(#p9d695358be)\" fill=\"none\" stroke=\"#778899\" stroke-linecap=\"square\" stroke-width=\"1.5\"/><g clip-path=\"url(#p9d695358be)\"><defs><path id=\"DejaVuSans-Oblique-113\" d=\"m41.703 8.2031q-3.6094-4.7344-8.5312-7.1875-4.9062-2.4375-10.859-2.4375-8.2969 0-13.016 5.5938-4.7031 5.5938-4.7031 15.406 0 7.9062 2.9062 15.281t8.3281 13.234q3.5156 3.8125 8.0781 5.8594t9.5938 2.0469q6.0469 0 9.9531-2.3906t5.6719-7.2188l1.5625 8.2031h9.0312l-14.594-75.203h-9.0469zm-27.781 12.703q0-7.2344 3.0156-11.016 3.0312-3.7812 8.75-3.7812 8.5 0 14.5 8.125t6 19.75q0 7.0312-3.1094 10.766-3.0938 3.7344-8.8906 3.7344-4.25 0-7.875-1.9844-3.6094-1.9688-6.2969-5.7812-2.8281-4-4.4688-9.375-1.625-5.3594-1.625-10.438z\"/><path id=\"DejaVuSans-48\" d=\"m31.781 66.406q-7.6094 0-11.453-7.5-3.8281-7.4844-3.8281-22.531 0-14.984 3.8281-22.484 3.8438-7.5 11.453-7.5 7.6719 0 11.5 7.5 3.8438 7.5 3.8438 22.484 0 15.047-3.8438 22.531-3.8281 7.5-11.5 7.5zm0 7.8125q12.266 0 18.734-9.7031 6.4688-9.6875 6.4688-28.141 0-18.406-6.4688-28.109-6.4688-9.6875-18.734-9.6875-12.25 0-18.719 9.6875-6.4688 9.7031-6.4688 28.109 0 18.453 6.4688 28.141 6.4688 9.7031 18.719 9.7031z\"/></defs><g transform=\"translate(36.253 48.012) scale(.1625 -.1625)\"><use xlink:href=\"#DejaVuSans-Oblique-113\"/><use transform=\"translate(63.477 -16.406) scale(.7)\" xlink:href=\"#DejaVuSans-48\"/></g></g><g clip-path=\"url(#p9d695358be)\"><defs><path id=\"DejaVuSans-49\" d=\"m12.406 8.2969h16.109v55.625l-17.531-3.5156v8.9844l17.438 3.5156h9.8594v-64.609h16.109v-8.2969h-41.984z\"/></defs><g transform=\"translate(36.253 93.463) scale(.1625 -.1625)\"><use xlink:href=\"#DejaVuSans-Oblique-113\"/><use transform=\"translate(63.477 -16.406) scale(.7)\" xlink:href=\"#DejaVuSans-49\"/></g></g><g clip-path=\"url(#p9d695358be)\"><defs><path id=\"DejaVuSans-50\" d=\"m19.188 8.2969h34.422v-8.2969h-46.281v8.2969q5.6094 5.8125 15.297 15.594 9.7031 9.7969 12.188 12.641 4.7344 5.3125 6.6094 9 1.8906 3.6875 1.8906 7.25 0 5.8125-4.0781 9.4688-4.0781 3.6719-10.625 3.6719-4.6406 0-9.7969-1.6094-5.1406-1.6094-11-4.8906v9.9688q5.9531 2.3906 11.125 3.6094 5.1875 1.2188 9.4844 1.2188 11.328 0 18.062-5.6719 6.7344-5.6562 6.7344-15.125 0-4.5-1.6875-8.5312-1.6719-4.0156-6.125-9.4844-1.2188-1.4219-7.7656-8.1875-6.5312-6.7656-18.453-18.922z\"/></defs><g transform=\"translate(67.926 127.75) scale(.104 -.104)\"><use xlink:href=\"#DejaVuSans-50\"/></g></g><g clip-path=\"url(#p9d695358be)\"><defs><path id=\"DejaVuSans-98\" d=\"m48.688 27.297q0 9.9062-4.0781 15.547t-11.203 5.6406q-7.1406 0-11.219-5.6406t-4.0781-15.547 4.0781-15.547 11.219-5.6406q7.125 0 11.203 5.6406t4.0781 15.547zm-30.578 19.094q2.8438 4.875 7.1562 7.2344 4.3281 2.375 10.328 2.375 9.9688 0 16.188-7.9062 6.2344-7.9062 6.2344-20.797t-6.2344-20.812q-6.2188-7.9062-16.188-7.9062-6 0-10.328 2.375-4.3125 2.375-7.1562 7.25v-8.2031h-9.0312v75.984h9.0312z\"/></defs><g transform=\"translate(43.975 138.95) scale(.1625 -.1625)\"><use xlink:href=\"#DejaVuSans-98\"/></g></g><defs><clipPath id=\"p9d695358be\"><rect x=\"7.2\" y=\"7.2\" width=\"65.271\" height=\"154.53\"/></clipPath></defs></svg>"
            ],
            "text/plain": [
              "<Figure size 86.452x204.68 with 1 Axes>"
            ]
          },
          "execution_count": 22,
          "metadata": {},
          "output_type": "execute_result"
        }
      ],
      "source": [
        "puzzle.get_circuit().draw(output='mpl')"
      ]
    },
    {
      "cell_type": "markdown",
      "metadata": {
        "id": "ccosZggz9Owp"
      },
      "source": [
        "<div dir=\"rtl\">\n",
        "\n",
        "### اللغز 9\n",
        "\n",
        "#### المقدمة\n",
        "\n",
        "إلى حل وسط عن طريق جعل كلا المخرجين شبه مؤكدين (ولكن ليس بشكل كامل) حول النتيجة التي سيقدمانها.\n",
        "\n",
        "سنقوم بتوضيح هذا باستخدام درجات مختلفة من اللون الرمادي. فكلما كانت الدائرة أغمق، كانت احتمالية أن يكون المخرج  `0` أكبر. وكلما كانت الدائرة أفتح، كانت احتمالية أن يكون المخرج `1` أكبر.\n",
        "\n",
        "#### التمرين\n",
        "\n",
        "* اصنع الدائرتين لـ `q[1]` باللون الرمادي الفاتح. وهذا يعني أنه من المحتمل جدًا، ولكن ليس من المؤكد، أن ينتجوا الرقم `1`.\n"
      ]
    },
    {
      "cell_type": "code",
      "execution_count": null,
      "metadata": {
        "id": "vGuHjRkQ9Owp"
      },
      "outputs": [],
      "source": [
        "initialize = [['ry(pi/4)', '1']]\n",
        "success_condition = {'IZ': -0.7071, 'IX': -0.7071}\n",
        "allowed_gates = {'0': {}, '1': {'z': 0, 'h': 0}, 'both': {}}\n",
        "vi = [[0], True, True]\n",
        "qubit_names = {'0':'q[0]', '1':'q[1]'}\n",
        "puzzle = hello_quantum.run_game(initialize, success_condition, allowed_gates, vi, qubit_names)"
      ]
    },
    {
      "cell_type": "code",
      "execution_count": null,
      "metadata": {
        "id": "ybU0sply9Owp",
        "outputId": "ed591924-141f-4c75-fe95-b82d32eace5e"
      },
      "outputs": [
        {
          "data": {
            "image/svg+xml": [
              "<?xml version=\"1.0\" encoding=\"UTF-8\"?><!DOCTYPE svg  PUBLIC '-//W3C//DTD SVG 1.1//EN'  'http://www.w3.org/Graphics/SVG/1.1/DTD/svg11.dtd'><svg width=\"79.671pt\" height=\"168.93pt\" version=\"1.1\" viewBox=\"0 0 79.671 168.93\" xmlns=\"http://www.w3.org/2000/svg\" xmlns:xlink=\"http://www.w3.org/1999/xlink\"><defs><style type=\"text/css\">*{stroke-linecap:butt;stroke-linejoin:round;}</style></defs><path d=\"m0 168.93h79.671v-168.93h-79.671z\" fill=\"#ffffff\"/><path d=\"m63.381 43.561h4.5451\" clip-path=\"url(#pa1f3d003e8)\" fill=\"none\" stroke=\"#000000\" stroke-linecap=\"square\" stroke-width=\"2\"/><path d=\"m63.381 89.012h4.5451\" clip-path=\"url(#pa1f3d003e8)\" fill=\"none\" stroke=\"#000000\" stroke-linecap=\"square\" stroke-width=\"2\"/><path d=\"m63.381 132.99h4.5451\" clip-path=\"url(#pa1f3d003e8)\" fill=\"none\" stroke=\"#778899\" stroke-linecap=\"square\" stroke-width=\"2\"/><path d=\"m63.381 135.94h4.5451\" clip-path=\"url(#pa1f3d003e8)\" fill=\"none\" stroke=\"#778899\" stroke-linecap=\"square\" stroke-width=\"2\"/><path d=\"m72.471 139.01 4.5451-9.0902\" clip-path=\"url(#pa1f3d003e8)\" fill=\"none\" stroke=\"#778899\" stroke-linecap=\"square\" stroke-width=\"1.5\"/><g clip-path=\"url(#pa1f3d003e8)\"><defs><path id=\"DejaVuSans-Oblique-113\" d=\"m41.703 8.2031q-3.6094-4.7344-8.5312-7.1875-4.9062-2.4375-10.859-2.4375-8.2969 0-13.016 5.5938-4.7031 5.5938-4.7031 15.406 0 7.9062 2.9062 15.281t8.3281 13.234q3.5156 3.8125 8.0781 5.8594t9.5938 2.0469q6.0469 0 9.9531-2.3906t5.6719-7.2188l1.5625 8.2031h9.0312l-14.594-75.203h-9.0469zm-27.781 12.703q0-7.2344 3.0156-11.016 3.0312-3.7812 8.75-3.7812 8.5 0 14.5 8.125t6 19.75q0 7.0312-3.1094 10.766-3.0938 3.7344-8.8906 3.7344-4.25 0-7.875-1.9844-3.6094-1.9688-6.2969-5.7812-2.8281-4-4.4688-9.375-1.625-5.3594-1.625-10.438z\"/><path id=\"DejaVuSans-48\" d=\"m31.781 66.406q-7.6094 0-11.453-7.5-3.8281-7.4844-3.8281-22.531 0-14.984 3.8281-22.484 3.8438-7.5 11.453-7.5 7.6719 0 11.5 7.5 3.8438 7.5 3.8438 22.484 0 15.047-3.8438 22.531-3.8281 7.5-11.5 7.5zm0 7.8125q12.266 0 18.734-9.7031 6.4688-9.6875 6.4688-28.141 0-18.406-6.4688-28.109-6.4688-9.6875-18.734-9.6875-12.25 0-18.719 9.6875-6.4688 9.7031-6.4688 28.109 0 18.453 6.4688 28.141 6.4688 9.7031 18.719 9.7031z\"/></defs><g transform=\"translate(36.253 48.012) scale(.1625 -.1625)\"><use xlink:href=\"#DejaVuSans-Oblique-113\"/><use transform=\"translate(63.477 -16.406) scale(.7)\" xlink:href=\"#DejaVuSans-48\"/></g></g><g clip-path=\"url(#pa1f3d003e8)\"><defs><path id=\"DejaVuSans-49\" d=\"m12.406 8.2969h16.109v55.625l-17.531-3.5156v8.9844l17.438 3.5156h9.8594v-64.609h16.109v-8.2969h-41.984z\"/></defs><g transform=\"translate(36.253 93.463) scale(.1625 -.1625)\"><use xlink:href=\"#DejaVuSans-Oblique-113\"/><use transform=\"translate(63.477 -16.406) scale(.7)\" xlink:href=\"#DejaVuSans-49\"/></g></g><g clip-path=\"url(#pa1f3d003e8)\"><defs><path id=\"DejaVuSans-50\" d=\"m19.188 8.2969h34.422v-8.2969h-46.281v8.2969q5.6094 5.8125 15.297 15.594 9.7031 9.7969 12.188 12.641 4.7344 5.3125 6.6094 9 1.8906 3.6875 1.8906 7.25 0 5.8125-4.0781 9.4688-4.0781 3.6719-10.625 3.6719-4.6406 0-9.7969-1.6094-5.1406-1.6094-11-4.8906v9.9688q5.9531 2.3906 11.125 3.6094 5.1875 1.2188 9.4844 1.2188 11.328 0 18.062-5.6719 6.7344-5.6562 6.7344-15.125 0-4.5-1.6875-8.5312-1.6719-4.0156-6.125-9.4844-1.2188-1.4219-7.7656-8.1875-6.5312-6.7656-18.453-18.922z\"/></defs><g transform=\"translate(67.926 127.75) scale(.104 -.104)\"><use xlink:href=\"#DejaVuSans-50\"/></g></g><g clip-path=\"url(#pa1f3d003e8)\"><defs><path id=\"DejaVuSans-98\" d=\"m48.688 27.297q0 9.9062-4.0781 15.547t-11.203 5.6406q-7.1406 0-11.219-5.6406t-4.0781-15.547 4.0781-15.547 11.219-5.6406q7.125 0 11.203 5.6406t4.0781 15.547zm-30.578 19.094q2.8438 4.875 7.1562 7.2344 4.3281 2.375 10.328 2.375 9.9688 0 16.188-7.9062 6.2344-7.9062 6.2344-20.797t-6.2344-20.812q-6.2188-7.9062-16.188-7.9062-6 0-10.328 2.375-4.3125 2.375-7.1562 7.25v-8.2031h-9.0312v75.984h9.0312z\"/></defs><g transform=\"translate(43.975 138.95) scale(.1625 -.1625)\"><use xlink:href=\"#DejaVuSans-98\"/></g></g><defs><clipPath id=\"pa1f3d003e8\"><rect x=\"7.2\" y=\"7.2\" width=\"65.271\" height=\"154.53\"/></clipPath></defs></svg>"
            ],
            "text/plain": [
              "<Figure size 86.452x204.68 with 1 Axes>"
            ]
          },
          "execution_count": 24,
          "metadata": {},
          "output_type": "execute_result"
        }
      ],
      "source": [
        "puzzle.get_circuit().draw(output='mpl')"
      ]
    },
    {
      "cell_type": "markdown",
      "metadata": {
        "id": "UCiBKJQH9Owq"
      },
      "source": [
        "<div dir=\"rtl\">\n",
        "\n",
        "### اللغز 10\n",
        "\n",
        "#### المقدمة\n",
        "\n",
        "الهدف هو جعل مخرجات Z عشوائية لكل من qubits. يمكن تحقيق ذلك من خلال استخدام بوابات محددة بطريقة تجعل كلتا المخرجات غير محددة أو عشوائية.\n",
        "\n",
        "#### التمرين\n",
        "*  اجعل كلا مخرجات Z عشوائية."
      ]
    },
    {
      "cell_type": "code",
      "execution_count": null,
      "metadata": {
        "id": "6j2rOdU69Owr"
      },
      "outputs": [],
      "source": [
        "initialize = [['x', '1']]\n",
        "success_condition = {'ZI': 0.0, 'IZ': 0.0}\n",
        "allowed_gates = {'0': {'x': 0, 'z': 0, 'h': 0}, '1': {'x': 0, 'z': 0, 'h': 0}, 'both': {}}\n",
        "vi = [[], True, False]\n",
        "qubit_names = {'0':'q[0]', '1':'q[1]'}\n",
        "puzzle = hello_quantum.run_game(initialize, success_condition, allowed_gates, vi, qubit_names)"
      ]
    },
    {
      "cell_type": "code",
      "execution_count": null,
      "metadata": {
        "id": "xo1SnoXW9Owr",
        "outputId": "67085f84-1f8e-4194-c522-f868dc5fa843"
      },
      "outputs": [
        {
          "data": {
            "image/svg+xml": [
              "<?xml version=\"1.0\" encoding=\"UTF-8\"?><!DOCTYPE svg  PUBLIC '-//W3C//DTD SVG 1.1//EN'  'http://www.w3.org/Graphics/SVG/1.1/DTD/svg11.dtd'><svg width=\"79.671pt\" height=\"168.93pt\" version=\"1.1\" viewBox=\"0 0 79.671 168.93\" xmlns=\"http://www.w3.org/2000/svg\" xmlns:xlink=\"http://www.w3.org/1999/xlink\"><defs><style type=\"text/css\">*{stroke-linecap:butt;stroke-linejoin:round;}</style></defs><path d=\"m0 168.93h79.671v-168.93h-79.671z\" fill=\"#ffffff\"/><path d=\"m63.381 43.561h4.5451\" clip-path=\"url(#pcba75a9be7)\" fill=\"none\" stroke=\"#000000\" stroke-linecap=\"square\" stroke-width=\"2\"/><path d=\"m63.381 89.012h4.5451\" clip-path=\"url(#pcba75a9be7)\" fill=\"none\" stroke=\"#000000\" stroke-linecap=\"square\" stroke-width=\"2\"/><path d=\"m63.381 132.99h4.5451\" clip-path=\"url(#pcba75a9be7)\" fill=\"none\" stroke=\"#778899\" stroke-linecap=\"square\" stroke-width=\"2\"/><path d=\"m63.381 135.94h4.5451\" clip-path=\"url(#pcba75a9be7)\" fill=\"none\" stroke=\"#778899\" stroke-linecap=\"square\" stroke-width=\"2\"/><path d=\"m72.471 139.01 4.5451-9.0902\" clip-path=\"url(#pcba75a9be7)\" fill=\"none\" stroke=\"#778899\" stroke-linecap=\"square\" stroke-width=\"1.5\"/><g clip-path=\"url(#pcba75a9be7)\"><defs><path id=\"DejaVuSans-Oblique-113\" d=\"m41.703 8.2031q-3.6094-4.7344-8.5312-7.1875-4.9062-2.4375-10.859-2.4375-8.2969 0-13.016 5.5938-4.7031 5.5938-4.7031 15.406 0 7.9062 2.9062 15.281t8.3281 13.234q3.5156 3.8125 8.0781 5.8594t9.5938 2.0469q6.0469 0 9.9531-2.3906t5.6719-7.2188l1.5625 8.2031h9.0312l-14.594-75.203h-9.0469zm-27.781 12.703q0-7.2344 3.0156-11.016 3.0312-3.7812 8.75-3.7812 8.5 0 14.5 8.125t6 19.75q0 7.0312-3.1094 10.766-3.0938 3.7344-8.8906 3.7344-4.25 0-7.875-1.9844-3.6094-1.9688-6.2969-5.7812-2.8281-4-4.4688-9.375-1.625-5.3594-1.625-10.438z\"/><path id=\"DejaVuSans-48\" d=\"m31.781 66.406q-7.6094 0-11.453-7.5-3.8281-7.4844-3.8281-22.531 0-14.984 3.8281-22.484 3.8438-7.5 11.453-7.5 7.6719 0 11.5 7.5 3.8438 7.5 3.8438 22.484 0 15.047-3.8438 22.531-3.8281 7.5-11.5 7.5zm0 7.8125q12.266 0 18.734-9.7031 6.4688-9.6875 6.4688-28.141 0-18.406-6.4688-28.109-6.4688-9.6875-18.734-9.6875-12.25 0-18.719 9.6875-6.4688 9.7031-6.4688 28.109 0 18.453 6.4688 28.141 6.4688 9.7031 18.719 9.7031z\"/></defs><g transform=\"translate(36.253 48.012) scale(.1625 -.1625)\"><use xlink:href=\"#DejaVuSans-Oblique-113\"/><use transform=\"translate(63.477 -16.406) scale(.7)\" xlink:href=\"#DejaVuSans-48\"/></g></g><g clip-path=\"url(#pcba75a9be7)\"><defs><path id=\"DejaVuSans-49\" d=\"m12.406 8.2969h16.109v55.625l-17.531-3.5156v8.9844l17.438 3.5156h9.8594v-64.609h16.109v-8.2969h-41.984z\"/></defs><g transform=\"translate(36.253 93.463) scale(.1625 -.1625)\"><use xlink:href=\"#DejaVuSans-Oblique-113\"/><use transform=\"translate(63.477 -16.406) scale(.7)\" xlink:href=\"#DejaVuSans-49\"/></g></g><g clip-path=\"url(#pcba75a9be7)\"><defs><path id=\"DejaVuSans-50\" d=\"m19.188 8.2969h34.422v-8.2969h-46.281v8.2969q5.6094 5.8125 15.297 15.594 9.7031 9.7969 12.188 12.641 4.7344 5.3125 6.6094 9 1.8906 3.6875 1.8906 7.25 0 5.8125-4.0781 9.4688-4.0781 3.6719-10.625 3.6719-4.6406 0-9.7969-1.6094-5.1406-1.6094-11-4.8906v9.9688q5.9531 2.3906 11.125 3.6094 5.1875 1.2188 9.4844 1.2188 11.328 0 18.062-5.6719 6.7344-5.6562 6.7344-15.125 0-4.5-1.6875-8.5312-1.6719-4.0156-6.125-9.4844-1.2188-1.4219-7.7656-8.1875-6.5312-6.7656-18.453-18.922z\"/></defs><g transform=\"translate(67.926 127.75) scale(.104 -.104)\"><use xlink:href=\"#DejaVuSans-50\"/></g></g><g clip-path=\"url(#pcba75a9be7)\"><defs><path id=\"DejaVuSans-98\" d=\"m48.688 27.297q0 9.9062-4.0781 15.547t-11.203 5.6406q-7.1406 0-11.219-5.6406t-4.0781-15.547 4.0781-15.547 11.219-5.6406q7.125 0 11.203 5.6406t4.0781 15.547zm-30.578 19.094q2.8438 4.875 7.1562 7.2344 4.3281 2.375 10.328 2.375 9.9688 0 16.188-7.9062 6.2344-7.9062 6.2344-20.797t-6.2344-20.812q-6.2188-7.9062-16.188-7.9062-6 0-10.328 2.375-4.3125 2.375-7.1562 7.25v-8.2031h-9.0312v75.984h9.0312z\"/></defs><g transform=\"translate(43.975 138.95) scale(.1625 -.1625)\"><use xlink:href=\"#DejaVuSans-98\"/></g></g><defs><clipPath id=\"pcba75a9be7\"><rect x=\"7.2\" y=\"7.2\" width=\"65.271\" height=\"154.53\"/></clipPath></defs></svg>"
            ],
            "text/plain": [
              "<Figure size 86.452x204.68 with 1 Axes>"
            ]
          },
          "execution_count": 26,
          "metadata": {},
          "output_type": "execute_result"
        }
      ],
      "source": [
        "puzzle.get_circuit().draw(output='mpl')"
      ]
    },
    {
      "cell_type": "markdown",
      "metadata": {
        "id": "NP5QQ5gb9Owr"
      },
      "source": [
        "<div dir=\"rtl\">\n",
        "\n",
        "#### الخاتمة\n",
        "\n",
        "كل مخرج من مخرجات Z هنا سيُنتج إما `0` أو`1` 1بشكل عشوائي. لكن هل ستكون مخرجاتهما مترابطة؟ متضادة؟ أم غير مرتبطة تمامًا؟\n",
        "\n",
        "كما فعلنا مع البتات، سنحتفظ بهذه المعلومات باستخدام بعض الدوائر الإضافية."
      ]
    },
    {
      "cell_type": "markdown",
      "metadata": {
        "id": "2ER2DADe9Owr"
      },
      "source": [
        "<div dir=\"rtl\">\n",
        "\n",
        "### اللغز 11\n",
        "\n",
        "#### المقدمة\n",
        "\n",
        "في هذا اللغز، ستشاهد أربع دوائر جديدة. واحدة منها قد رأيتها بالفعل في المستوى الأول. كانت تلك الدائرة تتعقب ما إذا كانت قيم البتات متأكدة من التوافق (الدائرة سوداء) أو التباين (الدائرة بيضاء). هنا، تقوم الدائرة بنفس الدور ولكن لمخرجات Z الخاصة بالكيوبتات.\n",
        "\n",
        "#### التمرين\n",
        "\n",
        "* تأكد من عدم توافق مخرجات Z."
      ]
    },
    {
      "cell_type": "code",
      "execution_count": null,
      "metadata": {
        "id": "IwZON0wb9Ows"
      },
      "outputs": [],
      "source": [
        "initialize = [['h','0'],['h','1']]\n",
        "success_condition = {'ZZ': -1.0}\n",
        "allowed_gates = {'0': {'x': 0, 'z': 0, 'h': 0}, '1': {'x': 0, 'z': 0, 'h': 0}, 'both': {}}\n",
        "vi = [[], True, True]\n",
        "qubit_names = {'0':'q[0]', '1':'q[1]'}\n",
        "puzzle = hello_quantum.run_game(initialize, success_condition, allowed_gates, vi, qubit_names)"
      ]
    },
    {
      "cell_type": "code",
      "execution_count": null,
      "metadata": {
        "id": "-pSrMsh_9Ows",
        "outputId": "1d485e58-e80f-46f7-e712-09211fb877ef"
      },
      "outputs": [
        {
          "data": {
            "image/svg+xml": [
              "<?xml version=\"1.0\" encoding=\"UTF-8\"?><!DOCTYPE svg  PUBLIC '-//W3C//DTD SVG 1.1//EN'  'http://www.w3.org/Graphics/SVG/1.1/DTD/svg11.dtd'><svg width=\"79.671pt\" height=\"168.93pt\" version=\"1.1\" viewBox=\"0 0 79.671 168.93\" xmlns=\"http://www.w3.org/2000/svg\" xmlns:xlink=\"http://www.w3.org/1999/xlink\"><defs><style type=\"text/css\">*{stroke-linecap:butt;stroke-linejoin:round;}</style></defs><path d=\"m0 168.93h79.671v-168.93h-79.671z\" fill=\"#ffffff\"/><path d=\"m63.381 43.561h4.5451\" clip-path=\"url(#p6aacb28aa0)\" fill=\"none\" stroke=\"#000000\" stroke-linecap=\"square\" stroke-width=\"2\"/><path d=\"m63.381 89.012h4.5451\" clip-path=\"url(#p6aacb28aa0)\" fill=\"none\" stroke=\"#000000\" stroke-linecap=\"square\" stroke-width=\"2\"/><path d=\"m63.381 132.99h4.5451\" clip-path=\"url(#p6aacb28aa0)\" fill=\"none\" stroke=\"#778899\" stroke-linecap=\"square\" stroke-width=\"2\"/><path d=\"m63.381 135.94h4.5451\" clip-path=\"url(#p6aacb28aa0)\" fill=\"none\" stroke=\"#778899\" stroke-linecap=\"square\" stroke-width=\"2\"/><path d=\"m72.471 139.01 4.5451-9.0902\" clip-path=\"url(#p6aacb28aa0)\" fill=\"none\" stroke=\"#778899\" stroke-linecap=\"square\" stroke-width=\"1.5\"/><g clip-path=\"url(#p6aacb28aa0)\"><defs><path id=\"DejaVuSans-Oblique-113\" d=\"m41.703 8.2031q-3.6094-4.7344-8.5312-7.1875-4.9062-2.4375-10.859-2.4375-8.2969 0-13.016 5.5938-4.7031 5.5938-4.7031 15.406 0 7.9062 2.9062 15.281t8.3281 13.234q3.5156 3.8125 8.0781 5.8594t9.5938 2.0469q6.0469 0 9.9531-2.3906t5.6719-7.2188l1.5625 8.2031h9.0312l-14.594-75.203h-9.0469zm-27.781 12.703q0-7.2344 3.0156-11.016 3.0312-3.7812 8.75-3.7812 8.5 0 14.5 8.125t6 19.75q0 7.0312-3.1094 10.766-3.0938 3.7344-8.8906 3.7344-4.25 0-7.875-1.9844-3.6094-1.9688-6.2969-5.7812-2.8281-4-4.4688-9.375-1.625-5.3594-1.625-10.438z\"/><path id=\"DejaVuSans-48\" d=\"m31.781 66.406q-7.6094 0-11.453-7.5-3.8281-7.4844-3.8281-22.531 0-14.984 3.8281-22.484 3.8438-7.5 11.453-7.5 7.6719 0 11.5 7.5 3.8438 7.5 3.8438 22.484 0 15.047-3.8438 22.531-3.8281 7.5-11.5 7.5zm0 7.8125q12.266 0 18.734-9.7031 6.4688-9.6875 6.4688-28.141 0-18.406-6.4688-28.109-6.4688-9.6875-18.734-9.6875-12.25 0-18.719 9.6875-6.4688 9.7031-6.4688 28.109 0 18.453 6.4688 28.141 6.4688 9.7031 18.719 9.7031z\"/></defs><g transform=\"translate(36.253 48.012) scale(.1625 -.1625)\"><use xlink:href=\"#DejaVuSans-Oblique-113\"/><use transform=\"translate(63.477 -16.406) scale(.7)\" xlink:href=\"#DejaVuSans-48\"/></g></g><g clip-path=\"url(#p6aacb28aa0)\"><defs><path id=\"DejaVuSans-49\" d=\"m12.406 8.2969h16.109v55.625l-17.531-3.5156v8.9844l17.438 3.5156h9.8594v-64.609h16.109v-8.2969h-41.984z\"/></defs><g transform=\"translate(36.253 93.463) scale(.1625 -.1625)\"><use xlink:href=\"#DejaVuSans-Oblique-113\"/><use transform=\"translate(63.477 -16.406) scale(.7)\" xlink:href=\"#DejaVuSans-49\"/></g></g><g clip-path=\"url(#p6aacb28aa0)\"><defs><path id=\"DejaVuSans-50\" d=\"m19.188 8.2969h34.422v-8.2969h-46.281v8.2969q5.6094 5.8125 15.297 15.594 9.7031 9.7969 12.188 12.641 4.7344 5.3125 6.6094 9 1.8906 3.6875 1.8906 7.25 0 5.8125-4.0781 9.4688-4.0781 3.6719-10.625 3.6719-4.6406 0-9.7969-1.6094-5.1406-1.6094-11-4.8906v9.9688q5.9531 2.3906 11.125 3.6094 5.1875 1.2188 9.4844 1.2188 11.328 0 18.062-5.6719 6.7344-5.6562 6.7344-15.125 0-4.5-1.6875-8.5312-1.6719-4.0156-6.125-9.4844-1.2188-1.4219-7.7656-8.1875-6.5312-6.7656-18.453-18.922z\"/></defs><g transform=\"translate(67.926 127.75) scale(.104 -.104)\"><use xlink:href=\"#DejaVuSans-50\"/></g></g><g clip-path=\"url(#p6aacb28aa0)\"><defs><path id=\"DejaVuSans-98\" d=\"m48.688 27.297q0 9.9062-4.0781 15.547t-11.203 5.6406q-7.1406 0-11.219-5.6406t-4.0781-15.547 4.0781-15.547 11.219-5.6406q7.125 0 11.203 5.6406t4.0781 15.547zm-30.578 19.094q2.8438 4.875 7.1562 7.2344 4.3281 2.375 10.328 2.375 9.9688 0 16.188-7.9062 6.2344-7.9062 6.2344-20.797t-6.2344-20.812q-6.2188-7.9062-16.188-7.9062-6 0-10.328 2.375-4.3125 2.375-7.1562 7.25v-8.2031h-9.0312v75.984h9.0312z\"/></defs><g transform=\"translate(43.975 138.95) scale(.1625 -.1625)\"><use xlink:href=\"#DejaVuSans-98\"/></g></g><defs><clipPath id=\"p6aacb28aa0\"><rect x=\"7.2\" y=\"7.2\" width=\"65.271\" height=\"154.53\"/></clipPath></defs></svg>"
            ],
            "text/plain": [
              "<Figure size 86.452x204.68 with 1 Axes>"
            ]
          },
          "execution_count": 28,
          "metadata": {},
          "output_type": "execute_result"
        }
      ],
      "source": [
        "puzzle.get_circuit().draw(output='mpl')"
      ]
    },
    {
      "cell_type": "markdown",
      "metadata": {
        "id": "3U6Fj_m89Ows"
      },
      "source": [
        "<div dir=\"rtl\">\n",
        "\n",
        "### اللغز 12\n",
        "\n",
        "#### المقدمة\n",
        "الدائرة الجديدة في الأعلى تقوم بوظيفة مشابهة. هذه الدائرة تتابع احتمالية اتفاق أو اختلاف مخرجات X للكيوبتين (qubits).\n",
        "\n",
        "#### التمرين\n",
        "* تأكد من موافقة مخرجات X."
      ]
    },
    {
      "cell_type": "code",
      "execution_count": null,
      "metadata": {
        "id": "XpmOsmG09Owt"
      },
      "outputs": [],
      "source": [
        "initialize = [['x','0']]\n",
        "success_condition = {'XX': 1.0}\n",
        "allowed_gates = {'0': {'x': 0, 'z': 0, 'h': 0}, '1': {'x': 0, 'z': 0, 'h': 0}, 'both': {}}\n",
        "vi = [[], True, True]\n",
        "qubit_names = {'0':'q[0]', '1':'q[1]'}\n",
        "puzzle = hello_quantum.run_game(initialize, success_condition, allowed_gates, vi, qubit_names)"
      ]
    },
    {
      "cell_type": "code",
      "execution_count": null,
      "metadata": {
        "id": "Y_aVhNwD9Owt",
        "outputId": "c216f6c2-71a9-4503-b7bd-fc68662cc189"
      },
      "outputs": [
        {
          "data": {
            "image/svg+xml": [
              "<?xml version=\"1.0\" encoding=\"UTF-8\"?><!DOCTYPE svg  PUBLIC '-//W3C//DTD SVG 1.1//EN'  'http://www.w3.org/Graphics/SVG/1.1/DTD/svg11.dtd'><svg width=\"79.671pt\" height=\"168.93pt\" version=\"1.1\" viewBox=\"0 0 79.671 168.93\" xmlns=\"http://www.w3.org/2000/svg\" xmlns:xlink=\"http://www.w3.org/1999/xlink\"><defs><style type=\"text/css\">*{stroke-linecap:butt;stroke-linejoin:round;}</style></defs><path d=\"m0 168.93h79.671v-168.93h-79.671z\" fill=\"#ffffff\"/><path d=\"m63.381 43.561h4.5451\" clip-path=\"url(#p7d018d9f35)\" fill=\"none\" stroke=\"#000000\" stroke-linecap=\"square\" stroke-width=\"2\"/><path d=\"m63.381 89.012h4.5451\" clip-path=\"url(#p7d018d9f35)\" fill=\"none\" stroke=\"#000000\" stroke-linecap=\"square\" stroke-width=\"2\"/><path d=\"m63.381 132.99h4.5451\" clip-path=\"url(#p7d018d9f35)\" fill=\"none\" stroke=\"#778899\" stroke-linecap=\"square\" stroke-width=\"2\"/><path d=\"m63.381 135.94h4.5451\" clip-path=\"url(#p7d018d9f35)\" fill=\"none\" stroke=\"#778899\" stroke-linecap=\"square\" stroke-width=\"2\"/><path d=\"m72.471 139.01 4.5451-9.0902\" clip-path=\"url(#p7d018d9f35)\" fill=\"none\" stroke=\"#778899\" stroke-linecap=\"square\" stroke-width=\"1.5\"/><g clip-path=\"url(#p7d018d9f35)\"><defs><path id=\"DejaVuSans-Oblique-113\" d=\"m41.703 8.2031q-3.6094-4.7344-8.5312-7.1875-4.9062-2.4375-10.859-2.4375-8.2969 0-13.016 5.5938-4.7031 5.5938-4.7031 15.406 0 7.9062 2.9062 15.281t8.3281 13.234q3.5156 3.8125 8.0781 5.8594t9.5938 2.0469q6.0469 0 9.9531-2.3906t5.6719-7.2188l1.5625 8.2031h9.0312l-14.594-75.203h-9.0469zm-27.781 12.703q0-7.2344 3.0156-11.016 3.0312-3.7812 8.75-3.7812 8.5 0 14.5 8.125t6 19.75q0 7.0312-3.1094 10.766-3.0938 3.7344-8.8906 3.7344-4.25 0-7.875-1.9844-3.6094-1.9688-6.2969-5.7812-2.8281-4-4.4688-9.375-1.625-5.3594-1.625-10.438z\"/><path id=\"DejaVuSans-48\" d=\"m31.781 66.406q-7.6094 0-11.453-7.5-3.8281-7.4844-3.8281-22.531 0-14.984 3.8281-22.484 3.8438-7.5 11.453-7.5 7.6719 0 11.5 7.5 3.8438 7.5 3.8438 22.484 0 15.047-3.8438 22.531-3.8281 7.5-11.5 7.5zm0 7.8125q12.266 0 18.734-9.7031 6.4688-9.6875 6.4688-28.141 0-18.406-6.4688-28.109-6.4688-9.6875-18.734-9.6875-12.25 0-18.719 9.6875-6.4688 9.7031-6.4688 28.109 0 18.453 6.4688 28.141 6.4688 9.7031 18.719 9.7031z\"/></defs><g transform=\"translate(36.253 48.012) scale(.1625 -.1625)\"><use xlink:href=\"#DejaVuSans-Oblique-113\"/><use transform=\"translate(63.477 -16.406) scale(.7)\" xlink:href=\"#DejaVuSans-48\"/></g></g><g clip-path=\"url(#p7d018d9f35)\"><defs><path id=\"DejaVuSans-49\" d=\"m12.406 8.2969h16.109v55.625l-17.531-3.5156v8.9844l17.438 3.5156h9.8594v-64.609h16.109v-8.2969h-41.984z\"/></defs><g transform=\"translate(36.253 93.463) scale(.1625 -.1625)\"><use xlink:href=\"#DejaVuSans-Oblique-113\"/><use transform=\"translate(63.477 -16.406) scale(.7)\" xlink:href=\"#DejaVuSans-49\"/></g></g><g clip-path=\"url(#p7d018d9f35)\"><defs><path id=\"DejaVuSans-50\" d=\"m19.188 8.2969h34.422v-8.2969h-46.281v8.2969q5.6094 5.8125 15.297 15.594 9.7031 9.7969 12.188 12.641 4.7344 5.3125 6.6094 9 1.8906 3.6875 1.8906 7.25 0 5.8125-4.0781 9.4688-4.0781 3.6719-10.625 3.6719-4.6406 0-9.7969-1.6094-5.1406-1.6094-11-4.8906v9.9688q5.9531 2.3906 11.125 3.6094 5.1875 1.2188 9.4844 1.2188 11.328 0 18.062-5.6719 6.7344-5.6562 6.7344-15.125 0-4.5-1.6875-8.5312-1.6719-4.0156-6.125-9.4844-1.2188-1.4219-7.7656-8.1875-6.5312-6.7656-18.453-18.922z\"/></defs><g transform=\"translate(67.926 127.75) scale(.104 -.104)\"><use xlink:href=\"#DejaVuSans-50\"/></g></g><g clip-path=\"url(#p7d018d9f35)\"><defs><path id=\"DejaVuSans-98\" d=\"m48.688 27.297q0 9.9062-4.0781 15.547t-11.203 5.6406q-7.1406 0-11.219-5.6406t-4.0781-15.547 4.0781-15.547 11.219-5.6406q7.125 0 11.203 5.6406t4.0781 15.547zm-30.578 19.094q2.8438 4.875 7.1562 7.2344 4.3281 2.375 10.328 2.375 9.9688 0 16.188-7.9062 6.2344-7.9062 6.2344-20.797t-6.2344-20.812q-6.2188-7.9062-16.188-7.9062-6 0-10.328 2.375-4.3125 2.375-7.1562 7.25v-8.2031h-9.0312v75.984h9.0312z\"/></defs><g transform=\"translate(43.975 138.95) scale(.1625 -.1625)\"><use xlink:href=\"#DejaVuSans-98\"/></g></g><defs><clipPath id=\"p7d018d9f35\"><rect x=\"7.2\" y=\"7.2\" width=\"65.271\" height=\"154.53\"/></clipPath></defs></svg>"
            ],
            "text/plain": [
              "<Figure size 86.452x204.68 with 1 Axes>"
            ]
          },
          "execution_count": 30,
          "metadata": {},
          "output_type": "execute_result"
        }
      ],
      "source": [
        "puzzle.get_circuit().draw(output='mpl')"
      ]
    },
    {
      "cell_type": "markdown",
      "metadata": {
        "id": "x9uH0oQL9Owu"
      },
      "source": [
        "<div dir=\"rtl\">\n",
        "\n",
        "#### الخاتمة\n",
        "إذا كنت تتساءل لماذا يمثل هذا الدائرة الجديدة هذه المعلومات، فكر في خط يمتد من مخرج X لأحد الكيوبتات، وخط آخر يمتد من مخرج X للكيوبت الآخر. الدائرة الموجودة في الأعلى تقع في النقطة التي يلتقي فيها هذان الخطان. لهذا السبب، فهي تمثل الاتفاقات بين مخرجي X."
      ]
    },
    {
      "cell_type": "markdown",
      "metadata": {
        "id": "_uYMI2SP9Owu"
      },
      "source": [
        "<div dir=\"rtl\">\n",
        "\n",
        "### اللغز 13\n",
        "\n",
        "#### المقدمة\n",
        "\n",
        "لا تزال هناك دائرتان جديدتان يجب شرحهما. إحداهما تقع في النقطة التي يلتقي فيها صف مخرجات Z للكيوبت `q[0]` مع صف مخرجات X للكيوبت `q[1]`. تخبرنا هذه الدائرة ما إذا كانت مخرجات Z لـ `q[0]` ستتفق مع مخرجات X لـ `q[1]`. والدائرة الأخرى تعمل بنفس الطريقة ولكن مع مخرجات X لـ `q[0]` و Z لـ `q[1]`.\n",
        "\n",
        "#### التمرين\n",
        "\n",
        "*  جعل مخرج X لـ `q[0]` مؤكدًا أن يختلف عن مخرج Z لـ `q[1]`"
      ]
    },
    {
      "cell_type": "code",
      "execution_count": null,
      "metadata": {
        "id": "zaQFRb4t9Owu"
      },
      "outputs": [],
      "source": [
        "initialize = []\n",
        "success_condition = {'XZ': -1.0}\n",
        "allowed_gates = {'0': {'x': 0, 'z': 0, 'h': 0}, '1': {'x': 0, 'z': 0, 'h': 0}, 'both': {}}\n",
        "vi = [[], True, True]\n",
        "qubit_names = {'0':'q[0]', '1':'q[1]'}\n",
        "puzzle = hello_quantum.run_game(initialize, success_condition, allowed_gates, vi, qubit_names)"
      ]
    },
    {
      "cell_type": "code",
      "execution_count": null,
      "metadata": {
        "id": "QTGOam0u9Owz",
        "outputId": "22666793-a4ef-49dc-95b3-029a79189cf2"
      },
      "outputs": [
        {
          "data": {
            "image/svg+xml": [
              "<?xml version=\"1.0\" encoding=\"UTF-8\"?><!DOCTYPE svg  PUBLIC '-//W3C//DTD SVG 1.1//EN'  'http://www.w3.org/Graphics/SVG/1.1/DTD/svg11.dtd'><svg width=\"79.671pt\" height=\"168.93pt\" version=\"1.1\" viewBox=\"0 0 79.671 168.93\" xmlns=\"http://www.w3.org/2000/svg\" xmlns:xlink=\"http://www.w3.org/1999/xlink\"><defs><style type=\"text/css\">*{stroke-linecap:butt;stroke-linejoin:round;}</style></defs><path d=\"m0 168.93h79.671v-168.93h-79.671z\" fill=\"#ffffff\"/><path d=\"m63.381 43.561h4.5451\" clip-path=\"url(#p46c518227c)\" fill=\"none\" stroke=\"#000000\" stroke-linecap=\"square\" stroke-width=\"2\"/><path d=\"m63.381 89.012h4.5451\" clip-path=\"url(#p46c518227c)\" fill=\"none\" stroke=\"#000000\" stroke-linecap=\"square\" stroke-width=\"2\"/><path d=\"m63.381 132.99h4.5451\" clip-path=\"url(#p46c518227c)\" fill=\"none\" stroke=\"#778899\" stroke-linecap=\"square\" stroke-width=\"2\"/><path d=\"m63.381 135.94h4.5451\" clip-path=\"url(#p46c518227c)\" fill=\"none\" stroke=\"#778899\" stroke-linecap=\"square\" stroke-width=\"2\"/><path d=\"m72.471 139.01 4.5451-9.0902\" clip-path=\"url(#p46c518227c)\" fill=\"none\" stroke=\"#778899\" stroke-linecap=\"square\" stroke-width=\"1.5\"/><g clip-path=\"url(#p46c518227c)\"><defs><path id=\"DejaVuSans-Oblique-113\" d=\"m41.703 8.2031q-3.6094-4.7344-8.5312-7.1875-4.9062-2.4375-10.859-2.4375-8.2969 0-13.016 5.5938-4.7031 5.5938-4.7031 15.406 0 7.9062 2.9062 15.281t8.3281 13.234q3.5156 3.8125 8.0781 5.8594t9.5938 2.0469q6.0469 0 9.9531-2.3906t5.6719-7.2188l1.5625 8.2031h9.0312l-14.594-75.203h-9.0469zm-27.781 12.703q0-7.2344 3.0156-11.016 3.0312-3.7812 8.75-3.7812 8.5 0 14.5 8.125t6 19.75q0 7.0312-3.1094 10.766-3.0938 3.7344-8.8906 3.7344-4.25 0-7.875-1.9844-3.6094-1.9688-6.2969-5.7812-2.8281-4-4.4688-9.375-1.625-5.3594-1.625-10.438z\"/><path id=\"DejaVuSans-48\" d=\"m31.781 66.406q-7.6094 0-11.453-7.5-3.8281-7.4844-3.8281-22.531 0-14.984 3.8281-22.484 3.8438-7.5 11.453-7.5 7.6719 0 11.5 7.5 3.8438 7.5 3.8438 22.484 0 15.047-3.8438 22.531-3.8281 7.5-11.5 7.5zm0 7.8125q12.266 0 18.734-9.7031 6.4688-9.6875 6.4688-28.141 0-18.406-6.4688-28.109-6.4688-9.6875-18.734-9.6875-12.25 0-18.719 9.6875-6.4688 9.7031-6.4688 28.109 0 18.453 6.4688 28.141 6.4688 9.7031 18.719 9.7031z\"/></defs><g transform=\"translate(36.253 48.012) scale(.1625 -.1625)\"><use xlink:href=\"#DejaVuSans-Oblique-113\"/><use transform=\"translate(63.477 -16.406) scale(.7)\" xlink:href=\"#DejaVuSans-48\"/></g></g><g clip-path=\"url(#p46c518227c)\"><defs><path id=\"DejaVuSans-49\" d=\"m12.406 8.2969h16.109v55.625l-17.531-3.5156v8.9844l17.438 3.5156h9.8594v-64.609h16.109v-8.2969h-41.984z\"/></defs><g transform=\"translate(36.253 93.463) scale(.1625 -.1625)\"><use xlink:href=\"#DejaVuSans-Oblique-113\"/><use transform=\"translate(63.477 -16.406) scale(.7)\" xlink:href=\"#DejaVuSans-49\"/></g></g><g clip-path=\"url(#p46c518227c)\"><defs><path id=\"DejaVuSans-50\" d=\"m19.188 8.2969h34.422v-8.2969h-46.281v8.2969q5.6094 5.8125 15.297 15.594 9.7031 9.7969 12.188 12.641 4.7344 5.3125 6.6094 9 1.8906 3.6875 1.8906 7.25 0 5.8125-4.0781 9.4688-4.0781 3.6719-10.625 3.6719-4.6406 0-9.7969-1.6094-5.1406-1.6094-11-4.8906v9.9688q5.9531 2.3906 11.125 3.6094 5.1875 1.2188 9.4844 1.2188 11.328 0 18.062-5.6719 6.7344-5.6562 6.7344-15.125 0-4.5-1.6875-8.5312-1.6719-4.0156-6.125-9.4844-1.2188-1.4219-7.7656-8.1875-6.5312-6.7656-18.453-18.922z\"/></defs><g transform=\"translate(67.926 127.75) scale(.104 -.104)\"><use xlink:href=\"#DejaVuSans-50\"/></g></g><g clip-path=\"url(#p46c518227c)\"><defs><path id=\"DejaVuSans-98\" d=\"m48.688 27.297q0 9.9062-4.0781 15.547t-11.203 5.6406q-7.1406 0-11.219-5.6406t-4.0781-15.547 4.0781-15.547 11.219-5.6406q7.125 0 11.203 5.6406t4.0781 15.547zm-30.578 19.094q2.8438 4.875 7.1562 7.2344 4.3281 2.375 10.328 2.375 9.9688 0 16.188-7.9062 6.2344-7.9062 6.2344-20.797t-6.2344-20.812q-6.2188-7.9062-16.188-7.9062-6 0-10.328 2.375-4.3125 2.375-7.1562 7.25v-8.2031h-9.0312v75.984h9.0312z\"/></defs><g transform=\"translate(43.975 138.95) scale(.1625 -.1625)\"><use xlink:href=\"#DejaVuSans-98\"/></g></g><defs><clipPath id=\"p46c518227c\"><rect x=\"7.2\" y=\"7.2\" width=\"65.271\" height=\"154.53\"/></clipPath></defs></svg>"
            ],
            "text/plain": [
              "<Figure size 86.452x204.68 with 1 Axes>"
            ]
          },
          "execution_count": 32,
          "metadata": {},
          "output_type": "execute_result"
        }
      ],
      "source": [
        "puzzle.get_circuit().draw(output='mpl')"
      ]
    },
    {
      "cell_type": "markdown",
      "metadata": {
        "id": "vSiUbDeZ9Ow0"
      },
      "source": [
        "<div dir=\"rtl\">\n",
        "\n",
        "### اللغز 14\n",
        "\n",
        "#### المقدمة\n",
        "احظ كيف تؤثر بوابات `x` و `z` و `h` على الدوائر الجديدة. وبالأخص، بوابات x لا تؤثر فقط على مخرج `Z` واحد، بل على صف كامل منها: تقلب كل دائرة من الأسود إلى الأبيض (أو من الداكن إلى الفاتح) والعكس صحيح.\n",
        "\n",
        "#### التمرين\n",
        "*  قم بتشغيل مخرجي Z قدر المستطاع."
      ]
    },
    {
      "cell_type": "code",
      "execution_count": null,
      "metadata": {
        "id": "AyxAiS_q9Ow1"
      },
      "outputs": [],
      "source": [
        "initialize = [['ry(-pi/4)', '1'], ['ry(-pi/4)','0']]\n",
        "success_condition = {'ZI': -0.7071, 'IZ': -0.7071}\n",
        "allowed_gates = {'0': {'x': 0}, '1': {'x': 0}, 'both': {}}\n",
        "vi = [[], True, True]\n",
        "qubit_names = {'0':'q[0]', '1':'q[1]'}\n",
        "puzzle = hello_quantum.run_game(initialize, success_condition, allowed_gates, vi, qubit_names)"
      ]
    },
    {
      "cell_type": "code",
      "execution_count": null,
      "metadata": {
        "id": "_gVYQ1RE9Ow1",
        "outputId": "336ba8c5-9027-4de8-d269-8b36e8334c99"
      },
      "outputs": [
        {
          "data": {
            "image/svg+xml": [
              "<?xml version=\"1.0\" encoding=\"UTF-8\"?><!DOCTYPE svg  PUBLIC '-//W3C//DTD SVG 1.1//EN'  'http://www.w3.org/Graphics/SVG/1.1/DTD/svg11.dtd'><svg width=\"79.671pt\" height=\"168.93pt\" version=\"1.1\" viewBox=\"0 0 79.671 168.93\" xmlns=\"http://www.w3.org/2000/svg\" xmlns:xlink=\"http://www.w3.org/1999/xlink\"><defs><style type=\"text/css\">*{stroke-linecap:butt;stroke-linejoin:round;}</style></defs><path d=\"m0 168.93h79.671v-168.93h-79.671z\" fill=\"#ffffff\"/><path d=\"m63.381 43.561h4.5451\" clip-path=\"url(#pab7b0f26a6)\" fill=\"none\" stroke=\"#000000\" stroke-linecap=\"square\" stroke-width=\"2\"/><path d=\"m63.381 89.012h4.5451\" clip-path=\"url(#pab7b0f26a6)\" fill=\"none\" stroke=\"#000000\" stroke-linecap=\"square\" stroke-width=\"2\"/><path d=\"m63.381 132.99h4.5451\" clip-path=\"url(#pab7b0f26a6)\" fill=\"none\" stroke=\"#778899\" stroke-linecap=\"square\" stroke-width=\"2\"/><path d=\"m63.381 135.94h4.5451\" clip-path=\"url(#pab7b0f26a6)\" fill=\"none\" stroke=\"#778899\" stroke-linecap=\"square\" stroke-width=\"2\"/><path d=\"m72.471 139.01 4.5451-9.0902\" clip-path=\"url(#pab7b0f26a6)\" fill=\"none\" stroke=\"#778899\" stroke-linecap=\"square\" stroke-width=\"1.5\"/><g clip-path=\"url(#pab7b0f26a6)\"><defs><path id=\"DejaVuSans-Oblique-113\" d=\"m41.703 8.2031q-3.6094-4.7344-8.5312-7.1875-4.9062-2.4375-10.859-2.4375-8.2969 0-13.016 5.5938-4.7031 5.5938-4.7031 15.406 0 7.9062 2.9062 15.281t8.3281 13.234q3.5156 3.8125 8.0781 5.8594t9.5938 2.0469q6.0469 0 9.9531-2.3906t5.6719-7.2188l1.5625 8.2031h9.0312l-14.594-75.203h-9.0469zm-27.781 12.703q0-7.2344 3.0156-11.016 3.0312-3.7812 8.75-3.7812 8.5 0 14.5 8.125t6 19.75q0 7.0312-3.1094 10.766-3.0938 3.7344-8.8906 3.7344-4.25 0-7.875-1.9844-3.6094-1.9688-6.2969-5.7812-2.8281-4-4.4688-9.375-1.625-5.3594-1.625-10.438z\"/><path id=\"DejaVuSans-48\" d=\"m31.781 66.406q-7.6094 0-11.453-7.5-3.8281-7.4844-3.8281-22.531 0-14.984 3.8281-22.484 3.8438-7.5 11.453-7.5 7.6719 0 11.5 7.5 3.8438 7.5 3.8438 22.484 0 15.047-3.8438 22.531-3.8281 7.5-11.5 7.5zm0 7.8125q12.266 0 18.734-9.7031 6.4688-9.6875 6.4688-28.141 0-18.406-6.4688-28.109-6.4688-9.6875-18.734-9.6875-12.25 0-18.719 9.6875-6.4688 9.7031-6.4688 28.109 0 18.453 6.4688 28.141 6.4688 9.7031 18.719 9.7031z\"/></defs><g transform=\"translate(36.253 48.012) scale(.1625 -.1625)\"><use xlink:href=\"#DejaVuSans-Oblique-113\"/><use transform=\"translate(63.477 -16.406) scale(.7)\" xlink:href=\"#DejaVuSans-48\"/></g></g><g clip-path=\"url(#pab7b0f26a6)\"><defs><path id=\"DejaVuSans-49\" d=\"m12.406 8.2969h16.109v55.625l-17.531-3.5156v8.9844l17.438 3.5156h9.8594v-64.609h16.109v-8.2969h-41.984z\"/></defs><g transform=\"translate(36.253 93.463) scale(.1625 -.1625)\"><use xlink:href=\"#DejaVuSans-Oblique-113\"/><use transform=\"translate(63.477 -16.406) scale(.7)\" xlink:href=\"#DejaVuSans-49\"/></g></g><g clip-path=\"url(#pab7b0f26a6)\"><defs><path id=\"DejaVuSans-50\" d=\"m19.188 8.2969h34.422v-8.2969h-46.281v8.2969q5.6094 5.8125 15.297 15.594 9.7031 9.7969 12.188 12.641 4.7344 5.3125 6.6094 9 1.8906 3.6875 1.8906 7.25 0 5.8125-4.0781 9.4688-4.0781 3.6719-10.625 3.6719-4.6406 0-9.7969-1.6094-5.1406-1.6094-11-4.8906v9.9688q5.9531 2.3906 11.125 3.6094 5.1875 1.2188 9.4844 1.2188 11.328 0 18.062-5.6719 6.7344-5.6562 6.7344-15.125 0-4.5-1.6875-8.5312-1.6719-4.0156-6.125-9.4844-1.2188-1.4219-7.7656-8.1875-6.5312-6.7656-18.453-18.922z\"/></defs><g transform=\"translate(67.926 127.75) scale(.104 -.104)\"><use xlink:href=\"#DejaVuSans-50\"/></g></g><g clip-path=\"url(#pab7b0f26a6)\"><defs><path id=\"DejaVuSans-98\" d=\"m48.688 27.297q0 9.9062-4.0781 15.547t-11.203 5.6406q-7.1406 0-11.219-5.6406t-4.0781-15.547 4.0781-15.547 11.219-5.6406q7.125 0 11.203 5.6406t4.0781 15.547zm-30.578 19.094q2.8438 4.875 7.1562 7.2344 4.3281 2.375 10.328 2.375 9.9688 0 16.188-7.9062 6.2344-7.9062 6.2344-20.797t-6.2344-20.812q-6.2188-7.9062-16.188-7.9062-6 0-10.328 2.375-4.3125 2.375-7.1562 7.25v-8.2031h-9.0312v75.984h9.0312z\"/></defs><g transform=\"translate(43.975 138.95) scale(.1625 -.1625)\"><use xlink:href=\"#DejaVuSans-98\"/></g></g><defs><clipPath id=\"pab7b0f26a6\"><rect x=\"7.2\" y=\"7.2\" width=\"65.271\" height=\"154.53\"/></clipPath></defs></svg>"
            ],
            "text/plain": [
              "<Figure size 86.452x204.68 with 1 Axes>"
            ]
          },
          "execution_count": 34,
          "metadata": {},
          "output_type": "execute_result"
        }
      ],
      "source": [
        "puzzle.get_circuit().draw(output='mpl')"
      ]
    },
    {
      "cell_type": "markdown",
      "metadata": {
        "id": "walX2lDZ9Ow1"
      },
      "source": [
        "<div dir=\"rtl\">\n",
        "\n",
        "#### الخاتمة\n",
        "\n",
        "As you'll see in the next puzzle, the `z` gates affect X output rows in the same way."
      ]
    },
    {
      "cell_type": "markdown",
      "metadata": {
        "id": "Nc5cjDaN9Ow2"
      },
      "source": [
        "<div dir=\"rtl\">\n",
        "\n",
        "### اللغز 15\n",
        "\n",
        "#### المقدمة\n",
        "\n",
        "سبق لنا أن رأينا كيف أن بوابة `h` تقوم بتبديل زوج من الدوائر. الآن تؤثر على صفين من الدوائر بنفس الطريقة: تقوم بتبديل كل زوج من الدوائر حتى يتم تبديل الصفين بالكامل. مرة أخرى، قد ترغب في مراجعة تطبيق [Hello Quantum](https://helloquantum.mybluemix.net/) لمشاهدة رسم متحرك لهذه العملي\n",
        "\n",
        "\n",
        "\n",
        "#### التمرين\n",
        "*  قم بإطفاء المخرج X."
      ]
    },
    {
      "cell_type": "code",
      "execution_count": null,
      "metadata": {
        "id": "20Npj07x9Ow2"
      },
      "outputs": [],
      "source": [
        "initialize = [['x', '1'], ['x','0']]\n",
        "success_condition = {'XI':1, 'IX':1}\n",
        "allowed_gates = {'0': {'z': 0, 'h': 0}, '1': {'z': 0, 'h': 0}, 'both': {}}\n",
        "vi = [[], True, True]\n",
        "qubit_names = {'0':'q[0]', '1':'q[1]'}\n",
        "puzzle = hello_quantum.run_game(initialize, success_condition, allowed_gates, vi, qubit_names)"
      ]
    },
    {
      "cell_type": "code",
      "execution_count": null,
      "metadata": {
        "id": "_gec6MUI9Ow3",
        "outputId": "be1f7220-7220-463b-fda2-1ff8a4e48853"
      },
      "outputs": [
        {
          "data": {
            "image/svg+xml": [
              "<?xml version=\"1.0\" encoding=\"UTF-8\"?><!DOCTYPE svg  PUBLIC '-//W3C//DTD SVG 1.1//EN'  'http://www.w3.org/Graphics/SVG/1.1/DTD/svg11.dtd'><svg width=\"79.671pt\" height=\"168.93pt\" version=\"1.1\" viewBox=\"0 0 79.671 168.93\" xmlns=\"http://www.w3.org/2000/svg\" xmlns:xlink=\"http://www.w3.org/1999/xlink\"><defs><style type=\"text/css\">*{stroke-linecap:butt;stroke-linejoin:round;}</style></defs><path d=\"m0 168.93h79.671v-168.93h-79.671z\" fill=\"#ffffff\"/><path d=\"m63.381 43.561h4.5451\" clip-path=\"url(#p9f2fdc9067)\" fill=\"none\" stroke=\"#000000\" stroke-linecap=\"square\" stroke-width=\"2\"/><path d=\"m63.381 89.012h4.5451\" clip-path=\"url(#p9f2fdc9067)\" fill=\"none\" stroke=\"#000000\" stroke-linecap=\"square\" stroke-width=\"2\"/><path d=\"m63.381 132.99h4.5451\" clip-path=\"url(#p9f2fdc9067)\" fill=\"none\" stroke=\"#778899\" stroke-linecap=\"square\" stroke-width=\"2\"/><path d=\"m63.381 135.94h4.5451\" clip-path=\"url(#p9f2fdc9067)\" fill=\"none\" stroke=\"#778899\" stroke-linecap=\"square\" stroke-width=\"2\"/><path d=\"m72.471 139.01 4.5451-9.0902\" clip-path=\"url(#p9f2fdc9067)\" fill=\"none\" stroke=\"#778899\" stroke-linecap=\"square\" stroke-width=\"1.5\"/><g clip-path=\"url(#p9f2fdc9067)\"><defs><path id=\"DejaVuSans-Oblique-113\" d=\"m41.703 8.2031q-3.6094-4.7344-8.5312-7.1875-4.9062-2.4375-10.859-2.4375-8.2969 0-13.016 5.5938-4.7031 5.5938-4.7031 15.406 0 7.9062 2.9062 15.281t8.3281 13.234q3.5156 3.8125 8.0781 5.8594t9.5938 2.0469q6.0469 0 9.9531-2.3906t5.6719-7.2188l1.5625 8.2031h9.0312l-14.594-75.203h-9.0469zm-27.781 12.703q0-7.2344 3.0156-11.016 3.0312-3.7812 8.75-3.7812 8.5 0 14.5 8.125t6 19.75q0 7.0312-3.1094 10.766-3.0938 3.7344-8.8906 3.7344-4.25 0-7.875-1.9844-3.6094-1.9688-6.2969-5.7812-2.8281-4-4.4688-9.375-1.625-5.3594-1.625-10.438z\"/><path id=\"DejaVuSans-48\" d=\"m31.781 66.406q-7.6094 0-11.453-7.5-3.8281-7.4844-3.8281-22.531 0-14.984 3.8281-22.484 3.8438-7.5 11.453-7.5 7.6719 0 11.5 7.5 3.8438 7.5 3.8438 22.484 0 15.047-3.8438 22.531-3.8281 7.5-11.5 7.5zm0 7.8125q12.266 0 18.734-9.7031 6.4688-9.6875 6.4688-28.141 0-18.406-6.4688-28.109-6.4688-9.6875-18.734-9.6875-12.25 0-18.719 9.6875-6.4688 9.7031-6.4688 28.109 0 18.453 6.4688 28.141 6.4688 9.7031 18.719 9.7031z\"/></defs><g transform=\"translate(36.253 48.012) scale(.1625 -.1625)\"><use xlink:href=\"#DejaVuSans-Oblique-113\"/><use transform=\"translate(63.477 -16.406) scale(.7)\" xlink:href=\"#DejaVuSans-48\"/></g></g><g clip-path=\"url(#p9f2fdc9067)\"><defs><path id=\"DejaVuSans-49\" d=\"m12.406 8.2969h16.109v55.625l-17.531-3.5156v8.9844l17.438 3.5156h9.8594v-64.609h16.109v-8.2969h-41.984z\"/></defs><g transform=\"translate(36.253 93.463) scale(.1625 -.1625)\"><use xlink:href=\"#DejaVuSans-Oblique-113\"/><use transform=\"translate(63.477 -16.406) scale(.7)\" xlink:href=\"#DejaVuSans-49\"/></g></g><g clip-path=\"url(#p9f2fdc9067)\"><defs><path id=\"DejaVuSans-50\" d=\"m19.188 8.2969h34.422v-8.2969h-46.281v8.2969q5.6094 5.8125 15.297 15.594 9.7031 9.7969 12.188 12.641 4.7344 5.3125 6.6094 9 1.8906 3.6875 1.8906 7.25 0 5.8125-4.0781 9.4688-4.0781 3.6719-10.625 3.6719-4.6406 0-9.7969-1.6094-5.1406-1.6094-11-4.8906v9.9688q5.9531 2.3906 11.125 3.6094 5.1875 1.2188 9.4844 1.2188 11.328 0 18.062-5.6719 6.7344-5.6562 6.7344-15.125 0-4.5-1.6875-8.5312-1.6719-4.0156-6.125-9.4844-1.2188-1.4219-7.7656-8.1875-6.5312-6.7656-18.453-18.922z\"/></defs><g transform=\"translate(67.926 127.75) scale(.104 -.104)\"><use xlink:href=\"#DejaVuSans-50\"/></g></g><g clip-path=\"url(#p9f2fdc9067)\"><defs><path id=\"DejaVuSans-98\" d=\"m48.688 27.297q0 9.9062-4.0781 15.547t-11.203 5.6406q-7.1406 0-11.219-5.6406t-4.0781-15.547 4.0781-15.547 11.219-5.6406q7.125 0 11.203 5.6406t4.0781 15.547zm-30.578 19.094q2.8438 4.875 7.1562 7.2344 4.3281 2.375 10.328 2.375 9.9688 0 16.188-7.9062 6.2344-7.9062 6.2344-20.797t-6.2344-20.812q-6.2188-7.9062-16.188-7.9062-6 0-10.328 2.375-4.3125 2.375-7.1562 7.25v-8.2031h-9.0312v75.984h9.0312z\"/></defs><g transform=\"translate(43.975 138.95) scale(.1625 -.1625)\"><use xlink:href=\"#DejaVuSans-98\"/></g></g><defs><clipPath id=\"p9f2fdc9067\"><rect x=\"7.2\" y=\"7.2\" width=\"65.271\" height=\"154.53\"/></clipPath></defs></svg>"
            ],
            "text/plain": [
              "<Figure size 86.452x204.68 with 1 Axes>"
            ]
          },
          "execution_count": 36,
          "metadata": {},
          "output_type": "execute_result"
        }
      ],
      "source": [
        "puzzle.get_circuit().draw(output='mpl')"
      ]
    },
    {
      "cell_type": "markdown",
      "metadata": {
        "id": "k-H-FwdA9Ow5"
      },
      "source": [
        "<div dir=\"rtl\">\n",
        "\n",
        "#### بالختام\n",
        "لقد استعرضت الآن الأساسيات لما تبدو عليه الكيوبتين وكيفية التلاعب بهما بشكل فردي. ولكن المتعة الحقيقية تبدأ عندما نبدأ في استخدام بوابات الكيوبتين معًا."
      ]
    },
    {
      "cell_type": "markdown",
      "metadata": {
        "id": "n59sUzUZ9Ow6"
      },
      "source": [
        "## Level 3: Two qubit gates"
      ]
    },
    {
      "cell_type": "markdown",
      "metadata": {
        "id": "MSXsRti69Ow6"
      },
      "source": [
        "### Puzzle 1\n",
        "\n",
        "#### Introduction\n",
        "\n",
        "In the exercises on bits, we used the `CNOT` gate. For qubits we have a similar gate, using the `x` as the quantum version of the `NOT`. For this reason, we refer to it in Qiskit programs as `cx`.\n",
        "\n",
        "Like the classical `CNOT`, the `cx` gate has a 'control' and a 'target'. It effectively looks at what the Z output would be for the control, and uses that to decide whether an `x` is applied to the target qubit.\n",
        "\n",
        "When you apply this gate, the qubit you choose will serve as the target. The other qubit will then be the control.\n",
        "\n",
        "####  Exercise\n",
        "\n",
        "* Use a `cx` or two to turn on the Z output of q[1], and turn off the Z output of q[0]."
      ]
    },
    {
      "cell_type": "code",
      "execution_count": null,
      "metadata": {
        "id": "NgW_drw39Ow6"
      },
      "outputs": [],
      "source": [
        "initialize = [['x', '0']]\n",
        "success_condition = {'ZI': 1.0, 'IZ': -1.0}\n",
        "allowed_gates = {'0': {'cx': 0}, '1': {'cx': 0}, 'both': {}}\n",
        "vi = [[], True, True]\n",
        "qubit_names = {'0':'q[0]', '1':'q[1]'}\n",
        "puzzle = hello_quantum.run_game(initialize, success_condition, allowed_gates, vi, qubit_names)"
      ]
    },
    {
      "cell_type": "code",
      "execution_count": null,
      "metadata": {
        "id": "4OvnFwwp9Ow7",
        "outputId": "15bb3356-ad7f-4646-da0e-fb5e30b9827f"
      },
      "outputs": [
        {
          "data": {
            "image/svg+xml": [
              "<?xml version=\"1.0\" encoding=\"UTF-8\"?><!DOCTYPE svg  PUBLIC '-//W3C//DTD SVG 1.1//EN'  'http://www.w3.org/Graphics/SVG/1.1/DTD/svg11.dtd'><svg width=\"79.671pt\" height=\"168.93pt\" version=\"1.1\" viewBox=\"0 0 79.671 168.93\" xmlns=\"http://www.w3.org/2000/svg\" xmlns:xlink=\"http://www.w3.org/1999/xlink\"><defs><style type=\"text/css\">*{stroke-linecap:butt;stroke-linejoin:round;}</style></defs><path d=\"m0 168.93h79.671v-168.93h-79.671z\" fill=\"#ffffff\"/><path d=\"m63.381 43.561h4.5451\" clip-path=\"url(#pf2a1eae5e3)\" fill=\"none\" stroke=\"#000000\" stroke-linecap=\"square\" stroke-width=\"2\"/><path d=\"m63.381 89.012h4.5451\" clip-path=\"url(#pf2a1eae5e3)\" fill=\"none\" stroke=\"#000000\" stroke-linecap=\"square\" stroke-width=\"2\"/><path d=\"m63.381 132.99h4.5451\" clip-path=\"url(#pf2a1eae5e3)\" fill=\"none\" stroke=\"#778899\" stroke-linecap=\"square\" stroke-width=\"2\"/><path d=\"m63.381 135.94h4.5451\" clip-path=\"url(#pf2a1eae5e3)\" fill=\"none\" stroke=\"#778899\" stroke-linecap=\"square\" stroke-width=\"2\"/><path d=\"m72.471 139.01 4.5451-9.0902\" clip-path=\"url(#pf2a1eae5e3)\" fill=\"none\" stroke=\"#778899\" stroke-linecap=\"square\" stroke-width=\"1.5\"/><g clip-path=\"url(#pf2a1eae5e3)\"><defs><path id=\"DejaVuSans-Oblique-113\" d=\"m41.703 8.2031q-3.6094-4.7344-8.5312-7.1875-4.9062-2.4375-10.859-2.4375-8.2969 0-13.016 5.5938-4.7031 5.5938-4.7031 15.406 0 7.9062 2.9062 15.281t8.3281 13.234q3.5156 3.8125 8.0781 5.8594t9.5938 2.0469q6.0469 0 9.9531-2.3906t5.6719-7.2188l1.5625 8.2031h9.0312l-14.594-75.203h-9.0469zm-27.781 12.703q0-7.2344 3.0156-11.016 3.0312-3.7812 8.75-3.7812 8.5 0 14.5 8.125t6 19.75q0 7.0312-3.1094 10.766-3.0938 3.7344-8.8906 3.7344-4.25 0-7.875-1.9844-3.6094-1.9688-6.2969-5.7812-2.8281-4-4.4688-9.375-1.625-5.3594-1.625-10.438z\"/><path id=\"DejaVuSans-48\" d=\"m31.781 66.406q-7.6094 0-11.453-7.5-3.8281-7.4844-3.8281-22.531 0-14.984 3.8281-22.484 3.8438-7.5 11.453-7.5 7.6719 0 11.5 7.5 3.8438 7.5 3.8438 22.484 0 15.047-3.8438 22.531-3.8281 7.5-11.5 7.5zm0 7.8125q12.266 0 18.734-9.7031 6.4688-9.6875 6.4688-28.141 0-18.406-6.4688-28.109-6.4688-9.6875-18.734-9.6875-12.25 0-18.719 9.6875-6.4688 9.7031-6.4688 28.109 0 18.453 6.4688 28.141 6.4688 9.7031 18.719 9.7031z\"/></defs><g transform=\"translate(36.253 48.012) scale(.1625 -.1625)\"><use xlink:href=\"#DejaVuSans-Oblique-113\"/><use transform=\"translate(63.477 -16.406) scale(.7)\" xlink:href=\"#DejaVuSans-48\"/></g></g><g clip-path=\"url(#pf2a1eae5e3)\"><defs><path id=\"DejaVuSans-49\" d=\"m12.406 8.2969h16.109v55.625l-17.531-3.5156v8.9844l17.438 3.5156h9.8594v-64.609h16.109v-8.2969h-41.984z\"/></defs><g transform=\"translate(36.253 93.463) scale(.1625 -.1625)\"><use xlink:href=\"#DejaVuSans-Oblique-113\"/><use transform=\"translate(63.477 -16.406) scale(.7)\" xlink:href=\"#DejaVuSans-49\"/></g></g><g clip-path=\"url(#pf2a1eae5e3)\"><defs><path id=\"DejaVuSans-50\" d=\"m19.188 8.2969h34.422v-8.2969h-46.281v8.2969q5.6094 5.8125 15.297 15.594 9.7031 9.7969 12.188 12.641 4.7344 5.3125 6.6094 9 1.8906 3.6875 1.8906 7.25 0 5.8125-4.0781 9.4688-4.0781 3.6719-10.625 3.6719-4.6406 0-9.7969-1.6094-5.1406-1.6094-11-4.8906v9.9688q5.9531 2.3906 11.125 3.6094 5.1875 1.2188 9.4844 1.2188 11.328 0 18.062-5.6719 6.7344-5.6562 6.7344-15.125 0-4.5-1.6875-8.5312-1.6719-4.0156-6.125-9.4844-1.2188-1.4219-7.7656-8.1875-6.5312-6.7656-18.453-18.922z\"/></defs><g transform=\"translate(67.926 127.75) scale(.104 -.104)\"><use xlink:href=\"#DejaVuSans-50\"/></g></g><g clip-path=\"url(#pf2a1eae5e3)\"><defs><path id=\"DejaVuSans-98\" d=\"m48.688 27.297q0 9.9062-4.0781 15.547t-11.203 5.6406q-7.1406 0-11.219-5.6406t-4.0781-15.547 4.0781-15.547 11.219-5.6406q7.125 0 11.203 5.6406t4.0781 15.547zm-30.578 19.094q2.8438 4.875 7.1562 7.2344 4.3281 2.375 10.328 2.375 9.9688 0 16.188-7.9062 6.2344-7.9062 6.2344-20.797t-6.2344-20.812q-6.2188-7.9062-16.188-7.9062-6 0-10.328 2.375-4.3125 2.375-7.1562 7.25v-8.2031h-9.0312v75.984h9.0312z\"/></defs><g transform=\"translate(43.975 138.95) scale(.1625 -.1625)\"><use xlink:href=\"#DejaVuSans-98\"/></g></g><defs><clipPath id=\"pf2a1eae5e3\"><rect x=\"7.2\" y=\"7.2\" width=\"65.271\" height=\"154.53\"/></clipPath></defs></svg>"
            ],
            "text/plain": [
              "<Figure size 86.452x204.68 with 1 Axes>"
            ]
          },
          "execution_count": 38,
          "metadata": {},
          "output_type": "execute_result"
        }
      ],
      "source": [
        "puzzle.get_circuit().draw(output='mpl')"
      ]
    },
    {
      "cell_type": "markdown",
      "metadata": {
        "id": "nZrcQUL69Ow7"
      },
      "source": [
        "### Puzzle 2\n",
        "\n",
        "#### Introduction\n",
        "\n",
        "As well as a `cx` gate, there is also the `cz`. This does the same, except that it potentially applies a `z` to the target instead of an `x`.\n",
        "\n",
        "####  Exercise\n",
        "\n",
        "* Turn on the X output of q[0]."
      ]
    },
    {
      "cell_type": "code",
      "execution_count": null,
      "metadata": {
        "id": "NTsMRrj39Ow7"
      },
      "outputs": [],
      "source": [
        "initialize = [['h', '0'],['x', '1']]\n",
        "success_condition = {'XI': -1.0}\n",
        "allowed_gates = {'0': {'cz': 0}, '1': {}, 'both': {}}\n",
        "vi = [[], True, True]\n",
        "qubit_names = {'0':'q[0]', '1':'q[1]'}\n",
        "puzzle = hello_quantum.run_game(initialize, success_condition, allowed_gates, vi, qubit_names)"
      ]
    },
    {
      "cell_type": "code",
      "execution_count": null,
      "metadata": {
        "id": "-HxL0GDR9Ow8",
        "outputId": "432e8fe8-900c-444c-f573-25c5f6bbcda0"
      },
      "outputs": [
        {
          "data": {
            "image/svg+xml": [
              "<?xml version=\"1.0\" encoding=\"UTF-8\"?><!DOCTYPE svg  PUBLIC '-//W3C//DTD SVG 1.1//EN'  'http://www.w3.org/Graphics/SVG/1.1/DTD/svg11.dtd'><svg width=\"79.671pt\" height=\"168.93pt\" version=\"1.1\" viewBox=\"0 0 79.671 168.93\" xmlns=\"http://www.w3.org/2000/svg\" xmlns:xlink=\"http://www.w3.org/1999/xlink\"><defs><style type=\"text/css\">*{stroke-linecap:butt;stroke-linejoin:round;}</style></defs><path d=\"m0 168.93h79.671v-168.93h-79.671z\" fill=\"#ffffff\"/><path d=\"m63.381 43.561h4.5451\" clip-path=\"url(#p3f45b802de)\" fill=\"none\" stroke=\"#000000\" stroke-linecap=\"square\" stroke-width=\"2\"/><path d=\"m63.381 89.012h4.5451\" clip-path=\"url(#p3f45b802de)\" fill=\"none\" stroke=\"#000000\" stroke-linecap=\"square\" stroke-width=\"2\"/><path d=\"m63.381 132.99h4.5451\" clip-path=\"url(#p3f45b802de)\" fill=\"none\" stroke=\"#778899\" stroke-linecap=\"square\" stroke-width=\"2\"/><path d=\"m63.381 135.94h4.5451\" clip-path=\"url(#p3f45b802de)\" fill=\"none\" stroke=\"#778899\" stroke-linecap=\"square\" stroke-width=\"2\"/><path d=\"m72.471 139.01 4.5451-9.0902\" clip-path=\"url(#p3f45b802de)\" fill=\"none\" stroke=\"#778899\" stroke-linecap=\"square\" stroke-width=\"1.5\"/><g clip-path=\"url(#p3f45b802de)\"><defs><path id=\"DejaVuSans-Oblique-113\" d=\"m41.703 8.2031q-3.6094-4.7344-8.5312-7.1875-4.9062-2.4375-10.859-2.4375-8.2969 0-13.016 5.5938-4.7031 5.5938-4.7031 15.406 0 7.9062 2.9062 15.281t8.3281 13.234q3.5156 3.8125 8.0781 5.8594t9.5938 2.0469q6.0469 0 9.9531-2.3906t5.6719-7.2188l1.5625 8.2031h9.0312l-14.594-75.203h-9.0469zm-27.781 12.703q0-7.2344 3.0156-11.016 3.0312-3.7812 8.75-3.7812 8.5 0 14.5 8.125t6 19.75q0 7.0312-3.1094 10.766-3.0938 3.7344-8.8906 3.7344-4.25 0-7.875-1.9844-3.6094-1.9688-6.2969-5.7812-2.8281-4-4.4688-9.375-1.625-5.3594-1.625-10.438z\"/><path id=\"DejaVuSans-48\" d=\"m31.781 66.406q-7.6094 0-11.453-7.5-3.8281-7.4844-3.8281-22.531 0-14.984 3.8281-22.484 3.8438-7.5 11.453-7.5 7.6719 0 11.5 7.5 3.8438 7.5 3.8438 22.484 0 15.047-3.8438 22.531-3.8281 7.5-11.5 7.5zm0 7.8125q12.266 0 18.734-9.7031 6.4688-9.6875 6.4688-28.141 0-18.406-6.4688-28.109-6.4688-9.6875-18.734-9.6875-12.25 0-18.719 9.6875-6.4688 9.7031-6.4688 28.109 0 18.453 6.4688 28.141 6.4688 9.7031 18.719 9.7031z\"/></defs><g transform=\"translate(36.253 48.012) scale(.1625 -.1625)\"><use xlink:href=\"#DejaVuSans-Oblique-113\"/><use transform=\"translate(63.477 -16.406) scale(.7)\" xlink:href=\"#DejaVuSans-48\"/></g></g><g clip-path=\"url(#p3f45b802de)\"><defs><path id=\"DejaVuSans-49\" d=\"m12.406 8.2969h16.109v55.625l-17.531-3.5156v8.9844l17.438 3.5156h9.8594v-64.609h16.109v-8.2969h-41.984z\"/></defs><g transform=\"translate(36.253 93.463) scale(.1625 -.1625)\"><use xlink:href=\"#DejaVuSans-Oblique-113\"/><use transform=\"translate(63.477 -16.406) scale(.7)\" xlink:href=\"#DejaVuSans-49\"/></g></g><g clip-path=\"url(#p3f45b802de)\"><defs><path id=\"DejaVuSans-50\" d=\"m19.188 8.2969h34.422v-8.2969h-46.281v8.2969q5.6094 5.8125 15.297 15.594 9.7031 9.7969 12.188 12.641 4.7344 5.3125 6.6094 9 1.8906 3.6875 1.8906 7.25 0 5.8125-4.0781 9.4688-4.0781 3.6719-10.625 3.6719-4.6406 0-9.7969-1.6094-5.1406-1.6094-11-4.8906v9.9688q5.9531 2.3906 11.125 3.6094 5.1875 1.2188 9.4844 1.2188 11.328 0 18.062-5.6719 6.7344-5.6562 6.7344-15.125 0-4.5-1.6875-8.5312-1.6719-4.0156-6.125-9.4844-1.2188-1.4219-7.7656-8.1875-6.5312-6.7656-18.453-18.922z\"/></defs><g transform=\"translate(67.926 127.75) scale(.104 -.104)\"><use xlink:href=\"#DejaVuSans-50\"/></g></g><g clip-path=\"url(#p3f45b802de)\"><defs><path id=\"DejaVuSans-98\" d=\"m48.688 27.297q0 9.9062-4.0781 15.547t-11.203 5.6406q-7.1406 0-11.219-5.6406t-4.0781-15.547 4.0781-15.547 11.219-5.6406q7.125 0 11.203 5.6406t4.0781 15.547zm-30.578 19.094q2.8438 4.875 7.1562 7.2344 4.3281 2.375 10.328 2.375 9.9688 0 16.188-7.9062 6.2344-7.9062 6.2344-20.797t-6.2344-20.812q-6.2188-7.9062-16.188-7.9062-6 0-10.328 2.375-4.3125 2.375-7.1562 7.25v-8.2031h-9.0312v75.984h9.0312z\"/></defs><g transform=\"translate(43.975 138.95) scale(.1625 -.1625)\"><use xlink:href=\"#DejaVuSans-98\"/></g></g><defs><clipPath id=\"p3f45b802de\"><rect x=\"7.2\" y=\"7.2\" width=\"65.271\" height=\"154.53\"/></clipPath></defs></svg>"
            ],
            "text/plain": [
              "<Figure size 86.452x204.68 with 1 Axes>"
            ]
          },
          "execution_count": 40,
          "metadata": {},
          "output_type": "execute_result"
        }
      ],
      "source": [
        "puzzle.get_circuit().draw(output='mpl')"
      ]
    },
    {
      "cell_type": "markdown",
      "metadata": {
        "id": "v2BRXN6U9Ow9"
      },
      "source": [
        "### Puzzle 2b\n",
        "\n",
        "#### Introduction\n",
        "\n",
        "An interesting thing about quantum gates is that there is often multiple ways to explain what they are doing. These explanations can sometimes seem completely incompatible, but they are also equally true.\n",
        "\n",
        "For example, the `cz` can also be described as a gate which applies a `z` to the *control* qubit, depending on the potential Z output of the *target*. Exactly the same explanation as before, but with the roles of the qubits reversed. Nevertheless, it is equally true.\n",
        "\n",
        "####  Exercise\n",
        "* Same as the last exercise, but with the qubits reversed. The `cz`, however, is the same way round as before."
      ]
    },
    {
      "cell_type": "code",
      "execution_count": null,
      "metadata": {
        "id": "Z7n6L_hU9Ow9"
      },
      "outputs": [],
      "source": [
        "initialize = [['h', '1'],['x', '0']]\n",
        "success_condition = {'IX': -1.0}\n",
        "allowed_gates = {'0': {'cz': 0}, '1': {}, 'both': {}}\n",
        "vi = [[], True, True]\n",
        "qubit_names = {'0':'q[0]', '1':'q[1]'}\n",
        "puzzle = hello_quantum.run_game(initialize, success_condition, allowed_gates, vi, qubit_names)"
      ]
    },
    {
      "cell_type": "code",
      "execution_count": null,
      "metadata": {
        "id": "4w1vkTwV9Ow9",
        "outputId": "7ce232db-6676-432a-eb78-2f495691bf1d"
      },
      "outputs": [
        {
          "data": {
            "image/svg+xml": [
              "<?xml version=\"1.0\" encoding=\"UTF-8\"?><!DOCTYPE svg  PUBLIC '-//W3C//DTD SVG 1.1//EN'  'http://www.w3.org/Graphics/SVG/1.1/DTD/svg11.dtd'><svg width=\"79.671pt\" height=\"168.93pt\" version=\"1.1\" viewBox=\"0 0 79.671 168.93\" xmlns=\"http://www.w3.org/2000/svg\" xmlns:xlink=\"http://www.w3.org/1999/xlink\"><defs><style type=\"text/css\">*{stroke-linecap:butt;stroke-linejoin:round;}</style></defs><path d=\"m0 168.93h79.671v-168.93h-79.671z\" fill=\"#ffffff\"/><path d=\"m63.381 43.561h4.5451\" clip-path=\"url(#p2bc7d8eb1b)\" fill=\"none\" stroke=\"#000000\" stroke-linecap=\"square\" stroke-width=\"2\"/><path d=\"m63.381 89.012h4.5451\" clip-path=\"url(#p2bc7d8eb1b)\" fill=\"none\" stroke=\"#000000\" stroke-linecap=\"square\" stroke-width=\"2\"/><path d=\"m63.381 132.99h4.5451\" clip-path=\"url(#p2bc7d8eb1b)\" fill=\"none\" stroke=\"#778899\" stroke-linecap=\"square\" stroke-width=\"2\"/><path d=\"m63.381 135.94h4.5451\" clip-path=\"url(#p2bc7d8eb1b)\" fill=\"none\" stroke=\"#778899\" stroke-linecap=\"square\" stroke-width=\"2\"/><path d=\"m72.471 139.01 4.5451-9.0902\" clip-path=\"url(#p2bc7d8eb1b)\" fill=\"none\" stroke=\"#778899\" stroke-linecap=\"square\" stroke-width=\"1.5\"/><g clip-path=\"url(#p2bc7d8eb1b)\"><defs><path id=\"DejaVuSans-Oblique-113\" d=\"m41.703 8.2031q-3.6094-4.7344-8.5312-7.1875-4.9062-2.4375-10.859-2.4375-8.2969 0-13.016 5.5938-4.7031 5.5938-4.7031 15.406 0 7.9062 2.9062 15.281t8.3281 13.234q3.5156 3.8125 8.0781 5.8594t9.5938 2.0469q6.0469 0 9.9531-2.3906t5.6719-7.2188l1.5625 8.2031h9.0312l-14.594-75.203h-9.0469zm-27.781 12.703q0-7.2344 3.0156-11.016 3.0312-3.7812 8.75-3.7812 8.5 0 14.5 8.125t6 19.75q0 7.0312-3.1094 10.766-3.0938 3.7344-8.8906 3.7344-4.25 0-7.875-1.9844-3.6094-1.9688-6.2969-5.7812-2.8281-4-4.4688-9.375-1.625-5.3594-1.625-10.438z\"/><path id=\"DejaVuSans-48\" d=\"m31.781 66.406q-7.6094 0-11.453-7.5-3.8281-7.4844-3.8281-22.531 0-14.984 3.8281-22.484 3.8438-7.5 11.453-7.5 7.6719 0 11.5 7.5 3.8438 7.5 3.8438 22.484 0 15.047-3.8438 22.531-3.8281 7.5-11.5 7.5zm0 7.8125q12.266 0 18.734-9.7031 6.4688-9.6875 6.4688-28.141 0-18.406-6.4688-28.109-6.4688-9.6875-18.734-9.6875-12.25 0-18.719 9.6875-6.4688 9.7031-6.4688 28.109 0 18.453 6.4688 28.141 6.4688 9.7031 18.719 9.7031z\"/></defs><g transform=\"translate(36.253 48.012) scale(.1625 -.1625)\"><use xlink:href=\"#DejaVuSans-Oblique-113\"/><use transform=\"translate(63.477 -16.406) scale(.7)\" xlink:href=\"#DejaVuSans-48\"/></g></g><g clip-path=\"url(#p2bc7d8eb1b)\"><defs><path id=\"DejaVuSans-49\" d=\"m12.406 8.2969h16.109v55.625l-17.531-3.5156v8.9844l17.438 3.5156h9.8594v-64.609h16.109v-8.2969h-41.984z\"/></defs><g transform=\"translate(36.253 93.463) scale(.1625 -.1625)\"><use xlink:href=\"#DejaVuSans-Oblique-113\"/><use transform=\"translate(63.477 -16.406) scale(.7)\" xlink:href=\"#DejaVuSans-49\"/></g></g><g clip-path=\"url(#p2bc7d8eb1b)\"><defs><path id=\"DejaVuSans-50\" d=\"m19.188 8.2969h34.422v-8.2969h-46.281v8.2969q5.6094 5.8125 15.297 15.594 9.7031 9.7969 12.188 12.641 4.7344 5.3125 6.6094 9 1.8906 3.6875 1.8906 7.25 0 5.8125-4.0781 9.4688-4.0781 3.6719-10.625 3.6719-4.6406 0-9.7969-1.6094-5.1406-1.6094-11-4.8906v9.9688q5.9531 2.3906 11.125 3.6094 5.1875 1.2188 9.4844 1.2188 11.328 0 18.062-5.6719 6.7344-5.6562 6.7344-15.125 0-4.5-1.6875-8.5312-1.6719-4.0156-6.125-9.4844-1.2188-1.4219-7.7656-8.1875-6.5312-6.7656-18.453-18.922z\"/></defs><g transform=\"translate(67.926 127.75) scale(.104 -.104)\"><use xlink:href=\"#DejaVuSans-50\"/></g></g><g clip-path=\"url(#p2bc7d8eb1b)\"><defs><path id=\"DejaVuSans-98\" d=\"m48.688 27.297q0 9.9062-4.0781 15.547t-11.203 5.6406q-7.1406 0-11.219-5.6406t-4.0781-15.547 4.0781-15.547 11.219-5.6406q7.125 0 11.203 5.6406t4.0781 15.547zm-30.578 19.094q2.8438 4.875 7.1562 7.2344 4.3281 2.375 10.328 2.375 9.9688 0 16.188-7.9062 6.2344-7.9062 6.2344-20.797t-6.2344-20.812q-6.2188-7.9062-16.188-7.9062-6 0-10.328 2.375-4.3125 2.375-7.1562 7.25v-8.2031h-9.0312v75.984h9.0312z\"/></defs><g transform=\"translate(43.975 138.95) scale(.1625 -.1625)\"><use xlink:href=\"#DejaVuSans-98\"/></g></g><defs><clipPath id=\"p2bc7d8eb1b\"><rect x=\"7.2\" y=\"7.2\" width=\"65.271\" height=\"154.53\"/></clipPath></defs></svg>"
            ],
            "text/plain": [
              "<Figure size 86.452x204.68 with 1 Axes>"
            ]
          },
          "execution_count": 42,
          "metadata": {},
          "output_type": "execute_result"
        }
      ],
      "source": [
        "puzzle.get_circuit().draw(output='mpl')"
      ]
    },
    {
      "cell_type": "markdown",
      "metadata": {
        "id": "Z_ACGbEL9Ow9"
      },
      "source": [
        "### Puzzle 3\n",
        "\n",
        "#### Introduction\n",
        "\n",
        "Now for another completely different, but equally true, explanation of the `cz`. Like the `h` gate, we can think of it in terms of circles being swapped. The `cz` has the effect of:\n",
        "   - Swapping the X output of `q[0]` with the neighbouring circle to the top-right;\n",
        "   - Doing the same with the X output of `q[1]` (for the neighbour to the top-left).\n",
        "The `cz` also does something weird with the circle at the top of the grid, but that is a mystery to be solved later!\n",
        "\n",
        "Again, the [Hello Quantum](https://helloquantum.mybluemix.net/) app will give you some nice animations.\n",
        "\n",
        "####  Exercise\n",
        "* Do the `cz` twice with each qubit as control, and see what happens."
      ]
    },
    {
      "cell_type": "code",
      "execution_count": null,
      "metadata": {
        "id": "mEL_86xr9Ow-"
      },
      "outputs": [],
      "source": [
        "initialize = [['h', '0'],['x', '1'],['h', '1']]\n",
        "success_condition = { }\n",
        "allowed_gates = {'0':{'cz': 2}, '1':{'cz': 2}, 'both': {}}\n",
        "vi = [[], True, True]\n",
        "qubit_names = {'0':'q[0]', '1':'q[1]'}\n",
        "puzzle = hello_quantum.run_game(initialize, success_condition, allowed_gates, vi, qubit_names)"
      ]
    },
    {
      "cell_type": "code",
      "execution_count": null,
      "metadata": {
        "id": "IMLJxgl49Ow_",
        "outputId": "5e129329-2365-4265-f000-58e0341ce7d6"
      },
      "outputs": [
        {
          "data": {
            "image/svg+xml": [
              "<?xml version=\"1.0\" encoding=\"UTF-8\"?><!DOCTYPE svg  PUBLIC '-//W3C//DTD SVG 1.1//EN'  'http://www.w3.org/Graphics/SVG/1.1/DTD/svg11.dtd'><svg width=\"79.671pt\" height=\"168.93pt\" version=\"1.1\" viewBox=\"0 0 79.671 168.93\" xmlns=\"http://www.w3.org/2000/svg\" xmlns:xlink=\"http://www.w3.org/1999/xlink\"><defs><style type=\"text/css\">*{stroke-linecap:butt;stroke-linejoin:round;}</style></defs><path d=\"m0 168.93h79.671v-168.93h-79.671z\" fill=\"#ffffff\"/><path d=\"m63.381 43.561h4.5451\" clip-path=\"url(#pe6378adcfc)\" fill=\"none\" stroke=\"#000000\" stroke-linecap=\"square\" stroke-width=\"2\"/><path d=\"m63.381 89.012h4.5451\" clip-path=\"url(#pe6378adcfc)\" fill=\"none\" stroke=\"#000000\" stroke-linecap=\"square\" stroke-width=\"2\"/><path d=\"m63.381 132.99h4.5451\" clip-path=\"url(#pe6378adcfc)\" fill=\"none\" stroke=\"#778899\" stroke-linecap=\"square\" stroke-width=\"2\"/><path d=\"m63.381 135.94h4.5451\" clip-path=\"url(#pe6378adcfc)\" fill=\"none\" stroke=\"#778899\" stroke-linecap=\"square\" stroke-width=\"2\"/><path d=\"m72.471 139.01 4.5451-9.0902\" clip-path=\"url(#pe6378adcfc)\" fill=\"none\" stroke=\"#778899\" stroke-linecap=\"square\" stroke-width=\"1.5\"/><g clip-path=\"url(#pe6378adcfc)\"><defs><path id=\"DejaVuSans-Oblique-113\" d=\"m41.703 8.2031q-3.6094-4.7344-8.5312-7.1875-4.9062-2.4375-10.859-2.4375-8.2969 0-13.016 5.5938-4.7031 5.5938-4.7031 15.406 0 7.9062 2.9062 15.281t8.3281 13.234q3.5156 3.8125 8.0781 5.8594t9.5938 2.0469q6.0469 0 9.9531-2.3906t5.6719-7.2188l1.5625 8.2031h9.0312l-14.594-75.203h-9.0469zm-27.781 12.703q0-7.2344 3.0156-11.016 3.0312-3.7812 8.75-3.7812 8.5 0 14.5 8.125t6 19.75q0 7.0312-3.1094 10.766-3.0938 3.7344-8.8906 3.7344-4.25 0-7.875-1.9844-3.6094-1.9688-6.2969-5.7812-2.8281-4-4.4688-9.375-1.625-5.3594-1.625-10.438z\"/><path id=\"DejaVuSans-48\" d=\"m31.781 66.406q-7.6094 0-11.453-7.5-3.8281-7.4844-3.8281-22.531 0-14.984 3.8281-22.484 3.8438-7.5 11.453-7.5 7.6719 0 11.5 7.5 3.8438 7.5 3.8438 22.484 0 15.047-3.8438 22.531-3.8281 7.5-11.5 7.5zm0 7.8125q12.266 0 18.734-9.7031 6.4688-9.6875 6.4688-28.141 0-18.406-6.4688-28.109-6.4688-9.6875-18.734-9.6875-12.25 0-18.719 9.6875-6.4688 9.7031-6.4688 28.109 0 18.453 6.4688 28.141 6.4688 9.7031 18.719 9.7031z\"/></defs><g transform=\"translate(36.253 48.012) scale(.1625 -.1625)\"><use xlink:href=\"#DejaVuSans-Oblique-113\"/><use transform=\"translate(63.477 -16.406) scale(.7)\" xlink:href=\"#DejaVuSans-48\"/></g></g><g clip-path=\"url(#pe6378adcfc)\"><defs><path id=\"DejaVuSans-49\" d=\"m12.406 8.2969h16.109v55.625l-17.531-3.5156v8.9844l17.438 3.5156h9.8594v-64.609h16.109v-8.2969h-41.984z\"/></defs><g transform=\"translate(36.253 93.463) scale(.1625 -.1625)\"><use xlink:href=\"#DejaVuSans-Oblique-113\"/><use transform=\"translate(63.477 -16.406) scale(.7)\" xlink:href=\"#DejaVuSans-49\"/></g></g><g clip-path=\"url(#pe6378adcfc)\"><defs><path id=\"DejaVuSans-50\" d=\"m19.188 8.2969h34.422v-8.2969h-46.281v8.2969q5.6094 5.8125 15.297 15.594 9.7031 9.7969 12.188 12.641 4.7344 5.3125 6.6094 9 1.8906 3.6875 1.8906 7.25 0 5.8125-4.0781 9.4688-4.0781 3.6719-10.625 3.6719-4.6406 0-9.7969-1.6094-5.1406-1.6094-11-4.8906v9.9688q5.9531 2.3906 11.125 3.6094 5.1875 1.2188 9.4844 1.2188 11.328 0 18.062-5.6719 6.7344-5.6562 6.7344-15.125 0-4.5-1.6875-8.5312-1.6719-4.0156-6.125-9.4844-1.2188-1.4219-7.7656-8.1875-6.5312-6.7656-18.453-18.922z\"/></defs><g transform=\"translate(67.926 127.75) scale(.104 -.104)\"><use xlink:href=\"#DejaVuSans-50\"/></g></g><g clip-path=\"url(#pe6378adcfc)\"><defs><path id=\"DejaVuSans-98\" d=\"m48.688 27.297q0 9.9062-4.0781 15.547t-11.203 5.6406q-7.1406 0-11.219-5.6406t-4.0781-15.547 4.0781-15.547 11.219-5.6406q7.125 0 11.203 5.6406t4.0781 15.547zm-30.578 19.094q2.8438 4.875 7.1562 7.2344 4.3281 2.375 10.328 2.375 9.9688 0 16.188-7.9062 6.2344-7.9062 6.2344-20.797t-6.2344-20.812q-6.2188-7.9062-16.188-7.9062-6 0-10.328 2.375-4.3125 2.375-7.1562 7.25v-8.2031h-9.0312v75.984h9.0312z\"/></defs><g transform=\"translate(43.975 138.95) scale(.1625 -.1625)\"><use xlink:href=\"#DejaVuSans-98\"/></g></g><defs><clipPath id=\"pe6378adcfc\"><rect x=\"7.2\" y=\"7.2\" width=\"65.271\" height=\"154.53\"/></clipPath></defs></svg>"
            ],
            "text/plain": [
              "<Figure size 86.452x204.68 with 1 Axes>"
            ]
          },
          "execution_count": 44,
          "metadata": {},
          "output_type": "execute_result"
        }
      ],
      "source": [
        "puzzle.get_circuit().draw(output='mpl')"
      ]
    },
    {
      "cell_type": "markdown",
      "metadata": {
        "id": "80ArTB5v9OxA"
      },
      "source": [
        "####  Outro\n",
        "\n",
        "We've now learned something very useful about the `cz`: it doesn't matter which qubit you choose as control, the `cz` does the same thing in either case. Because of this, choosing the control qubit for the `cz` is not required from now on."
      ]
    },
    {
      "cell_type": "markdown",
      "metadata": {
        "id": "GCipWkMP9OxA"
      },
      "source": [
        "### Puzzle 3b\n",
        "\n",
        "#### Introduction\n",
        "\n",
        "As mentioned earlier, the X and Z outputs correspond to two ways of getting an output from a qubit: the X and Z measurements. As these names hint, there is also a third way, known as the Y measurement.\n",
        "\n",
        "In these puzzles we mostly ignore the Y measurement, just to make things a little simpler. However, for a complete description of a qubit we do need to keep track of that the Y output might look like. This just means adding in another couple of rows of circles, for the Y outputs of each qubit.\n",
        "\n",
        "The next exercise is exactly the same as the last, except that the Y output rows are shown. With these the weird effect seen in the last puzzle becomes not so weird at all. See for yourself!\n",
        "\n",
        "####  Exercise\n",
        "* Do the `cz` twice and see what happens."
      ]
    },
    {
      "cell_type": "code",
      "execution_count": null,
      "metadata": {
        "id": "1C8TYIzS9OxA"
      },
      "outputs": [],
      "source": [
        "initialize = [['h', '0'],['x', '1'],['h', '1']]\n",
        "success_condition = { }\n",
        "allowed_gates = {'0': {}, '1': {}, 'both': {'cz': 2}}\n",
        "vi = [[], True, True]\n",
        "qubit_names = {'0':'q[0]', '1':'q[1]'}\n",
        "puzzle = hello_quantum.run_game(initialize, success_condition, allowed_gates, vi, qubit_names, mode='y')"
      ]
    },
    {
      "cell_type": "code",
      "execution_count": null,
      "metadata": {
        "id": "iC7rfkTd9OxB",
        "outputId": "43e041b4-de01-4672-adde-cd9dbebed942"
      },
      "outputs": [
        {
          "data": {
            "image/svg+xml": [
              "<?xml version=\"1.0\" encoding=\"UTF-8\"?><!DOCTYPE svg  PUBLIC '-//W3C//DTD SVG 1.1//EN'  'http://www.w3.org/Graphics/SVG/1.1/DTD/svg11.dtd'><svg width=\"79.671pt\" height=\"168.93pt\" version=\"1.1\" viewBox=\"0 0 79.671 168.93\" xmlns=\"http://www.w3.org/2000/svg\" xmlns:xlink=\"http://www.w3.org/1999/xlink\"><defs><style type=\"text/css\">*{stroke-linecap:butt;stroke-linejoin:round;}</style></defs><path d=\"m0 168.93h79.671v-168.93h-79.671z\" fill=\"#ffffff\"/><path d=\"m63.381 43.561h4.5451\" clip-path=\"url(#pff2981202e)\" fill=\"none\" stroke=\"#000000\" stroke-linecap=\"square\" stroke-width=\"2\"/><path d=\"m63.381 89.012h4.5451\" clip-path=\"url(#pff2981202e)\" fill=\"none\" stroke=\"#000000\" stroke-linecap=\"square\" stroke-width=\"2\"/><path d=\"m63.381 132.99h4.5451\" clip-path=\"url(#pff2981202e)\" fill=\"none\" stroke=\"#778899\" stroke-linecap=\"square\" stroke-width=\"2\"/><path d=\"m63.381 135.94h4.5451\" clip-path=\"url(#pff2981202e)\" fill=\"none\" stroke=\"#778899\" stroke-linecap=\"square\" stroke-width=\"2\"/><path d=\"m72.471 139.01 4.5451-9.0902\" clip-path=\"url(#pff2981202e)\" fill=\"none\" stroke=\"#778899\" stroke-linecap=\"square\" stroke-width=\"1.5\"/><g clip-path=\"url(#pff2981202e)\"><defs><path id=\"DejaVuSans-Oblique-113\" d=\"m41.703 8.2031q-3.6094-4.7344-8.5312-7.1875-4.9062-2.4375-10.859-2.4375-8.2969 0-13.016 5.5938-4.7031 5.5938-4.7031 15.406 0 7.9062 2.9062 15.281t8.3281 13.234q3.5156 3.8125 8.0781 5.8594t9.5938 2.0469q6.0469 0 9.9531-2.3906t5.6719-7.2188l1.5625 8.2031h9.0312l-14.594-75.203h-9.0469zm-27.781 12.703q0-7.2344 3.0156-11.016 3.0312-3.7812 8.75-3.7812 8.5 0 14.5 8.125t6 19.75q0 7.0312-3.1094 10.766-3.0938 3.7344-8.8906 3.7344-4.25 0-7.875-1.9844-3.6094-1.9688-6.2969-5.7812-2.8281-4-4.4688-9.375-1.625-5.3594-1.625-10.438z\"/><path id=\"DejaVuSans-48\" d=\"m31.781 66.406q-7.6094 0-11.453-7.5-3.8281-7.4844-3.8281-22.531 0-14.984 3.8281-22.484 3.8438-7.5 11.453-7.5 7.6719 0 11.5 7.5 3.8438 7.5 3.8438 22.484 0 15.047-3.8438 22.531-3.8281 7.5-11.5 7.5zm0 7.8125q12.266 0 18.734-9.7031 6.4688-9.6875 6.4688-28.141 0-18.406-6.4688-28.109-6.4688-9.6875-18.734-9.6875-12.25 0-18.719 9.6875-6.4688 9.7031-6.4688 28.109 0 18.453 6.4688 28.141 6.4688 9.7031 18.719 9.7031z\"/></defs><g transform=\"translate(36.253 48.012) scale(.1625 -.1625)\"><use xlink:href=\"#DejaVuSans-Oblique-113\"/><use transform=\"translate(63.477 -16.406) scale(.7)\" xlink:href=\"#DejaVuSans-48\"/></g></g><g clip-path=\"url(#pff2981202e)\"><defs><path id=\"DejaVuSans-49\" d=\"m12.406 8.2969h16.109v55.625l-17.531-3.5156v8.9844l17.438 3.5156h9.8594v-64.609h16.109v-8.2969h-41.984z\"/></defs><g transform=\"translate(36.253 93.463) scale(.1625 -.1625)\"><use xlink:href=\"#DejaVuSans-Oblique-113\"/><use transform=\"translate(63.477 -16.406) scale(.7)\" xlink:href=\"#DejaVuSans-49\"/></g></g><g clip-path=\"url(#pff2981202e)\"><defs><path id=\"DejaVuSans-50\" d=\"m19.188 8.2969h34.422v-8.2969h-46.281v8.2969q5.6094 5.8125 15.297 15.594 9.7031 9.7969 12.188 12.641 4.7344 5.3125 6.6094 9 1.8906 3.6875 1.8906 7.25 0 5.8125-4.0781 9.4688-4.0781 3.6719-10.625 3.6719-4.6406 0-9.7969-1.6094-5.1406-1.6094-11-4.8906v9.9688q5.9531 2.3906 11.125 3.6094 5.1875 1.2188 9.4844 1.2188 11.328 0 18.062-5.6719 6.7344-5.6562 6.7344-15.125 0-4.5-1.6875-8.5312-1.6719-4.0156-6.125-9.4844-1.2188-1.4219-7.7656-8.1875-6.5312-6.7656-18.453-18.922z\"/></defs><g transform=\"translate(67.926 127.75) scale(.104 -.104)\"><use xlink:href=\"#DejaVuSans-50\"/></g></g><g clip-path=\"url(#pff2981202e)\"><defs><path id=\"DejaVuSans-98\" d=\"m48.688 27.297q0 9.9062-4.0781 15.547t-11.203 5.6406q-7.1406 0-11.219-5.6406t-4.0781-15.547 4.0781-15.547 11.219-5.6406q7.125 0 11.203 5.6406t4.0781 15.547zm-30.578 19.094q2.8438 4.875 7.1562 7.2344 4.3281 2.375 10.328 2.375 9.9688 0 16.188-7.9062 6.2344-7.9062 6.2344-20.797t-6.2344-20.812q-6.2188-7.9062-16.188-7.9062-6 0-10.328 2.375-4.3125 2.375-7.1562 7.25v-8.2031h-9.0312v75.984h9.0312z\"/></defs><g transform=\"translate(43.975 138.95) scale(.1625 -.1625)\"><use xlink:href=\"#DejaVuSans-98\"/></g></g><defs><clipPath id=\"pff2981202e\"><rect x=\"7.2\" y=\"7.2\" width=\"65.271\" height=\"154.53\"/></clipPath></defs></svg>"
            ],
            "text/plain": [
              "<Figure size 86.452x204.68 with 1 Axes>"
            ]
          },
          "execution_count": 46,
          "metadata": {},
          "output_type": "execute_result"
        }
      ],
      "source": [
        "puzzle.get_circuit().draw(output='mpl')"
      ]
    },
    {
      "cell_type": "markdown",
      "metadata": {
        "id": "zXki2Ti39OxB"
      },
      "source": [
        "#### Outro\n",
        "\n",
        "Here we see the third swapping of circles done by the `cz`. The circle at the top (representing correlations for X outputs of both qubits) is swapped with the one in the middle (representing correlations for Y outputs of both qubits).\n",
        "\n",
        "This seemed strange when the middle rows were missing, just because our description of the qubits wasn't complete. Nevertheless, we'll keep on using the simpler grid without the Y outputs. If you want to add them in yourself, just use the `mode='y'` argument in `hello_quantum.run_game()`."
      ]
    },
    {
      "cell_type": "markdown",
      "metadata": {
        "id": "e6_8dmAN9OxC"
      },
      "source": [
        "### Puzzle 4\n",
        "\n",
        "#### Introduction\n",
        "\n",
        "In a previous exercise, you've built an `x` from a `z` and some `h`s. In the same way, it's possible to build a `cx` from a `cz` and some `h`s.\n",
        "\n",
        "####  Exercise\n",
        "\n",
        "* Turn on the Z output of q[1]."
      ]
    },
    {
      "cell_type": "code",
      "execution_count": null,
      "metadata": {
        "id": "H5VN_q5U9OxC"
      },
      "outputs": [],
      "source": [
        "initialize = [['x', '0']]\n",
        "success_condition = {'IZ': -1.0}\n",
        "allowed_gates = {'0': {'h':0}, '1': {'h':0}, 'both': {'cz': 0}}\n",
        "vi = [[], True, True]\n",
        "qubit_names = {'0':'q[0]', '1':'q[1]'}\n",
        "puzzle = hello_quantum.run_game(initialize, success_condition, allowed_gates, vi, qubit_names)"
      ]
    },
    {
      "cell_type": "code",
      "execution_count": null,
      "metadata": {
        "id": "CjqRBzbB9OxC",
        "outputId": "52376d3f-acd4-4ad7-d4b7-abf547613807"
      },
      "outputs": [
        {
          "data": {
            "image/svg+xml": [
              "<?xml version=\"1.0\" encoding=\"UTF-8\"?><!DOCTYPE svg  PUBLIC '-//W3C//DTD SVG 1.1//EN'  'http://www.w3.org/Graphics/SVG/1.1/DTD/svg11.dtd'><svg width=\"79.671pt\" height=\"168.93pt\" version=\"1.1\" viewBox=\"0 0 79.671 168.93\" xmlns=\"http://www.w3.org/2000/svg\" xmlns:xlink=\"http://www.w3.org/1999/xlink\"><defs><style type=\"text/css\">*{stroke-linecap:butt;stroke-linejoin:round;}</style></defs><path d=\"m0 168.93h79.671v-168.93h-79.671z\" fill=\"#ffffff\"/><path d=\"m63.381 43.561h4.5451\" clip-path=\"url(#p902ff014bb)\" fill=\"none\" stroke=\"#000000\" stroke-linecap=\"square\" stroke-width=\"2\"/><path d=\"m63.381 89.012h4.5451\" clip-path=\"url(#p902ff014bb)\" fill=\"none\" stroke=\"#000000\" stroke-linecap=\"square\" stroke-width=\"2\"/><path d=\"m63.381 132.99h4.5451\" clip-path=\"url(#p902ff014bb)\" fill=\"none\" stroke=\"#778899\" stroke-linecap=\"square\" stroke-width=\"2\"/><path d=\"m63.381 135.94h4.5451\" clip-path=\"url(#p902ff014bb)\" fill=\"none\" stroke=\"#778899\" stroke-linecap=\"square\" stroke-width=\"2\"/><path d=\"m72.471 139.01 4.5451-9.0902\" clip-path=\"url(#p902ff014bb)\" fill=\"none\" stroke=\"#778899\" stroke-linecap=\"square\" stroke-width=\"1.5\"/><g clip-path=\"url(#p902ff014bb)\"><defs><path id=\"DejaVuSans-Oblique-113\" d=\"m41.703 8.2031q-3.6094-4.7344-8.5312-7.1875-4.9062-2.4375-10.859-2.4375-8.2969 0-13.016 5.5938-4.7031 5.5938-4.7031 15.406 0 7.9062 2.9062 15.281t8.3281 13.234q3.5156 3.8125 8.0781 5.8594t9.5938 2.0469q6.0469 0 9.9531-2.3906t5.6719-7.2188l1.5625 8.2031h9.0312l-14.594-75.203h-9.0469zm-27.781 12.703q0-7.2344 3.0156-11.016 3.0312-3.7812 8.75-3.7812 8.5 0 14.5 8.125t6 19.75q0 7.0312-3.1094 10.766-3.0938 3.7344-8.8906 3.7344-4.25 0-7.875-1.9844-3.6094-1.9688-6.2969-5.7812-2.8281-4-4.4688-9.375-1.625-5.3594-1.625-10.438z\"/><path id=\"DejaVuSans-48\" d=\"m31.781 66.406q-7.6094 0-11.453-7.5-3.8281-7.4844-3.8281-22.531 0-14.984 3.8281-22.484 3.8438-7.5 11.453-7.5 7.6719 0 11.5 7.5 3.8438 7.5 3.8438 22.484 0 15.047-3.8438 22.531-3.8281 7.5-11.5 7.5zm0 7.8125q12.266 0 18.734-9.7031 6.4688-9.6875 6.4688-28.141 0-18.406-6.4688-28.109-6.4688-9.6875-18.734-9.6875-12.25 0-18.719 9.6875-6.4688 9.7031-6.4688 28.109 0 18.453 6.4688 28.141 6.4688 9.7031 18.719 9.7031z\"/></defs><g transform=\"translate(36.253 48.012) scale(.1625 -.1625)\"><use xlink:href=\"#DejaVuSans-Oblique-113\"/><use transform=\"translate(63.477 -16.406) scale(.7)\" xlink:href=\"#DejaVuSans-48\"/></g></g><g clip-path=\"url(#p902ff014bb)\"><defs><path id=\"DejaVuSans-49\" d=\"m12.406 8.2969h16.109v55.625l-17.531-3.5156v8.9844l17.438 3.5156h9.8594v-64.609h16.109v-8.2969h-41.984z\"/></defs><g transform=\"translate(36.253 93.463) scale(.1625 -.1625)\"><use xlink:href=\"#DejaVuSans-Oblique-113\"/><use transform=\"translate(63.477 -16.406) scale(.7)\" xlink:href=\"#DejaVuSans-49\"/></g></g><g clip-path=\"url(#p902ff014bb)\"><defs><path id=\"DejaVuSans-50\" d=\"m19.188 8.2969h34.422v-8.2969h-46.281v8.2969q5.6094 5.8125 15.297 15.594 9.7031 9.7969 12.188 12.641 4.7344 5.3125 6.6094 9 1.8906 3.6875 1.8906 7.25 0 5.8125-4.0781 9.4688-4.0781 3.6719-10.625 3.6719-4.6406 0-9.7969-1.6094-5.1406-1.6094-11-4.8906v9.9688q5.9531 2.3906 11.125 3.6094 5.1875 1.2188 9.4844 1.2188 11.328 0 18.062-5.6719 6.7344-5.6562 6.7344-15.125 0-4.5-1.6875-8.5312-1.6719-4.0156-6.125-9.4844-1.2188-1.4219-7.7656-8.1875-6.5312-6.7656-18.453-18.922z\"/></defs><g transform=\"translate(67.926 127.75) scale(.104 -.104)\"><use xlink:href=\"#DejaVuSans-50\"/></g></g><g clip-path=\"url(#p902ff014bb)\"><defs><path id=\"DejaVuSans-98\" d=\"m48.688 27.297q0 9.9062-4.0781 15.547t-11.203 5.6406q-7.1406 0-11.219-5.6406t-4.0781-15.547 4.0781-15.547 11.219-5.6406q7.125 0 11.203 5.6406t4.0781 15.547zm-30.578 19.094q2.8438 4.875 7.1562 7.2344 4.3281 2.375 10.328 2.375 9.9688 0 16.188-7.9062 6.2344-7.9062 6.2344-20.797t-6.2344-20.812q-6.2188-7.9062-16.188-7.9062-6 0-10.328 2.375-4.3125 2.375-7.1562 7.25v-8.2031h-9.0312v75.984h9.0312z\"/></defs><g transform=\"translate(43.975 138.95) scale(.1625 -.1625)\"><use xlink:href=\"#DejaVuSans-98\"/></g></g><defs><clipPath id=\"p902ff014bb\"><rect x=\"7.2\" y=\"7.2\" width=\"65.271\" height=\"154.53\"/></clipPath></defs></svg>"
            ],
            "text/plain": [
              "<Figure size 86.452x204.68 with 1 Axes>"
            ]
          },
          "execution_count": 48,
          "metadata": {},
          "output_type": "execute_result"
        }
      ],
      "source": [
        "puzzle.get_circuit().draw(output='mpl')"
      ]
    },
    {
      "cell_type": "markdown",
      "metadata": {
        "id": "SFcqtFeV9OxD"
      },
      "source": [
        "#### Outro\n",
        "\n",
        "Unlike the `cz`, the `cx` is not symmetric. If you instead wanted to make a `cx` whose target was `q[0]`, you would have to do the `h`s on `q[0]` instead."
      ]
    },
    {
      "cell_type": "markdown",
      "metadata": {
        "id": "rhKutCOI9OxD"
      },
      "source": [
        "### Puzzle 5\n",
        "\n",
        "#### Introduction\n",
        "\n",
        "We were able to interpret the `cz` 'backwards': an alternate explanation in which the target qubit played the role of control, and vice-versa. We'll now do the same with the `cx`. However, since this gate doesn't have a symmetric effect, this will be a little more tricky.\n",
        "\n",
        "Specifically, instead instead of thinking of it as doing an `x` on the target depending on what the Z output of the control is doing, we can think of it as doing a `z` to the control depending on what the X output of the target is doing.\n",
        "\n",
        "In this exercise, you can see how it seems as though the target doing the controlling, and the control being the target!\n",
        "\n",
        "####  Exercise\n",
        "* Turn on the X output of `q[0]`."
      ]
    },
    {
      "cell_type": "code",
      "execution_count": null,
      "metadata": {
        "id": "KJo1Sg7h9OxD"
      },
      "outputs": [],
      "source": [
        "initialize = [['h', '0'],['h', '1']]\n",
        "success_condition = {'XI': -1.0, 'IX': -1.0}\n",
        "allowed_gates = {'0': {}, '1': {'z':0,'cx': 0}, 'both': {}}\n",
        "vi = [[], True, True]\n",
        "qubit_names = {'0':'q[0]', '1':'q[1]'}\n",
        "puzzle = hello_quantum.run_game(initialize, success_condition, allowed_gates, vi, qubit_names)"
      ]
    },
    {
      "cell_type": "code",
      "execution_count": null,
      "metadata": {
        "id": "AYf9rJkP9OxE",
        "outputId": "7fe7c51a-5bdb-45a8-fbff-607afaa12bc6"
      },
      "outputs": [
        {
          "data": {
            "image/svg+xml": [
              "<?xml version=\"1.0\" encoding=\"UTF-8\"?><!DOCTYPE svg  PUBLIC '-//W3C//DTD SVG 1.1//EN'  'http://www.w3.org/Graphics/SVG/1.1/DTD/svg11.dtd'><svg width=\"79.671pt\" height=\"168.93pt\" version=\"1.1\" viewBox=\"0 0 79.671 168.93\" xmlns=\"http://www.w3.org/2000/svg\" xmlns:xlink=\"http://www.w3.org/1999/xlink\"><defs><style type=\"text/css\">*{stroke-linecap:butt;stroke-linejoin:round;}</style></defs><path d=\"m0 168.93h79.671v-168.93h-79.671z\" fill=\"#ffffff\"/><path d=\"m63.381 43.561h4.5451\" clip-path=\"url(#p6ffc3723d2)\" fill=\"none\" stroke=\"#000000\" stroke-linecap=\"square\" stroke-width=\"2\"/><path d=\"m63.381 89.012h4.5451\" clip-path=\"url(#p6ffc3723d2)\" fill=\"none\" stroke=\"#000000\" stroke-linecap=\"square\" stroke-width=\"2\"/><path d=\"m63.381 132.99h4.5451\" clip-path=\"url(#p6ffc3723d2)\" fill=\"none\" stroke=\"#778899\" stroke-linecap=\"square\" stroke-width=\"2\"/><path d=\"m63.381 135.94h4.5451\" clip-path=\"url(#p6ffc3723d2)\" fill=\"none\" stroke=\"#778899\" stroke-linecap=\"square\" stroke-width=\"2\"/><path d=\"m72.471 139.01 4.5451-9.0902\" clip-path=\"url(#p6ffc3723d2)\" fill=\"none\" stroke=\"#778899\" stroke-linecap=\"square\" stroke-width=\"1.5\"/><g clip-path=\"url(#p6ffc3723d2)\"><defs><path id=\"DejaVuSans-Oblique-113\" d=\"m41.703 8.2031q-3.6094-4.7344-8.5312-7.1875-4.9062-2.4375-10.859-2.4375-8.2969 0-13.016 5.5938-4.7031 5.5938-4.7031 15.406 0 7.9062 2.9062 15.281t8.3281 13.234q3.5156 3.8125 8.0781 5.8594t9.5938 2.0469q6.0469 0 9.9531-2.3906t5.6719-7.2188l1.5625 8.2031h9.0312l-14.594-75.203h-9.0469zm-27.781 12.703q0-7.2344 3.0156-11.016 3.0312-3.7812 8.75-3.7812 8.5 0 14.5 8.125t6 19.75q0 7.0312-3.1094 10.766-3.0938 3.7344-8.8906 3.7344-4.25 0-7.875-1.9844-3.6094-1.9688-6.2969-5.7812-2.8281-4-4.4688-9.375-1.625-5.3594-1.625-10.438z\"/><path id=\"DejaVuSans-48\" d=\"m31.781 66.406q-7.6094 0-11.453-7.5-3.8281-7.4844-3.8281-22.531 0-14.984 3.8281-22.484 3.8438-7.5 11.453-7.5 7.6719 0 11.5 7.5 3.8438 7.5 3.8438 22.484 0 15.047-3.8438 22.531-3.8281 7.5-11.5 7.5zm0 7.8125q12.266 0 18.734-9.7031 6.4688-9.6875 6.4688-28.141 0-18.406-6.4688-28.109-6.4688-9.6875-18.734-9.6875-12.25 0-18.719 9.6875-6.4688 9.7031-6.4688 28.109 0 18.453 6.4688 28.141 6.4688 9.7031 18.719 9.7031z\"/></defs><g transform=\"translate(36.253 48.012) scale(.1625 -.1625)\"><use xlink:href=\"#DejaVuSans-Oblique-113\"/><use transform=\"translate(63.477 -16.406) scale(.7)\" xlink:href=\"#DejaVuSans-48\"/></g></g><g clip-path=\"url(#p6ffc3723d2)\"><defs><path id=\"DejaVuSans-49\" d=\"m12.406 8.2969h16.109v55.625l-17.531-3.5156v8.9844l17.438 3.5156h9.8594v-64.609h16.109v-8.2969h-41.984z\"/></defs><g transform=\"translate(36.253 93.463) scale(.1625 -.1625)\"><use xlink:href=\"#DejaVuSans-Oblique-113\"/><use transform=\"translate(63.477 -16.406) scale(.7)\" xlink:href=\"#DejaVuSans-49\"/></g></g><g clip-path=\"url(#p6ffc3723d2)\"><defs><path id=\"DejaVuSans-50\" d=\"m19.188 8.2969h34.422v-8.2969h-46.281v8.2969q5.6094 5.8125 15.297 15.594 9.7031 9.7969 12.188 12.641 4.7344 5.3125 6.6094 9 1.8906 3.6875 1.8906 7.25 0 5.8125-4.0781 9.4688-4.0781 3.6719-10.625 3.6719-4.6406 0-9.7969-1.6094-5.1406-1.6094-11-4.8906v9.9688q5.9531 2.3906 11.125 3.6094 5.1875 1.2188 9.4844 1.2188 11.328 0 18.062-5.6719 6.7344-5.6562 6.7344-15.125 0-4.5-1.6875-8.5312-1.6719-4.0156-6.125-9.4844-1.2188-1.4219-7.7656-8.1875-6.5312-6.7656-18.453-18.922z\"/></defs><g transform=\"translate(67.926 127.75) scale(.104 -.104)\"><use xlink:href=\"#DejaVuSans-50\"/></g></g><g clip-path=\"url(#p6ffc3723d2)\"><defs><path id=\"DejaVuSans-98\" d=\"m48.688 27.297q0 9.9062-4.0781 15.547t-11.203 5.6406q-7.1406 0-11.219-5.6406t-4.0781-15.547 4.0781-15.547 11.219-5.6406q7.125 0 11.203 5.6406t4.0781 15.547zm-30.578 19.094q2.8438 4.875 7.1562 7.2344 4.3281 2.375 10.328 2.375 9.9688 0 16.188-7.9062 6.2344-7.9062 6.2344-20.797t-6.2344-20.812q-6.2188-7.9062-16.188-7.9062-6 0-10.328 2.375-4.3125 2.375-7.1562 7.25v-8.2031h-9.0312v75.984h9.0312z\"/></defs><g transform=\"translate(43.975 138.95) scale(.1625 -.1625)\"><use xlink:href=\"#DejaVuSans-98\"/></g></g><defs><clipPath id=\"p6ffc3723d2\"><rect x=\"7.2\" y=\"7.2\" width=\"65.271\" height=\"154.53\"/></clipPath></defs></svg>"
            ],
            "text/plain": [
              "<Figure size 86.452x204.68 with 1 Axes>"
            ]
          },
          "execution_count": 50,
          "metadata": {},
          "output_type": "execute_result"
        }
      ],
      "source": [
        "puzzle.get_circuit().draw(output='mpl')"
      ]
    },
    {
      "cell_type": "markdown",
      "metadata": {
        "id": "tP5vy-qw9OxE"
      },
      "source": [
        "#### Outro\n",
        "\n",
        "Though these two different stories about how the `cx` works may seem to be contradictory, they are equally valid descriptions. A great example of the weird and wonderful nature of quantum gates."
      ]
    },
    {
      "cell_type": "markdown",
      "metadata": {
        "id": "dgLl4Uyi9OxE"
      },
      "source": [
        "### Puzzle 6\n",
        "\n",
        "#### Introduction\n",
        "\n",
        "Now we know these two interpretations of a `cx`, we can do do something pretty useful: turning one around.\n",
        "\n",
        "In this puzzle you'll get a `cx` with `q[1]` as the target, but you'll need one with `q[0]` as target. See if you can work out how to get the same effect with the help pf some `h` gates.\n",
        "\n",
        "####  Exercise\n",
        "* Keep the Z output of `q[1]`, but turn the Z output of `q[0]` off."
      ]
    },
    {
      "cell_type": "code",
      "execution_count": null,
      "metadata": {
        "id": "bYBz_-su9OxE"
      },
      "outputs": [],
      "source": [
        "initialize = [('x','0'),('x','1')]\n",
        "success_condition = {'ZI': 1.0,'IZ': -1.0}\n",
        "allowed_gates = {'0': {'h':0}, '1': {'h':0,'cx':0}, 'both': {}}\n",
        "vi = [[], True, True]\n",
        "qubit_names = {'0':'q[0]', '1':'q[1]'}\n",
        "puzzle = hello_quantum.run_game(initialize, success_condition, allowed_gates, vi, qubit_names)"
      ]
    },
    {
      "cell_type": "code",
      "execution_count": null,
      "metadata": {
        "id": "g6cZJB9t9OxE",
        "outputId": "e19d9298-b1fa-49d9-c1fc-a0b73db178ac"
      },
      "outputs": [
        {
          "data": {
            "image/svg+xml": [
              "<?xml version=\"1.0\" encoding=\"UTF-8\"?><!DOCTYPE svg  PUBLIC '-//W3C//DTD SVG 1.1//EN'  'http://www.w3.org/Graphics/SVG/1.1/DTD/svg11.dtd'><svg width=\"79.671pt\" height=\"168.93pt\" version=\"1.1\" viewBox=\"0 0 79.671 168.93\" xmlns=\"http://www.w3.org/2000/svg\" xmlns:xlink=\"http://www.w3.org/1999/xlink\"><defs><style type=\"text/css\">*{stroke-linecap:butt;stroke-linejoin:round;}</style></defs><path d=\"m0 168.93h79.671v-168.93h-79.671z\" fill=\"#ffffff\"/><path d=\"m63.381 43.561h4.5451\" clip-path=\"url(#pb0c3960e5a)\" fill=\"none\" stroke=\"#000000\" stroke-linecap=\"square\" stroke-width=\"2\"/><path d=\"m63.381 89.012h4.5451\" clip-path=\"url(#pb0c3960e5a)\" fill=\"none\" stroke=\"#000000\" stroke-linecap=\"square\" stroke-width=\"2\"/><path d=\"m63.381 132.99h4.5451\" clip-path=\"url(#pb0c3960e5a)\" fill=\"none\" stroke=\"#778899\" stroke-linecap=\"square\" stroke-width=\"2\"/><path d=\"m63.381 135.94h4.5451\" clip-path=\"url(#pb0c3960e5a)\" fill=\"none\" stroke=\"#778899\" stroke-linecap=\"square\" stroke-width=\"2\"/><path d=\"m72.471 139.01 4.5451-9.0902\" clip-path=\"url(#pb0c3960e5a)\" fill=\"none\" stroke=\"#778899\" stroke-linecap=\"square\" stroke-width=\"1.5\"/><g clip-path=\"url(#pb0c3960e5a)\"><defs><path id=\"DejaVuSans-Oblique-113\" d=\"m41.703 8.2031q-3.6094-4.7344-8.5312-7.1875-4.9062-2.4375-10.859-2.4375-8.2969 0-13.016 5.5938-4.7031 5.5938-4.7031 15.406 0 7.9062 2.9062 15.281t8.3281 13.234q3.5156 3.8125 8.0781 5.8594t9.5938 2.0469q6.0469 0 9.9531-2.3906t5.6719-7.2188l1.5625 8.2031h9.0312l-14.594-75.203h-9.0469zm-27.781 12.703q0-7.2344 3.0156-11.016 3.0312-3.7812 8.75-3.7812 8.5 0 14.5 8.125t6 19.75q0 7.0312-3.1094 10.766-3.0938 3.7344-8.8906 3.7344-4.25 0-7.875-1.9844-3.6094-1.9688-6.2969-5.7812-2.8281-4-4.4688-9.375-1.625-5.3594-1.625-10.438z\"/><path id=\"DejaVuSans-48\" d=\"m31.781 66.406q-7.6094 0-11.453-7.5-3.8281-7.4844-3.8281-22.531 0-14.984 3.8281-22.484 3.8438-7.5 11.453-7.5 7.6719 0 11.5 7.5 3.8438 7.5 3.8438 22.484 0 15.047-3.8438 22.531-3.8281 7.5-11.5 7.5zm0 7.8125q12.266 0 18.734-9.7031 6.4688-9.6875 6.4688-28.141 0-18.406-6.4688-28.109-6.4688-9.6875-18.734-9.6875-12.25 0-18.719 9.6875-6.4688 9.7031-6.4688 28.109 0 18.453 6.4688 28.141 6.4688 9.7031 18.719 9.7031z\"/></defs><g transform=\"translate(36.253 48.012) scale(.1625 -.1625)\"><use xlink:href=\"#DejaVuSans-Oblique-113\"/><use transform=\"translate(63.477 -16.406) scale(.7)\" xlink:href=\"#DejaVuSans-48\"/></g></g><g clip-path=\"url(#pb0c3960e5a)\"><defs><path id=\"DejaVuSans-49\" d=\"m12.406 8.2969h16.109v55.625l-17.531-3.5156v8.9844l17.438 3.5156h9.8594v-64.609h16.109v-8.2969h-41.984z\"/></defs><g transform=\"translate(36.253 93.463) scale(.1625 -.1625)\"><use xlink:href=\"#DejaVuSans-Oblique-113\"/><use transform=\"translate(63.477 -16.406) scale(.7)\" xlink:href=\"#DejaVuSans-49\"/></g></g><g clip-path=\"url(#pb0c3960e5a)\"><defs><path id=\"DejaVuSans-50\" d=\"m19.188 8.2969h34.422v-8.2969h-46.281v8.2969q5.6094 5.8125 15.297 15.594 9.7031 9.7969 12.188 12.641 4.7344 5.3125 6.6094 9 1.8906 3.6875 1.8906 7.25 0 5.8125-4.0781 9.4688-4.0781 3.6719-10.625 3.6719-4.6406 0-9.7969-1.6094-5.1406-1.6094-11-4.8906v9.9688q5.9531 2.3906 11.125 3.6094 5.1875 1.2188 9.4844 1.2188 11.328 0 18.062-5.6719 6.7344-5.6562 6.7344-15.125 0-4.5-1.6875-8.5312-1.6719-4.0156-6.125-9.4844-1.2188-1.4219-7.7656-8.1875-6.5312-6.7656-18.453-18.922z\"/></defs><g transform=\"translate(67.926 127.75) scale(.104 -.104)\"><use xlink:href=\"#DejaVuSans-50\"/></g></g><g clip-path=\"url(#pb0c3960e5a)\"><defs><path id=\"DejaVuSans-98\" d=\"m48.688 27.297q0 9.9062-4.0781 15.547t-11.203 5.6406q-7.1406 0-11.219-5.6406t-4.0781-15.547 4.0781-15.547 11.219-5.6406q7.125 0 11.203 5.6406t4.0781 15.547zm-30.578 19.094q2.8438 4.875 7.1562 7.2344 4.3281 2.375 10.328 2.375 9.9688 0 16.188-7.9062 6.2344-7.9062 6.2344-20.797t-6.2344-20.812q-6.2188-7.9062-16.188-7.9062-6 0-10.328 2.375-4.3125 2.375-7.1562 7.25v-8.2031h-9.0312v75.984h9.0312z\"/></defs><g transform=\"translate(43.975 138.95) scale(.1625 -.1625)\"><use xlink:href=\"#DejaVuSans-98\"/></g></g><defs><clipPath id=\"pb0c3960e5a\"><rect x=\"7.2\" y=\"7.2\" width=\"65.271\" height=\"154.53\"/></clipPath></defs></svg>"
            ],
            "text/plain": [
              "<Figure size 86.452x204.68 with 1 Axes>"
            ]
          },
          "execution_count": 52,
          "metadata": {},
          "output_type": "execute_result"
        }
      ],
      "source": [
        "puzzle.get_circuit().draw(output='mpl')"
      ]
    },
    {
      "cell_type": "markdown",
      "metadata": {
        "id": "bBOE4ZzC9OxF"
      },
      "source": [
        "#### Outro\n",
        "\n",
        "If you remember anything from these exercises, it should probably be this. It is common for real qubit devices to limit which way around you can do the `cx`, so the ability to turn them around comes in very handy."
      ]
    },
    {
      "cell_type": "markdown",
      "metadata": {
        "id": "aCr1mmPl9OxF"
      },
      "source": [
        "### Puzzle 7\n",
        "\n",
        "#### Introduction\n",
        "\n",
        "Another useful quantum gate is the `swap`. This does exactly what the name suggests: it swaps the states of two qubits. Though Qiskit allows us to simply invoke the `swap` command, it is more interesting to make this gate ourselves out of `cz` or `cx` gates.\n",
        "\n",
        "####  Exercise\n",
        "* Swap the two qubits:\n",
        "    - Make the Z output white and the X output grey for q[0];\n",
        "    - Make the Z output dark grey and the X output light grey for q[1]."
      ]
    },
    {
      "cell_type": "code",
      "execution_count": null,
      "metadata": {
        "id": "QDc90Qnc9OxF"
      },
      "outputs": [],
      "source": [
        "initialize = [['ry(-pi/4)','0'],['ry(-pi/4)','0'],['ry(-pi/4)','0'],['x','0'],['x','1']]\n",
        "success_condition = {'ZI': -1.0,'XI':0,'IZ':0.7071,'IX':-0.7071}\n",
        "allowed_gates = {'0': {'h':0}, '1': {'h':0}, 'both': {'cz': 0}}\n",
        "vi = [[], True, True]\n",
        "qubit_names = {'0':'q[0]', '1':'q[1]'}\n",
        "puzzle = hello_quantum.run_game(initialize, success_condition, allowed_gates, vi, qubit_names)"
      ]
    },
    {
      "cell_type": "code",
      "execution_count": null,
      "metadata": {
        "id": "fI8lIBDs9OxF",
        "outputId": "4722c4ec-48f7-40c6-cb78-dab4903a09f5"
      },
      "outputs": [
        {
          "data": {
            "image/svg+xml": [
              "<?xml version=\"1.0\" encoding=\"UTF-8\"?><!DOCTYPE svg  PUBLIC '-//W3C//DTD SVG 1.1//EN'  'http://www.w3.org/Graphics/SVG/1.1/DTD/svg11.dtd'><svg width=\"79.671pt\" height=\"168.93pt\" version=\"1.1\" viewBox=\"0 0 79.671 168.93\" xmlns=\"http://www.w3.org/2000/svg\" xmlns:xlink=\"http://www.w3.org/1999/xlink\"><defs><style type=\"text/css\">*{stroke-linecap:butt;stroke-linejoin:round;}</style></defs><path d=\"m0 168.93h79.671v-168.93h-79.671z\" fill=\"#ffffff\"/><path d=\"m63.381 43.561h4.5451\" clip-path=\"url(#p628360cae1)\" fill=\"none\" stroke=\"#000000\" stroke-linecap=\"square\" stroke-width=\"2\"/><path d=\"m63.381 89.012h4.5451\" clip-path=\"url(#p628360cae1)\" fill=\"none\" stroke=\"#000000\" stroke-linecap=\"square\" stroke-width=\"2\"/><path d=\"m63.381 132.99h4.5451\" clip-path=\"url(#p628360cae1)\" fill=\"none\" stroke=\"#778899\" stroke-linecap=\"square\" stroke-width=\"2\"/><path d=\"m63.381 135.94h4.5451\" clip-path=\"url(#p628360cae1)\" fill=\"none\" stroke=\"#778899\" stroke-linecap=\"square\" stroke-width=\"2\"/><path d=\"m72.471 139.01 4.5451-9.0902\" clip-path=\"url(#p628360cae1)\" fill=\"none\" stroke=\"#778899\" stroke-linecap=\"square\" stroke-width=\"1.5\"/><g clip-path=\"url(#p628360cae1)\"><defs><path id=\"DejaVuSans-Oblique-113\" d=\"m41.703 8.2031q-3.6094-4.7344-8.5312-7.1875-4.9062-2.4375-10.859-2.4375-8.2969 0-13.016 5.5938-4.7031 5.5938-4.7031 15.406 0 7.9062 2.9062 15.281t8.3281 13.234q3.5156 3.8125 8.0781 5.8594t9.5938 2.0469q6.0469 0 9.9531-2.3906t5.6719-7.2188l1.5625 8.2031h9.0312l-14.594-75.203h-9.0469zm-27.781 12.703q0-7.2344 3.0156-11.016 3.0312-3.7812 8.75-3.7812 8.5 0 14.5 8.125t6 19.75q0 7.0312-3.1094 10.766-3.0938 3.7344-8.8906 3.7344-4.25 0-7.875-1.9844-3.6094-1.9688-6.2969-5.7812-2.8281-4-4.4688-9.375-1.625-5.3594-1.625-10.438z\"/><path id=\"DejaVuSans-48\" d=\"m31.781 66.406q-7.6094 0-11.453-7.5-3.8281-7.4844-3.8281-22.531 0-14.984 3.8281-22.484 3.8438-7.5 11.453-7.5 7.6719 0 11.5 7.5 3.8438 7.5 3.8438 22.484 0 15.047-3.8438 22.531-3.8281 7.5-11.5 7.5zm0 7.8125q12.266 0 18.734-9.7031 6.4688-9.6875 6.4688-28.141 0-18.406-6.4688-28.109-6.4688-9.6875-18.734-9.6875-12.25 0-18.719 9.6875-6.4688 9.7031-6.4688 28.109 0 18.453 6.4688 28.141 6.4688 9.7031 18.719 9.7031z\"/></defs><g transform=\"translate(36.253 48.012) scale(.1625 -.1625)\"><use xlink:href=\"#DejaVuSans-Oblique-113\"/><use transform=\"translate(63.477 -16.406) scale(.7)\" xlink:href=\"#DejaVuSans-48\"/></g></g><g clip-path=\"url(#p628360cae1)\"><defs><path id=\"DejaVuSans-49\" d=\"m12.406 8.2969h16.109v55.625l-17.531-3.5156v8.9844l17.438 3.5156h9.8594v-64.609h16.109v-8.2969h-41.984z\"/></defs><g transform=\"translate(36.253 93.463) scale(.1625 -.1625)\"><use xlink:href=\"#DejaVuSans-Oblique-113\"/><use transform=\"translate(63.477 -16.406) scale(.7)\" xlink:href=\"#DejaVuSans-49\"/></g></g><g clip-path=\"url(#p628360cae1)\"><defs><path id=\"DejaVuSans-50\" d=\"m19.188 8.2969h34.422v-8.2969h-46.281v8.2969q5.6094 5.8125 15.297 15.594 9.7031 9.7969 12.188 12.641 4.7344 5.3125 6.6094 9 1.8906 3.6875 1.8906 7.25 0 5.8125-4.0781 9.4688-4.0781 3.6719-10.625 3.6719-4.6406 0-9.7969-1.6094-5.1406-1.6094-11-4.8906v9.9688q5.9531 2.3906 11.125 3.6094 5.1875 1.2188 9.4844 1.2188 11.328 0 18.062-5.6719 6.7344-5.6562 6.7344-15.125 0-4.5-1.6875-8.5312-1.6719-4.0156-6.125-9.4844-1.2188-1.4219-7.7656-8.1875-6.5312-6.7656-18.453-18.922z\"/></defs><g transform=\"translate(67.926 127.75) scale(.104 -.104)\"><use xlink:href=\"#DejaVuSans-50\"/></g></g><g clip-path=\"url(#p628360cae1)\"><defs><path id=\"DejaVuSans-98\" d=\"m48.688 27.297q0 9.9062-4.0781 15.547t-11.203 5.6406q-7.1406 0-11.219-5.6406t-4.0781-15.547 4.0781-15.547 11.219-5.6406q7.125 0 11.203 5.6406t4.0781 15.547zm-30.578 19.094q2.8438 4.875 7.1562 7.2344 4.3281 2.375 10.328 2.375 9.9688 0 16.188-7.9062 6.2344-7.9062 6.2344-20.797t-6.2344-20.812q-6.2188-7.9062-16.188-7.9062-6 0-10.328 2.375-4.3125 2.375-7.1562 7.25v-8.2031h-9.0312v75.984h9.0312z\"/></defs><g transform=\"translate(43.975 138.95) scale(.1625 -.1625)\"><use xlink:href=\"#DejaVuSans-98\"/></g></g><defs><clipPath id=\"p628360cae1\"><rect x=\"7.2\" y=\"7.2\" width=\"65.271\" height=\"154.53\"/></clipPath></defs></svg>"
            ],
            "text/plain": [
              "<Figure size 86.452x204.68 with 1 Axes>"
            ]
          },
          "execution_count": 54,
          "metadata": {},
          "output_type": "execute_result"
        }
      ],
      "source": [
        "puzzle.get_circuit().draw(output='mpl')"
      ]
    },
    {
      "cell_type": "markdown",
      "metadata": {
        "id": "hJXF1dQ99OxG"
      },
      "source": [
        "#### Outro\n",
        "\n",
        "Note that your solution to this puzzle might not have been a general purpose `swap`. Compare your solution to those for the next few puzzles, which also implement swaps."
      ]
    },
    {
      "cell_type": "markdown",
      "metadata": {
        "id": "0QO7J0oQ9OxH"
      },
      "source": [
        "### Puzzle 8\n",
        "\n",
        "#### Intro\n",
        "\n",
        "Here's another puzzle based on the idea of making a `swap`.\n",
        "\n",
        "#### Exercise\n",
        "* Swap the two qubits:\n",
        "    * Make the X output black for q[0].\n",
        "    * Make the Z output white for q[1].\n",
        "* And do it with 3 `cz` gates"
      ]
    },
    {
      "cell_type": "code",
      "execution_count": null,
      "metadata": {
        "id": "QclHjFIg9OxH"
      },
      "outputs": [],
      "source": [
        "initialize = [['x','0'],['h','1']]\n",
        "success_condition = {'XI':1,'IZ':-1}\n",
        "allowed_gates = {'0': {'h':0}, '1': {'h':0}, 'both': {'cz':3}}\n",
        "vi = [[], True, True]\n",
        "qubit_names = {'0':'q[0]', '1':'q[1]'}\n",
        "puzzle = hello_quantum.run_game(initialize, success_condition, allowed_gates, vi, qubit_names,shots=2000)"
      ]
    },
    {
      "cell_type": "code",
      "execution_count": null,
      "metadata": {
        "id": "IFuacUz09OxI",
        "outputId": "d2116182-4bbb-4ac7-ddbc-741982ca4b43"
      },
      "outputs": [
        {
          "data": {
            "image/svg+xml": [
              "<?xml version=\"1.0\" encoding=\"UTF-8\"?><!DOCTYPE svg  PUBLIC '-//W3C//DTD SVG 1.1//EN'  'http://www.w3.org/Graphics/SVG/1.1/DTD/svg11.dtd'><svg width=\"79.671pt\" height=\"168.93pt\" version=\"1.1\" viewBox=\"0 0 79.671 168.93\" xmlns=\"http://www.w3.org/2000/svg\" xmlns:xlink=\"http://www.w3.org/1999/xlink\"><defs><style type=\"text/css\">*{stroke-linecap:butt;stroke-linejoin:round;}</style></defs><path d=\"m0 168.93h79.671v-168.93h-79.671z\" fill=\"#ffffff\"/><path d=\"m63.381 43.561h4.5451\" clip-path=\"url(#pfd63a2f5ce)\" fill=\"none\" stroke=\"#000000\" stroke-linecap=\"square\" stroke-width=\"2\"/><path d=\"m63.381 89.012h4.5451\" clip-path=\"url(#pfd63a2f5ce)\" fill=\"none\" stroke=\"#000000\" stroke-linecap=\"square\" stroke-width=\"2\"/><path d=\"m63.381 132.99h4.5451\" clip-path=\"url(#pfd63a2f5ce)\" fill=\"none\" stroke=\"#778899\" stroke-linecap=\"square\" stroke-width=\"2\"/><path d=\"m63.381 135.94h4.5451\" clip-path=\"url(#pfd63a2f5ce)\" fill=\"none\" stroke=\"#778899\" stroke-linecap=\"square\" stroke-width=\"2\"/><path d=\"m72.471 139.01 4.5451-9.0902\" clip-path=\"url(#pfd63a2f5ce)\" fill=\"none\" stroke=\"#778899\" stroke-linecap=\"square\" stroke-width=\"1.5\"/><g clip-path=\"url(#pfd63a2f5ce)\"><defs><path id=\"DejaVuSans-Oblique-113\" d=\"m41.703 8.2031q-3.6094-4.7344-8.5312-7.1875-4.9062-2.4375-10.859-2.4375-8.2969 0-13.016 5.5938-4.7031 5.5938-4.7031 15.406 0 7.9062 2.9062 15.281t8.3281 13.234q3.5156 3.8125 8.0781 5.8594t9.5938 2.0469q6.0469 0 9.9531-2.3906t5.6719-7.2188l1.5625 8.2031h9.0312l-14.594-75.203h-9.0469zm-27.781 12.703q0-7.2344 3.0156-11.016 3.0312-3.7812 8.75-3.7812 8.5 0 14.5 8.125t6 19.75q0 7.0312-3.1094 10.766-3.0938 3.7344-8.8906 3.7344-4.25 0-7.875-1.9844-3.6094-1.9688-6.2969-5.7812-2.8281-4-4.4688-9.375-1.625-5.3594-1.625-10.438z\"/><path id=\"DejaVuSans-48\" d=\"m31.781 66.406q-7.6094 0-11.453-7.5-3.8281-7.4844-3.8281-22.531 0-14.984 3.8281-22.484 3.8438-7.5 11.453-7.5 7.6719 0 11.5 7.5 3.8438 7.5 3.8438 22.484 0 15.047-3.8438 22.531-3.8281 7.5-11.5 7.5zm0 7.8125q12.266 0 18.734-9.7031 6.4688-9.6875 6.4688-28.141 0-18.406-6.4688-28.109-6.4688-9.6875-18.734-9.6875-12.25 0-18.719 9.6875-6.4688 9.7031-6.4688 28.109 0 18.453 6.4688 28.141 6.4688 9.7031 18.719 9.7031z\"/></defs><g transform=\"translate(36.253 48.012) scale(.1625 -.1625)\"><use xlink:href=\"#DejaVuSans-Oblique-113\"/><use transform=\"translate(63.477 -16.406) scale(.7)\" xlink:href=\"#DejaVuSans-48\"/></g></g><g clip-path=\"url(#pfd63a2f5ce)\"><defs><path id=\"DejaVuSans-49\" d=\"m12.406 8.2969h16.109v55.625l-17.531-3.5156v8.9844l17.438 3.5156h9.8594v-64.609h16.109v-8.2969h-41.984z\"/></defs><g transform=\"translate(36.253 93.463) scale(.1625 -.1625)\"><use xlink:href=\"#DejaVuSans-Oblique-113\"/><use transform=\"translate(63.477 -16.406) scale(.7)\" xlink:href=\"#DejaVuSans-49\"/></g></g><g clip-path=\"url(#pfd63a2f5ce)\"><defs><path id=\"DejaVuSans-50\" d=\"m19.188 8.2969h34.422v-8.2969h-46.281v8.2969q5.6094 5.8125 15.297 15.594 9.7031 9.7969 12.188 12.641 4.7344 5.3125 6.6094 9 1.8906 3.6875 1.8906 7.25 0 5.8125-4.0781 9.4688-4.0781 3.6719-10.625 3.6719-4.6406 0-9.7969-1.6094-5.1406-1.6094-11-4.8906v9.9688q5.9531 2.3906 11.125 3.6094 5.1875 1.2188 9.4844 1.2188 11.328 0 18.062-5.6719 6.7344-5.6562 6.7344-15.125 0-4.5-1.6875-8.5312-1.6719-4.0156-6.125-9.4844-1.2188-1.4219-7.7656-8.1875-6.5312-6.7656-18.453-18.922z\"/></defs><g transform=\"translate(67.926 127.75) scale(.104 -.104)\"><use xlink:href=\"#DejaVuSans-50\"/></g></g><g clip-path=\"url(#pfd63a2f5ce)\"><defs><path id=\"DejaVuSans-98\" d=\"m48.688 27.297q0 9.9062-4.0781 15.547t-11.203 5.6406q-7.1406 0-11.219-5.6406t-4.0781-15.547 4.0781-15.547 11.219-5.6406q7.125 0 11.203 5.6406t4.0781 15.547zm-30.578 19.094q2.8438 4.875 7.1562 7.2344 4.3281 2.375 10.328 2.375 9.9688 0 16.188-7.9062 6.2344-7.9062 6.2344-20.797t-6.2344-20.812q-6.2188-7.9062-16.188-7.9062-6 0-10.328 2.375-4.3125 2.375-7.1562 7.25v-8.2031h-9.0312v75.984h9.0312z\"/></defs><g transform=\"translate(43.975 138.95) scale(.1625 -.1625)\"><use xlink:href=\"#DejaVuSans-98\"/></g></g><defs><clipPath id=\"pfd63a2f5ce\"><rect x=\"7.2\" y=\"7.2\" width=\"65.271\" height=\"154.53\"/></clipPath></defs></svg>"
            ],
            "text/plain": [
              "<Figure size 86.452x204.68 with 1 Axes>"
            ]
          },
          "execution_count": 56,
          "metadata": {},
          "output_type": "execute_result"
        }
      ],
      "source": [
        "puzzle.get_circuit().draw(output='mpl')"
      ]
    },
    {
      "cell_type": "markdown",
      "metadata": {
        "id": "SXvPFeqA9OxI"
      },
      "source": [
        "### Puzzle 9\n",
        "\n",
        "#### Intro\n",
        "\n",
        "And another `swap`-based puzzle.\n",
        "\n",
        "#### Exercise\n",
        "* Swap the two qubits:\n",
        "    * Turn on the Z output for q[0].\n",
        "    * Turn off the Z output q[1]."
      ]
    },
    {
      "cell_type": "code",
      "execution_count": null,
      "metadata": {
        "id": "1Fo6md3c9OxI"
      },
      "outputs": [],
      "source": [
        "initialize = [['x','1']]\n",
        "success_condition = {'IZ':1.0,'ZI':-1.0}\n",
        "allowed_gates = {'0': {'h':0}, '1': {'h':0}, 'both': {'cz':0}}\n",
        "vi = [[], True, True]\n",
        "qubit_names = {'0':'q[0]', '1':'q[1]'}\n",
        "puzzle = hello_quantum.run_game(initialize, success_condition, allowed_gates, vi, qubit_names,shots=2000)"
      ]
    },
    {
      "cell_type": "code",
      "execution_count": null,
      "metadata": {
        "id": "RSflO4WR9OxI",
        "outputId": "49a811af-53a4-473c-ff68-92a7a279747b"
      },
      "outputs": [
        {
          "data": {
            "image/svg+xml": [
              "<?xml version=\"1.0\" encoding=\"UTF-8\"?><!DOCTYPE svg  PUBLIC '-//W3C//DTD SVG 1.1//EN'  'http://www.w3.org/Graphics/SVG/1.1/DTD/svg11.dtd'><svg width=\"79.671pt\" height=\"168.93pt\" version=\"1.1\" viewBox=\"0 0 79.671 168.93\" xmlns=\"http://www.w3.org/2000/svg\" xmlns:xlink=\"http://www.w3.org/1999/xlink\"><defs><style type=\"text/css\">*{stroke-linecap:butt;stroke-linejoin:round;}</style></defs><path d=\"m0 168.93h79.671v-168.93h-79.671z\" fill=\"#ffffff\"/><path d=\"m63.381 43.561h4.5451\" clip-path=\"url(#pb35bbd82cb)\" fill=\"none\" stroke=\"#000000\" stroke-linecap=\"square\" stroke-width=\"2\"/><path d=\"m63.381 89.012h4.5451\" clip-path=\"url(#pb35bbd82cb)\" fill=\"none\" stroke=\"#000000\" stroke-linecap=\"square\" stroke-width=\"2\"/><path d=\"m63.381 132.99h4.5451\" clip-path=\"url(#pb35bbd82cb)\" fill=\"none\" stroke=\"#778899\" stroke-linecap=\"square\" stroke-width=\"2\"/><path d=\"m63.381 135.94h4.5451\" clip-path=\"url(#pb35bbd82cb)\" fill=\"none\" stroke=\"#778899\" stroke-linecap=\"square\" stroke-width=\"2\"/><path d=\"m72.471 139.01 4.5451-9.0902\" clip-path=\"url(#pb35bbd82cb)\" fill=\"none\" stroke=\"#778899\" stroke-linecap=\"square\" stroke-width=\"1.5\"/><g clip-path=\"url(#pb35bbd82cb)\"><defs><path id=\"DejaVuSans-Oblique-113\" d=\"m41.703 8.2031q-3.6094-4.7344-8.5312-7.1875-4.9062-2.4375-10.859-2.4375-8.2969 0-13.016 5.5938-4.7031 5.5938-4.7031 15.406 0 7.9062 2.9062 15.281t8.3281 13.234q3.5156 3.8125 8.0781 5.8594t9.5938 2.0469q6.0469 0 9.9531-2.3906t5.6719-7.2188l1.5625 8.2031h9.0312l-14.594-75.203h-9.0469zm-27.781 12.703q0-7.2344 3.0156-11.016 3.0312-3.7812 8.75-3.7812 8.5 0 14.5 8.125t6 19.75q0 7.0312-3.1094 10.766-3.0938 3.7344-8.8906 3.7344-4.25 0-7.875-1.9844-3.6094-1.9688-6.2969-5.7812-2.8281-4-4.4688-9.375-1.625-5.3594-1.625-10.438z\"/><path id=\"DejaVuSans-48\" d=\"m31.781 66.406q-7.6094 0-11.453-7.5-3.8281-7.4844-3.8281-22.531 0-14.984 3.8281-22.484 3.8438-7.5 11.453-7.5 7.6719 0 11.5 7.5 3.8438 7.5 3.8438 22.484 0 15.047-3.8438 22.531-3.8281 7.5-11.5 7.5zm0 7.8125q12.266 0 18.734-9.7031 6.4688-9.6875 6.4688-28.141 0-18.406-6.4688-28.109-6.4688-9.6875-18.734-9.6875-12.25 0-18.719 9.6875-6.4688 9.7031-6.4688 28.109 0 18.453 6.4688 28.141 6.4688 9.7031 18.719 9.7031z\"/></defs><g transform=\"translate(36.253 48.012) scale(.1625 -.1625)\"><use xlink:href=\"#DejaVuSans-Oblique-113\"/><use transform=\"translate(63.477 -16.406) scale(.7)\" xlink:href=\"#DejaVuSans-48\"/></g></g><g clip-path=\"url(#pb35bbd82cb)\"><defs><path id=\"DejaVuSans-49\" d=\"m12.406 8.2969h16.109v55.625l-17.531-3.5156v8.9844l17.438 3.5156h9.8594v-64.609h16.109v-8.2969h-41.984z\"/></defs><g transform=\"translate(36.253 93.463) scale(.1625 -.1625)\"><use xlink:href=\"#DejaVuSans-Oblique-113\"/><use transform=\"translate(63.477 -16.406) scale(.7)\" xlink:href=\"#DejaVuSans-49\"/></g></g><g clip-path=\"url(#pb35bbd82cb)\"><defs><path id=\"DejaVuSans-50\" d=\"m19.188 8.2969h34.422v-8.2969h-46.281v8.2969q5.6094 5.8125 15.297 15.594 9.7031 9.7969 12.188 12.641 4.7344 5.3125 6.6094 9 1.8906 3.6875 1.8906 7.25 0 5.8125-4.0781 9.4688-4.0781 3.6719-10.625 3.6719-4.6406 0-9.7969-1.6094-5.1406-1.6094-11-4.8906v9.9688q5.9531 2.3906 11.125 3.6094 5.1875 1.2188 9.4844 1.2188 11.328 0 18.062-5.6719 6.7344-5.6562 6.7344-15.125 0-4.5-1.6875-8.5312-1.6719-4.0156-6.125-9.4844-1.2188-1.4219-7.7656-8.1875-6.5312-6.7656-18.453-18.922z\"/></defs><g transform=\"translate(67.926 127.75) scale(.104 -.104)\"><use xlink:href=\"#DejaVuSans-50\"/></g></g><g clip-path=\"url(#pb35bbd82cb)\"><defs><path id=\"DejaVuSans-98\" d=\"m48.688 27.297q0 9.9062-4.0781 15.547t-11.203 5.6406q-7.1406 0-11.219-5.6406t-4.0781-15.547 4.0781-15.547 11.219-5.6406q7.125 0 11.203 5.6406t4.0781 15.547zm-30.578 19.094q2.8438 4.875 7.1562 7.2344 4.3281 2.375 10.328 2.375 9.9688 0 16.188-7.9062 6.2344-7.9062 6.2344-20.797t-6.2344-20.812q-6.2188-7.9062-16.188-7.9062-6 0-10.328 2.375-4.3125 2.375-7.1562 7.25v-8.2031h-9.0312v75.984h9.0312z\"/></defs><g transform=\"translate(43.975 138.95) scale(.1625 -.1625)\"><use xlink:href=\"#DejaVuSans-98\"/></g></g><defs><clipPath id=\"pb35bbd82cb\"><rect x=\"7.2\" y=\"7.2\" width=\"65.271\" height=\"154.53\"/></clipPath></defs></svg>"
            ],
            "text/plain": [
              "<Figure size 86.452x204.68 with 1 Axes>"
            ]
          },
          "execution_count": 58,
          "metadata": {},
          "output_type": "execute_result"
        }
      ],
      "source": [
        "puzzle.get_circuit().draw(output='mpl')"
      ]
    },
    {
      "cell_type": "markdown",
      "metadata": {
        "id": "isC7NhPf9OxJ"
      },
      "source": [
        "## Level 4: Beyond Clifford gates"
      ]
    },
    {
      "cell_type": "markdown",
      "metadata": {
        "id": "GhNLJWRr9OxJ"
      },
      "source": [
        "### Puzzle 1a\n",
        "\n",
        "#### Introduction\n",
        "\n",
        "The gates you've seen so far are called the 'Clifford gates'. They are very important for moving and manipulating information in quantum computers. However, we cannot create algorithms that can outperform standard computers using Clifford gates alone. We need some new gates.\n",
        "\n",
        "This puzzle has one for you to try. Simply do it a few times, and see if you can work out what it does.\n",
        "\n",
        "####  Exercise\n",
        "* Apply `ry(pi/4)` four times to q[0]."
      ]
    },
    {
      "cell_type": "code",
      "execution_count": null,
      "metadata": {
        "id": "I-iIRC9J9OxJ"
      },
      "outputs": [],
      "source": [
        "initialize = []\n",
        "success_condition = {}\n",
        "allowed_gates = {'0': {'ry(pi/4)': 4}, '1': {}, 'both': {}}\n",
        "vi = [[], True, True]\n",
        "qubit_names = {'0':'q[0]', '1':'q[1]'}\n",
        "puzzle = hello_quantum.run_game(initialize, success_condition, allowed_gates, vi, qubit_names)"
      ]
    },
    {
      "cell_type": "code",
      "execution_count": null,
      "metadata": {
        "id": "5zv9v6JK9OxJ",
        "outputId": "3dcb450c-59e1-42cd-97af-12ad63cdee5f"
      },
      "outputs": [
        {
          "data": {
            "image/svg+xml": [
              "<?xml version=\"1.0\" encoding=\"UTF-8\"?><!DOCTYPE svg  PUBLIC '-//W3C//DTD SVG 1.1//EN'  'http://www.w3.org/Graphics/SVG/1.1/DTD/svg11.dtd'><svg width=\"79.671pt\" height=\"168.93pt\" version=\"1.1\" viewBox=\"0 0 79.671 168.93\" xmlns=\"http://www.w3.org/2000/svg\" xmlns:xlink=\"http://www.w3.org/1999/xlink\"><defs><style type=\"text/css\">*{stroke-linecap:butt;stroke-linejoin:round;}</style></defs><path d=\"m0 168.93h79.671v-168.93h-79.671z\" fill=\"#ffffff\"/><path d=\"m63.381 43.561h4.5451\" clip-path=\"url(#p1f4956f7b7)\" fill=\"none\" stroke=\"#000000\" stroke-linecap=\"square\" stroke-width=\"2\"/><path d=\"m63.381 89.012h4.5451\" clip-path=\"url(#p1f4956f7b7)\" fill=\"none\" stroke=\"#000000\" stroke-linecap=\"square\" stroke-width=\"2\"/><path d=\"m63.381 132.99h4.5451\" clip-path=\"url(#p1f4956f7b7)\" fill=\"none\" stroke=\"#778899\" stroke-linecap=\"square\" stroke-width=\"2\"/><path d=\"m63.381 135.94h4.5451\" clip-path=\"url(#p1f4956f7b7)\" fill=\"none\" stroke=\"#778899\" stroke-linecap=\"square\" stroke-width=\"2\"/><path d=\"m72.471 139.01 4.5451-9.0902\" clip-path=\"url(#p1f4956f7b7)\" fill=\"none\" stroke=\"#778899\" stroke-linecap=\"square\" stroke-width=\"1.5\"/><g clip-path=\"url(#p1f4956f7b7)\"><defs><path id=\"DejaVuSans-Oblique-113\" d=\"m41.703 8.2031q-3.6094-4.7344-8.5312-7.1875-4.9062-2.4375-10.859-2.4375-8.2969 0-13.016 5.5938-4.7031 5.5938-4.7031 15.406 0 7.9062 2.9062 15.281t8.3281 13.234q3.5156 3.8125 8.0781 5.8594t9.5938 2.0469q6.0469 0 9.9531-2.3906t5.6719-7.2188l1.5625 8.2031h9.0312l-14.594-75.203h-9.0469zm-27.781 12.703q0-7.2344 3.0156-11.016 3.0312-3.7812 8.75-3.7812 8.5 0 14.5 8.125t6 19.75q0 7.0312-3.1094 10.766-3.0938 3.7344-8.8906 3.7344-4.25 0-7.875-1.9844-3.6094-1.9688-6.2969-5.7812-2.8281-4-4.4688-9.375-1.625-5.3594-1.625-10.438z\"/><path id=\"DejaVuSans-48\" d=\"m31.781 66.406q-7.6094 0-11.453-7.5-3.8281-7.4844-3.8281-22.531 0-14.984 3.8281-22.484 3.8438-7.5 11.453-7.5 7.6719 0 11.5 7.5 3.8438 7.5 3.8438 22.484 0 15.047-3.8438 22.531-3.8281 7.5-11.5 7.5zm0 7.8125q12.266 0 18.734-9.7031 6.4688-9.6875 6.4688-28.141 0-18.406-6.4688-28.109-6.4688-9.6875-18.734-9.6875-12.25 0-18.719 9.6875-6.4688 9.7031-6.4688 28.109 0 18.453 6.4688 28.141 6.4688 9.7031 18.719 9.7031z\"/></defs><g transform=\"translate(36.253 48.012) scale(.1625 -.1625)\"><use xlink:href=\"#DejaVuSans-Oblique-113\"/><use transform=\"translate(63.477 -16.406) scale(.7)\" xlink:href=\"#DejaVuSans-48\"/></g></g><g clip-path=\"url(#p1f4956f7b7)\"><defs><path id=\"DejaVuSans-49\" d=\"m12.406 8.2969h16.109v55.625l-17.531-3.5156v8.9844l17.438 3.5156h9.8594v-64.609h16.109v-8.2969h-41.984z\"/></defs><g transform=\"translate(36.253 93.463) scale(.1625 -.1625)\"><use xlink:href=\"#DejaVuSans-Oblique-113\"/><use transform=\"translate(63.477 -16.406) scale(.7)\" xlink:href=\"#DejaVuSans-49\"/></g></g><g clip-path=\"url(#p1f4956f7b7)\"><defs><path id=\"DejaVuSans-50\" d=\"m19.188 8.2969h34.422v-8.2969h-46.281v8.2969q5.6094 5.8125 15.297 15.594 9.7031 9.7969 12.188 12.641 4.7344 5.3125 6.6094 9 1.8906 3.6875 1.8906 7.25 0 5.8125-4.0781 9.4688-4.0781 3.6719-10.625 3.6719-4.6406 0-9.7969-1.6094-5.1406-1.6094-11-4.8906v9.9688q5.9531 2.3906 11.125 3.6094 5.1875 1.2188 9.4844 1.2188 11.328 0 18.062-5.6719 6.7344-5.6562 6.7344-15.125 0-4.5-1.6875-8.5312-1.6719-4.0156-6.125-9.4844-1.2188-1.4219-7.7656-8.1875-6.5312-6.7656-18.453-18.922z\"/></defs><g transform=\"translate(67.926 127.75) scale(.104 -.104)\"><use xlink:href=\"#DejaVuSans-50\"/></g></g><g clip-path=\"url(#p1f4956f7b7)\"><defs><path id=\"DejaVuSans-98\" d=\"m48.688 27.297q0 9.9062-4.0781 15.547t-11.203 5.6406q-7.1406 0-11.219-5.6406t-4.0781-15.547 4.0781-15.547 11.219-5.6406q7.125 0 11.203 5.6406t4.0781 15.547zm-30.578 19.094q2.8438 4.875 7.1562 7.2344 4.3281 2.375 10.328 2.375 9.9688 0 16.188-7.9062 6.2344-7.9062 6.2344-20.797t-6.2344-20.812q-6.2188-7.9062-16.188-7.9062-6 0-10.328 2.375-4.3125 2.375-7.1562 7.25v-8.2031h-9.0312v75.984h9.0312z\"/></defs><g transform=\"translate(43.975 138.95) scale(.1625 -.1625)\"><use xlink:href=\"#DejaVuSans-98\"/></g></g><defs><clipPath id=\"p1f4956f7b7\"><rect x=\"7.2\" y=\"7.2\" width=\"65.271\" height=\"154.53\"/></clipPath></defs></svg>"
            ],
            "text/plain": [
              "<Figure size 86.452x204.68 with 1 Axes>"
            ]
          },
          "execution_count": 60,
          "metadata": {},
          "output_type": "execute_result"
        }
      ],
      "source": [
        "puzzle.get_circuit().draw(output='mpl')"
      ]
    },
    {
      "cell_type": "markdown",
      "metadata": {
        "id": "9iXpv57i9OxJ"
      },
      "source": [
        "####  Outro\n",
        "\n",
        "Well done if you were able to work it out! For the rest of us, let's try something new to help us figure it out."
      ]
    },
    {
      "cell_type": "markdown",
      "metadata": {
        "id": "mCH66-6o9OxJ"
      },
      "source": [
        "### Puzzle 1b\n",
        "\n",
        "#### Introduction\n",
        "\n",
        "To better understand the gate we just saw, we are going to use to a slightly different way to visualize the qubits. In this an output that is certain to give `0` will be represented by a white line rather than a white circle. An output certain to give `1` will be a black line instead of a black circle. For a random output, you'll see a line that's part white and part black instead of a grey circle.\n",
        "\n",
        "Here's an old exercise to help you get used to this new visualization.\n",
        "\n",
        "####  Exercise\n",
        "\n",
        "* Make the X outputs certain to agree."
      ]
    },
    {
      "cell_type": "code",
      "execution_count": null,
      "metadata": {
        "id": "b31t8Xqd9OxK"
      },
      "outputs": [],
      "source": [
        "initialize = [['x','0']]\n",
        "success_condition = {'XX': 1.0}\n",
        "allowed_gates = {'0': {'x': 0, 'z': 0, 'h': 0}, '1': {'x': 0, 'z': 0, 'h': 0}, 'both': {}}\n",
        "vi = [[], True, True]\n",
        "qubit_names = {'0':'q[0]', '1':'q[1]'}\n",
        "puzzle = hello_quantum.run_game(initialize, success_condition, allowed_gates, vi, qubit_names, mode='line')"
      ]
    },
    {
      "cell_type": "code",
      "execution_count": null,
      "metadata": {
        "id": "SlATlpEZ9OxK",
        "outputId": "93f6313f-ace0-44e4-a8ee-52dd610db8bc"
      },
      "outputs": [
        {
          "data": {
            "image/svg+xml": [
              "<?xml version=\"1.0\" encoding=\"UTF-8\"?><!DOCTYPE svg  PUBLIC '-//W3C//DTD SVG 1.1//EN'  'http://www.w3.org/Graphics/SVG/1.1/DTD/svg11.dtd'><svg width=\"79.671pt\" height=\"168.93pt\" version=\"1.1\" viewBox=\"0 0 79.671 168.93\" xmlns=\"http://www.w3.org/2000/svg\" xmlns:xlink=\"http://www.w3.org/1999/xlink\"><defs><style type=\"text/css\">*{stroke-linecap:butt;stroke-linejoin:round;}</style></defs><path d=\"m0 168.93h79.671v-168.93h-79.671z\" fill=\"#ffffff\"/><path d=\"m63.381 43.561h4.5451\" clip-path=\"url(#p496bc474a3)\" fill=\"none\" stroke=\"#000000\" stroke-linecap=\"square\" stroke-width=\"2\"/><path d=\"m63.381 89.012h4.5451\" clip-path=\"url(#p496bc474a3)\" fill=\"none\" stroke=\"#000000\" stroke-linecap=\"square\" stroke-width=\"2\"/><path d=\"m63.381 132.99h4.5451\" clip-path=\"url(#p496bc474a3)\" fill=\"none\" stroke=\"#778899\" stroke-linecap=\"square\" stroke-width=\"2\"/><path d=\"m63.381 135.94h4.5451\" clip-path=\"url(#p496bc474a3)\" fill=\"none\" stroke=\"#778899\" stroke-linecap=\"square\" stroke-width=\"2\"/><path d=\"m72.471 139.01 4.5451-9.0902\" clip-path=\"url(#p496bc474a3)\" fill=\"none\" stroke=\"#778899\" stroke-linecap=\"square\" stroke-width=\"1.5\"/><g clip-path=\"url(#p496bc474a3)\"><defs><path id=\"DejaVuSans-Oblique-113\" d=\"m41.703 8.2031q-3.6094-4.7344-8.5312-7.1875-4.9062-2.4375-10.859-2.4375-8.2969 0-13.016 5.5938-4.7031 5.5938-4.7031 15.406 0 7.9062 2.9062 15.281t8.3281 13.234q3.5156 3.8125 8.0781 5.8594t9.5938 2.0469q6.0469 0 9.9531-2.3906t5.6719-7.2188l1.5625 8.2031h9.0312l-14.594-75.203h-9.0469zm-27.781 12.703q0-7.2344 3.0156-11.016 3.0312-3.7812 8.75-3.7812 8.5 0 14.5 8.125t6 19.75q0 7.0312-3.1094 10.766-3.0938 3.7344-8.8906 3.7344-4.25 0-7.875-1.9844-3.6094-1.9688-6.2969-5.7812-2.8281-4-4.4688-9.375-1.625-5.3594-1.625-10.438z\"/><path id=\"DejaVuSans-48\" d=\"m31.781 66.406q-7.6094 0-11.453-7.5-3.8281-7.4844-3.8281-22.531 0-14.984 3.8281-22.484 3.8438-7.5 11.453-7.5 7.6719 0 11.5 7.5 3.8438 7.5 3.8438 22.484 0 15.047-3.8438 22.531-3.8281 7.5-11.5 7.5zm0 7.8125q12.266 0 18.734-9.7031 6.4688-9.6875 6.4688-28.141 0-18.406-6.4688-28.109-6.4688-9.6875-18.734-9.6875-12.25 0-18.719 9.6875-6.4688 9.7031-6.4688 28.109 0 18.453 6.4688 28.141 6.4688 9.7031 18.719 9.7031z\"/></defs><g transform=\"translate(36.253 48.012) scale(.1625 -.1625)\"><use xlink:href=\"#DejaVuSans-Oblique-113\"/><use transform=\"translate(63.477 -16.406) scale(.7)\" xlink:href=\"#DejaVuSans-48\"/></g></g><g clip-path=\"url(#p496bc474a3)\"><defs><path id=\"DejaVuSans-49\" d=\"m12.406 8.2969h16.109v55.625l-17.531-3.5156v8.9844l17.438 3.5156h9.8594v-64.609h16.109v-8.2969h-41.984z\"/></defs><g transform=\"translate(36.253 93.463) scale(.1625 -.1625)\"><use xlink:href=\"#DejaVuSans-Oblique-113\"/><use transform=\"translate(63.477 -16.406) scale(.7)\" xlink:href=\"#DejaVuSans-49\"/></g></g><g clip-path=\"url(#p496bc474a3)\"><defs><path id=\"DejaVuSans-50\" d=\"m19.188 8.2969h34.422v-8.2969h-46.281v8.2969q5.6094 5.8125 15.297 15.594 9.7031 9.7969 12.188 12.641 4.7344 5.3125 6.6094 9 1.8906 3.6875 1.8906 7.25 0 5.8125-4.0781 9.4688-4.0781 3.6719-10.625 3.6719-4.6406 0-9.7969-1.6094-5.1406-1.6094-11-4.8906v9.9688q5.9531 2.3906 11.125 3.6094 5.1875 1.2188 9.4844 1.2188 11.328 0 18.062-5.6719 6.7344-5.6562 6.7344-15.125 0-4.5-1.6875-8.5312-1.6719-4.0156-6.125-9.4844-1.2188-1.4219-7.7656-8.1875-6.5312-6.7656-18.453-18.922z\"/></defs><g transform=\"translate(67.926 127.75) scale(.104 -.104)\"><use xlink:href=\"#DejaVuSans-50\"/></g></g><g clip-path=\"url(#p496bc474a3)\"><defs><path id=\"DejaVuSans-98\" d=\"m48.688 27.297q0 9.9062-4.0781 15.547t-11.203 5.6406q-7.1406 0-11.219-5.6406t-4.0781-15.547 4.0781-15.547 11.219-5.6406q7.125 0 11.203 5.6406t4.0781 15.547zm-30.578 19.094q2.8438 4.875 7.1562 7.2344 4.3281 2.375 10.328 2.375 9.9688 0 16.188-7.9062 6.2344-7.9062 6.2344-20.797t-6.2344-20.812q-6.2188-7.9062-16.188-7.9062-6 0-10.328 2.375-4.3125 2.375-7.1562 7.25v-8.2031h-9.0312v75.984h9.0312z\"/></defs><g transform=\"translate(43.975 138.95) scale(.1625 -.1625)\"><use xlink:href=\"#DejaVuSans-98\"/></g></g><defs><clipPath id=\"p496bc474a3\"><rect x=\"7.2\" y=\"7.2\" width=\"65.271\" height=\"154.53\"/></clipPath></defs></svg>"
            ],
            "text/plain": [
              "<Figure size 86.452x204.68 with 1 Axes>"
            ]
          },
          "execution_count": 62,
          "metadata": {},
          "output_type": "execute_result"
        }
      ],
      "source": [
        "puzzle.get_circuit().draw(output='mpl')"
      ]
    },
    {
      "cell_type": "markdown",
      "metadata": {
        "id": "B0ZfQdMf9OxK"
      },
      "source": [
        "### Puzzle 1c\n",
        "\n",
        "#### Introduction\n",
        "\n",
        "In this puzzle you'll see a new thing that you can do: `bloch`. This isn't actually a gate, and won't show up in the quantum program. Instead it just changes the visualization, by drawing the two lines for each qubit on top of each other. It also puts a point where their levels intersect. Using `bloch`, you should hopefully be able to figure out how `ry(pi/4)` works.\n",
        "\n",
        "####  Exercise\n",
        "* Turn the bottom line of `q[0]` fully on, and use the `bloch` gate."
      ]
    },
    {
      "cell_type": "code",
      "execution_count": null,
      "metadata": {
        "id": "B1hObZJ29OxL"
      },
      "outputs": [],
      "source": [
        "initialize = []\n",
        "success_condition = {'ZI': -1.0}\n",
        "allowed_gates = {'0': {'bloch':1, 'ry(pi/4)': 0}, '1':{}, 'both': {'unbloch':0}}\n",
        "vi = [[], True, True]\n",
        "qubit_names = {'0':'q[0]', '1':'q[1]'}\n",
        "puzzle = hello_quantum.run_game(initialize, success_condition, allowed_gates, vi, qubit_names, mode='line')"
      ]
    },
    {
      "cell_type": "code",
      "execution_count": null,
      "metadata": {
        "id": "KidqccUE9OxL",
        "outputId": "91e8791d-11f0-41de-b729-2f9bf816addc"
      },
      "outputs": [
        {
          "data": {
            "image/svg+xml": [
              "<?xml version=\"1.0\" encoding=\"UTF-8\"?><!DOCTYPE svg  PUBLIC '-//W3C//DTD SVG 1.1//EN'  'http://www.w3.org/Graphics/SVG/1.1/DTD/svg11.dtd'><svg width=\"79.671pt\" height=\"168.93pt\" version=\"1.1\" viewBox=\"0 0 79.671 168.93\" xmlns=\"http://www.w3.org/2000/svg\" xmlns:xlink=\"http://www.w3.org/1999/xlink\"><defs><style type=\"text/css\">*{stroke-linecap:butt;stroke-linejoin:round;}</style></defs><path d=\"m0 168.93h79.671v-168.93h-79.671z\" fill=\"#ffffff\"/><path d=\"m63.381 43.561h4.5451\" clip-path=\"url(#pb3750521f0)\" fill=\"none\" stroke=\"#000000\" stroke-linecap=\"square\" stroke-width=\"2\"/><path d=\"m63.381 89.012h4.5451\" clip-path=\"url(#pb3750521f0)\" fill=\"none\" stroke=\"#000000\" stroke-linecap=\"square\" stroke-width=\"2\"/><path d=\"m63.381 132.99h4.5451\" clip-path=\"url(#pb3750521f0)\" fill=\"none\" stroke=\"#778899\" stroke-linecap=\"square\" stroke-width=\"2\"/><path d=\"m63.381 135.94h4.5451\" clip-path=\"url(#pb3750521f0)\" fill=\"none\" stroke=\"#778899\" stroke-linecap=\"square\" stroke-width=\"2\"/><path d=\"m72.471 139.01 4.5451-9.0902\" clip-path=\"url(#pb3750521f0)\" fill=\"none\" stroke=\"#778899\" stroke-linecap=\"square\" stroke-width=\"1.5\"/><g clip-path=\"url(#pb3750521f0)\"><defs><path id=\"DejaVuSans-Oblique-113\" d=\"m41.703 8.2031q-3.6094-4.7344-8.5312-7.1875-4.9062-2.4375-10.859-2.4375-8.2969 0-13.016 5.5938-4.7031 5.5938-4.7031 15.406 0 7.9062 2.9062 15.281t8.3281 13.234q3.5156 3.8125 8.0781 5.8594t9.5938 2.0469q6.0469 0 9.9531-2.3906t5.6719-7.2188l1.5625 8.2031h9.0312l-14.594-75.203h-9.0469zm-27.781 12.703q0-7.2344 3.0156-11.016 3.0312-3.7812 8.75-3.7812 8.5 0 14.5 8.125t6 19.75q0 7.0312-3.1094 10.766-3.0938 3.7344-8.8906 3.7344-4.25 0-7.875-1.9844-3.6094-1.9688-6.2969-5.7812-2.8281-4-4.4688-9.375-1.625-5.3594-1.625-10.438z\"/><path id=\"DejaVuSans-48\" d=\"m31.781 66.406q-7.6094 0-11.453-7.5-3.8281-7.4844-3.8281-22.531 0-14.984 3.8281-22.484 3.8438-7.5 11.453-7.5 7.6719 0 11.5 7.5 3.8438 7.5 3.8438 22.484 0 15.047-3.8438 22.531-3.8281 7.5-11.5 7.5zm0 7.8125q12.266 0 18.734-9.7031 6.4688-9.6875 6.4688-28.141 0-18.406-6.4688-28.109-6.4688-9.6875-18.734-9.6875-12.25 0-18.719 9.6875-6.4688 9.7031-6.4688 28.109 0 18.453 6.4688 28.141 6.4688 9.7031 18.719 9.7031z\"/></defs><g transform=\"translate(36.253 48.012) scale(.1625 -.1625)\"><use xlink:href=\"#DejaVuSans-Oblique-113\"/><use transform=\"translate(63.477 -16.406) scale(.7)\" xlink:href=\"#DejaVuSans-48\"/></g></g><g clip-path=\"url(#pb3750521f0)\"><defs><path id=\"DejaVuSans-49\" d=\"m12.406 8.2969h16.109v55.625l-17.531-3.5156v8.9844l17.438 3.5156h9.8594v-64.609h16.109v-8.2969h-41.984z\"/></defs><g transform=\"translate(36.253 93.463) scale(.1625 -.1625)\"><use xlink:href=\"#DejaVuSans-Oblique-113\"/><use transform=\"translate(63.477 -16.406) scale(.7)\" xlink:href=\"#DejaVuSans-49\"/></g></g><g clip-path=\"url(#pb3750521f0)\"><defs><path id=\"DejaVuSans-50\" d=\"m19.188 8.2969h34.422v-8.2969h-46.281v8.2969q5.6094 5.8125 15.297 15.594 9.7031 9.7969 12.188 12.641 4.7344 5.3125 6.6094 9 1.8906 3.6875 1.8906 7.25 0 5.8125-4.0781 9.4688-4.0781 3.6719-10.625 3.6719-4.6406 0-9.7969-1.6094-5.1406-1.6094-11-4.8906v9.9688q5.9531 2.3906 11.125 3.6094 5.1875 1.2188 9.4844 1.2188 11.328 0 18.062-5.6719 6.7344-5.6562 6.7344-15.125 0-4.5-1.6875-8.5312-1.6719-4.0156-6.125-9.4844-1.2188-1.4219-7.7656-8.1875-6.5312-6.7656-18.453-18.922z\"/></defs><g transform=\"translate(67.926 127.75) scale(.104 -.104)\"><use xlink:href=\"#DejaVuSans-50\"/></g></g><g clip-path=\"url(#pb3750521f0)\"><defs><path id=\"DejaVuSans-98\" d=\"m48.688 27.297q0 9.9062-4.0781 15.547t-11.203 5.6406q-7.1406 0-11.219-5.6406t-4.0781-15.547 4.0781-15.547 11.219-5.6406q7.125 0 11.203 5.6406t4.0781 15.547zm-30.578 19.094q2.8438 4.875 7.1562 7.2344 4.3281 2.375 10.328 2.375 9.9688 0 16.188-7.9062 6.2344-7.9062 6.2344-20.797t-6.2344-20.812q-6.2188-7.9062-16.188-7.9062-6 0-10.328 2.375-4.3125 2.375-7.1562 7.25v-8.2031h-9.0312v75.984h9.0312z\"/></defs><g transform=\"translate(43.975 138.95) scale(.1625 -.1625)\"><use xlink:href=\"#DejaVuSans-98\"/></g></g><defs><clipPath id=\"pb3750521f0\"><rect x=\"7.2\" y=\"7.2\" width=\"65.271\" height=\"154.53\"/></clipPath></defs></svg>"
            ],
            "text/plain": [
              "<Figure size 86.452x204.68 with 1 Axes>"
            ]
          },
          "execution_count": 64,
          "metadata": {},
          "output_type": "execute_result"
        }
      ],
      "source": [
        "puzzle.get_circuit().draw(output='mpl')"
      ]
    },
    {
      "cell_type": "markdown",
      "metadata": {
        "id": "Ge26eBzE9OxL"
      },
      "source": [
        "####  Outro\n",
        "\n",
        "If you followed the points, you should have noticed that the effect of `ry(pi/4)` is to rotate them by $\\pi/4$ radians (or 45 degrees). The levels of the lines also change to match. The effect of the `ry(-pi/4)` gate would be the same, except the rotation is in the other direction\n",
        "\n",
        "Alaos, as you probably noticed, using `bloch` doesn't just combine the two lines for each qubit. It combines their whole rows."
      ]
    },
    {
      "cell_type": "markdown",
      "metadata": {
        "id": "OOM0b0N09OxL"
      },
      "source": [
        "### Puzzle 2\n",
        "\n",
        "#### Introduction\n",
        "\n",
        "Now let's use these gates on the other qubit too.\n",
        "\n",
        "####  Exercise\n",
        "* Turn the bottom lines fully on."
      ]
    },
    {
      "cell_type": "code",
      "execution_count": null,
      "metadata": {
        "id": "mnaW-B5h9OxL"
      },
      "outputs": [],
      "source": [
        "initialize = [['h','0'],['h','1']]\n",
        "success_condition = {'ZI': -1.0,'IZ': -1.0}\n",
        "allowed_gates = {'0': {'bloch':0, 'ry(pi/4)': 0, 'ry(-pi/4)': 0}, '1': {'bloch':0, 'ry(pi/4)': 0, 'ry(-pi/4)': 0}, 'both': {'unbloch':0}}\n",
        "vi = [[], True, True]\n",
        "qubit_names = {'0':'q[0]', '1':'q[1]'}\n",
        "puzzle = hello_quantum.run_game(initialize, success_condition, allowed_gates, vi, qubit_names, mode='line')"
      ]
    },
    {
      "cell_type": "code",
      "execution_count": null,
      "metadata": {
        "id": "ia3hgAke9OxL",
        "outputId": "fdbb3cea-9845-440d-c1a5-9659c0399f06"
      },
      "outputs": [
        {
          "data": {
            "image/svg+xml": [
              "<?xml version=\"1.0\" encoding=\"UTF-8\"?><!DOCTYPE svg  PUBLIC '-//W3C//DTD SVG 1.1//EN'  'http://www.w3.org/Graphics/SVG/1.1/DTD/svg11.dtd'><svg width=\"79.671pt\" height=\"168.93pt\" version=\"1.1\" viewBox=\"0 0 79.671 168.93\" xmlns=\"http://www.w3.org/2000/svg\" xmlns:xlink=\"http://www.w3.org/1999/xlink\"><defs><style type=\"text/css\">*{stroke-linecap:butt;stroke-linejoin:round;}</style></defs><path d=\"m0 168.93h79.671v-168.93h-79.671z\" fill=\"#ffffff\"/><path d=\"m63.381 43.561h4.5451\" clip-path=\"url(#pdcbae213fe)\" fill=\"none\" stroke=\"#000000\" stroke-linecap=\"square\" stroke-width=\"2\"/><path d=\"m63.381 89.012h4.5451\" clip-path=\"url(#pdcbae213fe)\" fill=\"none\" stroke=\"#000000\" stroke-linecap=\"square\" stroke-width=\"2\"/><path d=\"m63.381 132.99h4.5451\" clip-path=\"url(#pdcbae213fe)\" fill=\"none\" stroke=\"#778899\" stroke-linecap=\"square\" stroke-width=\"2\"/><path d=\"m63.381 135.94h4.5451\" clip-path=\"url(#pdcbae213fe)\" fill=\"none\" stroke=\"#778899\" stroke-linecap=\"square\" stroke-width=\"2\"/><path d=\"m72.471 139.01 4.5451-9.0902\" clip-path=\"url(#pdcbae213fe)\" fill=\"none\" stroke=\"#778899\" stroke-linecap=\"square\" stroke-width=\"1.5\"/><g clip-path=\"url(#pdcbae213fe)\"><defs><path id=\"DejaVuSans-Oblique-113\" d=\"m41.703 8.2031q-3.6094-4.7344-8.5312-7.1875-4.9062-2.4375-10.859-2.4375-8.2969 0-13.016 5.5938-4.7031 5.5938-4.7031 15.406 0 7.9062 2.9062 15.281t8.3281 13.234q3.5156 3.8125 8.0781 5.8594t9.5938 2.0469q6.0469 0 9.9531-2.3906t5.6719-7.2188l1.5625 8.2031h9.0312l-14.594-75.203h-9.0469zm-27.781 12.703q0-7.2344 3.0156-11.016 3.0312-3.7812 8.75-3.7812 8.5 0 14.5 8.125t6 19.75q0 7.0312-3.1094 10.766-3.0938 3.7344-8.8906 3.7344-4.25 0-7.875-1.9844-3.6094-1.9688-6.2969-5.7812-2.8281-4-4.4688-9.375-1.625-5.3594-1.625-10.438z\"/><path id=\"DejaVuSans-48\" d=\"m31.781 66.406q-7.6094 0-11.453-7.5-3.8281-7.4844-3.8281-22.531 0-14.984 3.8281-22.484 3.8438-7.5 11.453-7.5 7.6719 0 11.5 7.5 3.8438 7.5 3.8438 22.484 0 15.047-3.8438 22.531-3.8281 7.5-11.5 7.5zm0 7.8125q12.266 0 18.734-9.7031 6.4688-9.6875 6.4688-28.141 0-18.406-6.4688-28.109-6.4688-9.6875-18.734-9.6875-12.25 0-18.719 9.6875-6.4688 9.7031-6.4688 28.109 0 18.453 6.4688 28.141 6.4688 9.7031 18.719 9.7031z\"/></defs><g transform=\"translate(36.253 48.012) scale(.1625 -.1625)\"><use xlink:href=\"#DejaVuSans-Oblique-113\"/><use transform=\"translate(63.477 -16.406) scale(.7)\" xlink:href=\"#DejaVuSans-48\"/></g></g><g clip-path=\"url(#pdcbae213fe)\"><defs><path id=\"DejaVuSans-49\" d=\"m12.406 8.2969h16.109v55.625l-17.531-3.5156v8.9844l17.438 3.5156h9.8594v-64.609h16.109v-8.2969h-41.984z\"/></defs><g transform=\"translate(36.253 93.463) scale(.1625 -.1625)\"><use xlink:href=\"#DejaVuSans-Oblique-113\"/><use transform=\"translate(63.477 -16.406) scale(.7)\" xlink:href=\"#DejaVuSans-49\"/></g></g><g clip-path=\"url(#pdcbae213fe)\"><defs><path id=\"DejaVuSans-50\" d=\"m19.188 8.2969h34.422v-8.2969h-46.281v8.2969q5.6094 5.8125 15.297 15.594 9.7031 9.7969 12.188 12.641 4.7344 5.3125 6.6094 9 1.8906 3.6875 1.8906 7.25 0 5.8125-4.0781 9.4688-4.0781 3.6719-10.625 3.6719-4.6406 0-9.7969-1.6094-5.1406-1.6094-11-4.8906v9.9688q5.9531 2.3906 11.125 3.6094 5.1875 1.2188 9.4844 1.2188 11.328 0 18.062-5.6719 6.7344-5.6562 6.7344-15.125 0-4.5-1.6875-8.5312-1.6719-4.0156-6.125-9.4844-1.2188-1.4219-7.7656-8.1875-6.5312-6.7656-18.453-18.922z\"/></defs><g transform=\"translate(67.926 127.75) scale(.104 -.104)\"><use xlink:href=\"#DejaVuSans-50\"/></g></g><g clip-path=\"url(#pdcbae213fe)\"><defs><path id=\"DejaVuSans-98\" d=\"m48.688 27.297q0 9.9062-4.0781 15.547t-11.203 5.6406q-7.1406 0-11.219-5.6406t-4.0781-15.547 4.0781-15.547 11.219-5.6406q7.125 0 11.203 5.6406t4.0781 15.547zm-30.578 19.094q2.8438 4.875 7.1562 7.2344 4.3281 2.375 10.328 2.375 9.9688 0 16.188-7.9062 6.2344-7.9062 6.2344-20.797t-6.2344-20.812q-6.2188-7.9062-16.188-7.9062-6 0-10.328 2.375-4.3125 2.375-7.1562 7.25v-8.2031h-9.0312v75.984h9.0312z\"/></defs><g transform=\"translate(43.975 138.95) scale(.1625 -.1625)\"><use xlink:href=\"#DejaVuSans-98\"/></g></g><defs><clipPath id=\"pdcbae213fe\"><rect x=\"7.2\" y=\"7.2\" width=\"65.271\" height=\"154.53\"/></clipPath></defs></svg>"
            ],
            "text/plain": [
              "<Figure size 86.452x204.68 with 1 Axes>"
            ]
          },
          "execution_count": 66,
          "metadata": {},
          "output_type": "execute_result"
        }
      ],
      "source": [
        "puzzle.get_circuit().draw(output='mpl')"
      ]
    },
    {
      "cell_type": "markdown",
      "metadata": {
        "id": "-t9SZ0CY9OxM"
      },
      "source": [
        "### Puzzle 3\n",
        "\n",
        "#### Introduction\n",
        "\n",
        "Here's a puzzle you could solve with a simple `cx`, or a `cz` and some `h`s. Unfortunately you have neither `cx` nor `h`, so you'll need to work out how `cz` and `ry`s can do the job.\n",
        "\n",
        "\n",
        "####  Exercise\n",
        "* Make the Z outputs agree."
      ]
    },
    {
      "cell_type": "code",
      "execution_count": null,
      "metadata": {
        "id": "UBF4uEwl9OxM"
      },
      "outputs": [],
      "source": [
        "initialize = [['h','0']]\n",
        "success_condition = {'ZZ': 1.0}\n",
        "allowed_gates = {'0': {}, '1': {'bloch':0, 'ry(pi/4)': 0, 'ry(-pi/4)': 0}, 'both': {'unbloch':0,'cz':0}}\n",
        "vi = [[], True, True]\n",
        "qubit_names = {'0':'q[0]', '1':'q[1]'}\n",
        "puzzle = hello_quantum.run_game(initialize, success_condition, allowed_gates, vi, qubit_names, mode='line')"
      ]
    },
    {
      "cell_type": "code",
      "execution_count": null,
      "metadata": {
        "id": "lnjAot269OxM",
        "outputId": "e42264f3-d31f-49ee-aa15-4c2890667d7d"
      },
      "outputs": [
        {
          "data": {
            "image/svg+xml": [
              "<?xml version=\"1.0\" encoding=\"UTF-8\"?><!DOCTYPE svg  PUBLIC '-//W3C//DTD SVG 1.1//EN'  'http://www.w3.org/Graphics/SVG/1.1/DTD/svg11.dtd'><svg width=\"79.671pt\" height=\"168.93pt\" version=\"1.1\" viewBox=\"0 0 79.671 168.93\" xmlns=\"http://www.w3.org/2000/svg\" xmlns:xlink=\"http://www.w3.org/1999/xlink\"><defs><style type=\"text/css\">*{stroke-linecap:butt;stroke-linejoin:round;}</style></defs><path d=\"m0 168.93h79.671v-168.93h-79.671z\" fill=\"#ffffff\"/><path d=\"m63.381 43.561h4.5451\" clip-path=\"url(#p3639999632)\" fill=\"none\" stroke=\"#000000\" stroke-linecap=\"square\" stroke-width=\"2\"/><path d=\"m63.381 89.012h4.5451\" clip-path=\"url(#p3639999632)\" fill=\"none\" stroke=\"#000000\" stroke-linecap=\"square\" stroke-width=\"2\"/><path d=\"m63.381 132.99h4.5451\" clip-path=\"url(#p3639999632)\" fill=\"none\" stroke=\"#778899\" stroke-linecap=\"square\" stroke-width=\"2\"/><path d=\"m63.381 135.94h4.5451\" clip-path=\"url(#p3639999632)\" fill=\"none\" stroke=\"#778899\" stroke-linecap=\"square\" stroke-width=\"2\"/><path d=\"m72.471 139.01 4.5451-9.0902\" clip-path=\"url(#p3639999632)\" fill=\"none\" stroke=\"#778899\" stroke-linecap=\"square\" stroke-width=\"1.5\"/><g clip-path=\"url(#p3639999632)\"><defs><path id=\"DejaVuSans-Oblique-113\" d=\"m41.703 8.2031q-3.6094-4.7344-8.5312-7.1875-4.9062-2.4375-10.859-2.4375-8.2969 0-13.016 5.5938-4.7031 5.5938-4.7031 15.406 0 7.9062 2.9062 15.281t8.3281 13.234q3.5156 3.8125 8.0781 5.8594t9.5938 2.0469q6.0469 0 9.9531-2.3906t5.6719-7.2188l1.5625 8.2031h9.0312l-14.594-75.203h-9.0469zm-27.781 12.703q0-7.2344 3.0156-11.016 3.0312-3.7812 8.75-3.7812 8.5 0 14.5 8.125t6 19.75q0 7.0312-3.1094 10.766-3.0938 3.7344-8.8906 3.7344-4.25 0-7.875-1.9844-3.6094-1.9688-6.2969-5.7812-2.8281-4-4.4688-9.375-1.625-5.3594-1.625-10.438z\"/><path id=\"DejaVuSans-48\" d=\"m31.781 66.406q-7.6094 0-11.453-7.5-3.8281-7.4844-3.8281-22.531 0-14.984 3.8281-22.484 3.8438-7.5 11.453-7.5 7.6719 0 11.5 7.5 3.8438 7.5 3.8438 22.484 0 15.047-3.8438 22.531-3.8281 7.5-11.5 7.5zm0 7.8125q12.266 0 18.734-9.7031 6.4688-9.6875 6.4688-28.141 0-18.406-6.4688-28.109-6.4688-9.6875-18.734-9.6875-12.25 0-18.719 9.6875-6.4688 9.7031-6.4688 28.109 0 18.453 6.4688 28.141 6.4688 9.7031 18.719 9.7031z\"/></defs><g transform=\"translate(36.253 48.012) scale(.1625 -.1625)\"><use xlink:href=\"#DejaVuSans-Oblique-113\"/><use transform=\"translate(63.477 -16.406) scale(.7)\" xlink:href=\"#DejaVuSans-48\"/></g></g><g clip-path=\"url(#p3639999632)\"><defs><path id=\"DejaVuSans-49\" d=\"m12.406 8.2969h16.109v55.625l-17.531-3.5156v8.9844l17.438 3.5156h9.8594v-64.609h16.109v-8.2969h-41.984z\"/></defs><g transform=\"translate(36.253 93.463) scale(.1625 -.1625)\"><use xlink:href=\"#DejaVuSans-Oblique-113\"/><use transform=\"translate(63.477 -16.406) scale(.7)\" xlink:href=\"#DejaVuSans-49\"/></g></g><g clip-path=\"url(#p3639999632)\"><defs><path id=\"DejaVuSans-50\" d=\"m19.188 8.2969h34.422v-8.2969h-46.281v8.2969q5.6094 5.8125 15.297 15.594 9.7031 9.7969 12.188 12.641 4.7344 5.3125 6.6094 9 1.8906 3.6875 1.8906 7.25 0 5.8125-4.0781 9.4688-4.0781 3.6719-10.625 3.6719-4.6406 0-9.7969-1.6094-5.1406-1.6094-11-4.8906v9.9688q5.9531 2.3906 11.125 3.6094 5.1875 1.2188 9.4844 1.2188 11.328 0 18.062-5.6719 6.7344-5.6562 6.7344-15.125 0-4.5-1.6875-8.5312-1.6719-4.0156-6.125-9.4844-1.2188-1.4219-7.7656-8.1875-6.5312-6.7656-18.453-18.922z\"/></defs><g transform=\"translate(67.926 127.75) scale(.104 -.104)\"><use xlink:href=\"#DejaVuSans-50\"/></g></g><g clip-path=\"url(#p3639999632)\"><defs><path id=\"DejaVuSans-98\" d=\"m48.688 27.297q0 9.9062-4.0781 15.547t-11.203 5.6406q-7.1406 0-11.219-5.6406t-4.0781-15.547 4.0781-15.547 11.219-5.6406q7.125 0 11.203 5.6406t4.0781 15.547zm-30.578 19.094q2.8438 4.875 7.1562 7.2344 4.3281 2.375 10.328 2.375 9.9688 0 16.188-7.9062 6.2344-7.9062 6.2344-20.797t-6.2344-20.812q-6.2188-7.9062-16.188-7.9062-6 0-10.328 2.375-4.3125 2.375-7.1562 7.25v-8.2031h-9.0312v75.984h9.0312z\"/></defs><g transform=\"translate(43.975 138.95) scale(.1625 -.1625)\"><use xlink:href=\"#DejaVuSans-98\"/></g></g><defs><clipPath id=\"p3639999632\"><rect x=\"7.2\" y=\"7.2\" width=\"65.271\" height=\"154.53\"/></clipPath></defs></svg>"
            ],
            "text/plain": [
              "<Figure size 86.452x204.68 with 1 Axes>"
            ]
          },
          "execution_count": 68,
          "metadata": {},
          "output_type": "execute_result"
        }
      ],
      "source": [
        "puzzle.get_circuit().draw(output='mpl')"
      ]
    },
    {
      "cell_type": "markdown",
      "metadata": {
        "id": "1_qIFaWu9OxM"
      },
      "source": [
        "### Puzzle 4\n",
        "\n",
        "#### Introduction\n",
        "\n",
        "Using `x`s or `z`s you can effectively _reflect_ an `ry`, to make it move in the opposite direction.\n",
        "\n",
        "\n",
        "####  Exercise\n",
        "* Turn the Z outputs fully off with just one `ry(pi/4)` on each."
      ]
    },
    {
      "cell_type": "code",
      "execution_count": null,
      "metadata": {
        "id": "JCoa9xLq9OxM"
      },
      "outputs": [],
      "source": [
        "initialize = [['ry(pi/4)','0'],['ry(pi/4)','1']]\n",
        "success_condition = {'ZI': 1.0,'IZ': 1.0}\n",
        "allowed_gates = {'0': {'bloch':0, 'z':0, 'ry(pi/4)': 1}, '1': {'bloch':0, 'x':0, 'ry(pi/4)': 1}, 'both': {'unbloch':0}}\n",
        "vi = [[], True, True]\n",
        "qubit_names = {'0':'q[0]', '1':'q[1]'}\n",
        "puzzle = hello_quantum.run_game(initialize, success_condition, allowed_gates, vi, qubit_names, mode='line')"
      ]
    },
    {
      "cell_type": "code",
      "execution_count": null,
      "metadata": {
        "id": "-X3W1Usq9OxN",
        "outputId": "53d7c985-a96a-466f-91d8-a0a473d0b666"
      },
      "outputs": [
        {
          "data": {
            "image/svg+xml": [
              "<?xml version=\"1.0\" encoding=\"UTF-8\"?><!DOCTYPE svg  PUBLIC '-//W3C//DTD SVG 1.1//EN'  'http://www.w3.org/Graphics/SVG/1.1/DTD/svg11.dtd'><svg width=\"79.671pt\" height=\"168.93pt\" version=\"1.1\" viewBox=\"0 0 79.671 168.93\" xmlns=\"http://www.w3.org/2000/svg\" xmlns:xlink=\"http://www.w3.org/1999/xlink\"><defs><style type=\"text/css\">*{stroke-linecap:butt;stroke-linejoin:round;}</style></defs><path d=\"m0 168.93h79.671v-168.93h-79.671z\" fill=\"#ffffff\"/><path d=\"m63.381 43.561h4.5451\" clip-path=\"url(#pee21e3f56e)\" fill=\"none\" stroke=\"#000000\" stroke-linecap=\"square\" stroke-width=\"2\"/><path d=\"m63.381 89.012h4.5451\" clip-path=\"url(#pee21e3f56e)\" fill=\"none\" stroke=\"#000000\" stroke-linecap=\"square\" stroke-width=\"2\"/><path d=\"m63.381 132.99h4.5451\" clip-path=\"url(#pee21e3f56e)\" fill=\"none\" stroke=\"#778899\" stroke-linecap=\"square\" stroke-width=\"2\"/><path d=\"m63.381 135.94h4.5451\" clip-path=\"url(#pee21e3f56e)\" fill=\"none\" stroke=\"#778899\" stroke-linecap=\"square\" stroke-width=\"2\"/><path d=\"m72.471 139.01 4.5451-9.0902\" clip-path=\"url(#pee21e3f56e)\" fill=\"none\" stroke=\"#778899\" stroke-linecap=\"square\" stroke-width=\"1.5\"/><g clip-path=\"url(#pee21e3f56e)\"><defs><path id=\"DejaVuSans-Oblique-113\" d=\"m41.703 8.2031q-3.6094-4.7344-8.5312-7.1875-4.9062-2.4375-10.859-2.4375-8.2969 0-13.016 5.5938-4.7031 5.5938-4.7031 15.406 0 7.9062 2.9062 15.281t8.3281 13.234q3.5156 3.8125 8.0781 5.8594t9.5938 2.0469q6.0469 0 9.9531-2.3906t5.6719-7.2188l1.5625 8.2031h9.0312l-14.594-75.203h-9.0469zm-27.781 12.703q0-7.2344 3.0156-11.016 3.0312-3.7812 8.75-3.7812 8.5 0 14.5 8.125t6 19.75q0 7.0312-3.1094 10.766-3.0938 3.7344-8.8906 3.7344-4.25 0-7.875-1.9844-3.6094-1.9688-6.2969-5.7812-2.8281-4-4.4688-9.375-1.625-5.3594-1.625-10.438z\"/><path id=\"DejaVuSans-48\" d=\"m31.781 66.406q-7.6094 0-11.453-7.5-3.8281-7.4844-3.8281-22.531 0-14.984 3.8281-22.484 3.8438-7.5 11.453-7.5 7.6719 0 11.5 7.5 3.8438 7.5 3.8438 22.484 0 15.047-3.8438 22.531-3.8281 7.5-11.5 7.5zm0 7.8125q12.266 0 18.734-9.7031 6.4688-9.6875 6.4688-28.141 0-18.406-6.4688-28.109-6.4688-9.6875-18.734-9.6875-12.25 0-18.719 9.6875-6.4688 9.7031-6.4688 28.109 0 18.453 6.4688 28.141 6.4688 9.7031 18.719 9.7031z\"/></defs><g transform=\"translate(36.253 48.012) scale(.1625 -.1625)\"><use xlink:href=\"#DejaVuSans-Oblique-113\"/><use transform=\"translate(63.477 -16.406) scale(.7)\" xlink:href=\"#DejaVuSans-48\"/></g></g><g clip-path=\"url(#pee21e3f56e)\"><defs><path id=\"DejaVuSans-49\" d=\"m12.406 8.2969h16.109v55.625l-17.531-3.5156v8.9844l17.438 3.5156h9.8594v-64.609h16.109v-8.2969h-41.984z\"/></defs><g transform=\"translate(36.253 93.463) scale(.1625 -.1625)\"><use xlink:href=\"#DejaVuSans-Oblique-113\"/><use transform=\"translate(63.477 -16.406) scale(.7)\" xlink:href=\"#DejaVuSans-49\"/></g></g><g clip-path=\"url(#pee21e3f56e)\"><defs><path id=\"DejaVuSans-50\" d=\"m19.188 8.2969h34.422v-8.2969h-46.281v8.2969q5.6094 5.8125 15.297 15.594 9.7031 9.7969 12.188 12.641 4.7344 5.3125 6.6094 9 1.8906 3.6875 1.8906 7.25 0 5.8125-4.0781 9.4688-4.0781 3.6719-10.625 3.6719-4.6406 0-9.7969-1.6094-5.1406-1.6094-11-4.8906v9.9688q5.9531 2.3906 11.125 3.6094 5.1875 1.2188 9.4844 1.2188 11.328 0 18.062-5.6719 6.7344-5.6562 6.7344-15.125 0-4.5-1.6875-8.5312-1.6719-4.0156-6.125-9.4844-1.2188-1.4219-7.7656-8.1875-6.5312-6.7656-18.453-18.922z\"/></defs><g transform=\"translate(67.926 127.75) scale(.104 -.104)\"><use xlink:href=\"#DejaVuSans-50\"/></g></g><g clip-path=\"url(#pee21e3f56e)\"><defs><path id=\"DejaVuSans-98\" d=\"m48.688 27.297q0 9.9062-4.0781 15.547t-11.203 5.6406q-7.1406 0-11.219-5.6406t-4.0781-15.547 4.0781-15.547 11.219-5.6406q7.125 0 11.203 5.6406t4.0781 15.547zm-30.578 19.094q2.8438 4.875 7.1562 7.2344 4.3281 2.375 10.328 2.375 9.9688 0 16.188-7.9062 6.2344-7.9062 6.2344-20.797t-6.2344-20.812q-6.2188-7.9062-16.188-7.9062-6 0-10.328 2.375-4.3125 2.375-7.1562 7.25v-8.2031h-9.0312v75.984h9.0312z\"/></defs><g transform=\"translate(43.975 138.95) scale(.1625 -.1625)\"><use xlink:href=\"#DejaVuSans-98\"/></g></g><defs><clipPath id=\"pee21e3f56e\"><rect x=\"7.2\" y=\"7.2\" width=\"65.271\" height=\"154.53\"/></clipPath></defs></svg>"
            ],
            "text/plain": [
              "<Figure size 86.452x204.68 with 1 Axes>"
            ]
          },
          "execution_count": 70,
          "metadata": {},
          "output_type": "execute_result"
        }
      ],
      "source": [
        "puzzle.get_circuit().draw(output='mpl')"
      ]
    },
    {
      "cell_type": "markdown",
      "metadata": {
        "id": "fcACbm229OxN"
      },
      "source": [
        "### Puzzle 5\n",
        "\n",
        "#### Introduction\n",
        "\n",
        "With the `ry`s, we can make conditional gates that are more interesting than just `cz` and `cx`. For example, we can make a controlled-`h`.\n",
        "\n",
        "\n",
        "####  Exercise\n",
        "* Turn off the Z output for q[1] using exactly one `ry(pi/4)` and `ry(-pi/4)` on that qubit."
      ]
    },
    {
      "cell_type": "code",
      "execution_count": null,
      "metadata": {
        "id": "9IKQBKfu9OxO"
      },
      "outputs": [],
      "source": [
        "initialize = [['x','0'],['h','1']]\n",
        "success_condition = {'IZ': 1.0}\n",
        "allowed_gates = {'0': {}, '1': {'bloch':0, 'cx':0, 'ry(pi/4)': 1, 'ry(-pi/4)': 1}, 'both': {'unbloch':0}}\n",
        "vi = [[], True, True]\n",
        "qubit_names = {'0':'q[0]', '1':'q[1]'}\n",
        "puzzle = hello_quantum.run_game(initialize, success_condition, allowed_gates, vi, qubit_names, mode='line')"
      ]
    },
    {
      "cell_type": "code",
      "execution_count": null,
      "metadata": {
        "id": "x0s9_lrc9OxO",
        "outputId": "87f734a2-073e-4817-ccff-bbbe9dbe09a5"
      },
      "outputs": [
        {
          "data": {
            "image/svg+xml": [
              "<?xml version=\"1.0\" encoding=\"UTF-8\"?><!DOCTYPE svg  PUBLIC '-//W3C//DTD SVG 1.1//EN'  'http://www.w3.org/Graphics/SVG/1.1/DTD/svg11.dtd'><svg width=\"79.671pt\" height=\"168.93pt\" version=\"1.1\" viewBox=\"0 0 79.671 168.93\" xmlns=\"http://www.w3.org/2000/svg\" xmlns:xlink=\"http://www.w3.org/1999/xlink\"><defs><style type=\"text/css\">*{stroke-linecap:butt;stroke-linejoin:round;}</style></defs><path d=\"m0 168.93h79.671v-168.93h-79.671z\" fill=\"#ffffff\"/><path d=\"m63.381 43.561h4.5451\" clip-path=\"url(#p6adccb72c0)\" fill=\"none\" stroke=\"#000000\" stroke-linecap=\"square\" stroke-width=\"2\"/><path d=\"m63.381 89.012h4.5451\" clip-path=\"url(#p6adccb72c0)\" fill=\"none\" stroke=\"#000000\" stroke-linecap=\"square\" stroke-width=\"2\"/><path d=\"m63.381 132.99h4.5451\" clip-path=\"url(#p6adccb72c0)\" fill=\"none\" stroke=\"#778899\" stroke-linecap=\"square\" stroke-width=\"2\"/><path d=\"m63.381 135.94h4.5451\" clip-path=\"url(#p6adccb72c0)\" fill=\"none\" stroke=\"#778899\" stroke-linecap=\"square\" stroke-width=\"2\"/><path d=\"m72.471 139.01 4.5451-9.0902\" clip-path=\"url(#p6adccb72c0)\" fill=\"none\" stroke=\"#778899\" stroke-linecap=\"square\" stroke-width=\"1.5\"/><g clip-path=\"url(#p6adccb72c0)\"><defs><path id=\"DejaVuSans-Oblique-113\" d=\"m41.703 8.2031q-3.6094-4.7344-8.5312-7.1875-4.9062-2.4375-10.859-2.4375-8.2969 0-13.016 5.5938-4.7031 5.5938-4.7031 15.406 0 7.9062 2.9062 15.281t8.3281 13.234q3.5156 3.8125 8.0781 5.8594t9.5938 2.0469q6.0469 0 9.9531-2.3906t5.6719-7.2188l1.5625 8.2031h9.0312l-14.594-75.203h-9.0469zm-27.781 12.703q0-7.2344 3.0156-11.016 3.0312-3.7812 8.75-3.7812 8.5 0 14.5 8.125t6 19.75q0 7.0312-3.1094 10.766-3.0938 3.7344-8.8906 3.7344-4.25 0-7.875-1.9844-3.6094-1.9688-6.2969-5.7812-2.8281-4-4.4688-9.375-1.625-5.3594-1.625-10.438z\"/><path id=\"DejaVuSans-48\" d=\"m31.781 66.406q-7.6094 0-11.453-7.5-3.8281-7.4844-3.8281-22.531 0-14.984 3.8281-22.484 3.8438-7.5 11.453-7.5 7.6719 0 11.5 7.5 3.8438 7.5 3.8438 22.484 0 15.047-3.8438 22.531-3.8281 7.5-11.5 7.5zm0 7.8125q12.266 0 18.734-9.7031 6.4688-9.6875 6.4688-28.141 0-18.406-6.4688-28.109-6.4688-9.6875-18.734-9.6875-12.25 0-18.719 9.6875-6.4688 9.7031-6.4688 28.109 0 18.453 6.4688 28.141 6.4688 9.7031 18.719 9.7031z\"/></defs><g transform=\"translate(36.253 48.012) scale(.1625 -.1625)\"><use xlink:href=\"#DejaVuSans-Oblique-113\"/><use transform=\"translate(63.477 -16.406) scale(.7)\" xlink:href=\"#DejaVuSans-48\"/></g></g><g clip-path=\"url(#p6adccb72c0)\"><defs><path id=\"DejaVuSans-49\" d=\"m12.406 8.2969h16.109v55.625l-17.531-3.5156v8.9844l17.438 3.5156h9.8594v-64.609h16.109v-8.2969h-41.984z\"/></defs><g transform=\"translate(36.253 93.463) scale(.1625 -.1625)\"><use xlink:href=\"#DejaVuSans-Oblique-113\"/><use transform=\"translate(63.477 -16.406) scale(.7)\" xlink:href=\"#DejaVuSans-49\"/></g></g><g clip-path=\"url(#p6adccb72c0)\"><defs><path id=\"DejaVuSans-50\" d=\"m19.188 8.2969h34.422v-8.2969h-46.281v8.2969q5.6094 5.8125 15.297 15.594 9.7031 9.7969 12.188 12.641 4.7344 5.3125 6.6094 9 1.8906 3.6875 1.8906 7.25 0 5.8125-4.0781 9.4688-4.0781 3.6719-10.625 3.6719-4.6406 0-9.7969-1.6094-5.1406-1.6094-11-4.8906v9.9688q5.9531 2.3906 11.125 3.6094 5.1875 1.2188 9.4844 1.2188 11.328 0 18.062-5.6719 6.7344-5.6562 6.7344-15.125 0-4.5-1.6875-8.5312-1.6719-4.0156-6.125-9.4844-1.2188-1.4219-7.7656-8.1875-6.5312-6.7656-18.453-18.922z\"/></defs><g transform=\"translate(67.926 127.75) scale(.104 -.104)\"><use xlink:href=\"#DejaVuSans-50\"/></g></g><g clip-path=\"url(#p6adccb72c0)\"><defs><path id=\"DejaVuSans-98\" d=\"m48.688 27.297q0 9.9062-4.0781 15.547t-11.203 5.6406q-7.1406 0-11.219-5.6406t-4.0781-15.547 4.0781-15.547 11.219-5.6406q7.125 0 11.203 5.6406t4.0781 15.547zm-30.578 19.094q2.8438 4.875 7.1562 7.2344 4.3281 2.375 10.328 2.375 9.9688 0 16.188-7.9062 6.2344-7.9062 6.2344-20.797t-6.2344-20.812q-6.2188-7.9062-16.188-7.9062-6 0-10.328 2.375-4.3125 2.375-7.1562 7.25v-8.2031h-9.0312v75.984h9.0312z\"/></defs><g transform=\"translate(43.975 138.95) scale(.1625 -.1625)\"><use xlink:href=\"#DejaVuSans-98\"/></g></g><defs><clipPath id=\"p6adccb72c0\"><rect x=\"7.2\" y=\"7.2\" width=\"65.271\" height=\"154.53\"/></clipPath></defs></svg>"
            ],
            "text/plain": [
              "<Figure size 86.452x204.68 with 1 Axes>"
            ]
          },
          "execution_count": 72,
          "metadata": {},
          "output_type": "execute_result"
        }
      ],
      "source": [
        "puzzle.get_circuit().draw(output='mpl')"
      ]
    },
    {
      "cell_type": "markdown",
      "metadata": {
        "id": "pjpGU3vR9OxO"
      },
      "source": [
        "## Bonus Level: Sandbox\n",
        "\n",
        "You now know enough basic quantum gates to build fully powerful quantum programs. You'll get a taste of this in the final level. But before then, here are a couple of bonus levels.\n",
        "\n",
        "Firstly, a sandbox to try out your new skills: two grids with all the gates enabled, so you can have a play around.\n",
        "\n",
        "Here's one with the line-based visualization, to help with the non-Clifford gates."
      ]
    },
    {
      "cell_type": "code",
      "execution_count": null,
      "metadata": {
        "id": "C7TytTrv9OxO"
      },
      "outputs": [],
      "source": [
        "initialize = []\n",
        "success_condition = {'IZ': 1.0,'IX': 1.0}\n",
        "allowed_gates = {'0': {'bloch':0, 'x':0, 'z':0, 'h':0, 'cx':0, 'ry(pi/4)': 0, 'ry(-pi/4)': 0}, '1': {'bloch':0, 'x':0, 'z':0, 'h':0, 'cx':0, 'ry(pi/4)': 0, 'ry(-pi/4)': 0}, 'both': {'cz':0, 'unbloch':0}}\n",
        "vi = [[], True, True]\n",
        "qubit_names = {'0':'q[0]', '1':'q[1]'}\n",
        "line_sandbox = hello_quantum.run_game(initialize, success_condition, allowed_gates, vi, qubit_names, mode='line')"
      ]
    },
    {
      "cell_type": "code",
      "execution_count": null,
      "metadata": {
        "id": "dya6t9e39OxP",
        "outputId": "838ffaa8-7279-4603-c194-28c07d251c91"
      },
      "outputs": [
        {
          "data": {
            "image/svg+xml": [
              "<?xml version=\"1.0\" encoding=\"UTF-8\"?><!DOCTYPE svg  PUBLIC '-//W3C//DTD SVG 1.1//EN'  'http://www.w3.org/Graphics/SVG/1.1/DTD/svg11.dtd'><svg width=\"79.671pt\" height=\"168.93pt\" version=\"1.1\" viewBox=\"0 0 79.671 168.93\" xmlns=\"http://www.w3.org/2000/svg\" xmlns:xlink=\"http://www.w3.org/1999/xlink\"><defs><style type=\"text/css\">*{stroke-linecap:butt;stroke-linejoin:round;}</style></defs><path d=\"m0 168.93h79.671v-168.93h-79.671z\" fill=\"#ffffff\"/><path d=\"m63.381 43.561h4.5451\" clip-path=\"url(#pee5af81647)\" fill=\"none\" stroke=\"#000000\" stroke-linecap=\"square\" stroke-width=\"2\"/><path d=\"m63.381 89.012h4.5451\" clip-path=\"url(#pee5af81647)\" fill=\"none\" stroke=\"#000000\" stroke-linecap=\"square\" stroke-width=\"2\"/><path d=\"m63.381 132.99h4.5451\" clip-path=\"url(#pee5af81647)\" fill=\"none\" stroke=\"#778899\" stroke-linecap=\"square\" stroke-width=\"2\"/><path d=\"m63.381 135.94h4.5451\" clip-path=\"url(#pee5af81647)\" fill=\"none\" stroke=\"#778899\" stroke-linecap=\"square\" stroke-width=\"2\"/><path d=\"m72.471 139.01 4.5451-9.0902\" clip-path=\"url(#pee5af81647)\" fill=\"none\" stroke=\"#778899\" stroke-linecap=\"square\" stroke-width=\"1.5\"/><g clip-path=\"url(#pee5af81647)\"><defs><path id=\"DejaVuSans-Oblique-113\" d=\"m41.703 8.2031q-3.6094-4.7344-8.5312-7.1875-4.9062-2.4375-10.859-2.4375-8.2969 0-13.016 5.5938-4.7031 5.5938-4.7031 15.406 0 7.9062 2.9062 15.281t8.3281 13.234q3.5156 3.8125 8.0781 5.8594t9.5938 2.0469q6.0469 0 9.9531-2.3906t5.6719-7.2188l1.5625 8.2031h9.0312l-14.594-75.203h-9.0469zm-27.781 12.703q0-7.2344 3.0156-11.016 3.0312-3.7812 8.75-3.7812 8.5 0 14.5 8.125t6 19.75q0 7.0312-3.1094 10.766-3.0938 3.7344-8.8906 3.7344-4.25 0-7.875-1.9844-3.6094-1.9688-6.2969-5.7812-2.8281-4-4.4688-9.375-1.625-5.3594-1.625-10.438z\"/><path id=\"DejaVuSans-48\" d=\"m31.781 66.406q-7.6094 0-11.453-7.5-3.8281-7.4844-3.8281-22.531 0-14.984 3.8281-22.484 3.8438-7.5 11.453-7.5 7.6719 0 11.5 7.5 3.8438 7.5 3.8438 22.484 0 15.047-3.8438 22.531-3.8281 7.5-11.5 7.5zm0 7.8125q12.266 0 18.734-9.7031 6.4688-9.6875 6.4688-28.141 0-18.406-6.4688-28.109-6.4688-9.6875-18.734-9.6875-12.25 0-18.719 9.6875-6.4688 9.7031-6.4688 28.109 0 18.453 6.4688 28.141 6.4688 9.7031 18.719 9.7031z\"/></defs><g transform=\"translate(36.253 48.012) scale(.1625 -.1625)\"><use xlink:href=\"#DejaVuSans-Oblique-113\"/><use transform=\"translate(63.477 -16.406) scale(.7)\" xlink:href=\"#DejaVuSans-48\"/></g></g><g clip-path=\"url(#pee5af81647)\"><defs><path id=\"DejaVuSans-49\" d=\"m12.406 8.2969h16.109v55.625l-17.531-3.5156v8.9844l17.438 3.5156h9.8594v-64.609h16.109v-8.2969h-41.984z\"/></defs><g transform=\"translate(36.253 93.463) scale(.1625 -.1625)\"><use xlink:href=\"#DejaVuSans-Oblique-113\"/><use transform=\"translate(63.477 -16.406) scale(.7)\" xlink:href=\"#DejaVuSans-49\"/></g></g><g clip-path=\"url(#pee5af81647)\"><defs><path id=\"DejaVuSans-50\" d=\"m19.188 8.2969h34.422v-8.2969h-46.281v8.2969q5.6094 5.8125 15.297 15.594 9.7031 9.7969 12.188 12.641 4.7344 5.3125 6.6094 9 1.8906 3.6875 1.8906 7.25 0 5.8125-4.0781 9.4688-4.0781 3.6719-10.625 3.6719-4.6406 0-9.7969-1.6094-5.1406-1.6094-11-4.8906v9.9688q5.9531 2.3906 11.125 3.6094 5.1875 1.2188 9.4844 1.2188 11.328 0 18.062-5.6719 6.7344-5.6562 6.7344-15.125 0-4.5-1.6875-8.5312-1.6719-4.0156-6.125-9.4844-1.2188-1.4219-7.7656-8.1875-6.5312-6.7656-18.453-18.922z\"/></defs><g transform=\"translate(67.926 127.75) scale(.104 -.104)\"><use xlink:href=\"#DejaVuSans-50\"/></g></g><g clip-path=\"url(#pee5af81647)\"><defs><path id=\"DejaVuSans-98\" d=\"m48.688 27.297q0 9.9062-4.0781 15.547t-11.203 5.6406q-7.1406 0-11.219-5.6406t-4.0781-15.547 4.0781-15.547 11.219-5.6406q7.125 0 11.203 5.6406t4.0781 15.547zm-30.578 19.094q2.8438 4.875 7.1562 7.2344 4.3281 2.375 10.328 2.375 9.9688 0 16.188-7.9062 6.2344-7.9062 6.2344-20.797t-6.2344-20.812q-6.2188-7.9062-16.188-7.9062-6 0-10.328 2.375-4.3125 2.375-7.1562 7.25v-8.2031h-9.0312v75.984h9.0312z\"/></defs><g transform=\"translate(43.975 138.95) scale(.1625 -.1625)\"><use xlink:href=\"#DejaVuSans-98\"/></g></g><defs><clipPath id=\"pee5af81647\"><rect x=\"7.2\" y=\"7.2\" width=\"65.271\" height=\"154.53\"/></clipPath></defs></svg>"
            ],
            "text/plain": [
              "<Figure size 86.452x204.68 with 1 Axes>"
            ]
          },
          "execution_count": 74,
          "metadata": {},
          "output_type": "execute_result"
        }
      ],
      "source": [
        "line_sandbox.get_circuit().draw(output='mpl')"
      ]
    },
    {
      "cell_type": "markdown",
      "metadata": {
        "id": "PXUZKBXe9OxP"
      },
      "source": [
        "Here is a grid with the middle lines, which describe outputs for y measurements. With this you can also try some new non-Clifford gates: `rx(pi/4)`' and `rx(-pi/4)`."
      ]
    },
    {
      "cell_type": "code",
      "execution_count": null,
      "metadata": {
        "id": "C0NbfjKa9OxP"
      },
      "outputs": [],
      "source": [
        "initialize = []\n",
        "success_condition = {'IZ': 1.0,'IX': 1.0}\n",
        "allowed_gates = {'0': {'x':0, 'z':0, 'h':0, 'cx':0, 'ry(pi/4)': 0, 'rx(pi/4)': 0, 'ry(-pi/4)': 0, 'rx(-pi/4)': 0}, '1': {'x':0, 'z':0, 'h':0, 'cx':0, 'ry(pi/4)': 0, 'rx(pi/4)': 0, 'ry(-pi/4)': 0, 'rx(-pi/4)': 0}, 'both': {'cz':0}}\n",
        "vi = [[], True, True]\n",
        "qubit_names = {'0':'q[0]', '1':'q[1]'}\n",
        "y_sandbox = hello_quantum.run_game(initialize, success_condition, allowed_gates, vi, qubit_names, mode='y')"
      ]
    },
    {
      "cell_type": "code",
      "execution_count": null,
      "metadata": {
        "id": "E51c85nc9OxP",
        "outputId": "11135bcb-04ff-418e-e0ed-e0d695624090"
      },
      "outputs": [
        {
          "data": {
            "image/svg+xml": [
              "<?xml version=\"1.0\" encoding=\"UTF-8\"?><!DOCTYPE svg  PUBLIC '-//W3C//DTD SVG 1.1//EN'  'http://www.w3.org/Graphics/SVG/1.1/DTD/svg11.dtd'><svg width=\"79.671pt\" height=\"168.93pt\" version=\"1.1\" viewBox=\"0 0 79.671 168.93\" xmlns=\"http://www.w3.org/2000/svg\" xmlns:xlink=\"http://www.w3.org/1999/xlink\"><defs><style type=\"text/css\">*{stroke-linecap:butt;stroke-linejoin:round;}</style></defs><path d=\"m0 168.93h79.671v-168.93h-79.671z\" fill=\"#ffffff\"/><path d=\"m63.381 43.561h4.5451\" clip-path=\"url(#pbdc9a39fcd)\" fill=\"none\" stroke=\"#000000\" stroke-linecap=\"square\" stroke-width=\"2\"/><path d=\"m63.381 89.012h4.5451\" clip-path=\"url(#pbdc9a39fcd)\" fill=\"none\" stroke=\"#000000\" stroke-linecap=\"square\" stroke-width=\"2\"/><path d=\"m63.381 132.99h4.5451\" clip-path=\"url(#pbdc9a39fcd)\" fill=\"none\" stroke=\"#778899\" stroke-linecap=\"square\" stroke-width=\"2\"/><path d=\"m63.381 135.94h4.5451\" clip-path=\"url(#pbdc9a39fcd)\" fill=\"none\" stroke=\"#778899\" stroke-linecap=\"square\" stroke-width=\"2\"/><path d=\"m72.471 139.01 4.5451-9.0902\" clip-path=\"url(#pbdc9a39fcd)\" fill=\"none\" stroke=\"#778899\" stroke-linecap=\"square\" stroke-width=\"1.5\"/><g clip-path=\"url(#pbdc9a39fcd)\"><defs><path id=\"DejaVuSans-Oblique-113\" d=\"m41.703 8.2031q-3.6094-4.7344-8.5312-7.1875-4.9062-2.4375-10.859-2.4375-8.2969 0-13.016 5.5938-4.7031 5.5938-4.7031 15.406 0 7.9062 2.9062 15.281t8.3281 13.234q3.5156 3.8125 8.0781 5.8594t9.5938 2.0469q6.0469 0 9.9531-2.3906t5.6719-7.2188l1.5625 8.2031h9.0312l-14.594-75.203h-9.0469zm-27.781 12.703q0-7.2344 3.0156-11.016 3.0312-3.7812 8.75-3.7812 8.5 0 14.5 8.125t6 19.75q0 7.0312-3.1094 10.766-3.0938 3.7344-8.8906 3.7344-4.25 0-7.875-1.9844-3.6094-1.9688-6.2969-5.7812-2.8281-4-4.4688-9.375-1.625-5.3594-1.625-10.438z\"/><path id=\"DejaVuSans-48\" d=\"m31.781 66.406q-7.6094 0-11.453-7.5-3.8281-7.4844-3.8281-22.531 0-14.984 3.8281-22.484 3.8438-7.5 11.453-7.5 7.6719 0 11.5 7.5 3.8438 7.5 3.8438 22.484 0 15.047-3.8438 22.531-3.8281 7.5-11.5 7.5zm0 7.8125q12.266 0 18.734-9.7031 6.4688-9.6875 6.4688-28.141 0-18.406-6.4688-28.109-6.4688-9.6875-18.734-9.6875-12.25 0-18.719 9.6875-6.4688 9.7031-6.4688 28.109 0 18.453 6.4688 28.141 6.4688 9.7031 18.719 9.7031z\"/></defs><g transform=\"translate(36.253 48.012) scale(.1625 -.1625)\"><use xlink:href=\"#DejaVuSans-Oblique-113\"/><use transform=\"translate(63.477 -16.406) scale(.7)\" xlink:href=\"#DejaVuSans-48\"/></g></g><g clip-path=\"url(#pbdc9a39fcd)\"><defs><path id=\"DejaVuSans-49\" d=\"m12.406 8.2969h16.109v55.625l-17.531-3.5156v8.9844l17.438 3.5156h9.8594v-64.609h16.109v-8.2969h-41.984z\"/></defs><g transform=\"translate(36.253 93.463) scale(.1625 -.1625)\"><use xlink:href=\"#DejaVuSans-Oblique-113\"/><use transform=\"translate(63.477 -16.406) scale(.7)\" xlink:href=\"#DejaVuSans-49\"/></g></g><g clip-path=\"url(#pbdc9a39fcd)\"><defs><path id=\"DejaVuSans-50\" d=\"m19.188 8.2969h34.422v-8.2969h-46.281v8.2969q5.6094 5.8125 15.297 15.594 9.7031 9.7969 12.188 12.641 4.7344 5.3125 6.6094 9 1.8906 3.6875 1.8906 7.25 0 5.8125-4.0781 9.4688-4.0781 3.6719-10.625 3.6719-4.6406 0-9.7969-1.6094-5.1406-1.6094-11-4.8906v9.9688q5.9531 2.3906 11.125 3.6094 5.1875 1.2188 9.4844 1.2188 11.328 0 18.062-5.6719 6.7344-5.6562 6.7344-15.125 0-4.5-1.6875-8.5312-1.6719-4.0156-6.125-9.4844-1.2188-1.4219-7.7656-8.1875-6.5312-6.7656-18.453-18.922z\"/></defs><g transform=\"translate(67.926 127.75) scale(.104 -.104)\"><use xlink:href=\"#DejaVuSans-50\"/></g></g><g clip-path=\"url(#pbdc9a39fcd)\"><defs><path id=\"DejaVuSans-98\" d=\"m48.688 27.297q0 9.9062-4.0781 15.547t-11.203 5.6406q-7.1406 0-11.219-5.6406t-4.0781-15.547 4.0781-15.547 11.219-5.6406q7.125 0 11.203 5.6406t4.0781 15.547zm-30.578 19.094q2.8438 4.875 7.1562 7.2344 4.3281 2.375 10.328 2.375 9.9688 0 16.188-7.9062 6.2344-7.9062 6.2344-20.797t-6.2344-20.812q-6.2188-7.9062-16.188-7.9062-6 0-10.328 2.375-4.3125 2.375-7.1562 7.25v-8.2031h-9.0312v75.984h9.0312z\"/></defs><g transform=\"translate(43.975 138.95) scale(.1625 -.1625)\"><use xlink:href=\"#DejaVuSans-98\"/></g></g><defs><clipPath id=\"pbdc9a39fcd\"><rect x=\"7.2\" y=\"7.2\" width=\"65.271\" height=\"154.53\"/></clipPath></defs></svg>"
            ],
            "text/plain": [
              "<Figure size 86.452x204.68 with 1 Axes>"
            ]
          },
          "execution_count": 76,
          "metadata": {},
          "output_type": "execute_result"
        }
      ],
      "source": [
        "y_sandbox.get_circuit().draw(output='mpl')"
      ]
    },
    {
      "cell_type": "markdown",
      "metadata": {
        "id": "JsOY3OQy9OxQ"
      },
      "source": [
        "## Bonus Level: Make your own puzzles\n",
        "\n",
        "As well as giving you some puzzles, we've also given you the opportunity to make and share puzzles of your own. Using the Quantum Experience you can easily make your own notebook full of your own puzzles.\n",
        "\n",
        "Start by clicking the 'New Notebook' button on [this page](https://quantum-computing.ibm.com/jupyter). Then add the following line to the list of imports.\n",
        "\n",
        "```\n",
        "from qiskit_textbook.games import hello_quantum\n",
        "```\n",
        "\n",
        "This gives you the tools you need for making puzzles. Specifically, you need to create your own call to the `run_game` function using the following form.\n",
        "\n",
        "```\n",
        "puzzle = hello_quantum.run_game(initialize, success_condition, allowed_gates, vi, qubit_names, mode=None)\n",
        "```\n",
        "\n",
        "All the elements of this are explained below.\n",
        "\n",
        "`puzzle`\n",
        "\n",
        "* This is an object containing the puzzle you create.\n",
        "* The quantum circuit made by the player can be accessed using `puzzle.get_circuit()`.\n",
        "\n",
        "`initialize`\n",
        "\n",
        "* A list of gates applied before the puzzle begins, to prepare the initial state.\n",
        "* If this is empty, the default initial state of qubits is used (the Z output is certain to be `0`).\n",
        "* Supported single qubit gates (applied to qubit `'0'` or `'1'`) are `'x'`, `'y'`, `'z'`, `'h'` and `'ry(pi/4)'`.\n",
        "* Supported two qubit gates are `'cz'` and `'cx'`. For these, specify only the target qubit.\n",
        "* Example: `initialize = [['x', '0'],['cx', '1']]`.\n",
        "\n",
        "`success_condition`\n",
        "\n",
        "* Values for Pauli observables that must be obtained for the puzzle to declare success.\n",
        "* Expressed as a dictionary whose keys are the names of the circles in the following form:\n",
        "    * `'ZI'` refers to the Z output of the qubit on the left, and `'XI'` for its X output.\n",
        "    * `'IZ'` and `'IX'` are similarly the outputs for the qubit on the right.\n",
        "    * `'ZX'` refers to the circle for correlations between Z output for the qubit on the left and the X output on the right.\n",
        "    * And so on.\n",
        "* The values of the dictionary are the values that these circles must hold for the puzzle to be completed.\n",
        "    * 1.0 for black.\n",
        "    * -1.0 for white.\n",
        "    * 0.0 for grey.\n",
        "    * And so on.\n",
        "* Only the circles you want to be included in the condition need to be listed.\n",
        "* Example: `success_condition = {'IZ': 1.0}`.\n",
        "\n",
        "`allowed_gates`\n",
        "\n",
        "* For each qubit, specify which operations are allowed in this puzzle.\n",
        "* For operations that don't need a qubit to be specified (`'cz'` and `'unbloch'`), assign the operation to `'both'` instead of qubit `'0'` or `'1'`.\n",
        "* Gates are expressed as a dictionary with an integer as the value.\n",
        "    * If the integer is non-zero, it specifies the exact number of times the gate must be used for the puzzle to be successfully solved.\n",
        "    * If it is zero, the player can use the gate any number of times.\n",
        "* Example: `allowed_gates = {'0': {'h':0}, '1': {'h':0}, 'both': {'cz': 1}}`.\n",
        "\n",
        "`vi`\n",
        "\n",
        "* Some visualization information as a three element list: `vi=[hidden,qubit,corr]`. These specify:\n",
        "    * `hidden`: Which qubits are hidden (empty list if both shown).\n",
        "    * `qubit`: Whether both circles shown for each qubit? (use `True` for qubit puzzles and `False` for bit puzzles).\n",
        "    * `corr`: Whether the correlation circles (the four in the middle) are shown.\n",
        "* Example: `vi = [[], True, True]`.\n",
        "\n",
        "`qubit_names`\n",
        "\n",
        "* The two qubits are always called `'0'` and `'1'` internally. But for the player, we can display different names.\n",
        "* Example: `qubit_names = {'0':'qubit 0', '1':'qubit 1'}`\n",
        "\n",
        "`mode`\n",
        "\n",
        "* An optional argument, which allows you to choose whether to include the Y output rows or use the line-based visualization.\n",
        "* Using `mode=None`, or not including the mode argument at all, gives the default mode.\n",
        "* `mode='y'` includes the Y output rows.\n",
        "* `mode='line'` gives the line-based visualization.\n",
        "\n",
        "\n",
        "\n",
        "\n",
        "The puzzle defined by the examples given here can be run in the following cell."
      ]
    },
    {
      "cell_type": "code",
      "execution_count": null,
      "metadata": {
        "id": "z9h9GX3Z9Oxa"
      },
      "outputs": [],
      "source": [
        "initialize = [['x', '0'],['cx', '1']]\n",
        "success_condition = {'IZ': 1.0}\n",
        "allowed_gates = {'0': {'h':0}, '1': {'h':0}, 'both': {'cz': 1}}\n",
        "vi = [[], True, True]\n",
        "qubit_names = {'0':'qubit 0', '1':'qubit 1'}\n",
        "mode = None\n",
        "puzzle = hello_quantum.run_game(initialize, success_condition, allowed_gates, vi, qubit_names, mode=mode)"
      ]
    },
    {
      "cell_type": "markdown",
      "metadata": {
        "id": "AqzO0MNu9Oxa"
      },
      "source": [
        "Remember to tell players what they should be aiming for. For all the puzzles in this notebook, the target state was described with text. But you can instead create an image of the target state, including a short message for the player, in the following way. This again uses the example parameters provided above."
      ]
    },
    {
      "cell_type": "code",
      "execution_count": null,
      "metadata": {
        "id": "AN1YDknT9Oxa",
        "outputId": "303b6c6e-7a39-4f97-8966-e86106dbd05c"
      },
      "outputs": [
        {
          "data": {
            "image/svg+xml": [
              "<?xml version=\"1.0\" encoding=\"UTF-8\"?><!DOCTYPE svg  PUBLIC '-//W3C//DTD SVG 1.1//EN'  'http://www.w3.org/Graphics/SVG/1.1/DTD/svg11.dtd'><svg width=\"349.2pt\" height=\"340.56pt\" version=\"1.1\" viewBox=\"0 0 349.2 340.56\" xmlns=\"http://www.w3.org/2000/svg\" xmlns:xlink=\"http://www.w3.org/1999/xlink\"><defs><style type=\"text/css\">*{stroke-linecap:butt;stroke-linejoin:round;}</style></defs><path d=\"m0 340.56h349.2v-340.56h-349.2z\" fill=\"#02488a\"/><path d=\"m118.8 279 54.684-53.273-54.684-53.273-54.684 53.273z\" clip-path=\"url(#p9f7f983016)\" fill=\"#84b1ec\" stroke=\"#84b1ec\"/><path d=\"m63 224.64 54.684-53.273-54.684-53.273-54.684 53.273z\" clip-path=\"url(#p9f7f983016)\" fill=\"#84b1ec\" stroke=\"#84b1ec\"/><path d=\"m230.4 279 54.684-53.273-54.684-53.273-54.684 53.273z\" clip-path=\"url(#p9f7f983016)\" fill=\"#84b1ec\" stroke=\"#84b1ec\"/><path d=\"m286.2 224.64 54.684-53.273-54.684-53.273-54.684 53.273z\" clip-path=\"url(#p9f7f983016)\" fill=\"#84b1ec\" stroke=\"#84b1ec\"/><path d=\"m174.6 224.64 54.684-53.273-54.684-53.273-54.684 53.273z\" clip-path=\"url(#p9f7f983016)\" fill=\"#2172d8\" stroke=\"#2172d8\"/><path d=\"m230.4 170.28 54.684-53.273-54.684-53.273-54.684 53.273z\" clip-path=\"url(#p9f7f983016)\" fill=\"#2172d8\" stroke=\"#2172d8\"/><path d=\"m118.8 170.28 54.684-53.273-54.684-53.273-54.684 53.273z\" clip-path=\"url(#p9f7f983016)\" fill=\"#2172d8\" stroke=\"#2172d8\"/><path d=\"m174.6 115.92 54.684-53.273-54.684-53.273-54.684 53.273z\" clip-path=\"url(#p9f7f983016)\" fill=\"#2172d8\" stroke=\"#2172d8\"/><path d=\"m230.4 257.26c8.879 0 17.396-3.4366 23.674-9.553 6.2784-6.1164 9.8061-14.413 9.8061-23.063s-3.5277-16.947-9.8061-23.063c-6.2784-6.1164-14.795-9.553-23.674-9.553s-17.396 3.4366-23.674 9.553c-6.2784 6.1164-9.8061 14.413-9.8061 23.063s3.5277 16.947 9.8061 23.063c6.2784 6.1164 14.795 9.553 23.674 9.553z\" clip-path=\"url(#p9f7f983016)\" stroke=\"#000000\"/><defs><path id=\"DejaVuSans-82\" d=\"m44.391 34.188q3.1719-1.0781 6.1719-4.5938t6.0312-9.6719l10.016-19.922h-10.609l-9.3125 18.703q-3.625 7.3281-7.0156 9.7188t-9.25 2.3906h-10.75v-30.812h-9.8594v72.906h22.266q12.5 0 18.656-5.2344 6.1562-5.2188 6.1562-15.766 0-6.8906-3.2031-11.438-3.2031-4.5312-9.2969-6.2812zm-24.719 30.609v-25.875h12.406q7.125 0 10.766 3.2969t3.6406 9.6875-3.6406 9.6406-10.766 3.25z\"/><path id=\"DejaVuSans-117\" d=\"m8.5 21.578v33.109h8.9844v-32.766q0-7.7656 3.0156-11.656 3.0312-3.875 9.0938-3.875 7.2656 0 11.484 4.6406 4.2344 4.6406 4.2344 12.656v31h8.9844v-54.688h-8.9844v8.4062q-3.2656-4.9844-7.5938-7.4062-4.3125-2.4219-10.031-2.4219-9.4219 0-14.312 5.8594-4.875 5.8594-4.875 17.141z\"/><path id=\"DejaVuSans-108\" d=\"m9.4219 75.984h8.9844v-75.984h-8.9844z\"/><path id=\"DejaVuSans-101\" d=\"m56.203 29.594v-4.3906h-41.312q0.59375-9.2812 5.5938-14.141t13.938-4.8594q5.1719 0 10.031 1.2656t9.6562 3.8125v-8.5q-4.8438-2.0469-9.9219-3.125t-10.297-1.0781q-13.094 0-20.734 7.6094-7.6406 7.625-7.6406 20.625 0 13.422 7.25 21.297 7.25 7.8906 19.562 7.8906 11.031 0 17.453-7.1094 6.4219-7.0938 6.4219-19.297zm-8.9844 2.6406q-0.09375 7.3594-4.125 11.75-4.0312 4.4062-10.672 4.4062-7.5156 0-12.031-4.25t-5.2031-11.969z\"/><path id=\"DejaVuSans-115\" d=\"m44.281 53.078v-8.5q-3.7969 1.9531-7.9062 2.9219-4.0938 0.98438-8.5 0.98438-6.6875 0-10.031-2.0469t-3.3438-6.1562q0-3.125 2.3906-4.9062t9.625-3.3906l3.0781-0.6875q9.5625-2.0469 13.594-5.7812t4.0312-10.422q0-7.625-6.0312-12.078-6.0312-4.4375-16.578-4.4375-4.3906 0-9.1562 0.85938t-10.031 2.5625v9.2812q4.9844-2.5938 9.8125-3.8906 4.8281-1.2812 9.5781-1.2812 6.3438 0 9.75 2.1719 3.4219 2.1719 3.4219 6.125 0 3.6562-2.4688 5.6094-2.4531 1.9531-10.812 3.7656l-3.125 0.73438q-8.3438 1.75-12.062 5.3906-3.7031 3.6406-3.7031 9.9844 0 7.7188 5.4688 11.906 5.4688 4.2031 15.531 4.2031 4.9688 0 9.3594-0.73438 4.4062-0.71875 8.1094-2.1875z\"/><path id=\"DejaVuSans-58\" d=\"m11.719 12.406h10.297v-12.406h-10.297zm0 39.297h10.297v-12.391h-10.297z\"/></defs><g transform=\"translate(7.2 295.92) scale(.09 -.09)\" fill=\"#ffffff\"><use xlink:href=\"#DejaVuSans-82\"/><use x=\"64.982422\" xlink:href=\"#DejaVuSans-117\"/><use x=\"128.361328\" xlink:href=\"#DejaVuSans-108\"/><use x=\"156.144531\" xlink:href=\"#DejaVuSans-101\"/><use x=\"217.667969\" xlink:href=\"#DejaVuSans-115\"/><use x=\"269.767578\" xlink:href=\"#DejaVuSans-58\"/></g><defs><path id=\"DejaVuSans-85\" d=\"m8.6875 72.906h9.9219v-44.297q0-11.719 4.2344-16.875 4.25-5.1406 13.781-5.1406 9.4688 0 13.719 5.1406 4.25 5.1562 4.25 16.875v44.297h9.9062v-45.516q0-14.25-7.0625-21.531-7.0469-7.2812-20.812-7.2812-13.828 0-20.891 7.2812-7.0469 7.2812-7.0469 21.531z\"/><path id=\"DejaVuSans-120\" d=\"m54.891 54.688-19.781-26.609 20.797-28.078h-10.594l-15.922 21.484-15.906-21.484h-10.609l21.25 28.609-19.438 26.078h10.594l14.5-19.484 14.5 19.484z\"/><path id=\"DejaVuSans-97\" d=\"m34.281 27.484q-10.891 0-15.094-2.4844t-4.2031-8.5q0-4.7812 3.1562-7.5938 3.1562-2.7969 8.5625-2.7969 7.4844 0 12 5.2969t4.5156 14.078v2zm17.922 3.7188v-31.203h-8.9844v8.2969q-3.0781-4.9688-7.6719-7.3438t-11.234-2.375q-8.3906 0-13.359 4.7188-4.9531 4.7188-4.9531 12.625 0 9.2188 6.1719 13.906 6.1875 4.6875 18.438 4.6875h12.609v0.89062q0 6.2031-4.0781 9.5938t-11.453 3.3906q-4.6875 0-9.1406-1.125-4.4375-1.125-8.5312-3.375v8.3125q4.9219 1.9062 9.5625 2.8438 4.6406 0.95312 9.0312 0.95312 11.875 0 17.734-6.1562 5.8594-6.1406 5.8594-18.641z\"/><path id=\"DejaVuSans-99\" d=\"m48.781 52.594v-8.4062q-3.8125 2.1094-7.6406 3.1562t-7.7344 1.0469q-8.75 0-13.594-5.5469-4.8281-5.5312-4.8281-15.547t4.8281-15.562q4.8438-5.5312 13.594-5.5312 3.9062 0 7.7344 1.0469t7.6406 3.1562v-8.3125q-3.7656-1.75-7.7969-2.625-4.0156-0.89062-8.5625-0.89062-12.359 0-19.641 7.7656-7.2656 7.7656-7.2656 20.953 0 13.375 7.3438 21.031 7.3594 7.6719 20.156 7.6719 4.1406 0 8.0938-0.85938 3.9531-0.84375 7.6719-2.5469z\"/><path id=\"DejaVuSans-116\" d=\"m18.312 70.219v-15.531h18.5v-6.9844h-18.5v-29.688q0-6.6875 1.8281-8.5938t7.4531-1.9062h9.2188v-7.5156h-9.2188q-10.406 0-14.359 3.875-3.9531 3.8906-3.9531 14.141v29.688h-6.5938v6.9844h6.5938v15.531z\"/><path id=\"DejaVuSans-121\" d=\"m32.172-5.0781q-3.7969-9.7656-7.4219-12.734-3.6094-2.9844-9.6562-2.9844h-7.1875v7.5156h5.2812q3.7031 0 5.75 1.7656 2.0625 1.75 4.5469 8.2969l1.6094 4.0938-22.109 53.812h9.5156l17.094-42.766 17.094 42.766h9.5156z\"/><path id=\"DejaVuSans-111\" d=\"m30.609 48.391q-7.2188 0-11.422-5.6406t-4.2031-15.453 4.1719-15.453q4.1875-5.6406 11.453-5.6406 7.1875 0 11.375 5.6562 4.2031 5.6719 4.2031 15.438 0 9.7188-4.2031 15.406-4.1875 5.6875-11.375 5.6875zm0 7.6094q11.719 0 18.406-7.625 6.7031-7.6094 6.7031-21.078 0-13.422-6.7031-21.078-6.6875-7.6406-18.406-7.6406-11.766 0-18.438 7.6406-6.6562 7.6562-6.6562 21.078 0 13.469 6.6562 21.078 6.6719 7.625 18.438 7.625z\"/><path id=\"DejaVuSans-110\" d=\"m54.891 33.016v-33.016h-8.9844v32.719q0 7.7656-3.0312 11.609-3.0312 3.8594-9.0781 3.8594-7.2812 0-11.484-4.6406-4.2031-4.625-4.2031-12.641v-30.906h-9.0312v54.688h9.0312v-8.5q3.2344 4.9375 7.5938 7.375 4.375 2.4375 10.094 2.4375 9.4219 0 14.25-5.8281 4.8438-5.8281 4.8438-17.156z\"/><path id=\"DejaVuSans-122\" d=\"m5.5156 54.688h42.672v-8.2031l-33.781-39.312h33.781v-7.1719h-43.891v8.2031l33.797 39.312h-32.578z\"/><path id=\"DejaVuSans-103\" d=\"m45.406 27.984q0 9.7656-4.0312 15.125-4.0156 5.375-11.297 5.375-7.2188 0-11.25-5.375-4.0312-5.3594-4.0312-15.125 0-9.7188 4.0312-15.094t11.25-5.375q7.2812 0 11.297 5.375 4.0312 5.375 4.0312 15.094zm8.9844-21.203q0-13.953-6.2031-20.766-6.1875-6.8125-18.984-6.8125-4.7344 0-8.9375 0.70312t-8.1562 2.1719v8.7344q3.9531-2.1406 7.8125-3.1562 3.8594-1.0312 7.8594-1.0312 8.8438 0 13.234 4.6094t4.3906 13.938v4.4531q-2.7812-4.8438-7.125-7.2344t-10.406-2.3906q-10.047 0-16.203 7.6562-6.1562 7.6719-6.1562 20.328 0 12.688 6.1562 20.344 6.1562 7.6719 16.203 7.6719 6.0625 0 10.406-2.3906t7.125-7.2188v8.2969h8.9844z\"/><path id=\"DejaVuSans-46\" d=\"m10.688 12.406h10.312v-12.406h-10.312z\"/></defs><g transform=\"translate(7.2 305.99) scale(.09 -.09)\" fill=\"#ffffff\"><use xlink:href=\"#DejaVuSans-32\"/><use x=\"31.787109\" xlink:href=\"#DejaVuSans-32\"/><use x=\"63.574219\" xlink:href=\"#DejaVuSans-32\"/><use x=\"95.361328\" xlink:href=\"#DejaVuSans-32\"/><use x=\"127.148438\" xlink:href=\"#DejaVuSans-85\"/><use x=\"200.341797\" xlink:href=\"#DejaVuSans-115\"/><use x=\"252.441406\" xlink:href=\"#DejaVuSans-101\"/><use x=\"313.964844\" xlink:href=\"#DejaVuSans-32\"/><use x=\"345.751953\" xlink:href=\"#DejaVuSans-101\"/><use x=\"405.525391\" xlink:href=\"#DejaVuSans-120\"/><use x=\"464.705078\" xlink:href=\"#DejaVuSans-97\"/><use x=\"525.984375\" xlink:href=\"#DejaVuSans-99\"/><use x=\"580.964844\" xlink:href=\"#DejaVuSans-116\"/><use x=\"620.173828\" xlink:href=\"#DejaVuSans-108\"/><use x=\"647.957031\" xlink:href=\"#DejaVuSans-121\"/><use x=\"707.136719\" xlink:href=\"#DejaVuSans-32\"/><use x=\"738.923828\" xlink:href=\"#DejaVuSans-111\"/><use x=\"800.105469\" xlink:href=\"#DejaVuSans-110\"/><use x=\"863.484375\" xlink:href=\"#DejaVuSans-101\"/><use x=\"925.007812\" xlink:href=\"#DejaVuSans-32\"/><use x=\"956.794922\" xlink:href=\"#DejaVuSans-99\"/><use x=\"1011.775391\" xlink:href=\"#DejaVuSans-122\"/><use x=\"1064.265625\" xlink:href=\"#DejaVuSans-32\"/><use x=\"1096.052734\" xlink:href=\"#DejaVuSans-103\"/><use x=\"1159.529297\" xlink:href=\"#DejaVuSans-97\"/><use x=\"1220.808594\" xlink:href=\"#DejaVuSans-116\"/><use x=\"1260.017578\" xlink:href=\"#DejaVuSans-101\"/><use x=\"1321.541016\" xlink:href=\"#DejaVuSans-46\"/></g><path d=\"m118.8 224.64z\" clip-path=\"url(#p9f7f983016)\" stroke=\"#000000\"/><path d=\"m118.8 224.64z\" clip-path=\"url(#p9f7f983016)\" fill=\"#ffffff\" stroke=\"#ffffff\"/><path d=\"m63 170.28z\" clip-path=\"url(#p9f7f983016)\" stroke=\"#000000\"/><path d=\"m63 170.28z\" clip-path=\"url(#p9f7f983016)\" fill=\"#ffffff\" stroke=\"#ffffff\"/><path d=\"m230.4 224.64z\" clip-path=\"url(#p9f7f983016)\" stroke=\"#000000\"/><path d=\"m230.4 224.64z\" clip-path=\"url(#p9f7f983016)\" fill=\"#ffffff\" stroke=\"#ffffff\"/><path d=\"m286.2 170.28z\" clip-path=\"url(#p9f7f983016)\" stroke=\"#000000\"/><path d=\"m286.2 170.28z\" clip-path=\"url(#p9f7f983016)\" fill=\"#ffffff\" stroke=\"#ffffff\"/><path d=\"m174.6 170.28z\" clip-path=\"url(#p9f7f983016)\" stroke=\"#000000\"/><path d=\"m174.6 170.28z\" clip-path=\"url(#p9f7f983016)\" fill=\"#ffffff\" stroke=\"#ffffff\"/><path d=\"m230.4 115.92z\" clip-path=\"url(#p9f7f983016)\" stroke=\"#000000\"/><path d=\"m230.4 115.92z\" clip-path=\"url(#p9f7f983016)\" fill=\"#ffffff\" stroke=\"#ffffff\"/><path d=\"m118.8 115.92z\" clip-path=\"url(#p9f7f983016)\" stroke=\"#000000\"/><path d=\"m118.8 115.92z\" clip-path=\"url(#p9f7f983016)\" fill=\"#ffffff\" stroke=\"#ffffff\"/><path d=\"m174.6 61.56z\" clip-path=\"url(#p9f7f983016)\" stroke=\"#000000\"/><path d=\"m174.6 61.56z\" clip-path=\"url(#p9f7f983016)\" fill=\"#ffffff\" stroke=\"#ffffff\"/><defs><clipPath id=\"p9f7f983016\"><rect x=\"7.2\" y=\"7.2\" width=\"334.8\" height=\"326.16\"/></clipPath></defs></svg>"
            ],
            "text/plain": [
              "<Figure size 432x432 with 1 Axes>"
            ]
          },
          "metadata": {},
          "output_type": "display_data"
        }
      ],
      "source": [
        "message = '\\nRules:\\n    Use exactly one cz gate.'\n",
        "grid = hello_quantum.pauli_grid(mode=mode)\n",
        "grid.update_grid(rho=success_condition, hidden=vi[0], qubit=vi[1], corr=vi[2], message=message)"
      ]
    },
    {
      "cell_type": "markdown",
      "metadata": {
        "id": "R_B_Xzjj9Oxb"
      },
      "source": [
        "Note that only the circles that need to be matched are shown.\n",
        "\n",
        "To share your puzzles with someone else, simply save the notebook you created and send it to them. They can play by opening an running on the Quantum Experience, using the 'Import' button on [this page](https://quantum-computing.ibm.com/jupyter)."
      ]
    },
    {
      "cell_type": "markdown",
      "metadata": {
        "id": "gBDN49my9Oxb"
      },
      "source": [
        "<div dir=\"rtl\">\n",
        "\n",
        "## المستوى  5: إثبات تفرد المتغيرات الكمومية"
      ]
    },
    {
      "cell_type": "markdown",
      "metadata": {
        "id": "icLSKzkx9Oxb"
      },
      "source": [
        "<div dir=\"rtl\">\n",
        "\n",
        "### اختبار بيل (Bell test)  للمتغيرات الكلاسيكية\n",
        "في هذا القسم، سنستكشف كيف تختلف المتغيرات الكمومية (المعتمدة على الكيوبتات) عن المتغيرات القياسية (المعتمدة على البتات).\n",
        "\n",
        "سنقوم بذلك عن طريق إنشاء زوج من المتغيرات، سنطلق عليهما `A` و `B` . لن نضع أي شروط على ماهية هذه المتغيرات أو كيفية تهيئتها، لذا هناك العديد من الاحتمالات:\n",
        "\n",
        "\n",
        "* يمكن أن تكون من أي نوع من المتغيرات، مثل\n",
        "    * عدد صحيح (integer)\n",
        "    *  قائمة (list)\n",
        "    * قاموس (dictionary)\n",
        "    * ...\n",
        "*يمكن تهيئتها بأي نوع من العمليات، مثل\n",
        "    * تركها فارغة\n",
        "    * تعبئتها بمجموعة معينة من القيم\n",
        "    * وليدها باستخدام عملية عشوائية معينة\n",
        "        * تطبق بشكل مستقل على `A` , `B`\n",
        "        * تطبق على `A` , `B`  معًا، مما يسمح بوجود ارتباطات بين عشوائيتهما\n",
        "\n",
        "إذا تم تهيئة المتغيرات بعملية عشوائية، فهذا يعني أنها ستأخذ قيمًا مختلفة في كل مرة يتم فيها تشغيل البرنامج. هذا أمر طبيعي تمامًا. القاعدة الوحيدة التي يجب اتباعها هي أن عملية توليد العشوائية تكون نفسها في كل تشغيل.\n",
        "\n",
        "سنستخدم الدالة أدناه لتهيئة هذه المتغيرات. حاليًا، تم تعريف `A` , `B` كأرقام عشوائية نقطية جزئيًا. ولكن يمكنك تغييرها إلى ما تريده."
      ]
    },
    {
      "cell_type": "code",
      "execution_count": null,
      "metadata": {
        "id": "Sax-RTuC9Oxb"
      },
      "outputs": [],
      "source": [
        "import random\n",
        "def setup_variables ():\n",
        "\n",
        "    ### Replace this section with anything you want استبدل هذا القسم بأي شيء تريده###\n",
        "\n",
        "    r = random.random()\n",
        "\n",
        "    A = r*(2/3)\n",
        "    B = r*(1/3)\n",
        "\n",
        "    ### End of section  نهاية القسم###\n",
        "\n",
        "    return A, B"
      ]
    },
    {
      "cell_type": "markdown",
      "metadata": {
        "id": "qtv5ZTyg9Oxb"
      },
      "source": [
        "<div dir=\"rtl\">\n",
        "\n",
        "مهمتنا التالية هي تعريف دالة تجزئة (hashing function). هذه الدالة تحتاج ببساطة إلى أخذ أحد المتغيرات كمدخل، ثم إعطاء قيمة بت كإخراج.\n",
        "\n",
        "يجب أن تكون هذه الدالة قادرة أيضًا على تنفيذ نوعين مختلفين من التجزئة. لذا، تحتاج إلى أن تكون قادرة على \"مضغ\" المتغير وإخراج بت بطريقة من طريقتين مختلفتين. لذلك، سنحتاج أيضًا إلى إخبار الدالة بنوع التجزئة الذي نريد استخدامه.\n",
        "\n",
        "للتوافق مع باقي البرنامج، يجب أن يكون النوعان الممكنان من التجزئة هما `H` و `V`. كما يجب أن يكون الإخراج في شكل سلسلة بتات بطول قيمة واحدة: إما `0` أو `1`.\n",
        "\n",
        "في المثال (العشوائي إلى حد ما) المقدم، تم إنشاء البتات عن طريق مقارنة المتغيرات `A` و `B` بقيمة معينة. يكون الإخراج `1` إذا كانت القيمة أقل من القيمة المحددة، و `0` إذا كانت أكبر أو تساوي تلك القيمة. يحدد نوع التجزئة القيمة المستخدمة."
      ]
    },
    {
      "cell_type": "code",
      "execution_count": null,
      "metadata": {
        "id": "LOf87WkH9Oxc"
      },
      "outputs": [],
      "source": [
        "def hash2bit ( variable, hash ):\n",
        "\n",
        "    ### Replace this section with anything you want  استبدل هذا القسم بأي شيء تريده###\n",
        "\n",
        "    if hash=='V':\n",
        "        bit = (variable<0.5)\n",
        "    elif hash=='H':\n",
        "        bit = (variable<0.25)\n",
        "\n",
        "    bit = str(int(bit)) # Turn True or False into '1' and '0'   حول \"صواب\" أو \"خطأ\" إلى \"1\" و\"0\".\n",
        "\n",
        "    ### End of section نهاية القسم###\n",
        "\n",
        "    return bit"
      ]
    },
    {
      "cell_type": "markdown",
      "metadata": {
        "id": "iS-xN7vB9Oxc"
      },
      "source": [
        "<div dir=\"rtl\">\n",
        "\n",
        "بمجرد تعريف المتغيرات، هناك أربع قيم نرغب في حسابها: `P['HH']`، `P['HV']`، `P['VH']` و `P['VV']`.\n",
        "\n",
        "لنركز على `P['HV']` كمثال. هذا هو احتمال أن تكون قيمة البت المشتقة من تجزئة من نوع `H` على `A` مختلفة عن تلك المشتقة من تجزئة من نوع `V` على `B`. سنقوم بتقدير هذا الاحتمال عن طريق أخذ عينات عديدة وتحديد نسبة العينات التي تكون فيها قيم البت المقابلة مختلفة.\n",
        "\n",
        "أما بالنسبة لباقي الاحتمالات، فهي تُعرَّف بطريقة مماثلة: `P['HH']` يقارن بين تجزئة من نوع 'H' على كل من `A` و `B`، و`P['VV']` يقارن بين تجزئة من نوع `V` على كليهما، و`P['VH']` يقارن بين تجزئة من نوع 'V' على A وتجزئة من نوع 'H' على `B`.\n",
        "\n",
        "يتم حساب هذه الاحتمالات في الدالة التالية، التي تقوم بإرجاع جميع قيم P في شكل قاموس. وسيكون المعامل shots هو عدد العينات التي سنستخدمها."
      ]
    },
    {
      "cell_type": "code",
      "execution_count": null,
      "metadata": {
        "id": "y76PZEAg9Oxc"
      },
      "outputs": [],
      "source": [
        "shots = 8192\n",
        "def calculate_P ( ):\n",
        "\n",
        "    P = {}\n",
        "    for hashes in ['VV','VH','HV','HH']:\n",
        "\n",
        "        # calculate each P[hashes] by sampling over `shots` samples   احسب كل P[تجزئات] عن طريق أخذ عينات من عينات \"اللقطات\".\n",
        "        P[hashes] = 0\n",
        "        for shot in range(shots):\n",
        "\n",
        "            A, B = setup_variables()\n",
        "\n",
        "            a = hash2bit ( A, hashes[0] ) # hash type for variable `A` is the first character of `hashes`\n",
        "            b = hash2bit ( B, hashes[1] ) # hash type for variable `B` is the second character of `hashes`\n",
        "\n",
        "            P[hashes] += (a!=b) / shots\n",
        "\n",
        "    return P"
      ]
    },
    {
      "cell_type": "markdown",
      "metadata": {
        "id": "50eSRtTe9Oxc"
      },
      "source": [
        "<div dir=\"rtl\">\n",
        "\n",
        "الآن دعونا نحسب هذه القيم للطريقة التي اخترناها لإعداد المتغيرات وتجزئتها"
      ]
    },
    {
      "cell_type": "code",
      "execution_count": null,
      "metadata": {
        "id": "LpKBp5N79Oxc",
        "outputId": "731e139c-c01c-4aea-fbb8-ef76379b884f"
      },
      "outputs": [
        {
          "name": "stdout",
          "output_type": "stream",
          "text": [
            "{'VV': 0.2520751953125, 'VH': 0.0, 'HV': 0.6229248046875, 'HH': 0.36279296875}\n"
          ]
        }
      ],
      "source": [
        "P = calculate_P()\n",
        "print(P)"
      ]
    },
    {
      "cell_type": "markdown",
      "metadata": {
        "id": "acGnp4Wx9Oxd"
      },
      "source": [
        "<div dir=\"rtl\">\n",
        "\n",
        "هذه القيم ستتغير قليلاً من تشغيل لآخر نظرًا لأننا نستخدم عددًا محدودًا من العينات (shots). ولتغييرها بشكل كبير، نحتاج إلى تعديل طريقة تهيئة المتغيرات و/أو طريقة تعريف دوال التجزئة.\n",
        "\n",
        "بغض النظر عن كيفية تعريف هذه الدوال، هناك قيود معينة يجب أن تلتزم بها قيم P دائمًا.\n",
        "\n",
        "على سبيل المثال، إذا كانت `P['HV']`، `P['VH']` و `P['VV']` كلها تساوي 0.0، فإن الطريقة الوحيدة لتحقيق ذلك هي أن تكون `P['HH']` أيضًا تساوي 0.0.\n",
        "\n",
        "لفهم السبب، نبدأ بملاحظة أن `P['HV']` =0.0 تخبرنا أن قيم hash2bit(A, H) و hash2bit(B, V) لم تكن أبدًا مختلفة في أي من التجارب. وهذا يعني أنه يمكننا دائمًا توقع أن تكون متساوية:\n",
        "\n",
        "\n",
        "    hash2bit(A, H) = hash2bit(B, V)        (1)\n",
        "    \n",
        "وبالمثل، من `P['VV']`=0.0 و `P['VH']`=0.0 نحصل على:\n",
        "\n",
        "    hash2bit(A, V) = hash2bit(B, V)        (2)\n",
        "    \n",
        "    hash2bit(A, V) = hash2bit(B, H)        (3)\n",
        "    \n",
        "وجمع (1) و(2) معًا يدل على ذلك\n",
        "\n",
        "    hash2bit(A, H) = hash2bit(A, V)        (4)\n",
        "    \n",
        "وبجمع هذا مع (3) يعطي\n",
        "\n",
        "    hash2bit(A, H) = hash2bit(B, H)        (5)\n",
        "\n",
        "وبما أن هذه القيم دائمًا متساوية، فلن نرى أي تجربة تكون فيها مختلفة، وهذا ما كنا نريد إثباته: P['HH']=0.0.\n",
        "\n",
        "بشكل عام، يمكننا استخدام قيم P['HV']، P['VH'] و P['VV'] لتحديد حد أعلى لما يمكن أن تكون عليه قيمة P['HH']. من خلال تعديل متباينة  نجد أن [CHSH inequality](https://en.wikipedia.org/wiki/CHSH_inequality)\n",
        "\n",
        "$\\,\\,\\,\\,\\,\\,\\,$ `P['HH']` $\\, \\leq \\,$ `P['HV'] + P['VH'] + P['VV']`\n",
        "\n",
        "هذه ليست مجرد خاصية خاصة بـ `P['HH']`. وهذا صحيح أيضًا بالنسبة لجميع الاحتمالات الأخرى: لا يمكن أن يكون كل احتمال من هذه الاحتمالات أكبر من مجموع الاحتمالات الأخرى.\n",
        "\n",
        "لاختبار صحة هذا المنطق، سنرى مدى التزام الاحتمالات بهذه المتباينات. لاحظ أنه قد تظهر انحرافات طفيفة نظرًا لأن قيم P ليست دقيقة تمامًا، بل هي تقديرات محسوبة باستخدام عدد محدود من العينات."
      ]
    },
    {
      "cell_type": "code",
      "execution_count": null,
      "metadata": {
        "id": "T50DxFgu9Oxd"
      },
      "outputs": [],
      "source": [
        "def bell_test (P):\n",
        "\n",
        "    sum_P = sum(P.values())\n",
        "    for hashes in P:\n",
        "\n",
        "        bound = sum_P - P[hashes]\n",
        "\n",
        "        print(\"The upper bound for P['\"+hashes+\"'] is \"+str(bound))\n",
        "        print(\"The value of P['\"+hashes+\"'] is \"+str(P[hashes]))\n",
        "        if P[hashes]<=bound:\n",
        "            print(\"The upper bound is obeyed :)\\n\")\n",
        "        else:\n",
        "            if P[hashes]-bound < 0.1:\n",
        "                print(\"This seems to have gone over the upper bound, but only by a little bit :S\\nProbably just rounding errors or statistical noise.\\n\")\n",
        "            else:\n",
        "                print(\"!!!!! This has gone well over the upper bound :O !!!!!\\n\")"
      ]
    },
    {
      "cell_type": "code",
      "execution_count": null,
      "metadata": {
        "id": "CHUrfbpw9Oxe",
        "outputId": "43334ad8-78df-4aa2-a0b5-2963376e4025"
      },
      "outputs": [
        {
          "name": "stdout",
          "output_type": "stream",
          "text": [
            "The upper bound for P['VV'] is 0.9857177734375\n",
            "The value of P['VV'] is 0.2520751953125\n",
            "The upper bound is obeyed :)\n",
            "\n",
            "The upper bound for P['VH'] is 1.23779296875\n",
            "The value of P['VH'] is 0.0\n",
            "The upper bound is obeyed :)\n",
            "\n",
            "The upper bound for P['HV'] is 0.6148681640625\n",
            "The value of P['HV'] is 0.6229248046875\n",
            "This seems to have gone over the upper bound, but only by a little bit :S\n",
            "Probably just rounding errors or statistical noise.\n",
            "\n",
            "The upper bound for P['HH'] is 0.875\n",
            "The value of P['HH'] is 0.36279296875\n",
            "The upper bound is obeyed :)\n",
            "\n"
          ]
        }
      ],
      "source": [
        "bell_test(P)"
      ]
    },
    {
      "cell_type": "markdown",
      "metadata": {
        "id": "ayJAG8Jd9Oxe"
      },
      "source": [
        "<div dir=\"rtl\">\n",
        "\n",
        "باستخدام تهيئة المتغيرات ودوال التجزئة المقدمة في هذا البرنامج، يجب أن تكون قيمة `P('HV')` متقاربة جدًا من الحد الأعلى. نظرًا لأن هذه الأرقام تقديرات إحصائية، فهي تقريبية قليلًا بسبب الضوضاء الإحصائية، وقد تراها تتجاوز الحد بشكل طفيف. لكنك لن تراها تتجاوزه بشكل كبير.\n",
        "\n",
        "إذا كنت لا تصدق ذلك، جرب بنفسك! غيّر طريقة تهيئة المتغيرات وطريقة حساب التجزئة، وحاول أن تحصل على كسر واضح لأي من هذه الحدود بشكل كبير.\n",
        "\n",
        "ستجد أنه بغض النظر عن التعديلات التي تجريها، فإن القيم الناتجة ستميل إلى التوافق مع الحدود التي ذكرناها، وذلك بسبب القيود الرياضية والإحصائية التي تحكم عملية التجزئة والاحتمالات."
      ]
    },
    {
      "cell_type": "markdown",
      "metadata": {
        "id": "vG0Sb4Qt9Oxf"
      },
      "source": [
        "<div dir=\"rtl\">\n",
        "\n",
        "### اختبار بيل للمتغيرات الكوانتية\n",
        "\n",
        "الآن سنعيد نفس الشيء، ولكن متغيراتنا `A` و `B` ستكون متغيرات كوانتية. تحديدًا، ستكون أبسط أنواع المتغيرات الكوانتية: الكيوبتات."
      ]
    },
    {
      "cell_type": "markdown",
      "metadata": {
        "id": "JS6XQXVY9Oxf"
      },
      "source": [
        "<div dir=\"rtl\">\n",
        "\n",
        "عند كتابة برامج كوانتية، يجب علينا إعداد الكيوبتات والبتات قبل أن نتمكن من استخدامها. يتم ذلك من خلال الدالة أدناه. تحدد هذه الدالة سجلًا من بتين، وتعينهما كمتغيراتنا `A` و `B`. ثم تقوم بإعداد سجل من بتين لاستقبال المخرجات، وتعينهما كـ `a` و `b`.\n",
        "\n",
        "أخيرًا، تستخدم هذه السجلات لإعداد برنامج كوانتي فارغ. يُطلق على هذا البرنامج اسم qc."
      ]
    },
    {
      "cell_type": "code",
      "execution_count": null,
      "metadata": {
        "id": "npRNUE--9Oxg"
      },
      "outputs": [],
      "source": [
        "from qiskit import QuantumRegister, ClassicalRegister, QuantumCircuit\n",
        "\n",
        "def initialize_program ():\n",
        "\n",
        "    qubit = QuantumRegister(2)\n",
        "    A = qubit[0]\n",
        "    B = qubit[1]\n",
        "\n",
        "    bit = ClassicalRegister(2)\n",
        "    a = bit[0]\n",
        "    b = bit[1]\n",
        "\n",
        "    qc = QuantumCircuit(qubit, bit)\n",
        "\n",
        "    return A, B, a, b, qc"
      ]
    },
    {
      "cell_type": "markdown",
      "metadata": {
        "id": "dwmyLaQZ9Oxh"
      },
      "source": [
        "<div dir=\"rtl\">\n",
        "\n",
        "قبل أن نبدأ في كتابة البرنامج الكوانتي لإعداد متغيراتنا، دعنا نفكر في ما يجب أن يحدث في نهاية البرنامج. ستكون هذه هي النقطة التي نحدد فيها دوال الهاش المختلفة، التي تحول كيوبتاتنا إلى بتات.\n",
        "\n",
        "أبسط طريقة لاستخراج بت من كيوبت هي من خلال بوابة `measure`. وهذا يتوافق مع المخرج `Z` من الكيوبت في التمثيل البصري الذي كنا نستخدمه. دعنا نستخدم هذا كمثال على دالة الهاش من نوع `V`.\n",
        "\n",
        "أما المخرج الذي يتوافق مع المخرج `X`، فلا يوجد وسيلة مباشرة للوصول إليه. ومع ذلك، يمكننا الوصول إليه بشكل غير مباشر من خلال القيام أولاً بعملية `h` لتبديل المخرجات العليا و`Z`، ثم استخدام بوابة `measure`. ستكون هذه دالة الهاش من نوع `H`.\n",
        "\n",
        "لاحظ أن هذه الدالة تحتوي على مدخلات أكثر من نظيرتها الكلاسيكية. يجب علينا إخبارها بـ `bit` الذي نريد كتابة النتيجة عليه، والبرنامج الكوانتي `qc` الذي نكتب عليه البوابة."
      ]
    },
    {
      "cell_type": "code",
      "execution_count": null,
      "metadata": {
        "id": "YvYst-Ds9Oxi"
      },
      "outputs": [],
      "source": [
        "def hash2bit  ( variable, hash, bit, qc ):\n",
        "\n",
        "    if hash=='H':\n",
        "        qc.h( variable )\n",
        "\n",
        "    qc.measure( variable, bit )"
      ]
    },
    {
      "cell_type": "markdown",
      "metadata": {
        "id": "0l8EqE_u9Oxi"
      },
      "source": [
        "<div dir=\"rtl\">\n",
        "\n",
        "حان الوقت الآن لإعداد المتغيرات `A` و `B`. لكتابة هذا البرنامج، يمكنك استخدام الشبكة أدناه. يمكنك إما اتباع التمرين المقترح، أو القيام بما تراه مناسبًا. بمجرد أن تكون جاهزًا، يمكنك الانتقال إلى الخطوة التالية. ستقوم الخلية التي تحتوي على دالة `setup_variables()` باستخدام البرنامج الذي كتبته باستخدام الشبكة.\n",
        "\n",
        "لاحظ أن اختيارنا يعني أن الاحتمالات `P['HH']` و `P['HV']` و `P['VH']` و `P['VV']` ستتوافق بشكل صريح مع الدوائر في شبكتنا. على سبيل المثال، الدائرة الموجودة في أعلى الشبكة تخبرنا بمدى احتمال أن يختلف مخرجان X. إذا كانت بيضاء، فإن `P['HH']` = 1، وإذا كانت سوداء، فإن `P['HH']` = 0.\n",
        "\n",
        "### التمرين\n",
        "اجعل مخرجات X لكل من الكيوبتين أكثر احتمالًا للاختلاف، بينما تكون جميع تركيبات المخرجات الأخرى أكثر احتمالًا للتوافق.\n",
        "\n",
        "\n",
        "."
      ]
    },
    {
      "cell_type": "code",
      "execution_count": null,
      "metadata": {
        "id": "nXm3F2FG9Oxi"
      },
      "outputs": [],
      "source": [
        "initialize = []\n",
        "success_condition = {'ZZ':+0.7071,'ZX':+0.7071,'XZ':+0.7071,'XX':-0.7071}\n",
        "allowed_gates = {'0': {'bloch':0, 'x':0, 'z':0, 'h':0, 'cx':0, 'ry(pi/4)': 0, 'ry(-pi/4)': 0}, '1': {'bloch':0, 'x':0, 'z':0, 'h':0, 'cx':0, 'ry(pi/4)': 0, 'ry(-pi/4)': 0}, 'both': {'cz':0, 'unbloch':0}}\n",
        "vi = [[], True, True]\n",
        "qubit_names = {'0':'A', '1':'B'}\n",
        "puzzle = hello_quantum.run_game(initialize, success_condition, allowed_gates, vi, qubit_names, mode='line')"
      ]
    },
    {
      "cell_type": "markdown",
      "metadata": {
        "id": "8ZKfSf569Oxj"
      },
      "source": [
        "<div dir=\"rtl\">\n",
        "\n",
        "الآن سيتم استخدام البرنامج كما هو مكتوب أعلاه لإعداد المتغيرات الكوانتية."
      ]
    },
    {
      "cell_type": "code",
      "execution_count": null,
      "metadata": {
        "id": "avKIasMt9Oxk"
      },
      "outputs": [],
      "source": [
        "import numpy as np\n",
        "def setup_variables ( A, B, qc ):\n",
        "\n",
        "    for line in puzzle.program:\n",
        "        eval(line)"
      ]
    },
    {
      "cell_type": "markdown",
      "metadata": {
        "id": "5iUX8Xab9Oxk"
      },
      "source": [
        "<div dir=\"rtl\">\n",
        "\n",
        "تُحسب قيم P في الدالة أدناه. كما هو الحال في الألغاز في بقية هذا الدفتر، يتم ذلك من خلال تشغيل المهمة باستخدام Qiskit والحصول على نتائج تخبرنا بعدد العينات التي أعطت كل مخرج ممكن. يُعطى المخرج كسلسلة بت، string، التي تقوم Qiskit بترقيمها من اليمين إلى اليسار. وهذا يعني أن قيمة `a`، التي تتوافق مع `bit[0]`، هي الأولى من اليمين:\n",
        "\n",
        "    a = string[-1]\n",
        "    \n",
        "أما قيمة `b`، فهي مباشرة بجانبها في الثانية من اليمين:\n",
        "\n",
        "    b = string[-2]\n",
        "\n",
        "عدد العينات لهذه السلسلة البتية مُقدم من قاموس النتائج،`stats`, كالتالي `stats[string]`."
      ]
    },
    {
      "cell_type": "code",
      "execution_count": null,
      "metadata": {
        "id": "VS1Yn7WF9Oxl"
      },
      "outputs": [],
      "source": [
        "shots = 8192\n",
        "from qiskit import assemble, transpile\n",
        "\n",
        "def calculate_P ( backend ):\n",
        "\n",
        "    P = {}\n",
        "    program = {}\n",
        "    for hashes in ['VV','VH','HV','HH']:\n",
        "\n",
        "        A, B, a, b, program[hashes] = initialize_program ()\n",
        "\n",
        "        setup_variables( A, B, program[hashes] )\n",
        "\n",
        "        hash2bit ( A, hashes[0], a, program[hashes])\n",
        "        hash2bit ( B, hashes[1], b, program[hashes])\n",
        "\n",
        "    # submit jobs\n",
        "    t_qcs = transpile(list(program.values()), backend)\n",
        "    qobj = assemble(t_qcs, shots=shots)\n",
        "    job = backend.run(qobj)\n",
        "\n",
        "    # get the results\n",
        "    for hashes in ['VV','VH','HV','HH']:\n",
        "        stats = job.result().get_counts(program[hashes])\n",
        "\n",
        "        P[hashes] = 0\n",
        "        for string in stats.keys():\n",
        "            a = string[-1]\n",
        "            b = string[-2]\n",
        "\n",
        "            if a!=b:\n",
        "                P[hashes] += stats[string] / shots\n",
        "\n",
        "    return P"
      ]
    },
    {
      "cell_type": "markdown",
      "metadata": {
        "id": "0I4RaIVB9Oxl"
      },
      "source": [
        "<div dir=\"rtl\">\n",
        "\n",
        "الآن حان الوقت لاختيار وإعداد الجهاز الذي سنستخدمه فعليًا. بشكل افتراضي، سنستخدم جهاز محاكاة. يمكنك بدلاً من ذلك استخدام جهاز سحابي حقيقي من خلال تغيير الواجهة الخلفية وفقًا لذلك."
      ]
    },
    {
      "cell_type": "code",
      "execution_count": null,
      "metadata": {
        "id": "PYT8xTcn9Oxl"
      },
      "outputs": [],
      "source": [
        "from qiskit import Aer\n",
        "device = 'aer_simulator'\n",
        "backend = Aer.get_backend(device)"
      ]
    },
    {
      "cell_type": "code",
      "execution_count": null,
      "metadata": {
        "id": "RevkPM449Oxl",
        "outputId": "5ef5416c-28fc-4318-b710-5be7f298877e"
      },
      "outputs": [
        {
          "name": "stdout",
          "output_type": "stream",
          "text": [
            "{'VV': 0, 'VH': 0.5074462890625, 'HV': 0.501220703125, 'HH': 0.5057373046875}\n"
          ]
        }
      ],
      "source": [
        "P = calculate_P( backend )\n",
        "print(P)"
      ]
    },
    {
      "cell_type": "code",
      "execution_count": null,
      "metadata": {
        "id": "7IEIqTOV9Oxl"
      },
      "outputs": [],
      "source": [
        "bell_test( P )"
      ]
    },
    {
      "cell_type": "markdown",
      "metadata": {
        "id": "cpavkhn09Oxm"
      },
      "source": [
        "<div dir=\"rtl\">\n",
        "إذا كنت قد أعددت حالة الاقتراح وفقًا للتمرين، فسوف تجد انتهاكًا كبيرًا للحد الأعلى لـ `P['HH']`. فما الذي يحدث هنا؟ من الواضح أن سلسلة المنطق التي بنينا عليها اختبار بيل لا تنطبق على المتغيرات الكوانتية. لكن لماذا؟\n",
        "\n",
        "الإجابة هي أن هناك افتراضًا خفيًا في ذلك المنطق. لنرى لماذا، دعنا نعيد النظر في النقطة (4):\n",
        "\n",
        "\n",
        "\n",
        "    hash2bit ( A, H ) = hash2bit ( A, V )        (4)\n",
        "    \n",
        "هنا نقارن القيمة التي نحصل عليها من نوع `H` من الهاش للمتغير `A` مع تلك الناتجة عن نوع `V`.\n",
        "\n",
        "بالنسبة للمتغيرات الكلاسيكية، هذا منطقي تمامًا. لا يوجد شيء يمنعنا من حساب كلا الهاشين ومقارنة النتائج. حتى إذا كان حساب الهاش لمتغير ما يغير المتغير، فهذا ليس بمشكلة. كل ما علينا فعله هو نسخه مسبقًا ويمكننا إجراء كلا الهاشين دون أي مشكلة.\n",
        "\n",
        "كن الأمر ليس كذلك بالنسبة للمتغيرات الكوانتية. نتيجة الهاش لا تُعرف حتى نقوم فعلاً بإجراءها. فقط في تلك اللحظة يقرر الكيوبت القيمة التي سيعطيها. ومتى قرر القيمة لنوع واحد من الهاش، لا يمكننا أبداً تحديد ما كان سيقرره لو استخدمنا نوعًا آخر من الهاش. لا يمكننا التغلب على ذلك عن طريق نسخ المتغيرات الكوانتية، لأن المتغيرات الكوانتية [cannot be copied](https://en.wikipedia.org/wiki/No-cloning_theorem). هذا يعني أنه لا يوجد سياق يمكن فيه أن تكون القيم `hash2bit(A,H)` و `hash2bit(A,V)` حددة بشكل جيد في نفس الوقت، وبالتالي من المستحيل مقارنتها.\n",
        "\n",
        "افتراض آخر خفي هو أن `hash2bit(A,hash)` يعتمد فقط على نوع الهاش المختار للمتغير `A`, وليس على نوع الهاش المختار للمتغير `B`. هذا أيضًا منطقي تمامًا، حيث أنه بهذه الطريقة بالضبط أعددنا دالة `hash2bit()`. ومع ذلك، فإن انتهاك الحد الأعلى يبدو أنه يوحي بأن كل متغير يعرف أي هاش يتم تطبيقه على الآخر، بحيث يمكنهم التآمر لإعطاء سلوك مختلف جدًا عندما يكون كلاهما من نوع `H`.\n",
        "\n",
        "ومع ذلك، لا يمكننا القول إن اختيار الهاش على كيوبت واحد يؤثر على النتيجة على الآخر. التأثير أكثر دقة من ذلك. على سبيل المثال، من المستحيل تحديد أي المتغيرات تؤثر على الآخر: يمكنك تغيير ترتيب تنفيذ الهاشين، أو ، [إجراءهما فعليًا في نفس الوقت](https://en.wikipedia.org/wiki/Loopholes_in_Bell_test_experiments#Communication,_or_locality),وستحصل على نفس النتائج. ما يمكننا قوله هو أن النتائج  [سياقية](https://en.wikipedia.org/wiki/Quantum_contextuality): فهم النتائج من متغير واحد بالكامل، أحيانًا يتطلب النظر في ما تم القيام به على الآخر.\n",
        "\n",
        "كل هذا يوضح أن المتغيرات الكوانتية لا تتبع دائمًا المنطق الذي اعتدنا عليه. إنها تتبع قواعد مختلفة، قواعد ميكانيكا الكم، التي ستسمح لنا بإيجاد طرق لأداء الحساب بطرق جديدة ومختلفة."
      ]
    },
    {
      "cell_type": "code",
      "execution_count": null,
      "metadata": {
        "id": "4f07OH3a9Oxm",
        "outputId": "4712c3a2-37b9-4e70-bb25-b888fa2619ca"
      },
      "outputs": [
        {
          "data": {
            "text/plain": [
              "{'qiskit-terra': '0.16.1',\n",
              " 'qiskit-aer': '0.7.2',\n",
              " 'qiskit-ignis': '0.5.1',\n",
              " 'qiskit-ibmq-provider': '0.11.1',\n",
              " 'qiskit-aqua': '0.8.1',\n",
              " 'qiskit': '0.23.2'}"
            ]
          },
          "execution_count": 93,
          "metadata": {},
          "output_type": "execute_result"
        }
      ],
      "source": [
        "import qiskit.tools.jupyter\n",
        "%qiskit_version_table"
      ]
    }
  ],
  "metadata": {
    "kernelspec": {
      "display_name": "Python 3",
      "language": "python",
      "name": "python3"
    },
    "language_info": {
      "codemirror_mode": {
        "name": "ipython",
        "version": 3
      },
      "file_extension": ".py",
      "mimetype": "text/x-python",
      "name": "python",
      "nbconvert_exporter": "python",
      "pygments_lexer": "ipython3",
      "version": "3.9"
    },
    "colab": {
      "provenance": []
    }
  },
  "nbformat": 4,
  "nbformat_minor": 0
}