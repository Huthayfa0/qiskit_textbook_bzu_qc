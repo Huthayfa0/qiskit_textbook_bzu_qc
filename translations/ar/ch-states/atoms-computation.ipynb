{
  "cells": [
    {
      "cell_type": "markdown",
      "source": [
        " <div dir=\"rtl\">\n",
        "    <h1>مقدمة </h1>\n",
        "    </div>"
      ],
      "metadata": {
        "id": "eq5KxZ1Umefr"
      }
    },
    {
      "cell_type": "markdown",
      "metadata": {
        "id": "0DG5SlIwmSqk"
      },
      "source": [
        "<div dir=\"rtl\">\n",
        "إذا ظننت أن ميكانيك الكم تبدو صعبة، فأنت لست لوحدك. جميع مؤسساتنا تعتمد على التجارب اليومية، فهي بذلك قادرة على فهم سلوك الأجسام الملموسة مثل الموز والكرات أكثر من قدرتها على فهم تصرفات الجسيمات الذرية كما في الذرات والإلكترونات.\n",
        "بالرغم من أن الأجسام الدقيقة (الكمومية) لأول وهلة قد تبدو عشوائية تغلب عليها الفوضى، لكنها بالواقع تتبع نمطاً مختلفاً من القوانين. بمجرد أن نعلم ما تلك القوانين، يمكننا استخدامها لابتكار تكنولوجيا فاعلة وحديثة. الحوسبة الكمومية تعتبر أكثر مثال ثوري على ذلك.\n",
        "\n",
        "</div>"
      ]
    },
    {
      "cell_type": "markdown",
      "metadata": {
        "id": "qX4-ZmzGmSqk"
      },
      "source": [
        "![image1](https://github.com/Huthayfa0/qiskit_textbook_bzu_qc/blob/Amany_Zuhd_Intro/notebooks/ch-states/images/atoms10.png?raw=1)"
      ]
    },
    {
      "cell_type": "markdown",
      "metadata": {
        "goals": [
          {
            "id": "bitdescription"
          }
        ],
        "id": "y5E1ZbG-mSqk"
      },
      "source": [
        "<div dir=\"rtl\">\n",
        "لبدء رحلتك في الحوسبة الكمومية، لنختبر أولاً معلوماتك السابقة.\n",
        "\n",
        "#  تمرين سريع\n",
        "</div>\n",
        "<div dir=\"rtl\">\n",
        "أي من الخيارات يُعطي الوصف الأفضل لما يُعرف بـ\"البت\"؟\n",
        "\n",
        "- أصغر وحدة للمعلومات: متمثلة بإما ``0`` أو ``1``.\n",
        "- شفرة يستخدمها النجار.\n",
        "- شيء تضعه في فم الحصان.\n",
        "</div>"
      ]
    },
    {
      "cell_type": "markdown",
      "metadata": {
        "gloss": {
          "qubit": {
            "text": "A __qubit__ or __quantum bit__ is the basic unit of quantum information. It is a two-state quantum-mechanical system, and one of the simplest systems displaying the peculiarity of quantum mechanics.",
            "title": "Qubit"
          }
        },
        "id": "lLuaTfcSmSqk"
      },
      "source": [
        "<div dir=\"rtl\">\n",
        "بالحقيقة, جميع تلك الخيارات صحيحة: حيث ان كلمة \"بت\" تُعَد من الكلمات متعددة\n",
        "المعاني! ولكن اذا اخترت \"أصغر وحدة معلومات\"، فهذا يُظهر أنك بالفعل تُفكر وتخطو على الطريق الصحيح.\n",
        "</div>\n",
        "<div dir=\"rtl\">\n",
        " الفكرة المتمثلة بتخزين المعلومات ومعالجتها باستخدام سلسلة من الأصفار ``0``والواحدات ``1``، هي فكرة تُشكل عقبة مفاهيمية كبيرة، ولكنها بالرغم من هذا فكرة يعرفها معظم الناس اليوم دون التفكير بها . مع الأخذ بهذه المعلومة كنقطة ابتدائية، يمكننا الآن تخيل مجموعة من البتات التي   تُطَوَع تحت قوانين ميكانيك الكم، وتلك [البتات الكمومية](gloss:qubit)، أو ما يُعرف بـ\" الكويبتات\"، ستسمح لنا بمعالجة المعلومات بطرق مختلفة وجديدة.\n",
        "</div>\n",
        "\n",
        "<div dir=\"rtl\">\n",
        "سوف نبدأ بالتعمق أكثر في عالم الكيوبتات. ولهذا فإننا سنحتاج لطريقة معينة لتتبع ما تفعله هذه الكيوبتات عند تطبيق البوابات (العمليات) عليها. وأكثر طريقة فعّالة للقيام بذلك هي استخدام لغة الرياضيات الخاصة بالمتجهات والمصفوفات.\n",
        "\n",
        "</div>\n"
      ]
    },
    {
      "cell_type": "markdown",
      "metadata": {
        "id": "fzQ3yZQJmSql"
      },
      "source": [
        "![image2](https://github.com/Huthayfa0/qiskit_textbook_bzu_qc/blob/Amany_Zuhd_Intro/notebooks/ch-states/images/bloch.png?raw=1)\n"
      ]
    },
    {
      "cell_type": "markdown",
      "metadata": {
        "id": "FyYQooJXmSql"
      },
      "source": [
        "<div dir=\"rtl\">\n",
        " هذا الفصل سيكون مخصصاً للقرّاء ذوي المعرفة المسبقة عن المتجهات والمصفوفات. ومن ليس على دراية بهن فلن يكون هناك إشكالية أيضاً، وبالرغم من هذا، فمن المُفَضل الخوض بالجبر الخطي للحوسبة الكمومية من حينِ الى آخر\n",
        "\n",
        "[Introduction to Linear Algebra for Quantum Computing](/course/ch-appendix/linear_algebra)\n",
        "</div>\n",
        "<div dir=\"rtl\">\n",
        "وحيث أننا سوف نستخدم Qiskit، والذي يُعد إطار عملنا القائم على لغة البايثون للحوسبة الكمومية، سيكون من المفيد معرفة أساسيات البايثون. ولمن يحتاج مقدمة في اللغة يمكنه الرجوع الى\n",
        "\n",
        "[Introduction to Python and Jupyter notebooks](/course/ch-prerequisites/introduction-to-python-and-jupyter-notebooks)\n",
        "</div>\n"
      ]
    }
  ],
  "metadata": {
    "kernelspec": {
      "display_name": "Python 3",
      "language": "python",
      "name": "python3"
    },
    "language_info": {
      "codemirror_mode": {
        "name": "ipython",
        "version": 3
      },
      "file_extension": ".py",
      "mimetype": "text/x-python",
      "name": "python",
      "nbconvert_exporter": "python",
      "pygments_lexer": "ipython3",
      "version": "3.9"
    },
    "colab": {
      "provenance": []
    }
  },
  "nbformat": 4,
  "nbformat_minor": 0
}