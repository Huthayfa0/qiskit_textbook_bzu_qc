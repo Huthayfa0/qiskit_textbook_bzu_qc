{
  "cells": [
    {
      "cell_type": "markdown",
      "metadata": {
        "tags": [
          "remove_cell"
        ],
        "id": "VOy7yqPbOF5I"
      },
      "source": [
        "<div dir=\"rtl\">\n",
        "\n",
        "# الحجة لصالح الحواسيب الكمومية\n",
        "</div>"
      ]
    },
    {
      "cell_type": "markdown",
      "metadata": {
        "id": "hMd60spBOF5J"
      },
      "source": [
        "<div dir=\"rtl\">\n",
        "\n",
        "## ١. تعقيد عملية الجمع <a id=\"adding\"></a>\n",
        "<div dir=\"rtl\">\n",
        "ببساطة، الحجة لصالح الحواسيب الكمومية هي أنها يمكن أن تحل بعض المشكلات التي لا يمكن لأي حاسوب تقليدي حلها. لفهم السبب، يجب علينا أولاً التفكير في مقدار الجهد الحاسوبي المطلوب لحل بعض المشكلات.  \n",
        "</div>\n",
        "<br/>\n",
        "<div dir=\"rtl\">\n",
        "للبدء، يمكننا إعادة النظر في الخوارزمية التي تم تناولها في القسم الأول: جمع رقمين.\n",
        "</div>\n",
        "<div dir=\"ltr\">\n",
        "<br/>\n",
        "\n",
        "```code\n",
        "   9213\n",
        "+  1854\n",
        "=  ????\n",
        "```\n",
        "<br/>\n",
        "</div>\n",
        "<div dir=\"rtl\">\n",
        "جمع رقمين يحتوي كل منهما على عدد $𝑛$  من الخانات يمكن أن يتم باستخدام مجموعة من العمليات الاساسية، كل واحدة منها تتكون فقط من جمع رقمين أحاديين. لتحليل تعقيد هذه العملية، يمكننا التفكير في عدد هذه العمليات الاساسية المطلوبة وكيف يعتمد هذا العدد على $𝑛$ سنشير إلى هذا العدد بالرمز $𝑐(𝑛)$.\n",
        "</div>\n",
        "<br/>\n",
        "<div dir=\"rtl\">\n",
        "في أحسن الحالات، حيث لا نحتاج إلى حمل ١ في أي عملية، فإننا نحتاج فقط إلى عدد $n$ من عمليات الجمع الأساسية. في أسوأ الحالات، سنحتاج إلى تنفيذ $n$  عمليات حمل، وكل منها يتطلب عملية جمع اساسية إضافية. من هذه الاعتبارات، يمكننا أن نستنتج أن: $n \\leq c(n) \\leq 2n$. حيث  $c(n)$ هو عدد عمليات الجمع الاساسية اللازمة لإكمال العملية، ويقع عدد العمليات المطلوبة بين n و 2n  كحد أقصى.\n",
        "</div>\n",
        "\n",
        "## ٢. الترميز \"Big O\" <a id=\"big-o\"></a>\n",
        "\n",
        "<div dir=\"rtl\">\n",
        "يمكننا تلخيص هذه النتيجة بالقول إن $𝑐(𝑛)$ ينمو خطيًا مع $𝑛$. بشكل عام، يمكننا القول إنه يمكن إيجاد دالة خطية لـ $𝑛$ تعمل كحد علوي لـ $𝑐(𝑛)$ عندما يكون $𝑛$ كبيرًا. نظرًا لأن هذه جملة طويلة ومعقدة، فإننا لا نرغب في قولها كثيرًا. بدلاً من ذلك، يمكننا التعبير عنها بشكل أكثر إيجازًا باستخدام ترميز \"Big O\".  \n",
        "</div>\n",
        "<!-- ::: q-block.reminder -->\n",
        "\n",
        "## تذكيرات\n",
        "\n",
        "<div dir=\"rtl\">\n",
        "<details>\n",
        "  <summary>ترميز \"Big O\"  </summary>\n",
        "بالنسبة لبعض الدوال $𝑓(𝑥)$ و $𝑔(𝑥)$ ومعامل 𝑥، فإن البيان $𝑓(𝑥)=𝑂(𝑔(𝑥))$ يعني أنه توجد بعض الأعداد المحدودة $𝑀>0$ و $𝑥0$ بحيث\n",
        "$$\n",
        "f(x) \\leq M g(x) \\forall x>x_0.\n",
        "$$\n",
        "</details>\n",
        "</div>\n",
        "\n",
        "<!-- ::: -->\n",
        "<div dir=\"rtl\">\n",
        "ترميز \"Big O\" مفيد لأنه يسمح لنا بمقارنة كيفية تزايد الموارد أو وقت التنفيذ المطلوب للخوارزمية مع حجم المدخلات، بغض النظر عن المنصة المستخدمة أو طريقة تطبيق الخوارزمية. أدناه أمثلة على عوامل التدرج الشائعة لوقت التنفيذ $𝑁$ كدالة لحجم المدخلات 𝑛؛ من الواضح أنه بالنسبة لمشكلة ذات حجم كبير بما فيه الكفاية، سيتجاوز وقت تنفيذ خوارزمية $𝑂(𝑎^𝑛)$ خوارزمية $𝑂(𝑛^𝑏)$، حيث $𝑎$ و$𝑏$ هما ثابتان.\n",
        "</div>\n",
        "<br/>\n",
        "<div dir=\"ltr\">\n",
        "<figure>\n",
        "  <img src=\"https://github.com/Huthayfa0/qiskit_textbook_bzu_qc/blob/noureddin_etkaidek_case-for-quantum/translations/ar/ch-states/images/1920px-Comparison_computational_complexity.png?raw=1\" alt=\"Drawing\" style=\"max-width: 400px;\"/>\n",
        "</figure>\n",
        "</div>\n",
        "\n",
        "<div dir=\"rtl\">\n",
        "مقارنات لتعقيدات زمنية مختلفة، يكون $n$  هو عدد البتات المدخلة، و $N$  هو عدد العمليات المطلوبة. [5]\n",
        "</div>\n",
        "<div dir=\"rtl\">\n",
        "باستخدام هذا الترميز، الخاصية الموصوفة أعلاه تُعبر ببساطة عن $𝑐(𝑛) = 𝑂(𝑛)$. وهذا يلتقط السلوك الخطي دون الحاجة إلى التطرق إلى التفاصيل. لذلك، بغض النظر عما إذا كان $𝑐(𝑛) = 𝑛$ أو $𝑐(𝑛) = 2𝑛$ أو شيء آخر، يمكننا ببساطة القول إن $𝑐(𝑛) = 𝑂(𝑛)$.\n",
        "</div>\n",
        "<br/>\n",
        "<div dir=\"rtl\">\n",
        "هناك افتراض مخفي فيما تناولناه حتى الآن. بالحديث عن عدد الأرقام، افترضنا استخدام نظام عد معين. ومع ذلك، يعتمد عدد الأرقام على النظام المستخدم، سواء كان عشريًا أو ثنائيًا أو غيره. على سبيل المثال، عدد البتات  $n_2$ المطلوبة للتعبير عن عدد، يرتبط بعدد الأرقام العشرية $n_{10}$  المطلوب للتعبير عن نفس العدد عن طريق\n",
        "</div>\n",
        "<br/>\n",
        "<div dir=\"ltr\">\n",
        "$n_2 = \\left\\lceil \\frac{\\log 10}{ \\log 2} \\, n_{10} \\right\\rceil \\approx 3.3 \\, n_{10}.$\n",
        "</div>\n",
        "<br/>\n",
        "<div dir=\"rtl\">\n",
        "بما أن هذه أيضًا علاقة خطية، فإنها لا تغير طريقة التعبير عن التعقيد باستخدام ترميز Big O. يمكننا بالتساوي أن نقول: $c(n_2) = O(n_2)$, $c(n_{10}) = O(n_{10})$, او حتى $c(n_{10}) = O(n_{2})$. هذا يعني أنه يمكننا غالبًا التحدث عن عدد الخانات، n، دون الحاجة إلى تحديد نظام الأرقام المستخدم (مثل النظام الثنائي أو النظام العشري). والسبب في ذلك هو أن التعقيد الحاسوبي يظل في نطاق نفس التصنيف، حيث أن الفرق بين الأنظمة العددية المختلفة يمكن تجاهله في معظم الأحيان عند استخدام ترميز Big O، لأن التركيز يكون على النمو النسبي للعمليات مع زيادة حجم المدخلات، بغض النظر عن النظام العددي.\n",
        "</div>\n",
        "\n",
        "## ٣. نظرية التعقيد <a id=\"complexity\"></a>\n",
        "<div dir=\"rtl\">\n",
        "نظرية التعقيد هي دراسة الجهد الحاسوبي المطلوب لتشغيل خوارزمية معيّنة. من خلال النظر في أفضل خوارزمية ممكنة لحل مشكلة معينة، يمكننا أيضًا دراسة الجهد الحاسوبي المتعلّق في حل هذه المشكلة. بالنسبة للجمع، نعلم بالفعل الخوارزمية المثلى، ونعلم بالتالي أنها مشكلة ذات تعقيد $𝑂(𝑛)$.  \n",
        "</div>\n",
        "<br/>\n",
        "<div dir=\"rtl\">\n",
        "الضرب ليس بهذه البساطة. الخوارزميات التي تعلمتها في المدرسة لضرب رقمين مكونين من $𝑛$ رقمًا تتطلب $𝑂(𝑛^2)$ من العمليات الأساسية، مثل الإضافات وعمليات الضرب الأحادية. رغم اكتشاف خوارزميات ذات تعقيد أقل، يُعتبر من المستحيل تقريبًا تنفيذ الضرب بتعقيد $𝑂(𝑛)$.\n",
        "</div>\n",
        "<br/>\n",
        "<div dir=\"rtl\">\n",
        "ومع ذلك، الضرب بعيد عن كونه المشكلة الأكثر تعقيدًا. مثال على مشكلة ذات تعقيد أكبر بكثير هو التحليل إلى العوامل: أخذ رقم مكون من $𝑛$ خانات وإيجاد عوامله الأولية. أفضل خوارزمية معروفة في هذه الحالة لها تعقيد أسوأ من $O\\left(e^{n^{1/3}}\\right)$. الأس هنا يعني أن التعقيد ينمو بسرعة كبيرة مما يجعل التحليل إلى العوامل مشكلة صعبة للغاية.\n",
        "</div>\n",
        "<br/>\n",
        "<div dir=\"rtl\">\n",
        "لتوضيح هذه النقطة باستخدام وقت حاسوبي فعلي، يمكننا أخذ مثال حديث.$^{1}$ لنأخذ  الرقم التالي المكون من 829 خانة.\n",
        "</div>\n",
        "</div>"
      ]
    },
    {
      "cell_type": "code",
      "execution_count": null,
      "metadata": {
        "id": "BQn3xJi7OF5K"
      },
      "outputs": [],
      "source": [
        "rsa_250 = 2140324650240744961264423072839333563008614715144755017797754920881418023447140136643345519095804679610992851872470914587687396261921557363047454770520805119056493106687691590019759405693457452230589325976697471681738069364894699871578494975937497937"
      ]
    },
    {
      "cell_type": "markdown",
      "metadata": {
        "id": "dzBNjEcqOF5L"
      },
      "source": [
        "<div dir=\"rtl\">\n",
        "<div dir=\"rtl\">\n",
        "إذا حاولت استخدام حاسوبك لإضافة أو ضرب أرقام بهذا الحجم، ستجد أن الجهاز يمكنه حل مثل هذه المشكلات بسرعة كبيرة. إذا ضربت عدد المعالجات التي يحتويها جهازك في عدد الثواني التي استغرقتها للحصول على عدد \"core-seconds\"، ستجد أن الوقت أقل بكثير من ثانية \"core\".\n",
        "</div>\n",
        "<br/>\n",
        "<div dir=\"rtl\">\n",
        "مع ذلك، يتطلب تحليل هذا الرقم إلى عوامله الأولية حاسوبًا فائق الأداء و2700 سنة \"core\" تقريبًا، مما يؤدي في النهاية إلى الحصول على العاملين التاليين.\n",
        "</div>\n",
        "</div>"
      ]
    },
    {
      "cell_type": "code",
      "execution_count": null,
      "metadata": {
        "id": "E0z-G-lNOF5M",
        "outputId": "2310282e-ab8f-4916-fde0-dbe759f7c583"
      },
      "outputs": [
        {
          "data": {
            "text/plain": [
              "2140324650240744961264423072839333563008614715144755017797754920881418023447140136643345519095804679610992851872470914587687396261921557363047454770520805119056493106687691590019759405693457452230589325976697471681738069364894699871578494975937497937"
            ]
          },
          "execution_count": 2,
          "metadata": {},
          "output_type": "execute_result"
        }
      ],
      "source": [
        "p = 64135289477071580278790190170577389084825014742943447208116859632024532344630238623598752668347708737661925585694639798853367\n",
        "q = 33372027594978156556226010605355114227940760344767554666784520987023841729210037080257448673296881877565718986258036932062711\n",
        "p*q"
      ]
    },
    {
      "cell_type": "markdown",
      "metadata": {
        "id": "yn_d2naGOF5M"
      },
      "source": [
        "<div dir=\"rtl\">\n",
        "بالنسبة لتحليل الأرقام الأكبر، نصل بسهولة إلى نقطة يحتاج فيها حاسوب فائق بحجم كوكب إلى العمل لعمر الكون. من الواضح أن أي مشكلة من هذا النوع مستحيلة عمليًا.\n",
        "</div>\n",
        "<br/>\n",
        "<div dir=\"rtl\">\n",
        "حتى الآن، تناولنا فقط العمليات الرياضية على أرقام مكونة من $𝑛$ خانات، مع التعبير عن التعقيد على أنه عدد العمليات الأساسية الأحادية المطلوبة. مع ذلك، يمكن استخدام نظرية التعقيد لتحليل أي طريقة حاسوبية لأي نوع من المشكلات، سواء كان البحث في قواعد البيانات، عرض الرسوم البيانية، محاكاة الديناميكيات، أو التنقل في متاهة في لعبة \"أسطورة زيلدا\". في كل حالة، نتمكن من العثور على معامل أو مجموعة من المعاملات التي تعمل كحجم مدخلاتنا ونعبر عن التعقيد بناءً على هذا الحجم باستخدام ترميز \"Big O\". على سبيل المثال، بالنسبة للبحث في قاعدة بيانات تحتوي على $𝑁$ إدخالات، يكون التعقيد $𝑂(𝑁)$.\n",
        "</div>\n",
        "<br/>\n",
        "<div dir=\"rtl\">\n",
        "تعريف التعقيد بشكل رسمي يعتمد على النموذج النظري المحدد للحوسبة الذي نستخدمه. لكل نموذج مجموعة من العمليات الأساسية، المعروفة بالعمليات الأولية، التي يمكن التعبير من خلالها عن أي خوارزمية. بالنسبة للدوائر المنطقية، كما تناولنا في القسم الأول، العمليات الأولية هي البوابات المنطقية. بالنسبة لآلات تورينغ، وهي شكل افتراضي من الحواسيب التي اقترحها آلان تورينغ، نتخيل جهازًا يمر عبر ويعالج المعلومات المخزنة على شريط. نموذج ذاكرة الوصول العشوائي (RAM) لديه مجموعة أكثر تعقيدًا من العمليات الأولية ويعمل كشكل مثالي للحواسيب التي نستخدمها يوميًا. جميع هذه النماذج تمثل حوسبة رقمية، بناءً على معالجة القيم المتقطعة. على الرغم من أنها تبدو مختلفة عن بعضها البعض، إلا أنه يتضح أنه من السهل جدًا على كل منها محاكاة الآخر. هذا يعني أن التعقيد الحاسوبي لا يعتمد بشكل كبير على النموذج المستخدم. بدلاً من ذكر التعقيد تحديدًا لنموذج ذاكرة الوصول العشوائي أو آلات تورينغ، يمكننا ببساطة التحدث عن التعقيد للحواسيب الرقمية.\n",
        "</div>"
      ]
    },
    {
      "cell_type": "markdown",
      "metadata": {
        "id": "KcXxqT1gOF5M"
      },
      "source": [
        "<div dir=\"rtl\">\n",
        "\n",
        "## ٤. ما وراء الحوسبة الرقمية <a id=\"beyond\"></a>\n",
        "\n",
        "<div dir=\"rtl\">\n",
        "على الرغم من أن الحواسيب الرقمية تهيمن الآن، فإنها ليست الشكل الوحيد للحوسبة. فقد تمت دراسة الحواسيب التناظرية واستخدامها على نطاق واسع في الماضي. على عكس القيم المنفصلة للحواسيب الرقمية، تعتمد هذه الحواسيب على التلاعب الدقيق بالمعاملات المتغيرة باستمرار. وقد تم الادعاء في بعض الأحيان أن مثل هذه الأجهزة يمكن أن تحل المشكلات بالسرعة التي لا يمكن للحواسيب الرقمية حلها. ومع ذلك، لم يتم تحقيق مثل هذه الادعاءات على أرض الواقع. إحدى العقبات الرئيسية أمام الحواسيب التناظرية هي عدم القدرة على بناء أجهزة بدقة غير محدودة. في الحواسيب الرقمية، يعني التقسيم إلى أجزاء منفصلة أن الأخطاء يجب أن تكون كبيرة نسبيًا لكي تكون ملحوظة، ويمكن عندئذٍ تنفيذ طرق لاكتشاف وتصحيح تلك الأخطاء. أما في الحواسيب التناظرية، فقد تكون الأخطاء صغيرة للغاية ولا يمكن اكتشافها، ومع ذلك يمكن أن تتراكم آثارها لتفسد الحسابات.\n",
        "</div>\n",
        "<br/>\n",
        "<div dir=\"rtl\">\n",
        "إذا كان أحد سيقترح نموذجًا مثاليًا للحوسبة، فقد يسعى إلى دمج قوة الحوسبة الرقمية مع التلاعبات الدقيقة للحوسبة التناظرية. لتحقيق ذلك، يمكننا النظر إلى ميكانيكا الكم. لقد رأينا بالفعل أن الكيوبتات هي نظام ذو مخرجات منفصلة 0 و1، ومع ذلك يمكن أن توجد في حالات لا يمكن وصفها إلا بمعاملات مستمرة. هذه حالة خاصة من المفهوم المعروف بـ \"ازدواجية الموجة والجسيم\" التي تُعدّ نموذجية للأنظمة الكمومية. لا يمكن وصفها بالكامل إما بأنها منفصلة أو مستمرة، بل هي مزيج من الاثنين. وكما قال أينشتاين $^{2}$\n",
        "</div>\n",
        "<br/>\n",
        "<div dir=\"rtl\">\n",
        "\n",
        "> 'يبدو أنه علينا استخدام النظرية الأولى أحيانًا، والنظرية الثانية في أوقات أخرى، وفي أحيان أخرى يمكننا استخدام أي منهما. نواجه نوعًا جديدًا من الصعوبة. لدينا صورتان متناقضتان للواقع؛ كل منهما على حدة لا تفسر الظواهر بالكامل... ولكن معًا تفسرانها'\n",
        "</div>\n",
        "<br/>\n",
        "<div dir=\"rtl\">\n",
        "لذلك، يُعتبر الحاسوب الكمومي، الذي تعتمد عملياته الأولية على بوابات تُطبق على الكيوبتات، ليس حاسوبًا رقميًا ولا تناظريًا، بل شيئًا فريدًا. في الفصول التالية، سنستكشف نتائج هذه الطبيعة الفريدة. سنرى أن الحواسيب الكمومية يمكنها حل مشكلات ذات تعقيد مختلف تمامًا عن الحواسيب الرقمية. في الواقع، الحوسبة الكمومية هي التقنية الوحيدة المعروفة التي يمكن أن تكون أسرع بشكل أسي من الحواسيب التقليدية في بعض المهام، مما يقلل من أوقات الحساب من سنوات إلى دقائق. سنستكشف أيضًا كيف يمكن لتصحيح الأخطاء الكمومية إزالة تأثيرات أي عيوب.\n",
        "</div>\n",
        "</div>"
      ]
    },
    {
      "cell_type": "markdown",
      "metadata": {
        "id": "judgkydcOF5N"
      },
      "source": [
        "<div dir=\"rtl\">\n",
        "\n",
        "## ٥. متى نستخدم الحاسوب الكمومي <a id=\"when\"></a>\n",
        "</div>\n",
        "<div dir=\"rtl\">\n",
        "مع الكيوبتات والبوابات الكمومية، يمكننا تصميم خوارزميات جديدة تختلف جذريًا عن تلك الكلاسيكية الرقمية والتناظرية. بهذه الطريقة، نأمل في العثور على حلول للمشكلات التي لا يمكن حلها بواسطة الحواسيب الكلاسيكية.\n",
        "</div>\n",
        "<br/>\n",
        "<div dir=\"rtl\">\n",
        "إحدى الطرق لتحقيق ذلك هي عندما يكون لدينا دالة نرغب في تحديد خاصية عالمية لها. على سبيل المثال، إذا كنا نريد العثور على قيمة ما للمعامل $x$ التي تكون الدالة $f(x)$ عندها في أدنى قيمة لها، أو معرفة دورية الدالة إذا $f(x)$ دورية. قد تستخدم خوارزمية على حاسوب رقمي عملية يتم فيها حساب $f(x)$لمجموعة متنوعة من المدخلات المختلفة للحصول على معلومات كافية حول الخاصية العالمية. ومع ذلك، يمكن للحاسوب الكمومي استخدام حقيقة أنه يمكننا إنشاء حالات تراكب، مما يعني أن الدالة يمكن تطبيقها على العديد من المدخلات الممكنة في الوقت نفسه. هذا لا يعني أنه يمكننا الوصول إلى جميع المخرجات الممكنة، حيث أن قياس هذه الحالة يُعطينا نتيجة واحدة فقط. ولكن يمكننا بدلاً من ذلك السعي إلى تحفيز تأثير تداخل كمومي يكشف الخاصية العالمية المطلوبة.\n",
        "</div>\n",
        "<br/>\n",
        "<div dir=\"rtl\">\n",
        "هذا الوصف العام يوضح كيفية عمل العديد من الخوارزميات الكمومية التي تم اكتشافها بالفعل. أحد الأمثلة البارزة هو خوارزمية غروفر (Grover's Algorithm)، التي تقلل من تعقيد البحث في $N$ عنصرًا من $O(N)$ إلى $O(N^{1/2})$. يمكن أن يكون هذا التسريع المربع مفيدًا في العديد من التطبيقات التي يمكن التعبير عنها على أنها بحث غير منظم، مثل مشكلات التحسين والتعلم الآلي.\n",
        "</div>"
      ]
    },
    {
      "cell_type": "code",
      "execution_count": null,
      "metadata": {
        "tags": [
          "remove_input"
        ],
        "colab": {
          "base_uri": "https://localhost:8080/",
          "height": 158
        },
        "id": "iOmkeZZQOF5N",
        "outputId": "bde6ef53-2242-40d5-c7f3-f04175d1d614"
      },
      "outputs": [
        {
          "output_type": "execute_result",
          "data": {
            "text/plain": [
              "<IPython.core.display.HTML object>"
            ],
            "text/html": [
              "<figure><!DOCTYPE html>\n",
              "<html lang=\"en\">\n",
              "  <head>\n",
              "    <meta charset=\"utf-8\">\n",
              "    <title>Bokeh Application</title>\n",
              "    <style>\n",
              "      html, body {\n",
              "        box-sizing: border-box;\n",
              "        display: flow-root;\n",
              "        height: 100%;\n",
              "        margin: 0;\n",
              "        padding: 0;\n",
              "      }\n",
              "    </style>\n",
              "    <script type=\"text/javascript\" src=\"https://cdn.bokeh.org/bokeh/release/bokeh-3.4.3.min.js\"></script>\n",
              "    <script type=\"text/javascript\" src=\"https://cdn.bokeh.org/bokeh/release/bokeh-widgets-3.4.3.min.js\"></script>\n",
              "    <script type=\"text/javascript\">\n",
              "        Bokeh.set_log_level(\"info\");\n",
              "    </script>\n",
              "  </head>\n",
              "  <body>\n",
              "    <div id=\"c92040cb-3041-42d1-9882-a1fbdb017c41\" data-root-id=\"p1822\" style=\"display: contents;\"></div>\n",
              "  \n",
              "    <script type=\"application/json\" id=\"be2757a6-24b9-4fc8-9f26-ee22b9dc52ed\">\n",
              "      {\"9bb2ba3f-d799-4162-b729-e18f2a3605f1\":{\"version\":\"3.4.3\",\"title\":\"Bokeh Application\",\"roots\":[{\"type\":\"object\",\"name\":\"Column\",\"id\":\"p1822\",\"attributes\":{\"children\":[{\"type\":\"object\",\"name\":\"Figure\",\"id\":\"p1774\",\"attributes\":{\"width\":800,\"height\":400,\"sizing_mode\":\"scale_width\",\"x_range\":{\"type\":\"object\",\"name\":\"Range1d\",\"id\":\"p1783\",\"attributes\":{\"end\":500}},\"y_range\":{\"type\":\"object\",\"name\":\"Range1d\",\"id\":\"p1784\",\"attributes\":{\"end\":500}},\"x_scale\":{\"type\":\"object\",\"name\":\"LinearScale\",\"id\":\"p1785\"},\"y_scale\":{\"type\":\"object\",\"name\":\"LinearScale\",\"id\":\"p1786\"},\"title\":{\"type\":\"object\",\"name\":\"Title\",\"id\":\"p1781\"},\"renderers\":[{\"type\":\"object\",\"name\":\"GlyphRenderer\",\"id\":\"p1805\",\"attributes\":{\"data_source\":{\"type\":\"object\",\"name\":\"ColumnDataSource\",\"id\":\"p1768\",\"attributes\":{\"selected\":{\"type\":\"object\",\"name\":\"Selection\",\"id\":\"p1769\",\"attributes\":{\"indices\":[],\"line_indices\":[]}},\"selection_policy\":{\"type\":\"object\",\"name\":\"UnionRenderers\",\"id\":\"p1770\"},\"data\":{\"type\":\"map\",\"entries\":[[\"x\",{\"type\":\"ndarray\",\"array\":{\"type\":\"bytes\",\"data\":\"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\"},\"shape\":[500],\"dtype\":\"int32\",\"order\":\"little\"}],[\"y\",{\"type\":\"ndarray\",\"array\":{\"type\":\"bytes\",\"data\":\"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\"},\"shape\":[500],\"dtype\":\"int32\",\"order\":\"little\"}]]}}},\"view\":{\"type\":\"object\",\"name\":\"CDSView\",\"id\":\"p1806\",\"attributes\":{\"filter\":{\"type\":\"object\",\"name\":\"AllIndices\",\"id\":\"p1807\"}}},\"glyph\":{\"type\":\"object\",\"name\":\"Line\",\"id\":\"p1802\",\"attributes\":{\"x\":{\"type\":\"field\",\"field\":\"x\"},\"y\":{\"type\":\"field\",\"field\":\"y\"},\"line_color\":\"blue\",\"line_alpha\":0.6,\"line_width\":3}},\"nonselection_glyph\":{\"type\":\"object\",\"name\":\"Line\",\"id\":\"p1803\",\"attributes\":{\"x\":{\"type\":\"field\",\"field\":\"x\"},\"y\":{\"type\":\"field\",\"field\":\"y\"},\"line_color\":\"blue\",\"line_alpha\":0.1,\"line_width\":3}},\"muted_glyph\":{\"type\":\"object\",\"name\":\"Line\",\"id\":\"p1804\",\"attributes\":{\"x\":{\"type\":\"field\",\"field\":\"x\"},\"y\":{\"type\":\"field\",\"field\":\"y\"},\"line_color\":\"blue\",\"line_alpha\":0.2,\"line_width\":3}}}},{\"type\":\"object\",\"name\":\"GlyphRenderer\",\"id\":\"p1816\",\"attributes\":{\"data_source\":{\"type\":\"object\",\"name\":\"ColumnDataSource\",\"id\":\"p1771\",\"attributes\":{\"selected\":{\"type\":\"object\",\"name\":\"Selection\",\"id\":\"p1772\",\"attributes\":{\"indices\":[],\"line_indices\":[]}},\"selection_policy\":{\"type\":\"object\",\"name\":\"UnionRenderers\",\"id\":\"p1773\"},\"data\":{\"type\":\"map\",\"entries\":[[\"x\",{\"type\":\"ndarray\",\"array\":{\"type\":\"bytes\",\"data\":\"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\"},\"shape\":[500],\"dtype\":\"int32\",\"order\":\"little\"}],[\"y\",{\"type\":\"ndarray\",\"array\":{\"type\":\"bytes\",\"data\":\"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\"},\"shape\":[500],\"dtype\":\"float64\",\"order\":\"little\"}]]}}},\"view\":{\"type\":\"object\",\"name\":\"CDSView\",\"id\":\"p1817\",\"attributes\":{\"filter\":{\"type\":\"object\",\"name\":\"AllIndices\",\"id\":\"p1818\"}}},\"glyph\":{\"type\":\"object\",\"name\":\"Line\",\"id\":\"p1813\",\"attributes\":{\"x\":{\"type\":\"field\",\"field\":\"x\"},\"y\":{\"type\":\"field\",\"field\":\"y\"},\"line_color\":\"red\",\"line_alpha\":0.6,\"line_width\":3}},\"nonselection_glyph\":{\"type\":\"object\",\"name\":\"Line\",\"id\":\"p1814\",\"attributes\":{\"x\":{\"type\":\"field\",\"field\":\"x\"},\"y\":{\"type\":\"field\",\"field\":\"y\"},\"line_color\":\"red\",\"line_alpha\":0.1,\"line_width\":3}},\"muted_glyph\":{\"type\":\"object\",\"name\":\"Line\",\"id\":\"p1815\",\"attributes\":{\"x\":{\"type\":\"field\",\"field\":\"x\"},\"y\":{\"type\":\"field\",\"field\":\"y\"},\"line_color\":\"red\",\"line_alpha\":0.2,\"line_width\":3}}}}],\"toolbar\":{\"type\":\"object\",\"name\":\"Toolbar\",\"id\":\"p1782\",\"attributes\":{\"tools\":[{\"type\":\"object\",\"name\":\"ResetTool\",\"id\":\"p1797\"},{\"type\":\"object\",\"name\":\"SaveTool\",\"id\":\"p1798\"}]}},\"left\":[{\"type\":\"object\",\"name\":\"LinearAxis\",\"id\":\"p1792\",\"attributes\":{\"ticker\":{\"type\":\"object\",\"name\":\"BasicTicker\",\"id\":\"p1793\",\"attributes\":{\"mantissas\":[1,2,5]}},\"formatter\":{\"type\":\"object\",\"name\":\"BasicTickFormatter\",\"id\":\"p1794\"},\"axis_label\":\"Time Taken to Find Solution\",\"major_label_policy\":{\"type\":\"object\",\"name\":\"AllLabels\",\"id\":\"p1795\"}}}],\"below\":[{\"type\":\"object\",\"name\":\"LinearAxis\",\"id\":\"p1787\",\"attributes\":{\"ticker\":{\"type\":\"object\",\"name\":\"BasicTicker\",\"id\":\"p1788\",\"attributes\":{\"mantissas\":[1,2,5]}},\"formatter\":{\"type\":\"object\",\"name\":\"BasicTickFormatter\",\"id\":\"p1789\"},\"axis_label\":\"Size of Problem\",\"major_label_policy\":{\"type\":\"object\",\"name\":\"AllLabels\",\"id\":\"p1790\"}}}],\"center\":[{\"type\":\"object\",\"name\":\"Grid\",\"id\":\"p1791\",\"attributes\":{\"axis\":{\"id\":\"p1787\"}}},{\"type\":\"object\",\"name\":\"Grid\",\"id\":\"p1796\",\"attributes\":{\"dimension\":1,\"axis\":{\"id\":\"p1792\"}}},{\"type\":\"object\",\"name\":\"Legend\",\"id\":\"p1808\",\"attributes\":{\"location\":\"top_left\",\"items\":[{\"type\":\"object\",\"name\":\"LegendItem\",\"id\":\"p1809\",\"attributes\":{\"label\":{\"type\":\"value\",\"value\":\"Classical Search O(N)\"},\"renderers\":[{\"id\":\"p1805\"}]}},{\"type\":\"object\",\"name\":\"LegendItem\",\"id\":\"p1819\",\"attributes\":{\"label\":{\"type\":\"value\",\"value\":\"Quantum Search O(\\u221aN)\"},\"renderers\":[{\"id\":\"p1816\"}]}}]}}]}},{\"type\":\"object\",\"name\":\"Slider\",\"id\":\"p1821\",\"attributes\":{\"js_property_callbacks\":{\"type\":\"map\",\"entries\":[[\"change:value\",[{\"type\":\"object\",\"name\":\"CustomJS\",\"id\":\"p1820\",\"attributes\":{\"args\":{\"type\":\"map\",\"entries\":[[\"source\",{\"id\":\"p1771\"}]]},\"code\":\"\\n        var data = source.data;\\n        var f = (10-cb_obj.value)*2 + 3\\n        var x = data['x']\\n        var y = data['y']\\n        for (var i = 0; i &lt; x.length; i++) {\\n            y[i] = f*Math.sqrt(x[i])\\n        }\\n        source.change.emit();\\n    \"}}]]]},\"title\":\"Relative Speed of Quantum Computer\",\"show_value\":false,\"start\":1.0,\"end\":10.0,\"value\":7.5,\"step\":0.1}}]}}]}}\n",
              "    </script>\n",
              "    <script type=\"text/javascript\">\n",
              "      (function() {\n",
              "        const fn = function() {\n",
              "          Bokeh.safely(function() {\n",
              "            (function(root) {\n",
              "              function embed_document(root) {\n",
              "              const docs_json = document.getElementById('be2757a6-24b9-4fc8-9f26-ee22b9dc52ed').textContent;\n",
              "              const render_items = [{\"docid\":\"9bb2ba3f-d799-4162-b729-e18f2a3605f1\",\"roots\":{\"p1822\":\"c92040cb-3041-42d1-9882-a1fbdb017c41\"},\"root_ids\":[\"p1822\"]}];\n",
              "              root.Bokeh.embed.embed_items(docs_json, render_items);\n",
              "              }\n",
              "              if (root.Bokeh !== undefined) {\n",
              "                embed_document(root);\n",
              "              } else {\n",
              "                let attempts = 0;\n",
              "                const timer = setInterval(function(root) {\n",
              "                  if (root.Bokeh !== undefined) {\n",
              "                    clearInterval(timer);\n",
              "                    embed_document(root);\n",
              "                  } else {\n",
              "                    attempts++;\n",
              "                    if (attempts > 100) {\n",
              "                      clearInterval(timer);\n",
              "                      console.log(\"Bokeh: ERROR: Unable to run BokehJS code because BokehJS library is missing\");\n",
              "                    }\n",
              "                  }\n",
              "                }, 10, root)\n",
              "              }\n",
              "            })(window);\n",
              "          });\n",
              "        };\n",
              "        if (document.readyState != \"loading\") fn();\n",
              "        else document.addEventListener(\"DOMContentLoaded\", fn);\n",
              "      })();\n",
              "    </script>\n",
              "  </body>\n",
              "</html><figcaption>مقارنة أداء الخوارزميات عبر منصات مختلفة أمر صعب، ولكن ما يمكننا تأكيده من خلال ترميز بيج او هو أنه على الرغم من اختلاف السرعات بين الحواسيب التقليدية والحواسيب الكمومية، فإنه مع وجود مشكلة كبيرة بما يكفي، فإن خوارزمية البحث الكمومي ستتفوق دائمًا على خوارزمية البحث التقليدية</figcaption></figure>"
            ]
          },
          "metadata": {},
          "execution_count": 19
        }
      ],
      "source": [
        "# هذا الكود لإنشاء الشكل التفاعلي\n",
        "from bokeh.layouts import column\n",
        "from bokeh.models import ColumnDataSource, CustomJS, Slider\n",
        "from bokeh.plotting import figure, show\n",
        "from bokeh.embed import file_html\n",
        "from bokeh.resources import CDN\n",
        "import numpy as np\n",
        "import IPython\n",
        "\n",
        "x = np.arange(0,500)\n",
        "y_linear = x\n",
        "y_sqrt = 7.5*np.sqrt(x)\n",
        "\n",
        "linear_source = ColumnDataSource(data=dict(x=x, y=y_linear))\n",
        "sqrt_source = ColumnDataSource(data=dict(x=x, y=y_sqrt))\n",
        "\n",
        "plot = figure(\n",
        "              height=400,\n",
        "              width=800,\n",
        "              sizing_mode=\"scale_width\",\n",
        "              tools=\"reset,save\",\n",
        "              x_range=[0, 500], y_range=[0, 500],\n",
        "              x_axis_label=\"Size of Problem\",\n",
        "              y_axis_label=\"Time Taken to Find Solution\")\n",
        "plot.line('x', 'y', source=linear_source, line_width=3, line_alpha=0.6, color=\"blue\", legend_label=\"Classical Search O(N)\")\n",
        "plot.line('x', 'y', source=sqrt_source, line_width=3, line_alpha=0.6, color=\"red\", legend_label=\"Quantum Search O(√N)\")\n",
        "plot.legend.location = \"top_left\"\n",
        "\n",
        "callback = CustomJS(args=dict(source=sqrt_source), code=\"\"\"\n",
        "        var data = source.data;\n",
        "        var f = (10-cb_obj.value)*2 + 3\n",
        "        var x = data['x']\n",
        "        var y = data['y']\n",
        "        for (var i = 0; i < x.length; i++) {\n",
        "            y[i] = f*Math.sqrt(x[i])\n",
        "        }\n",
        "        source.change.emit();\n",
        "    \"\"\")\n",
        "\n",
        "speed_slider = Slider(title=\"Relative Speed of Quantum Computer\", value=7.5, start=1.0, end=10.0, step=0.1, show_value=False)\n",
        "speed_slider.js_on_change('value', callback)\n",
        "\n",
        "layout = column(plot, speed_slider)\n",
        "\n",
        "caption = f\"{'مقارنة أداء الخوارزميات عبر منصات مختلفة أمر صعب، ولكن ما يمكننا تأكيده من خلال ترميز بيج او هو أنه على الرغم من اختلاف السرعات بين الحواسيب التقليدية والحواسيب الكمومية، فإنه مع وجود مشكلة كبيرة بما يكفي، فإن خوارزمية البحث الكمومي ستتفوق دائمًا على خوارزمية البحث التقليدية'}\"\n",
        "\n",
        "html_repr = file_html(layout, CDN)\n",
        "html_fig = \"<figure>{0}<figcaption>{1}</figcaption></figure>\".format(html_repr, caption)\n",
        "IPython.display.HTML(html_fig)"
      ]
    },
    {
      "cell_type": "markdown",
      "metadata": {
        "id": "0dyUR_tiOF5O"
      },
      "source": [
        "<div dir=\"rtl\">\n",
        "هنالك تحقيق تسريع أكثر إثارة للإعجاب مع خوارزمية شور (Shor's Algorithm)، التي تحلل الدوال الدورية في قلب مشكلة التحليل إلى عوامل أولية. يسمح هذا الحل الكمومي بتحليل الأعداد المؤلفة من $n$ خانة بتعقيد $O(n^3)$. هذا تسريع فوق-الأسّية مقارنة بتعقيد الحواسيب الرقمية، الذي هو أسوأ من $O\\left(e^{n^{1/3}}\\right)$.\n",
        "</div>\n",
        "<br/>\n",
        "<div dir=\"rtl\">\n",
        "نهج آخر نحو الخوارزميات الكمومية هو استخدام الحواسيب الكمومية لحل المشكلات الكمومية. كما سنرى في الفصل التالي، يتطلب التعبير عن الحالة الكمومية مقدارًا من المعلومات يتزايد بشكل أسي مع عدد الكيوبتات. لذلك، يصبح مجرد كتابة حالة تحتوي على عدد $n$ من الكيوبتات مهمة لا يمكن للحواسيب الرقمية إنجازها مع ازدياد $n$. ومع ذلك، بالنسبة للحاسوب الكمومي، نحتاج فقط إلى $n$ كيوبتات للقيام بالمهمة نفسها. هذه القدرة الطبيعية على التعبير عن الحالات الكمومية ومعالجتها تمكننا من دراسة وفهم الأنظمة الكمومية ذات الأهمية، مثل الجزيئات والجسيمات الأساسية.\n",
        "</div>\n",
        "<br/>\n",
        "<div dir=\"rtl\">\n",
        "تطبيق وتكييف الخوارزميات الكمومية في مختلف الصناعات يَعِدُ بتمكين استخدامات مبتكرة في الأعمال والعلوم. تشمل هذه الاستخدامات تقدم في اكتشاف الأدوية، التعلم الآلي، اكتشاف المواد، تسعير الخيارات المالية، طي البروتينات، وسلاسل التوريد. $^{3}$ خصوصًا واعدة هي تلك المشكلات التي تواجه خوارزميات الحوسبة التقليدية فيها حدودًا متعلّقة في قابلية التوسع ولا تتطلب تحميل مجموعة بيانات كلاسيكية كبيرة. لتحقيق ميزة الكم، يجب أن تعتمد إجابات المشكلة المحددة على عدد كبير من الدرجات المتشابكة من الحرية التي يتطور فيها ميكانيكا الكم لحل المشكلة دون الحاجة إلى المرور بجميع المسارات الممكنة. ولكن تجدر الإشارة إلى أن العلاقة الدقيقة بين المشكلات التي تعتبر \"سهلة\" للحواسيب الكمومية (قابلة للحل في وقت كثير الحدود) وغيرها من فئات النظرية التعقيدية ما زالت قضية مفتوحة. $^{4}$\n",
        "\n",
        "</div>\n",
        "<br/>\n",
        "<div dir=\"rtl\">\n",
        "هذا مجرد تذوق لكيفية أداء الخوارزميات الكمومية للحوسبة بطرق فريدة. يمكن العثور على المزيد من التفاصيل حول هذه الأساليب في الفصول اللاحقة. ولكن أولاً، نحتاج إلى النظر إلى ما وراء الكيوبت الواحد واستثمار بعض الوقت في فهم المجموعة الكاملة من البوابات الكمومية التي سنحتاجها. هذا هو محور الفصل التالي.\n",
        "</div>"
      ]
    },
    {
      "cell_type": "markdown",
      "metadata": {
        "id": "LS5PZqtkOF5P"
      },
      "source": [
        "<div dir=\"rtl\">\n",
        "\n",
        "##٦. المصادر <a id=\"when\"></a>\n",
        "\n",
        "</div>\n",
        "\n",
        "1. https://lists.gforge.inria.fr/pipermail/cado-nfs-discuss/2020-February/001166.html\n",
        "2. Albert Einstein, Leopold Infeld (1938). The Evolution of Physics: The Growth of Ideas from Early Concepts to Relativity and Quanta. Cambridge University Press.\n",
        "3. https://www.ibm.com/thought-leadership/institute-business-value/report/quantumstrategy\n",
        "4. https://www.cs.virginia.edu/~robins/The_Limits_of_Quantum_Computers.pdf\n",
        "5. Image: Cmglee / CC BY-SA (https://creativecommons.org/licenses/by-sa/4.0)"
      ]
    },
    {
      "cell_type": "code",
      "execution_count": null,
      "metadata": {
        "id": "dNhKmbx5OF5P",
        "outputId": "7db3b88e-13f0-45bc-b203-836da0a0cdfa"
      },
      "outputs": [
        {
          "data": {
            "text/html": [
              "<h3>Version Information</h3><table><tr><th>Qiskit Software</th><th>Version</th></tr><tr><td>Qiskit</td><td>0.27.0</td></tr><tr><td>Terra</td><td>0.17.4</td></tr><tr><td>Aer</td><td>0.8.2</td></tr><tr><td>Ignis</td><td>0.6.0</td></tr><tr><td>Aqua</td><td>0.9.2</td></tr><tr><td>IBM Q Provider</td><td>0.14.0</td></tr><tr><th>System information</th></tr><tr><td>Python</td><td>3.7.7 (default, May  6 2020, 04:59:01) \n",
              "[Clang 4.0.1 (tags/RELEASE_401/final)]</td></tr><tr><td>OS</td><td>Darwin</td></tr><tr><td>CPUs</td><td>8</td></tr><tr><td>Memory (Gb)</td><td>32.0</td></tr><tr><td colspan='2'>Thu Jun 17 15:13:01 2021 BST</td></tr></table>"
            ],
            "text/plain": [
              "<IPython.core.display.HTML object>"
            ]
          },
          "metadata": {},
          "output_type": "display_data"
        }
      ],
      "source": [
        "import qiskit.tools.jupyter\n",
        "%qiskit_version_table"
      ]
    }
  ],
  "metadata": {
    "kernelspec": {
      "display_name": "Python 3",
      "language": "python",
      "name": "python3"
    },
    "language_info": {
      "codemirror_mode": {
        "name": "ipython",
        "version": 3
      },
      "file_extension": ".py",
      "mimetype": "text/x-python",
      "name": "python",
      "nbconvert_exporter": "python",
      "pygments_lexer": "ipython3",
      "version": "3.9"
    },
    "colab": {
      "provenance": []
    }
  },
  "nbformat": 4,
  "nbformat_minor": 0
}