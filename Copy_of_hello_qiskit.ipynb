{
  "cells": [
    {
      "cell_type": "markdown",
      "metadata": {
        "id": "view-in-github",
        "colab_type": "text"
      },
      "source": [
        "<a href=\"https://colab.research.google.com/github/Huthayfa0/qiskit_textbook_bzu_qc/blob/sara_khader_hello_qiskit/Copy_of_hello_qiskit.ipynb\" target=\"_parent\"><img src=\"https://colab.research.google.com/assets/colab-badge.svg\" alt=\"Open In Colab\"/></a>"
      ]
    },
    {
      "cell_type": "markdown",
      "metadata": {
        "tags": [
          "remove_cell"
        ],
        "id": "Bs2_AJBvVCcO"
      },
      "source": [
        "# Hello Qiskit"
      ]
    },
    {
      "cell_type": "markdown",
      "metadata": {
        "id": "LK1AzhWZVCcQ"
      },
      "source": [
        "Simple puzzles to get started with qubits and quantum gates.\n",
        "\n",
        "## Level 1: Beginning with bits\n",
        "\n",
        "Like all of the textbook, this document is a Jupyter notebook. However, unlike most of the textbook, you'll have to actually run it to make it work.\n",
        "\n",
        "Don't worry if you've never used a Jupyter notebook before. It just means you'll see lots of grey boxes with code in, like the one below. These are known as cells."
      ]
    },
    {
      "cell_type": "code",
      "execution_count": null,
      "metadata": {
        "id": "9wpmfp1DVCcR"
      },
      "outputs": [],
      "source": [
        "print(\"Hello! I'm a code cell\")"
      ]
    },
    {
      "cell_type": "markdown",
      "metadata": {
        "id": "yzb0i5X1VCcT"
      },
      "source": [
        "The way to run the code within a cell depends on the device and input method you are using. In most cases, you should click on the cell and press **Shift-Enter**. However, if you are running this on the Qiskit textbook website, you can just click the 'Run' button below.\n",
        "\n",
        "Get started by doing this for the cell below (it will take a second or two to run)."
      ]
    },
    {
      "cell_type": "code",
      "execution_count": null,
      "metadata": {
        "id": "OXMelCb8VCcT",
        "outputId": "adbd612c-2a68-43f0-84cb-4faac54ce7a4"
      },
      "outputs": [
        {
          "name": "stdout",
          "output_type": "stream",
          "text": [
            "Set up started...\n",
            "Set up complete!\n"
          ]
        }
      ],
      "source": [
        "print('Set up started...')\n",
        "from qiskit_textbook.games import hello_quantum\n",
        "print('Set up complete!')"
      ]
    },
    {
      "cell_type": "markdown",
      "metadata": {
        "id": "IKw_dc2dVCcU"
      },
      "source": [
        "The rest of the cells in this notebook contain code that sets up puzzles for you to solve. To get the puzzles, just run the cells. To restart a puzzle, just rerun it."
      ]
    },
    {
      "cell_type": "markdown",
      "metadata": {
        "id": "77719jT7VCcV"
      },
      "source": [
        "### Puzzle 1\n",
        "\n",
        "#### Intro\n",
        "\n",
        "Quantum computers are based on *qubits*: the quantum version of a bit. But what exactly is a bit? And how are they used in computers?\n",
        "\n",
        "The defining feature of a bit is that it has two possible output values. These can be called `1` and `0`, or 'on' and 'off', or 'True' and 'False'. The names we use don't really matter. The important point is that there are two of them.\n",
        "\n",
        "To get familiar with bits, let's play with one. The simplest thing you can do with a bit (other than leave it alone) is flip its value. We give this simple operation a fancy name: it is called the `NOT` gate.\n",
        "\n",
        "Try it out below.\n",
        "\n",
        "#### Exercise\n",
        "*  Use the `NOT` gate 3 times."
      ]
    },
    {
      "cell_type": "code",
      "execution_count": null,
      "metadata": {
        "id": "oepIGhzaVCcV"
      },
      "outputs": [],
      "source": [
        "initialize = []\n",
        "success_condition = {}\n",
        "allowed_gates = {'0': {'NOT': 3}, '1': {}, 'both': {}}\n",
        "vi = [[1], False, False]\n",
        "qubit_names = {'0':'the only bit', '1':None}\n",
        "puzzle = hello_quantum.run_game(initialize, success_condition, allowed_gates, vi, qubit_names)"
      ]
    },
    {
      "cell_type": "markdown",
      "metadata": {
        "id": "lJHc5WDiVCcV"
      },
      "source": [
        "#### Outro\n",
        "\n",
        "Here we visualized our bit using a circle that was either on (white) or off (black). The effect of the `NOT` gate was to turn it on and off, flipping between the two states of the bit."
      ]
    },
    {
      "cell_type": "markdown",
      "metadata": {
        "id": "S3QrkISsVCcW"
      },
      "source": [
        "### Puzzle 2\n",
        "\n",
        "#### Intro\n",
        "\n",
        "It's more interesting to play with two bits than just one. So here is another to play with. It will look the same as before. But because it is a different bit, it'll be in a different place.\n",
        "\n",
        "#### Exercise\n",
        "*  Turn the other bit on."
      ]
    },
    {
      "cell_type": "code",
      "execution_count": null,
      "metadata": {
        "id": "XjrARtLjVCcW"
      },
      "outputs": [],
      "source": [
        "initialize = []\n",
        "success_condition = {}\n",
        "allowed_gates = {'0': {}, '1': {'NOT': 0}, 'both': {}}\n",
        "vi = [[], False, False]\n",
        "qubit_names = {'0':'the bit on the left', '1':'the bit on the right'}\n",
        "puzzle = hello_quantum.run_game(initialize, success_condition, allowed_gates, vi, qubit_names)"
      ]
    },
    {
      "cell_type": "markdown",
      "metadata": {
        "id": "GM137oXhVCcW"
      },
      "source": [
        "#### Outro\n",
        "You've now mastered the `NOT` gate: the most basic building block of computing."
      ]
    },
    {
      "cell_type": "markdown",
      "metadata": {
        "id": "dOmP1gmNVCcX"
      },
      "source": [
        "### Puzzle 3\n",
        "\n",
        "#### Intro\n",
        "\n",
        "We use the word 'gate' to describe the simple tools we can use to manipulate qubits. The `NOT` gate is the simplest example. But to do interesting things with bits, we need to do more than just turn them on and off.\n",
        "\n",
        "A slightly more sophisticated gate is called the `CNOT`, which is short for 'controlled-`NOT`'. This is used on pairs of bits.\n",
        "\n",
        "We choose one of the bits to be the 'control'. This gets to decide whether the `CNOT` actually does anything. The other bit is the 'target'. Simply put, the `CNOT` does a `NOT` on the target bit, but only if the control bit is on.\n",
        "\n",
        "The best way to understand this is to try it out!\n",
        "\n",
        "#### Exercise\n",
        "* Use the `CNOT` to turn on the bit on the right.\n",
        "* **Note**: When you are asked to choose a bit, you are choosing which will be the target bit."
      ]
    },
    {
      "cell_type": "code",
      "execution_count": null,
      "metadata": {
        "id": "Ks_SdI1JVCcX"
      },
      "outputs": [],
      "source": [
        "initialize = [['x', '0']]\n",
        "success_condition = {'IZ': -1.0}\n",
        "allowed_gates = {'0': {'CNOT': 0}, '1': {'CNOT': 0}, 'both': {}}\n",
        "vi = [[], False, False]\n",
        "qubit_names = {'0':'the bit on the left', '1':'the bit on the right'}\n",
        "puzzle = hello_quantum.run_game(initialize, success_condition, allowed_gates, vi, qubit_names)"
      ]
    },
    {
      "cell_type": "markdown",
      "metadata": {
        "id": "9txZ2WObVCcX"
      },
      "source": [
        "### Puzzle 4\n",
        "\n",
        "#### Intro\n",
        "\n",
        "Any program we run is made up of many gates on many qubits. As a step towards this, let's try something where you'll need to use a couple of `CNOT`s.\n",
        "\n",
        "#### Exercise\n",
        "*  Use some CNOTs to turn the left bit off and the right bit on."
      ]
    },
    {
      "cell_type": "code",
      "execution_count": null,
      "metadata": {
        "id": "ApaXbJ0LVCcX"
      },
      "outputs": [],
      "source": [
        "initialize = [['x', '0']]\n",
        "success_condition = {'ZI': 1.0, 'IZ': -1.0}\n",
        "allowed_gates = {'0': {'CNOT': 0}, '1': {'CNOT': 0}, 'both': {}}\n",
        "vi = [[], False, False]\n",
        "qubit_names = {'0':'the bit on the left', '1':'the bit on the right'}\n",
        "puzzle = hello_quantum.run_game(initialize, success_condition, allowed_gates, vi, qubit_names)"
      ]
    },
    {
      "cell_type": "markdown",
      "metadata": {
        "id": "zWX8evQGVCcX"
      },
      "source": [
        "#### Outro\n",
        "Well done!\n",
        "\n",
        "These kind of manipulations are what all computing compiles down to. If you had more bits and a controlled-controlled-`NOT` gate, you could build everything from Tetris to self-driving cars."
      ]
    },
    {
      "cell_type": "markdown",
      "metadata": {
        "id": "xOdL-xjPVCcY"
      },
      "source": [
        "### Puzzle 5\n",
        "\n",
        "#### Intro\n",
        "\n",
        "You have probably noticed that there is a lot of empty space on the puzzle board. This is because it can be used to visualize more information about our bits. For example, what if our bit values have been generated by some random process?\n",
        "\n",
        "We have used black and white circles to represent the bit values of `0` or `1`. So for a random bit, which will give us `0` or `1` with equal probability, we'll use a grey circle.\n",
        "\n",
        "Now we can look at how our gates manipulate this randomness.\n",
        "\n",
        "#### Exercise\n",
        "*  Make the bit on the right random using a CNOT."
      ]
    },
    {
      "cell_type": "code",
      "execution_count": null,
      "metadata": {
        "id": "wQvYEOKYVCcY"
      },
      "outputs": [],
      "source": [
        "initialize = [['h', '0']]\n",
        "success_condition = {'IZ': 0.0}\n",
        "allowed_gates = {'0': {'CNOT': 0}, '1': {'CNOT': 0}, 'both': {}}\n",
        "vi = [[], False, False]\n",
        "qubit_names = {'0':'the bit on the left', '1':'the bit on the right'}\n",
        "puzzle = hello_quantum.run_game(initialize, success_condition, allowed_gates, vi, qubit_names)"
      ]
    },
    {
      "cell_type": "markdown",
      "metadata": {
        "id": "bZAiLHhMVCcY"
      },
      "source": [
        "#### Outro\n",
        "\n",
        "Well done!\n",
        "\n",
        "Let's think about what happened here. We did a `CNOT`, controlled by a bit that was randomly either on or off. If it was off, the `CNOT` does nothing and the right bit stays off. If the left bit was on, the `CNOT` does a `NOT` on the right bit to switch it on too.\n",
        "\n",
        "This process effectively copies the random value of the left bit over to the right. So outputs from both will look random, but with an important property: they will always output the same random result as each other.\n",
        "\n",
        "At the end of the puzzle above, the two bits were represented by two grey circles. This shows that both are random, but tells us nothing about the fact that they always agree. The same two grey circles would also be used if the bits were independently random, or if they were random but always disagreed. To help us tell the difference, we need to add something to the puzzle board."
      ]
    },
    {
      "cell_type": "markdown",
      "metadata": {
        "id": "r99If-xoVCcY"
      },
      "source": [
        "### Puzzle 6\n",
        "\n",
        "#### Intro\n",
        "\n",
        "In the puzzle below, you'll see a new circle.\n",
        "\n",
        "Unlike the circles you've seen so far, doesn't represent a new bit. Instead it tells us whether or not our two bits will agree or not.\n",
        "\n",
        "When they are certain to agree, it will be off. When they are certain to disagree, it will be on. If their agreements and disagreements are just random, it will be grey.\n",
        "\n",
        "\n",
        "#### Exercise\n",
        "*  Make the two bits always disagree (that means making the middle circle white)."
      ]
    },
    {
      "cell_type": "code",
      "execution_count": null,
      "metadata": {
        "id": "mZDCRT2bVCcY"
      },
      "outputs": [],
      "source": [
        "initialize = [['h', '0']]\n",
        "success_condition = {'ZZ': -1.0}\n",
        "allowed_gates = {'0': {'NOT': 0, 'CNOT': 0}, '1': {'NOT': 0, 'CNOT': 0}, 'both': {}}\n",
        "vi = [[], False, True]\n",
        "qubit_names = {'0':'the bit on the left', '1':'the bit on the right'}\n",
        "puzzle = hello_quantum.run_game(initialize, success_condition, allowed_gates, vi, qubit_names)"
      ]
    },
    {
      "cell_type": "markdown",
      "metadata": {
        "id": "QNgc2NYDVCcY"
      },
      "source": [
        "### Puzzle 7\n",
        "\n",
        "#### Intro\n",
        "\n",
        "Now you know pretty much need all you need to know about bits. Let's have one more exercise before we move on.\n",
        "\n",
        "#### Exercise\n",
        "*  Turn on bit the bit on the right."
      ]
    },
    {
      "cell_type": "code",
      "execution_count": null,
      "metadata": {
        "id": "upOMWQmnVCcY"
      },
      "outputs": [],
      "source": [
        "initialize = [['h', '1']]\n",
        "success_condition = {'IZ': -1.0}\n",
        "allowed_gates = {'0': {'NOT': 0, 'CNOT': 0}, '1': {'NOT': 0, 'CNOT': 0}, 'both': {}}\n",
        "vi = [[], False, True]\n",
        "qubit_names = {'0':'the bit on the left', '1':'the bit on the right'}\n",
        "puzzle = hello_quantum.run_game(initialize, success_condition, allowed_gates, vi, qubit_names)"
      ]
    },
    {
      "cell_type": "markdown",
      "metadata": {
        "id": "HU8q8rwIVCcY"
      },
      "source": [
        "#### Outro\n",
        "\n",
        "Now it's time to see what happens when bits become quantum. It's time for qubits!"
      ]
    },
    {
      "cell_type": "markdown",
      "metadata": {
        "id": "OrsqjqzqVCcZ"
      },
      "source": [
        "## Level 2: Basic single qubit gates"
      ]
    },
    {
      "cell_type": "markdown",
      "metadata": {
        "id": "QReBE8yPVCcZ"
      },
      "source": [
        "### Puzzle 1\n",
        "\n",
        "#### Intro\n",
        "\n",
        "Instead of starting with a lecture on quantum mechanics, here is a qubit to play with. Try out the simplest qubit gate, which is called `x`.\n",
        "\n",
        "####  Exercise\n",
        "* Use the `x` gate 3 times, and see what happens"
      ]
    },
    {
      "cell_type": "code",
      "execution_count": null,
      "metadata": {
        "id": "0TtCyMD9VCcZ"
      },
      "outputs": [],
      "source": [
        "initialize = [ [\"x\",\"0\"] ]\n",
        "success_condition = {\"ZI\":1.0}\n",
        "allowed_gates = { \"0\":{\"x\":3}, \"1\":{}, \"both\":{} }\n",
        "vi = [[1],True,True]\n",
        "qubit_names = {'0':'the only qubit', '1':None}\n",
        "puzzle = hello_quantum.run_game(initialize, success_condition, allowed_gates, vi, qubit_names)"
      ]
    },
    {
      "cell_type": "markdown",
      "metadata": {
        "id": "UnbQR4GmVCcZ"
      },
      "source": [
        "#### Outro\n",
        "\n",
        "This puzzle should have seemed very familiar. It was exactly the same as the first one for a bit, except that there was an extra circle that didn't do anything. Other than that, the `x` gate had exactly the same the effect as the `NOT`."
      ]
    },
    {
      "cell_type": "markdown",
      "metadata": {
        "id": "d3j4K_6oVCcZ"
      },
      "source": [
        "### Puzzle 2\n",
        "\n",
        "#### Intro\n",
        "\n",
        "The last puzzle had two circles. These did not represent different bits. Instead, they both represented the same qubit.\n",
        "\n",
        "Qubits are the quantum version of bits. They have some of the same properties as bits, but they also have some extra features.\n",
        "\n",
        "Just as bits are limited to two possible values, so are qubits. When you extract an output from a qubit, you will get a simple bit value: `0` or `1`. However, with qubits there are multiple method that we can use to extract this bit. The result we get depends on the method we use.\n",
        "\n",
        "The two circles in the last puzzle represent two different ways we could get a bit out of the same qubit. They are called X and Z measurements. The bottom circle represents the output for the Z measurement, and the top circle represents the X output.\n",
        "\n",
        "The color of the circle is used exactly the same as before. If a circle is black, the corresponding output would give the value `0`. A white one means we'd get a `1`.\n",
        "\n",
        "#### Exercise\n",
        "\n",
        "*  Turn off the Z output."
      ]
    },
    {
      "cell_type": "code",
      "execution_count": null,
      "metadata": {
        "id": "B1p25o3fVCcZ"
      },
      "outputs": [],
      "source": [
        "initialize = [['x', '0']]\n",
        "success_condition = {'ZI': 1.0}\n",
        "allowed_gates = {'0': {'x': 0}, '1': {}, 'both': {}}\n",
        "vi = [[1], True, True]\n",
        "qubit_names = {'0':'the only qubit', '1':None}\n",
        "puzzle = hello_quantum.run_game(initialize, success_condition, allowed_gates, vi, qubit_names)"
      ]
    },
    {
      "cell_type": "markdown",
      "metadata": {
        "id": "r8uZjr6zVCcZ"
      },
      "source": [
        "#### Outro\n",
        "\n",
        "The process of extracting a bit from a qubit is called 'measurement'.\n",
        "\n",
        "It is not possible to independently extract both the X and Z outputs. You have to choose just one."
      ]
    },
    {
      "cell_type": "markdown",
      "metadata": {
        "id": "8wQNm_LjVCcZ"
      },
      "source": [
        "### Puzzle 3\n",
        "\n",
        "#### Intro\n",
        "\n",
        "In this puzzle we'll see another qubit. This will again have its inner workings represented by two circles. For this qubit, those circles will be on the right of the puzzle board.\n",
        "\n",
        "#### Exercise\n",
        "\n",
        "*  Turn the Z output of the other qubit off."
      ]
    },
    {
      "cell_type": "code",
      "execution_count": null,
      "metadata": {
        "id": "M2U3xQXqVCcZ"
      },
      "outputs": [],
      "source": [
        "initialize = [['x', '1']]\n",
        "success_condition = {'IZ': 1.0}\n",
        "allowed_gates = {'0': {}, '1': {'x': 0}, 'both': {}}\n",
        "vi = [[0], True, True]\n",
        "qubit_names = {'0':None, '1':'the other qubit'}\n",
        "puzzle = hello_quantum.run_game(initialize, success_condition, allowed_gates, vi, qubit_names)"
      ]
    },
    {
      "cell_type": "markdown",
      "metadata": {
        "id": "2japBPuLVCcZ"
      },
      "source": [
        "#### Outro\n",
        "\n",
        "From now on, we'll start calling the qubits by the names used in programs: The one on the left will be `q[0]`, and the one on the right will be `q[1]`.\n",
        "\n",
        "Also, note that the terms Z output and X output are not widely used. It would be more usual to say \"output of a Z measurement\", etc. But that's a bit verbose for these puzzles."
      ]
    },
    {
      "cell_type": "markdown",
      "metadata": {
        "id": "WApPIRBAVCcZ"
      },
      "source": [
        "### Puzzle 4\n",
        "\n",
        "#### Intro\n",
        "\n",
        "Now it's time to try a new gate: the `h` gate.\n",
        "\n",
        "This is not something that is possible for simple bits. It has the effect of swapping the two circles of the qubit that it's applied to.\n",
        "\n",
        "If you want to see this in a nice animated form, check out the [Hello Quantum](https://helloquantum.mybluemix.net/) app. But while you are here, test it out with the old trick of repeating three times.\n",
        "\n",
        "#### Exercise\n",
        "*  Use the `h` gate 3 times."
      ]
    },
    {
      "cell_type": "code",
      "execution_count": null,
      "metadata": {
        "id": "O_TPnJq-VCca"
      },
      "outputs": [],
      "source": [
        "initialize = []\n",
        "success_condition = {'ZI': 0.0}\n",
        "allowed_gates = {'0': {'h': 3}, '1': {}, 'both': {}}\n",
        "vi = [[1], True, True]\n",
        "qubit_names = {'0':'q[0]', '1':'q[1]'}\n",
        "puzzle = hello_quantum.run_game(initialize, success_condition, allowed_gates, vi, qubit_names)"
      ]
    },
    {
      "cell_type": "markdown",
      "metadata": {
        "id": "BGlvPJUGVCca"
      },
      "source": [
        "#### Outro\n",
        "\n",
        "Now you have started making quantum programs, you'll see them appear below the puzzle.\n",
        "\n",
        "These are actual Qiskit programs that can be run on real quantum computers. They can also be represented by so-called circuit diagrams. To see the circuit diagram for your quantum program, run the code cell below."
      ]
    },
    {
      "cell_type": "code",
      "execution_count": null,
      "metadata": {
        "id": "izzFVFkbVCca",
        "outputId": "9b20f193-8228-44fd-f3ff-acab57ada894"
      },
      "outputs": [
        {
          "data": {
            "image/svg+xml": [
              "<?xml version=\"1.0\" encoding=\"UTF-8\"?><!DOCTYPE svg  PUBLIC '-//W3C//DTD SVG 1.1//EN'  'http://www.w3.org/Graphics/SVG/1.1/DTD/svg11.dtd'><svg width=\"79.671pt\" height=\"168.93pt\" version=\"1.1\" viewBox=\"0 0 79.671 168.93\" xmlns=\"http://www.w3.org/2000/svg\" xmlns:xlink=\"http://www.w3.org/1999/xlink\"><defs><style type=\"text/css\">*{stroke-linecap:butt;stroke-linejoin:round;}</style></defs><path d=\"m0 168.93h79.671v-168.93h-79.671z\" fill=\"#ffffff\"/><path d=\"m63.381 43.561h4.5451\" clip-path=\"url(#p18e8ae411b)\" fill=\"none\" stroke=\"#000000\" stroke-linecap=\"square\" stroke-width=\"2\"/><path d=\"m63.381 89.012h4.5451\" clip-path=\"url(#p18e8ae411b)\" fill=\"none\" stroke=\"#000000\" stroke-linecap=\"square\" stroke-width=\"2\"/><path d=\"m63.381 132.99h4.5451\" clip-path=\"url(#p18e8ae411b)\" fill=\"none\" stroke=\"#778899\" stroke-linecap=\"square\" stroke-width=\"2\"/><path d=\"m63.381 135.94h4.5451\" clip-path=\"url(#p18e8ae411b)\" fill=\"none\" stroke=\"#778899\" stroke-linecap=\"square\" stroke-width=\"2\"/><path d=\"m72.471 139.01 4.5451-9.0902\" clip-path=\"url(#p18e8ae411b)\" fill=\"none\" stroke=\"#778899\" stroke-linecap=\"square\" stroke-width=\"1.5\"/><g clip-path=\"url(#p18e8ae411b)\"><defs><path id=\"DejaVuSans-Oblique-113\" d=\"m41.703 8.2031q-3.6094-4.7344-8.5312-7.1875-4.9062-2.4375-10.859-2.4375-8.2969 0-13.016 5.5938-4.7031 5.5938-4.7031 15.406 0 7.9062 2.9062 15.281t8.3281 13.234q3.5156 3.8125 8.0781 5.8594t9.5938 2.0469q6.0469 0 9.9531-2.3906t5.6719-7.2188l1.5625 8.2031h9.0312l-14.594-75.203h-9.0469zm-27.781 12.703q0-7.2344 3.0156-11.016 3.0312-3.7812 8.75-3.7812 8.5 0 14.5 8.125t6 19.75q0 7.0312-3.1094 10.766-3.0938 3.7344-8.8906 3.7344-4.25 0-7.875-1.9844-3.6094-1.9688-6.2969-5.7812-2.8281-4-4.4688-9.375-1.625-5.3594-1.625-10.438z\"/><path id=\"DejaVuSans-48\" d=\"m31.781 66.406q-7.6094 0-11.453-7.5-3.8281-7.4844-3.8281-22.531 0-14.984 3.8281-22.484 3.8438-7.5 11.453-7.5 7.6719 0 11.5 7.5 3.8438 7.5 3.8438 22.484 0 15.047-3.8438 22.531-3.8281 7.5-11.5 7.5zm0 7.8125q12.266 0 18.734-9.7031 6.4688-9.6875 6.4688-28.141 0-18.406-6.4688-28.109-6.4688-9.6875-18.734-9.6875-12.25 0-18.719 9.6875-6.4688 9.7031-6.4688 28.109 0 18.453 6.4688 28.141 6.4688 9.7031 18.719 9.7031z\"/></defs><g transform=\"translate(36.253 48.012) scale(.1625 -.1625)\"><use xlink:href=\"#DejaVuSans-Oblique-113\"/><use transform=\"translate(63.477 -16.406) scale(.7)\" xlink:href=\"#DejaVuSans-48\"/></g></g><g clip-path=\"url(#p18e8ae411b)\"><defs><path id=\"DejaVuSans-49\" d=\"m12.406 8.2969h16.109v55.625l-17.531-3.5156v8.9844l17.438 3.5156h9.8594v-64.609h16.109v-8.2969h-41.984z\"/></defs><g transform=\"translate(36.253 93.463) scale(.1625 -.1625)\"><use xlink:href=\"#DejaVuSans-Oblique-113\"/><use transform=\"translate(63.477 -16.406) scale(.7)\" xlink:href=\"#DejaVuSans-49\"/></g></g><g clip-path=\"url(#p18e8ae411b)\"><defs><path id=\"DejaVuSans-50\" d=\"m19.188 8.2969h34.422v-8.2969h-46.281v8.2969q5.6094 5.8125 15.297 15.594 9.7031 9.7969 12.188 12.641 4.7344 5.3125 6.6094 9 1.8906 3.6875 1.8906 7.25 0 5.8125-4.0781 9.4688-4.0781 3.6719-10.625 3.6719-4.6406 0-9.7969-1.6094-5.1406-1.6094-11-4.8906v9.9688q5.9531 2.3906 11.125 3.6094 5.1875 1.2188 9.4844 1.2188 11.328 0 18.062-5.6719 6.7344-5.6562 6.7344-15.125 0-4.5-1.6875-8.5312-1.6719-4.0156-6.125-9.4844-1.2188-1.4219-7.7656-8.1875-6.5312-6.7656-18.453-18.922z\"/></defs><g transform=\"translate(67.926 127.75) scale(.104 -.104)\"><use xlink:href=\"#DejaVuSans-50\"/></g></g><g clip-path=\"url(#p18e8ae411b)\"><defs><path id=\"DejaVuSans-98\" d=\"m48.688 27.297q0 9.9062-4.0781 15.547t-11.203 5.6406q-7.1406 0-11.219-5.6406t-4.0781-15.547 4.0781-15.547 11.219-5.6406q7.125 0 11.203 5.6406t4.0781 15.547zm-30.578 19.094q2.8438 4.875 7.1562 7.2344 4.3281 2.375 10.328 2.375 9.9688 0 16.188-7.9062 6.2344-7.9062 6.2344-20.797t-6.2344-20.812q-6.2188-7.9062-16.188-7.9062-6 0-10.328 2.375-4.3125 2.375-7.1562 7.25v-8.2031h-9.0312v75.984h9.0312z\"/></defs><g transform=\"translate(43.975 138.95) scale(.1625 -.1625)\"><use xlink:href=\"#DejaVuSans-98\"/></g></g><defs><clipPath id=\"p18e8ae411b\"><rect x=\"7.2\" y=\"7.2\" width=\"65.271\" height=\"154.53\"/></clipPath></defs></svg>"
            ],
            "text/plain": [
              "<Figure size 86.452x204.68 with 1 Axes>"
            ]
          },
          "execution_count": 14,
          "metadata": {},
          "output_type": "execute_result"
        }
      ],
      "source": [
        "puzzle.get_circuit().draw(output='mpl')"
      ]
    },
    {
      "cell_type": "markdown",
      "metadata": {
        "id": "xrBVqE6rVCce"
      },
      "source": [
        "### Puzzle 5\n",
        "\n",
        "#### Intro\n",
        "\n",
        "When the Z output is certain (fully off or on), the `x` gate simply flips the value. But what if the Z output is random, as we saw in the last puzzle? With this exercise, you'll find out.\n",
        "\n",
        "#### Exercise\n",
        "*  Get the Z output fully off. You can use as many `h` gates as you like, but use `x` exactly 3 times."
      ]
    },
    {
      "cell_type": "code",
      "execution_count": null,
      "metadata": {
        "id": "6XaaimMaVCce"
      },
      "outputs": [],
      "source": [
        "initialize = [['h', '1']]\n",
        "success_condition = {'IZ': 1.0}\n",
        "allowed_gates = {'0': {}, '1': {'x': 3, 'h': 0}, 'both': {}}\n",
        "vi = [[0], True, True]\n",
        "qubit_names = {'0':'q[0]', '1':'q[1]'}\n",
        "puzzle = hello_quantum.run_game(initialize, success_condition, allowed_gates, vi, qubit_names)"
      ]
    },
    {
      "cell_type": "code",
      "execution_count": null,
      "metadata": {
        "id": "I15Y4rG6VCce",
        "outputId": "010f7534-3d0c-45c1-c881-652d9cbef073"
      },
      "outputs": [
        {
          "data": {
            "image/svg+xml": [
              "<?xml version=\"1.0\" encoding=\"UTF-8\"?><!DOCTYPE svg  PUBLIC '-//W3C//DTD SVG 1.1//EN'  'http://www.w3.org/Graphics/SVG/1.1/DTD/svg11.dtd'><svg width=\"79.671pt\" height=\"168.93pt\" version=\"1.1\" viewBox=\"0 0 79.671 168.93\" xmlns=\"http://www.w3.org/2000/svg\" xmlns:xlink=\"http://www.w3.org/1999/xlink\"><defs><style type=\"text/css\">*{stroke-linecap:butt;stroke-linejoin:round;}</style></defs><path d=\"m0 168.93h79.671v-168.93h-79.671z\" fill=\"#ffffff\"/><path d=\"m63.381 43.561h4.5451\" clip-path=\"url(#pc6b9bf578a)\" fill=\"none\" stroke=\"#000000\" stroke-linecap=\"square\" stroke-width=\"2\"/><path d=\"m63.381 89.012h4.5451\" clip-path=\"url(#pc6b9bf578a)\" fill=\"none\" stroke=\"#000000\" stroke-linecap=\"square\" stroke-width=\"2\"/><path d=\"m63.381 132.99h4.5451\" clip-path=\"url(#pc6b9bf578a)\" fill=\"none\" stroke=\"#778899\" stroke-linecap=\"square\" stroke-width=\"2\"/><path d=\"m63.381 135.94h4.5451\" clip-path=\"url(#pc6b9bf578a)\" fill=\"none\" stroke=\"#778899\" stroke-linecap=\"square\" stroke-width=\"2\"/><path d=\"m72.471 139.01 4.5451-9.0902\" clip-path=\"url(#pc6b9bf578a)\" fill=\"none\" stroke=\"#778899\" stroke-linecap=\"square\" stroke-width=\"1.5\"/><g clip-path=\"url(#pc6b9bf578a)\"><defs><path id=\"DejaVuSans-Oblique-113\" d=\"m41.703 8.2031q-3.6094-4.7344-8.5312-7.1875-4.9062-2.4375-10.859-2.4375-8.2969 0-13.016 5.5938-4.7031 5.5938-4.7031 15.406 0 7.9062 2.9062 15.281t8.3281 13.234q3.5156 3.8125 8.0781 5.8594t9.5938 2.0469q6.0469 0 9.9531-2.3906t5.6719-7.2188l1.5625 8.2031h9.0312l-14.594-75.203h-9.0469zm-27.781 12.703q0-7.2344 3.0156-11.016 3.0312-3.7812 8.75-3.7812 8.5 0 14.5 8.125t6 19.75q0 7.0312-3.1094 10.766-3.0938 3.7344-8.8906 3.7344-4.25 0-7.875-1.9844-3.6094-1.9688-6.2969-5.7812-2.8281-4-4.4688-9.375-1.625-5.3594-1.625-10.438z\"/><path id=\"DejaVuSans-48\" d=\"m31.781 66.406q-7.6094 0-11.453-7.5-3.8281-7.4844-3.8281-22.531 0-14.984 3.8281-22.484 3.8438-7.5 11.453-7.5 7.6719 0 11.5 7.5 3.8438 7.5 3.8438 22.484 0 15.047-3.8438 22.531-3.8281 7.5-11.5 7.5zm0 7.8125q12.266 0 18.734-9.7031 6.4688-9.6875 6.4688-28.141 0-18.406-6.4688-28.109-6.4688-9.6875-18.734-9.6875-12.25 0-18.719 9.6875-6.4688 9.7031-6.4688 28.109 0 18.453 6.4688 28.141 6.4688 9.7031 18.719 9.7031z\"/></defs><g transform=\"translate(36.253 48.012) scale(.1625 -.1625)\"><use xlink:href=\"#DejaVuSans-Oblique-113\"/><use transform=\"translate(63.477 -16.406) scale(.7)\" xlink:href=\"#DejaVuSans-48\"/></g></g><g clip-path=\"url(#pc6b9bf578a)\"><defs><path id=\"DejaVuSans-49\" d=\"m12.406 8.2969h16.109v55.625l-17.531-3.5156v8.9844l17.438 3.5156h9.8594v-64.609h16.109v-8.2969h-41.984z\"/></defs><g transform=\"translate(36.253 93.463) scale(.1625 -.1625)\"><use xlink:href=\"#DejaVuSans-Oblique-113\"/><use transform=\"translate(63.477 -16.406) scale(.7)\" xlink:href=\"#DejaVuSans-49\"/></g></g><g clip-path=\"url(#pc6b9bf578a)\"><defs><path id=\"DejaVuSans-50\" d=\"m19.188 8.2969h34.422v-8.2969h-46.281v8.2969q5.6094 5.8125 15.297 15.594 9.7031 9.7969 12.188 12.641 4.7344 5.3125 6.6094 9 1.8906 3.6875 1.8906 7.25 0 5.8125-4.0781 9.4688-4.0781 3.6719-10.625 3.6719-4.6406 0-9.7969-1.6094-5.1406-1.6094-11-4.8906v9.9688q5.9531 2.3906 11.125 3.6094 5.1875 1.2188 9.4844 1.2188 11.328 0 18.062-5.6719 6.7344-5.6562 6.7344-15.125 0-4.5-1.6875-8.5312-1.6719-4.0156-6.125-9.4844-1.2188-1.4219-7.7656-8.1875-6.5312-6.7656-18.453-18.922z\"/></defs><g transform=\"translate(67.926 127.75) scale(.104 -.104)\"><use xlink:href=\"#DejaVuSans-50\"/></g></g><g clip-path=\"url(#pc6b9bf578a)\"><defs><path id=\"DejaVuSans-98\" d=\"m48.688 27.297q0 9.9062-4.0781 15.547t-11.203 5.6406q-7.1406 0-11.219-5.6406t-4.0781-15.547 4.0781-15.547 11.219-5.6406q7.125 0 11.203 5.6406t4.0781 15.547zm-30.578 19.094q2.8438 4.875 7.1562 7.2344 4.3281 2.375 10.328 2.375 9.9688 0 16.188-7.9062 6.2344-7.9062 6.2344-20.797t-6.2344-20.812q-6.2188-7.9062-16.188-7.9062-6 0-10.328 2.375-4.3125 2.375-7.1562 7.25v-8.2031h-9.0312v75.984h9.0312z\"/></defs><g transform=\"translate(43.975 138.95) scale(.1625 -.1625)\"><use xlink:href=\"#DejaVuSans-98\"/></g></g><defs><clipPath id=\"pc6b9bf578a\"><rect x=\"7.2\" y=\"7.2\" width=\"65.271\" height=\"154.53\"/></clipPath></defs></svg>"
            ],
            "text/plain": [
              "<Figure size 86.452x204.68 with 1 Axes>"
            ]
          },
          "execution_count": 16,
          "metadata": {},
          "output_type": "execute_result"
        }
      ],
      "source": [
        "puzzle.get_circuit().draw(output='mpl')"
      ]
    },
    {
      "cell_type": "markdown",
      "metadata": {
        "id": "eL5o9_naVCce"
      },
      "source": [
        "#### Outro\n",
        "\n",
        "It turns out that a random result is just a random result, even if you flip it."
      ]
    },
    {
      "cell_type": "markdown",
      "metadata": {
        "id": "y6X7MD07VCce"
      },
      "source": [
        "### Puzzle 6\n",
        "\n",
        "#### Intro\n",
        "\n",
        "We've seen that the `x` gate flips the Z output, but it has no effect on the X output. For that we need a new gate: the `z` gate.\n",
        "\n",
        "#### Exercise\n",
        "*  Turn the X output off."
      ]
    },
    {
      "cell_type": "code",
      "execution_count": null,
      "metadata": {
        "id": "p_FW0kaRVCce"
      },
      "outputs": [],
      "source": [
        "initialize = [['h', '0'], ['z', '0']]\n",
        "success_condition = {'XI': 1.0}\n",
        "allowed_gates = {'0': {'z': 0, 'h': 0}, '1': {}, 'both': {}}\n",
        "vi = [[1], True, True]\n",
        "qubit_names = {'0':'q[0]', '1':'q[1]'}\n",
        "puzzle = hello_quantum.run_game(initialize, success_condition, allowed_gates, vi, qubit_names)"
      ]
    },
    {
      "cell_type": "code",
      "execution_count": null,
      "metadata": {
        "id": "tw2Rfg-PVCcf",
        "outputId": "d0ef14a7-5212-49a1-d153-b0aad0281eff"
      },
      "outputs": [
        {
          "data": {
            "image/svg+xml": [
              "<?xml version=\"1.0\" encoding=\"UTF-8\"?><!DOCTYPE svg  PUBLIC '-//W3C//DTD SVG 1.1//EN'  'http://www.w3.org/Graphics/SVG/1.1/DTD/svg11.dtd'><svg width=\"79.671pt\" height=\"168.93pt\" version=\"1.1\" viewBox=\"0 0 79.671 168.93\" xmlns=\"http://www.w3.org/2000/svg\" xmlns:xlink=\"http://www.w3.org/1999/xlink\"><defs><style type=\"text/css\">*{stroke-linecap:butt;stroke-linejoin:round;}</style></defs><path d=\"m0 168.93h79.671v-168.93h-79.671z\" fill=\"#ffffff\"/><path d=\"m63.381 43.561h4.5451\" clip-path=\"url(#pe71c30425e)\" fill=\"none\" stroke=\"#000000\" stroke-linecap=\"square\" stroke-width=\"2\"/><path d=\"m63.381 89.012h4.5451\" clip-path=\"url(#pe71c30425e)\" fill=\"none\" stroke=\"#000000\" stroke-linecap=\"square\" stroke-width=\"2\"/><path d=\"m63.381 132.99h4.5451\" clip-path=\"url(#pe71c30425e)\" fill=\"none\" stroke=\"#778899\" stroke-linecap=\"square\" stroke-width=\"2\"/><path d=\"m63.381 135.94h4.5451\" clip-path=\"url(#pe71c30425e)\" fill=\"none\" stroke=\"#778899\" stroke-linecap=\"square\" stroke-width=\"2\"/><path d=\"m72.471 139.01 4.5451-9.0902\" clip-path=\"url(#pe71c30425e)\" fill=\"none\" stroke=\"#778899\" stroke-linecap=\"square\" stroke-width=\"1.5\"/><g clip-path=\"url(#pe71c30425e)\"><defs><path id=\"DejaVuSans-Oblique-113\" d=\"m41.703 8.2031q-3.6094-4.7344-8.5312-7.1875-4.9062-2.4375-10.859-2.4375-8.2969 0-13.016 5.5938-4.7031 5.5938-4.7031 15.406 0 7.9062 2.9062 15.281t8.3281 13.234q3.5156 3.8125 8.0781 5.8594t9.5938 2.0469q6.0469 0 9.9531-2.3906t5.6719-7.2188l1.5625 8.2031h9.0312l-14.594-75.203h-9.0469zm-27.781 12.703q0-7.2344 3.0156-11.016 3.0312-3.7812 8.75-3.7812 8.5 0 14.5 8.125t6 19.75q0 7.0312-3.1094 10.766-3.0938 3.7344-8.8906 3.7344-4.25 0-7.875-1.9844-3.6094-1.9688-6.2969-5.7812-2.8281-4-4.4688-9.375-1.625-5.3594-1.625-10.438z\"/><path id=\"DejaVuSans-48\" d=\"m31.781 66.406q-7.6094 0-11.453-7.5-3.8281-7.4844-3.8281-22.531 0-14.984 3.8281-22.484 3.8438-7.5 11.453-7.5 7.6719 0 11.5 7.5 3.8438 7.5 3.8438 22.484 0 15.047-3.8438 22.531-3.8281 7.5-11.5 7.5zm0 7.8125q12.266 0 18.734-9.7031 6.4688-9.6875 6.4688-28.141 0-18.406-6.4688-28.109-6.4688-9.6875-18.734-9.6875-12.25 0-18.719 9.6875-6.4688 9.7031-6.4688 28.109 0 18.453 6.4688 28.141 6.4688 9.7031 18.719 9.7031z\"/></defs><g transform=\"translate(36.253 48.012) scale(.1625 -.1625)\"><use xlink:href=\"#DejaVuSans-Oblique-113\"/><use transform=\"translate(63.477 -16.406) scale(.7)\" xlink:href=\"#DejaVuSans-48\"/></g></g><g clip-path=\"url(#pe71c30425e)\"><defs><path id=\"DejaVuSans-49\" d=\"m12.406 8.2969h16.109v55.625l-17.531-3.5156v8.9844l17.438 3.5156h9.8594v-64.609h16.109v-8.2969h-41.984z\"/></defs><g transform=\"translate(36.253 93.463) scale(.1625 -.1625)\"><use xlink:href=\"#DejaVuSans-Oblique-113\"/><use transform=\"translate(63.477 -16.406) scale(.7)\" xlink:href=\"#DejaVuSans-49\"/></g></g><g clip-path=\"url(#pe71c30425e)\"><defs><path id=\"DejaVuSans-50\" d=\"m19.188 8.2969h34.422v-8.2969h-46.281v8.2969q5.6094 5.8125 15.297 15.594 9.7031 9.7969 12.188 12.641 4.7344 5.3125 6.6094 9 1.8906 3.6875 1.8906 7.25 0 5.8125-4.0781 9.4688-4.0781 3.6719-10.625 3.6719-4.6406 0-9.7969-1.6094-5.1406-1.6094-11-4.8906v9.9688q5.9531 2.3906 11.125 3.6094 5.1875 1.2188 9.4844 1.2188 11.328 0 18.062-5.6719 6.7344-5.6562 6.7344-15.125 0-4.5-1.6875-8.5312-1.6719-4.0156-6.125-9.4844-1.2188-1.4219-7.7656-8.1875-6.5312-6.7656-18.453-18.922z\"/></defs><g transform=\"translate(67.926 127.75) scale(.104 -.104)\"><use xlink:href=\"#DejaVuSans-50\"/></g></g><g clip-path=\"url(#pe71c30425e)\"><defs><path id=\"DejaVuSans-98\" d=\"m48.688 27.297q0 9.9062-4.0781 15.547t-11.203 5.6406q-7.1406 0-11.219-5.6406t-4.0781-15.547 4.0781-15.547 11.219-5.6406q7.125 0 11.203 5.6406t4.0781 15.547zm-30.578 19.094q2.8438 4.875 7.1562 7.2344 4.3281 2.375 10.328 2.375 9.9688 0 16.188-7.9062 6.2344-7.9062 6.2344-20.797t-6.2344-20.812q-6.2188-7.9062-16.188-7.9062-6 0-10.328 2.375-4.3125 2.375-7.1562 7.25v-8.2031h-9.0312v75.984h9.0312z\"/></defs><g transform=\"translate(43.975 138.95) scale(.1625 -.1625)\"><use xlink:href=\"#DejaVuSans-98\"/></g></g><defs><clipPath id=\"pe71c30425e\"><rect x=\"7.2\" y=\"7.2\" width=\"65.271\" height=\"154.53\"/></clipPath></defs></svg>"
            ],
            "text/plain": [
              "<Figure size 86.452x204.68 with 1 Axes>"
            ]
          },
          "execution_count": 18,
          "metadata": {},
          "output_type": "execute_result"
        }
      ],
      "source": [
        "puzzle.get_circuit().draw(output='mpl')"
      ]
    },
    {
      "cell_type": "markdown",
      "metadata": {
        "id": "ETvC70w4VCcf"
      },
      "source": [
        "#### Outro\n",
        "\n",
        "The `x` gate flips the Z output and the `z` gate flips the x output. This might seem like a strange way to name things, for now. But as you learn more about quantum computing, it will come to make some sense."
      ]
    },
    {
      "cell_type": "markdown",
      "metadata": {
        "id": "LAz0QbvkVCcf"
      },
      "source": [
        "### Puzzle 7\n",
        "\n",
        "#### Intro\n",
        "\n",
        "By combining gates we can get new effects. As a simple example, by combining `z` and `h` we can do the job of an `x`.\n",
        "\n",
        "#### Exercise\n",
        "*  Turn on the Z output without using the `x` gate"
      ]
    },
    {
      "cell_type": "code",
      "execution_count": null,
      "metadata": {
        "id": "izzXaiKYVCcf"
      },
      "outputs": [],
      "source": [
        "initialize = []\n",
        "success_condition = {'ZI': -1.0}\n",
        "allowed_gates = {'0': {'z': 0, 'h': 0}, '1': {}, 'both': {}}\n",
        "vi = [[1], True, True]\n",
        "qubit_names = {'0':'q[0]', '1':'q[1]'}\n",
        "puzzle = hello_quantum.run_game(initialize, success_condition, allowed_gates, vi, qubit_names)"
      ]
    },
    {
      "cell_type": "code",
      "execution_count": null,
      "metadata": {
        "id": "jy8jCFLHVCcf",
        "outputId": "534c2ff4-ae2c-48ae-f377-c82c667e562b"
      },
      "outputs": [
        {
          "data": {
            "image/svg+xml": [
              "<?xml version=\"1.0\" encoding=\"UTF-8\"?><!DOCTYPE svg  PUBLIC '-//W3C//DTD SVG 1.1//EN'  'http://www.w3.org/Graphics/SVG/1.1/DTD/svg11.dtd'><svg width=\"79.671pt\" height=\"168.93pt\" version=\"1.1\" viewBox=\"0 0 79.671 168.93\" xmlns=\"http://www.w3.org/2000/svg\" xmlns:xlink=\"http://www.w3.org/1999/xlink\"><defs><style type=\"text/css\">*{stroke-linecap:butt;stroke-linejoin:round;}</style></defs><path d=\"m0 168.93h79.671v-168.93h-79.671z\" fill=\"#ffffff\"/><path d=\"m63.381 43.561h4.5451\" clip-path=\"url(#p8e1a5518f3)\" fill=\"none\" stroke=\"#000000\" stroke-linecap=\"square\" stroke-width=\"2\"/><path d=\"m63.381 89.012h4.5451\" clip-path=\"url(#p8e1a5518f3)\" fill=\"none\" stroke=\"#000000\" stroke-linecap=\"square\" stroke-width=\"2\"/><path d=\"m63.381 132.99h4.5451\" clip-path=\"url(#p8e1a5518f3)\" fill=\"none\" stroke=\"#778899\" stroke-linecap=\"square\" stroke-width=\"2\"/><path d=\"m63.381 135.94h4.5451\" clip-path=\"url(#p8e1a5518f3)\" fill=\"none\" stroke=\"#778899\" stroke-linecap=\"square\" stroke-width=\"2\"/><path d=\"m72.471 139.01 4.5451-9.0902\" clip-path=\"url(#p8e1a5518f3)\" fill=\"none\" stroke=\"#778899\" stroke-linecap=\"square\" stroke-width=\"1.5\"/><g clip-path=\"url(#p8e1a5518f3)\"><defs><path id=\"DejaVuSans-Oblique-113\" d=\"m41.703 8.2031q-3.6094-4.7344-8.5312-7.1875-4.9062-2.4375-10.859-2.4375-8.2969 0-13.016 5.5938-4.7031 5.5938-4.7031 15.406 0 7.9062 2.9062 15.281t8.3281 13.234q3.5156 3.8125 8.0781 5.8594t9.5938 2.0469q6.0469 0 9.9531-2.3906t5.6719-7.2188l1.5625 8.2031h9.0312l-14.594-75.203h-9.0469zm-27.781 12.703q0-7.2344 3.0156-11.016 3.0312-3.7812 8.75-3.7812 8.5 0 14.5 8.125t6 19.75q0 7.0312-3.1094 10.766-3.0938 3.7344-8.8906 3.7344-4.25 0-7.875-1.9844-3.6094-1.9688-6.2969-5.7812-2.8281-4-4.4688-9.375-1.625-5.3594-1.625-10.438z\"/><path id=\"DejaVuSans-48\" d=\"m31.781 66.406q-7.6094 0-11.453-7.5-3.8281-7.4844-3.8281-22.531 0-14.984 3.8281-22.484 3.8438-7.5 11.453-7.5 7.6719 0 11.5 7.5 3.8438 7.5 3.8438 22.484 0 15.047-3.8438 22.531-3.8281 7.5-11.5 7.5zm0 7.8125q12.266 0 18.734-9.7031 6.4688-9.6875 6.4688-28.141 0-18.406-6.4688-28.109-6.4688-9.6875-18.734-9.6875-12.25 0-18.719 9.6875-6.4688 9.7031-6.4688 28.109 0 18.453 6.4688 28.141 6.4688 9.7031 18.719 9.7031z\"/></defs><g transform=\"translate(36.253 48.012) scale(.1625 -.1625)\"><use xlink:href=\"#DejaVuSans-Oblique-113\"/><use transform=\"translate(63.477 -16.406) scale(.7)\" xlink:href=\"#DejaVuSans-48\"/></g></g><g clip-path=\"url(#p8e1a5518f3)\"><defs><path id=\"DejaVuSans-49\" d=\"m12.406 8.2969h16.109v55.625l-17.531-3.5156v8.9844l17.438 3.5156h9.8594v-64.609h16.109v-8.2969h-41.984z\"/></defs><g transform=\"translate(36.253 93.463) scale(.1625 -.1625)\"><use xlink:href=\"#DejaVuSans-Oblique-113\"/><use transform=\"translate(63.477 -16.406) scale(.7)\" xlink:href=\"#DejaVuSans-49\"/></g></g><g clip-path=\"url(#p8e1a5518f3)\"><defs><path id=\"DejaVuSans-50\" d=\"m19.188 8.2969h34.422v-8.2969h-46.281v8.2969q5.6094 5.8125 15.297 15.594 9.7031 9.7969 12.188 12.641 4.7344 5.3125 6.6094 9 1.8906 3.6875 1.8906 7.25 0 5.8125-4.0781 9.4688-4.0781 3.6719-10.625 3.6719-4.6406 0-9.7969-1.6094-5.1406-1.6094-11-4.8906v9.9688q5.9531 2.3906 11.125 3.6094 5.1875 1.2188 9.4844 1.2188 11.328 0 18.062-5.6719 6.7344-5.6562 6.7344-15.125 0-4.5-1.6875-8.5312-1.6719-4.0156-6.125-9.4844-1.2188-1.4219-7.7656-8.1875-6.5312-6.7656-18.453-18.922z\"/></defs><g transform=\"translate(67.926 127.75) scale(.104 -.104)\"><use xlink:href=\"#DejaVuSans-50\"/></g></g><g clip-path=\"url(#p8e1a5518f3)\"><defs><path id=\"DejaVuSans-98\" d=\"m48.688 27.297q0 9.9062-4.0781 15.547t-11.203 5.6406q-7.1406 0-11.219-5.6406t-4.0781-15.547 4.0781-15.547 11.219-5.6406q7.125 0 11.203 5.6406t4.0781 15.547zm-30.578 19.094q2.8438 4.875 7.1562 7.2344 4.3281 2.375 10.328 2.375 9.9688 0 16.188-7.9062 6.2344-7.9062 6.2344-20.797t-6.2344-20.812q-6.2188-7.9062-16.188-7.9062-6 0-10.328 2.375-4.3125 2.375-7.1562 7.25v-8.2031h-9.0312v75.984h9.0312z\"/></defs><g transform=\"translate(43.975 138.95) scale(.1625 -.1625)\"><use xlink:href=\"#DejaVuSans-98\"/></g></g><defs><clipPath id=\"p8e1a5518f3\"><rect x=\"7.2\" y=\"7.2\" width=\"65.271\" height=\"154.53\"/></clipPath></defs></svg>"
            ],
            "text/plain": [
              "<Figure size 86.452x204.68 with 1 Axes>"
            ]
          },
          "execution_count": 20,
          "metadata": {},
          "output_type": "execute_result"
        }
      ],
      "source": [
        "puzzle.get_circuit().draw(output='mpl')"
      ]
    },
    {
      "cell_type": "markdown",
      "metadata": {
        "id": "J9U-7Z3tVCcf"
      },
      "source": [
        "### Puzzle 8\n",
        "\n",
        "#### Intro\n",
        "\n",
        "You might notice that the X outputs are always random when the Z outputs are fully on or off. This is because qubits can never be simultaneously certain about each kind of output. If they are certain about one, the other must be random.\n",
        "\n",
        "If this wasn't true, we'd be able to use the Z and X outputs to store two bits. This is more memory than a qubit has. Despite the fact that we can extract an output in multiple ways, we are nevertheless not allowed to store more than a bit in a qubit.\n",
        "\n",
        "#### Exercise\n",
        "*  Make the X output be off and the Z output be random."
      ]
    },
    {
      "cell_type": "code",
      "execution_count": null,
      "metadata": {
        "id": "vWmoj7psVCcf"
      },
      "outputs": [],
      "source": [
        "initialize = [['h', '0']]\n",
        "success_condition = {'IX': 1.0}\n",
        "allowed_gates = {'0': {}, '1': {'z': 0, 'h': 0}, 'both': {}}\n",
        "vi = [[0], True, True]\n",
        "qubit_names = {'0':'q[0]', '1':'q[1]'}\n",
        "puzzle = hello_quantum.run_game(initialize, success_condition, allowed_gates, vi, qubit_names)"
      ]
    },
    {
      "cell_type": "code",
      "execution_count": null,
      "metadata": {
        "id": "D4-D2vz9VCcf",
        "outputId": "2c65b510-701f-47b3-b10d-d9d3c83db89c"
      },
      "outputs": [
        {
          "data": {
            "image/svg+xml": [
              "<?xml version=\"1.0\" encoding=\"UTF-8\"?><!DOCTYPE svg  PUBLIC '-//W3C//DTD SVG 1.1//EN'  'http://www.w3.org/Graphics/SVG/1.1/DTD/svg11.dtd'><svg width=\"79.671pt\" height=\"168.93pt\" version=\"1.1\" viewBox=\"0 0 79.671 168.93\" xmlns=\"http://www.w3.org/2000/svg\" xmlns:xlink=\"http://www.w3.org/1999/xlink\"><defs><style type=\"text/css\">*{stroke-linecap:butt;stroke-linejoin:round;}</style></defs><path d=\"m0 168.93h79.671v-168.93h-79.671z\" fill=\"#ffffff\"/><path d=\"m63.381 43.561h4.5451\" clip-path=\"url(#p9d695358be)\" fill=\"none\" stroke=\"#000000\" stroke-linecap=\"square\" stroke-width=\"2\"/><path d=\"m63.381 89.012h4.5451\" clip-path=\"url(#p9d695358be)\" fill=\"none\" stroke=\"#000000\" stroke-linecap=\"square\" stroke-width=\"2\"/><path d=\"m63.381 132.99h4.5451\" clip-path=\"url(#p9d695358be)\" fill=\"none\" stroke=\"#778899\" stroke-linecap=\"square\" stroke-width=\"2\"/><path d=\"m63.381 135.94h4.5451\" clip-path=\"url(#p9d695358be)\" fill=\"none\" stroke=\"#778899\" stroke-linecap=\"square\" stroke-width=\"2\"/><path d=\"m72.471 139.01 4.5451-9.0902\" clip-path=\"url(#p9d695358be)\" fill=\"none\" stroke=\"#778899\" stroke-linecap=\"square\" stroke-width=\"1.5\"/><g clip-path=\"url(#p9d695358be)\"><defs><path id=\"DejaVuSans-Oblique-113\" d=\"m41.703 8.2031q-3.6094-4.7344-8.5312-7.1875-4.9062-2.4375-10.859-2.4375-8.2969 0-13.016 5.5938-4.7031 5.5938-4.7031 15.406 0 7.9062 2.9062 15.281t8.3281 13.234q3.5156 3.8125 8.0781 5.8594t9.5938 2.0469q6.0469 0 9.9531-2.3906t5.6719-7.2188l1.5625 8.2031h9.0312l-14.594-75.203h-9.0469zm-27.781 12.703q0-7.2344 3.0156-11.016 3.0312-3.7812 8.75-3.7812 8.5 0 14.5 8.125t6 19.75q0 7.0312-3.1094 10.766-3.0938 3.7344-8.8906 3.7344-4.25 0-7.875-1.9844-3.6094-1.9688-6.2969-5.7812-2.8281-4-4.4688-9.375-1.625-5.3594-1.625-10.438z\"/><path id=\"DejaVuSans-48\" d=\"m31.781 66.406q-7.6094 0-11.453-7.5-3.8281-7.4844-3.8281-22.531 0-14.984 3.8281-22.484 3.8438-7.5 11.453-7.5 7.6719 0 11.5 7.5 3.8438 7.5 3.8438 22.484 0 15.047-3.8438 22.531-3.8281 7.5-11.5 7.5zm0 7.8125q12.266 0 18.734-9.7031 6.4688-9.6875 6.4688-28.141 0-18.406-6.4688-28.109-6.4688-9.6875-18.734-9.6875-12.25 0-18.719 9.6875-6.4688 9.7031-6.4688 28.109 0 18.453 6.4688 28.141 6.4688 9.7031 18.719 9.7031z\"/></defs><g transform=\"translate(36.253 48.012) scale(.1625 -.1625)\"><use xlink:href=\"#DejaVuSans-Oblique-113\"/><use transform=\"translate(63.477 -16.406) scale(.7)\" xlink:href=\"#DejaVuSans-48\"/></g></g><g clip-path=\"url(#p9d695358be)\"><defs><path id=\"DejaVuSans-49\" d=\"m12.406 8.2969h16.109v55.625l-17.531-3.5156v8.9844l17.438 3.5156h9.8594v-64.609h16.109v-8.2969h-41.984z\"/></defs><g transform=\"translate(36.253 93.463) scale(.1625 -.1625)\"><use xlink:href=\"#DejaVuSans-Oblique-113\"/><use transform=\"translate(63.477 -16.406) scale(.7)\" xlink:href=\"#DejaVuSans-49\"/></g></g><g clip-path=\"url(#p9d695358be)\"><defs><path id=\"DejaVuSans-50\" d=\"m19.188 8.2969h34.422v-8.2969h-46.281v8.2969q5.6094 5.8125 15.297 15.594 9.7031 9.7969 12.188 12.641 4.7344 5.3125 6.6094 9 1.8906 3.6875 1.8906 7.25 0 5.8125-4.0781 9.4688-4.0781 3.6719-10.625 3.6719-4.6406 0-9.7969-1.6094-5.1406-1.6094-11-4.8906v9.9688q5.9531 2.3906 11.125 3.6094 5.1875 1.2188 9.4844 1.2188 11.328 0 18.062-5.6719 6.7344-5.6562 6.7344-15.125 0-4.5-1.6875-8.5312-1.6719-4.0156-6.125-9.4844-1.2188-1.4219-7.7656-8.1875-6.5312-6.7656-18.453-18.922z\"/></defs><g transform=\"translate(67.926 127.75) scale(.104 -.104)\"><use xlink:href=\"#DejaVuSans-50\"/></g></g><g clip-path=\"url(#p9d695358be)\"><defs><path id=\"DejaVuSans-98\" d=\"m48.688 27.297q0 9.9062-4.0781 15.547t-11.203 5.6406q-7.1406 0-11.219-5.6406t-4.0781-15.547 4.0781-15.547 11.219-5.6406q7.125 0 11.203 5.6406t4.0781 15.547zm-30.578 19.094q2.8438 4.875 7.1562 7.2344 4.3281 2.375 10.328 2.375 9.9688 0 16.188-7.9062 6.2344-7.9062 6.2344-20.797t-6.2344-20.812q-6.2188-7.9062-16.188-7.9062-6 0-10.328 2.375-4.3125 2.375-7.1562 7.25v-8.2031h-9.0312v75.984h9.0312z\"/></defs><g transform=\"translate(43.975 138.95) scale(.1625 -.1625)\"><use xlink:href=\"#DejaVuSans-98\"/></g></g><defs><clipPath id=\"p9d695358be\"><rect x=\"7.2\" y=\"7.2\" width=\"65.271\" height=\"154.53\"/></clipPath></defs></svg>"
            ],
            "text/plain": [
              "<Figure size 86.452x204.68 with 1 Axes>"
            ]
          },
          "execution_count": 22,
          "metadata": {},
          "output_type": "execute_result"
        }
      ],
      "source": [
        "puzzle.get_circuit().draw(output='mpl')"
      ]
    },
    {
      "cell_type": "markdown",
      "metadata": {
        "id": "k9-OJ_mDVCcf"
      },
      "source": [
        "### Puzzle 9\n",
        "\n",
        "#### Intro\n",
        "\n",
        "The limited certainty of our qubits can also be shared between the two outputs. For example, we can compromise by making both outputs mostly certain (but not completely certain) about the output they would give.\n",
        "\n",
        "We will visualize this by using different shades of grey. The darker a circle is, the more likely it's output would be `0`. The lighter it is, the more likely the output would be `1`.\n",
        "\n",
        "#### Exercise\n",
        "* Make the two circles for `q[1]` both light grey. This means that they'd be highly likely, but not certain, to output a `1`."
      ]
    },
    {
      "cell_type": "code",
      "execution_count": null,
      "metadata": {
        "id": "y_x2wsRBVCcg"
      },
      "outputs": [],
      "source": [
        "initialize = [['ry(pi/4)', '1']]\n",
        "success_condition = {'IZ': -0.7071, 'IX': -0.7071}\n",
        "allowed_gates = {'0': {}, '1': {'z': 0, 'h': 0}, 'both': {}}\n",
        "vi = [[0], True, True]\n",
        "qubit_names = {'0':'q[0]', '1':'q[1]'}\n",
        "puzzle = hello_quantum.run_game(initialize, success_condition, allowed_gates, vi, qubit_names)"
      ]
    },
    {
      "cell_type": "code",
      "execution_count": null,
      "metadata": {
        "id": "LxBCzDmpVCcg",
        "outputId": "a1ac2b33-f5f8-4e09-e9ac-361f9d760a43"
      },
      "outputs": [
        {
          "data": {
            "image/svg+xml": [
              "<?xml version=\"1.0\" encoding=\"UTF-8\"?><!DOCTYPE svg  PUBLIC '-//W3C//DTD SVG 1.1//EN'  'http://www.w3.org/Graphics/SVG/1.1/DTD/svg11.dtd'><svg width=\"79.671pt\" height=\"168.93pt\" version=\"1.1\" viewBox=\"0 0 79.671 168.93\" xmlns=\"http://www.w3.org/2000/svg\" xmlns:xlink=\"http://www.w3.org/1999/xlink\"><defs><style type=\"text/css\">*{stroke-linecap:butt;stroke-linejoin:round;}</style></defs><path d=\"m0 168.93h79.671v-168.93h-79.671z\" fill=\"#ffffff\"/><path d=\"m63.381 43.561h4.5451\" clip-path=\"url(#pa1f3d003e8)\" fill=\"none\" stroke=\"#000000\" stroke-linecap=\"square\" stroke-width=\"2\"/><path d=\"m63.381 89.012h4.5451\" clip-path=\"url(#pa1f3d003e8)\" fill=\"none\" stroke=\"#000000\" stroke-linecap=\"square\" stroke-width=\"2\"/><path d=\"m63.381 132.99h4.5451\" clip-path=\"url(#pa1f3d003e8)\" fill=\"none\" stroke=\"#778899\" stroke-linecap=\"square\" stroke-width=\"2\"/><path d=\"m63.381 135.94h4.5451\" clip-path=\"url(#pa1f3d003e8)\" fill=\"none\" stroke=\"#778899\" stroke-linecap=\"square\" stroke-width=\"2\"/><path d=\"m72.471 139.01 4.5451-9.0902\" clip-path=\"url(#pa1f3d003e8)\" fill=\"none\" stroke=\"#778899\" stroke-linecap=\"square\" stroke-width=\"1.5\"/><g clip-path=\"url(#pa1f3d003e8)\"><defs><path id=\"DejaVuSans-Oblique-113\" d=\"m41.703 8.2031q-3.6094-4.7344-8.5312-7.1875-4.9062-2.4375-10.859-2.4375-8.2969 0-13.016 5.5938-4.7031 5.5938-4.7031 15.406 0 7.9062 2.9062 15.281t8.3281 13.234q3.5156 3.8125 8.0781 5.8594t9.5938 2.0469q6.0469 0 9.9531-2.3906t5.6719-7.2188l1.5625 8.2031h9.0312l-14.594-75.203h-9.0469zm-27.781 12.703q0-7.2344 3.0156-11.016 3.0312-3.7812 8.75-3.7812 8.5 0 14.5 8.125t6 19.75q0 7.0312-3.1094 10.766-3.0938 3.7344-8.8906 3.7344-4.25 0-7.875-1.9844-3.6094-1.9688-6.2969-5.7812-2.8281-4-4.4688-9.375-1.625-5.3594-1.625-10.438z\"/><path id=\"DejaVuSans-48\" d=\"m31.781 66.406q-7.6094 0-11.453-7.5-3.8281-7.4844-3.8281-22.531 0-14.984 3.8281-22.484 3.8438-7.5 11.453-7.5 7.6719 0 11.5 7.5 3.8438 7.5 3.8438 22.484 0 15.047-3.8438 22.531-3.8281 7.5-11.5 7.5zm0 7.8125q12.266 0 18.734-9.7031 6.4688-9.6875 6.4688-28.141 0-18.406-6.4688-28.109-6.4688-9.6875-18.734-9.6875-12.25 0-18.719 9.6875-6.4688 9.7031-6.4688 28.109 0 18.453 6.4688 28.141 6.4688 9.7031 18.719 9.7031z\"/></defs><g transform=\"translate(36.253 48.012) scale(.1625 -.1625)\"><use xlink:href=\"#DejaVuSans-Oblique-113\"/><use transform=\"translate(63.477 -16.406) scale(.7)\" xlink:href=\"#DejaVuSans-48\"/></g></g><g clip-path=\"url(#pa1f3d003e8)\"><defs><path id=\"DejaVuSans-49\" d=\"m12.406 8.2969h16.109v55.625l-17.531-3.5156v8.9844l17.438 3.5156h9.8594v-64.609h16.109v-8.2969h-41.984z\"/></defs><g transform=\"translate(36.253 93.463) scale(.1625 -.1625)\"><use xlink:href=\"#DejaVuSans-Oblique-113\"/><use transform=\"translate(63.477 -16.406) scale(.7)\" xlink:href=\"#DejaVuSans-49\"/></g></g><g clip-path=\"url(#pa1f3d003e8)\"><defs><path id=\"DejaVuSans-50\" d=\"m19.188 8.2969h34.422v-8.2969h-46.281v8.2969q5.6094 5.8125 15.297 15.594 9.7031 9.7969 12.188 12.641 4.7344 5.3125 6.6094 9 1.8906 3.6875 1.8906 7.25 0 5.8125-4.0781 9.4688-4.0781 3.6719-10.625 3.6719-4.6406 0-9.7969-1.6094-5.1406-1.6094-11-4.8906v9.9688q5.9531 2.3906 11.125 3.6094 5.1875 1.2188 9.4844 1.2188 11.328 0 18.062-5.6719 6.7344-5.6562 6.7344-15.125 0-4.5-1.6875-8.5312-1.6719-4.0156-6.125-9.4844-1.2188-1.4219-7.7656-8.1875-6.5312-6.7656-18.453-18.922z\"/></defs><g transform=\"translate(67.926 127.75) scale(.104 -.104)\"><use xlink:href=\"#DejaVuSans-50\"/></g></g><g clip-path=\"url(#pa1f3d003e8)\"><defs><path id=\"DejaVuSans-98\" d=\"m48.688 27.297q0 9.9062-4.0781 15.547t-11.203 5.6406q-7.1406 0-11.219-5.6406t-4.0781-15.547 4.0781-15.547 11.219-5.6406q7.125 0 11.203 5.6406t4.0781 15.547zm-30.578 19.094q2.8438 4.875 7.1562 7.2344 4.3281 2.375 10.328 2.375 9.9688 0 16.188-7.9062 6.2344-7.9062 6.2344-20.797t-6.2344-20.812q-6.2188-7.9062-16.188-7.9062-6 0-10.328 2.375-4.3125 2.375-7.1562 7.25v-8.2031h-9.0312v75.984h9.0312z\"/></defs><g transform=\"translate(43.975 138.95) scale(.1625 -.1625)\"><use xlink:href=\"#DejaVuSans-98\"/></g></g><defs><clipPath id=\"pa1f3d003e8\"><rect x=\"7.2\" y=\"7.2\" width=\"65.271\" height=\"154.53\"/></clipPath></defs></svg>"
            ],
            "text/plain": [
              "<Figure size 86.452x204.68 with 1 Axes>"
            ]
          },
          "execution_count": 24,
          "metadata": {},
          "output_type": "execute_result"
        }
      ],
      "source": [
        "puzzle.get_circuit().draw(output='mpl')"
      ]
    },
    {
      "cell_type": "markdown",
      "metadata": {
        "id": "TxHaGEepVCcg"
      },
      "source": [
        "### Puzzle 10\n",
        "\n",
        "#### Intro\n",
        "\n",
        "Now you know the basic tools, you can tackle both qubits at once.\n",
        "\n",
        "#### Exercise\n",
        "*  Make both Z outputs random."
      ]
    },
    {
      "cell_type": "code",
      "execution_count": null,
      "metadata": {
        "id": "TqP75TfcVCcg"
      },
      "outputs": [],
      "source": [
        "initialize = [['x', '1']]\n",
        "success_condition = {'ZI': 0.0, 'IZ': 0.0}\n",
        "allowed_gates = {'0': {'x': 0, 'z': 0, 'h': 0}, '1': {'x': 0, 'z': 0, 'h': 0}, 'both': {}}\n",
        "vi = [[], True, False]\n",
        "qubit_names = {'0':'q[0]', '1':'q[1]'}\n",
        "puzzle = hello_quantum.run_game(initialize, success_condition, allowed_gates, vi, qubit_names)"
      ]
    },
    {
      "cell_type": "code",
      "execution_count": null,
      "metadata": {
        "id": "7W6llqWoVCcg",
        "outputId": "4b66f712-e9c1-4cc1-fbf4-2ba6fccfb0b1"
      },
      "outputs": [
        {
          "data": {
            "image/svg+xml": [
              "<?xml version=\"1.0\" encoding=\"UTF-8\"?><!DOCTYPE svg  PUBLIC '-//W3C//DTD SVG 1.1//EN'  'http://www.w3.org/Graphics/SVG/1.1/DTD/svg11.dtd'><svg width=\"79.671pt\" height=\"168.93pt\" version=\"1.1\" viewBox=\"0 0 79.671 168.93\" xmlns=\"http://www.w3.org/2000/svg\" xmlns:xlink=\"http://www.w3.org/1999/xlink\"><defs><style type=\"text/css\">*{stroke-linecap:butt;stroke-linejoin:round;}</style></defs><path d=\"m0 168.93h79.671v-168.93h-79.671z\" fill=\"#ffffff\"/><path d=\"m63.381 43.561h4.5451\" clip-path=\"url(#pcba75a9be7)\" fill=\"none\" stroke=\"#000000\" stroke-linecap=\"square\" stroke-width=\"2\"/><path d=\"m63.381 89.012h4.5451\" clip-path=\"url(#pcba75a9be7)\" fill=\"none\" stroke=\"#000000\" stroke-linecap=\"square\" stroke-width=\"2\"/><path d=\"m63.381 132.99h4.5451\" clip-path=\"url(#pcba75a9be7)\" fill=\"none\" stroke=\"#778899\" stroke-linecap=\"square\" stroke-width=\"2\"/><path d=\"m63.381 135.94h4.5451\" clip-path=\"url(#pcba75a9be7)\" fill=\"none\" stroke=\"#778899\" stroke-linecap=\"square\" stroke-width=\"2\"/><path d=\"m72.471 139.01 4.5451-9.0902\" clip-path=\"url(#pcba75a9be7)\" fill=\"none\" stroke=\"#778899\" stroke-linecap=\"square\" stroke-width=\"1.5\"/><g clip-path=\"url(#pcba75a9be7)\"><defs><path id=\"DejaVuSans-Oblique-113\" d=\"m41.703 8.2031q-3.6094-4.7344-8.5312-7.1875-4.9062-2.4375-10.859-2.4375-8.2969 0-13.016 5.5938-4.7031 5.5938-4.7031 15.406 0 7.9062 2.9062 15.281t8.3281 13.234q3.5156 3.8125 8.0781 5.8594t9.5938 2.0469q6.0469 0 9.9531-2.3906t5.6719-7.2188l1.5625 8.2031h9.0312l-14.594-75.203h-9.0469zm-27.781 12.703q0-7.2344 3.0156-11.016 3.0312-3.7812 8.75-3.7812 8.5 0 14.5 8.125t6 19.75q0 7.0312-3.1094 10.766-3.0938 3.7344-8.8906 3.7344-4.25 0-7.875-1.9844-3.6094-1.9688-6.2969-5.7812-2.8281-4-4.4688-9.375-1.625-5.3594-1.625-10.438z\"/><path id=\"DejaVuSans-48\" d=\"m31.781 66.406q-7.6094 0-11.453-7.5-3.8281-7.4844-3.8281-22.531 0-14.984 3.8281-22.484 3.8438-7.5 11.453-7.5 7.6719 0 11.5 7.5 3.8438 7.5 3.8438 22.484 0 15.047-3.8438 22.531-3.8281 7.5-11.5 7.5zm0 7.8125q12.266 0 18.734-9.7031 6.4688-9.6875 6.4688-28.141 0-18.406-6.4688-28.109-6.4688-9.6875-18.734-9.6875-12.25 0-18.719 9.6875-6.4688 9.7031-6.4688 28.109 0 18.453 6.4688 28.141 6.4688 9.7031 18.719 9.7031z\"/></defs><g transform=\"translate(36.253 48.012) scale(.1625 -.1625)\"><use xlink:href=\"#DejaVuSans-Oblique-113\"/><use transform=\"translate(63.477 -16.406) scale(.7)\" xlink:href=\"#DejaVuSans-48\"/></g></g><g clip-path=\"url(#pcba75a9be7)\"><defs><path id=\"DejaVuSans-49\" d=\"m12.406 8.2969h16.109v55.625l-17.531-3.5156v8.9844l17.438 3.5156h9.8594v-64.609h16.109v-8.2969h-41.984z\"/></defs><g transform=\"translate(36.253 93.463) scale(.1625 -.1625)\"><use xlink:href=\"#DejaVuSans-Oblique-113\"/><use transform=\"translate(63.477 -16.406) scale(.7)\" xlink:href=\"#DejaVuSans-49\"/></g></g><g clip-path=\"url(#pcba75a9be7)\"><defs><path id=\"DejaVuSans-50\" d=\"m19.188 8.2969h34.422v-8.2969h-46.281v8.2969q5.6094 5.8125 15.297 15.594 9.7031 9.7969 12.188 12.641 4.7344 5.3125 6.6094 9 1.8906 3.6875 1.8906 7.25 0 5.8125-4.0781 9.4688-4.0781 3.6719-10.625 3.6719-4.6406 0-9.7969-1.6094-5.1406-1.6094-11-4.8906v9.9688q5.9531 2.3906 11.125 3.6094 5.1875 1.2188 9.4844 1.2188 11.328 0 18.062-5.6719 6.7344-5.6562 6.7344-15.125 0-4.5-1.6875-8.5312-1.6719-4.0156-6.125-9.4844-1.2188-1.4219-7.7656-8.1875-6.5312-6.7656-18.453-18.922z\"/></defs><g transform=\"translate(67.926 127.75) scale(.104 -.104)\"><use xlink:href=\"#DejaVuSans-50\"/></g></g><g clip-path=\"url(#pcba75a9be7)\"><defs><path id=\"DejaVuSans-98\" d=\"m48.688 27.297q0 9.9062-4.0781 15.547t-11.203 5.6406q-7.1406 0-11.219-5.6406t-4.0781-15.547 4.0781-15.547 11.219-5.6406q7.125 0 11.203 5.6406t4.0781 15.547zm-30.578 19.094q2.8438 4.875 7.1562 7.2344 4.3281 2.375 10.328 2.375 9.9688 0 16.188-7.9062 6.2344-7.9062 6.2344-20.797t-6.2344-20.812q-6.2188-7.9062-16.188-7.9062-6 0-10.328 2.375-4.3125 2.375-7.1562 7.25v-8.2031h-9.0312v75.984h9.0312z\"/></defs><g transform=\"translate(43.975 138.95) scale(.1625 -.1625)\"><use xlink:href=\"#DejaVuSans-98\"/></g></g><defs><clipPath id=\"pcba75a9be7\"><rect x=\"7.2\" y=\"7.2\" width=\"65.271\" height=\"154.53\"/></clipPath></defs></svg>"
            ],
            "text/plain": [
              "<Figure size 86.452x204.68 with 1 Axes>"
            ]
          },
          "execution_count": 26,
          "metadata": {},
          "output_type": "execute_result"
        }
      ],
      "source": [
        "puzzle.get_circuit().draw(output='mpl')"
      ]
    },
    {
      "cell_type": "markdown",
      "metadata": {
        "id": "IQcdFoYkVCcg"
      },
      "source": [
        "#### Outro\n",
        "\n",
        "Each Z output here would randomly output a `0` or a `1`. But will their outputs be correlated? Anti-correlated? Completely unrelated?\n",
        "\n",
        "Just as we did with bits, we'll keep track of this information with some extra circles."
      ]
    },
    {
      "cell_type": "markdown",
      "metadata": {
        "id": "BFB_gIR-VCch"
      },
      "source": [
        "### Puzzle 11\n",
        "\n",
        "#### Intro\n",
        "\n",
        "In this puzzle you'll see four new circles. One of them you have already seen before in Level 1. There it kept track of whether the two bit values would be certain to agree (black) or disagree (white). Here it does the same job for the Z outputs of both qubits.\n",
        "\n",
        "#### Exercise\n",
        "\n",
        "*  Make the Z outputs certain to disagree."
      ]
    },
    {
      "cell_type": "code",
      "execution_count": null,
      "metadata": {
        "id": "DInsQB0MVCch"
      },
      "outputs": [],
      "source": [
        "initialize = [['h','0'],['h','1']]\n",
        "success_condition = {'ZZ': -1.0}\n",
        "allowed_gates = {'0': {'x': 0, 'z': 0, 'h': 0}, '1': {'x': 0, 'z': 0, 'h': 0}, 'both': {}}\n",
        "vi = [[], True, True]\n",
        "qubit_names = {'0':'q[0]', '1':'q[1]'}\n",
        "puzzle = hello_quantum.run_game(initialize, success_condition, allowed_gates, vi, qubit_names)"
      ]
    },
    {
      "cell_type": "code",
      "execution_count": null,
      "metadata": {
        "id": "s-0kyCoPVCch",
        "outputId": "0e0589e9-0e6b-4c1b-87d4-851d52fa065d"
      },
      "outputs": [
        {
          "data": {
            "image/svg+xml": [
              "<?xml version=\"1.0\" encoding=\"UTF-8\"?><!DOCTYPE svg  PUBLIC '-//W3C//DTD SVG 1.1//EN'  'http://www.w3.org/Graphics/SVG/1.1/DTD/svg11.dtd'><svg width=\"79.671pt\" height=\"168.93pt\" version=\"1.1\" viewBox=\"0 0 79.671 168.93\" xmlns=\"http://www.w3.org/2000/svg\" xmlns:xlink=\"http://www.w3.org/1999/xlink\"><defs><style type=\"text/css\">*{stroke-linecap:butt;stroke-linejoin:round;}</style></defs><path d=\"m0 168.93h79.671v-168.93h-79.671z\" fill=\"#ffffff\"/><path d=\"m63.381 43.561h4.5451\" clip-path=\"url(#p6aacb28aa0)\" fill=\"none\" stroke=\"#000000\" stroke-linecap=\"square\" stroke-width=\"2\"/><path d=\"m63.381 89.012h4.5451\" clip-path=\"url(#p6aacb28aa0)\" fill=\"none\" stroke=\"#000000\" stroke-linecap=\"square\" stroke-width=\"2\"/><path d=\"m63.381 132.99h4.5451\" clip-path=\"url(#p6aacb28aa0)\" fill=\"none\" stroke=\"#778899\" stroke-linecap=\"square\" stroke-width=\"2\"/><path d=\"m63.381 135.94h4.5451\" clip-path=\"url(#p6aacb28aa0)\" fill=\"none\" stroke=\"#778899\" stroke-linecap=\"square\" stroke-width=\"2\"/><path d=\"m72.471 139.01 4.5451-9.0902\" clip-path=\"url(#p6aacb28aa0)\" fill=\"none\" stroke=\"#778899\" stroke-linecap=\"square\" stroke-width=\"1.5\"/><g clip-path=\"url(#p6aacb28aa0)\"><defs><path id=\"DejaVuSans-Oblique-113\" d=\"m41.703 8.2031q-3.6094-4.7344-8.5312-7.1875-4.9062-2.4375-10.859-2.4375-8.2969 0-13.016 5.5938-4.7031 5.5938-4.7031 15.406 0 7.9062 2.9062 15.281t8.3281 13.234q3.5156 3.8125 8.0781 5.8594t9.5938 2.0469q6.0469 0 9.9531-2.3906t5.6719-7.2188l1.5625 8.2031h9.0312l-14.594-75.203h-9.0469zm-27.781 12.703q0-7.2344 3.0156-11.016 3.0312-3.7812 8.75-3.7812 8.5 0 14.5 8.125t6 19.75q0 7.0312-3.1094 10.766-3.0938 3.7344-8.8906 3.7344-4.25 0-7.875-1.9844-3.6094-1.9688-6.2969-5.7812-2.8281-4-4.4688-9.375-1.625-5.3594-1.625-10.438z\"/><path id=\"DejaVuSans-48\" d=\"m31.781 66.406q-7.6094 0-11.453-7.5-3.8281-7.4844-3.8281-22.531 0-14.984 3.8281-22.484 3.8438-7.5 11.453-7.5 7.6719 0 11.5 7.5 3.8438 7.5 3.8438 22.484 0 15.047-3.8438 22.531-3.8281 7.5-11.5 7.5zm0 7.8125q12.266 0 18.734-9.7031 6.4688-9.6875 6.4688-28.141 0-18.406-6.4688-28.109-6.4688-9.6875-18.734-9.6875-12.25 0-18.719 9.6875-6.4688 9.7031-6.4688 28.109 0 18.453 6.4688 28.141 6.4688 9.7031 18.719 9.7031z\"/></defs><g transform=\"translate(36.253 48.012) scale(.1625 -.1625)\"><use xlink:href=\"#DejaVuSans-Oblique-113\"/><use transform=\"translate(63.477 -16.406) scale(.7)\" xlink:href=\"#DejaVuSans-48\"/></g></g><g clip-path=\"url(#p6aacb28aa0)\"><defs><path id=\"DejaVuSans-49\" d=\"m12.406 8.2969h16.109v55.625l-17.531-3.5156v8.9844l17.438 3.5156h9.8594v-64.609h16.109v-8.2969h-41.984z\"/></defs><g transform=\"translate(36.253 93.463) scale(.1625 -.1625)\"><use xlink:href=\"#DejaVuSans-Oblique-113\"/><use transform=\"translate(63.477 -16.406) scale(.7)\" xlink:href=\"#DejaVuSans-49\"/></g></g><g clip-path=\"url(#p6aacb28aa0)\"><defs><path id=\"DejaVuSans-50\" d=\"m19.188 8.2969h34.422v-8.2969h-46.281v8.2969q5.6094 5.8125 15.297 15.594 9.7031 9.7969 12.188 12.641 4.7344 5.3125 6.6094 9 1.8906 3.6875 1.8906 7.25 0 5.8125-4.0781 9.4688-4.0781 3.6719-10.625 3.6719-4.6406 0-9.7969-1.6094-5.1406-1.6094-11-4.8906v9.9688q5.9531 2.3906 11.125 3.6094 5.1875 1.2188 9.4844 1.2188 11.328 0 18.062-5.6719 6.7344-5.6562 6.7344-15.125 0-4.5-1.6875-8.5312-1.6719-4.0156-6.125-9.4844-1.2188-1.4219-7.7656-8.1875-6.5312-6.7656-18.453-18.922z\"/></defs><g transform=\"translate(67.926 127.75) scale(.104 -.104)\"><use xlink:href=\"#DejaVuSans-50\"/></g></g><g clip-path=\"url(#p6aacb28aa0)\"><defs><path id=\"DejaVuSans-98\" d=\"m48.688 27.297q0 9.9062-4.0781 15.547t-11.203 5.6406q-7.1406 0-11.219-5.6406t-4.0781-15.547 4.0781-15.547 11.219-5.6406q7.125 0 11.203 5.6406t4.0781 15.547zm-30.578 19.094q2.8438 4.875 7.1562 7.2344 4.3281 2.375 10.328 2.375 9.9688 0 16.188-7.9062 6.2344-7.9062 6.2344-20.797t-6.2344-20.812q-6.2188-7.9062-16.188-7.9062-6 0-10.328 2.375-4.3125 2.375-7.1562 7.25v-8.2031h-9.0312v75.984h9.0312z\"/></defs><g transform=\"translate(43.975 138.95) scale(.1625 -.1625)\"><use xlink:href=\"#DejaVuSans-98\"/></g></g><defs><clipPath id=\"p6aacb28aa0\"><rect x=\"7.2\" y=\"7.2\" width=\"65.271\" height=\"154.53\"/></clipPath></defs></svg>"
            ],
            "text/plain": [
              "<Figure size 86.452x204.68 with 1 Axes>"
            ]
          },
          "execution_count": 28,
          "metadata": {},
          "output_type": "execute_result"
        }
      ],
      "source": [
        "puzzle.get_circuit().draw(output='mpl')"
      ]
    },
    {
      "cell_type": "markdown",
      "metadata": {
        "id": "08bgiIKnVCch"
      },
      "source": [
        "### Puzzle 12\n",
        "\n",
        "#### Intro\n",
        "The new circle at the very top has a similar job. In this case, it keeps track of the probability to agree and disagree for the X outputs of both qubits.\n",
        "\n",
        "#### Exercise\n",
        "*  Make the X outputs certain to agree."
      ]
    },
    {
      "cell_type": "code",
      "execution_count": null,
      "metadata": {
        "id": "TcrwOmZkVCch"
      },
      "outputs": [],
      "source": [
        "initialize = [['x','0']]\n",
        "success_condition = {'XX': 1.0}\n",
        "allowed_gates = {'0': {'x': 0, 'z': 0, 'h': 0}, '1': {'x': 0, 'z': 0, 'h': 0}, 'both': {}}\n",
        "vi = [[], True, True]\n",
        "qubit_names = {'0':'q[0]', '1':'q[1]'}\n",
        "puzzle = hello_quantum.run_game(initialize, success_condition, allowed_gates, vi, qubit_names)"
      ]
    },
    {
      "cell_type": "code",
      "execution_count": null,
      "metadata": {
        "id": "4pd69UA-VCch",
        "outputId": "5f066415-6fc6-4d7d-8ddc-c021d8afc48a"
      },
      "outputs": [
        {
          "data": {
            "image/svg+xml": [
              "<?xml version=\"1.0\" encoding=\"UTF-8\"?><!DOCTYPE svg  PUBLIC '-//W3C//DTD SVG 1.1//EN'  'http://www.w3.org/Graphics/SVG/1.1/DTD/svg11.dtd'><svg width=\"79.671pt\" height=\"168.93pt\" version=\"1.1\" viewBox=\"0 0 79.671 168.93\" xmlns=\"http://www.w3.org/2000/svg\" xmlns:xlink=\"http://www.w3.org/1999/xlink\"><defs><style type=\"text/css\">*{stroke-linecap:butt;stroke-linejoin:round;}</style></defs><path d=\"m0 168.93h79.671v-168.93h-79.671z\" fill=\"#ffffff\"/><path d=\"m63.381 43.561h4.5451\" clip-path=\"url(#p7d018d9f35)\" fill=\"none\" stroke=\"#000000\" stroke-linecap=\"square\" stroke-width=\"2\"/><path d=\"m63.381 89.012h4.5451\" clip-path=\"url(#p7d018d9f35)\" fill=\"none\" stroke=\"#000000\" stroke-linecap=\"square\" stroke-width=\"2\"/><path d=\"m63.381 132.99h4.5451\" clip-path=\"url(#p7d018d9f35)\" fill=\"none\" stroke=\"#778899\" stroke-linecap=\"square\" stroke-width=\"2\"/><path d=\"m63.381 135.94h4.5451\" clip-path=\"url(#p7d018d9f35)\" fill=\"none\" stroke=\"#778899\" stroke-linecap=\"square\" stroke-width=\"2\"/><path d=\"m72.471 139.01 4.5451-9.0902\" clip-path=\"url(#p7d018d9f35)\" fill=\"none\" stroke=\"#778899\" stroke-linecap=\"square\" stroke-width=\"1.5\"/><g clip-path=\"url(#p7d018d9f35)\"><defs><path id=\"DejaVuSans-Oblique-113\" d=\"m41.703 8.2031q-3.6094-4.7344-8.5312-7.1875-4.9062-2.4375-10.859-2.4375-8.2969 0-13.016 5.5938-4.7031 5.5938-4.7031 15.406 0 7.9062 2.9062 15.281t8.3281 13.234q3.5156 3.8125 8.0781 5.8594t9.5938 2.0469q6.0469 0 9.9531-2.3906t5.6719-7.2188l1.5625 8.2031h9.0312l-14.594-75.203h-9.0469zm-27.781 12.703q0-7.2344 3.0156-11.016 3.0312-3.7812 8.75-3.7812 8.5 0 14.5 8.125t6 19.75q0 7.0312-3.1094 10.766-3.0938 3.7344-8.8906 3.7344-4.25 0-7.875-1.9844-3.6094-1.9688-6.2969-5.7812-2.8281-4-4.4688-9.375-1.625-5.3594-1.625-10.438z\"/><path id=\"DejaVuSans-48\" d=\"m31.781 66.406q-7.6094 0-11.453-7.5-3.8281-7.4844-3.8281-22.531 0-14.984 3.8281-22.484 3.8438-7.5 11.453-7.5 7.6719 0 11.5 7.5 3.8438 7.5 3.8438 22.484 0 15.047-3.8438 22.531-3.8281 7.5-11.5 7.5zm0 7.8125q12.266 0 18.734-9.7031 6.4688-9.6875 6.4688-28.141 0-18.406-6.4688-28.109-6.4688-9.6875-18.734-9.6875-12.25 0-18.719 9.6875-6.4688 9.7031-6.4688 28.109 0 18.453 6.4688 28.141 6.4688 9.7031 18.719 9.7031z\"/></defs><g transform=\"translate(36.253 48.012) scale(.1625 -.1625)\"><use xlink:href=\"#DejaVuSans-Oblique-113\"/><use transform=\"translate(63.477 -16.406) scale(.7)\" xlink:href=\"#DejaVuSans-48\"/></g></g><g clip-path=\"url(#p7d018d9f35)\"><defs><path id=\"DejaVuSans-49\" d=\"m12.406 8.2969h16.109v55.625l-17.531-3.5156v8.9844l17.438 3.5156h9.8594v-64.609h16.109v-8.2969h-41.984z\"/></defs><g transform=\"translate(36.253 93.463) scale(.1625 -.1625)\"><use xlink:href=\"#DejaVuSans-Oblique-113\"/><use transform=\"translate(63.477 -16.406) scale(.7)\" xlink:href=\"#DejaVuSans-49\"/></g></g><g clip-path=\"url(#p7d018d9f35)\"><defs><path id=\"DejaVuSans-50\" d=\"m19.188 8.2969h34.422v-8.2969h-46.281v8.2969q5.6094 5.8125 15.297 15.594 9.7031 9.7969 12.188 12.641 4.7344 5.3125 6.6094 9 1.8906 3.6875 1.8906 7.25 0 5.8125-4.0781 9.4688-4.0781 3.6719-10.625 3.6719-4.6406 0-9.7969-1.6094-5.1406-1.6094-11-4.8906v9.9688q5.9531 2.3906 11.125 3.6094 5.1875 1.2188 9.4844 1.2188 11.328 0 18.062-5.6719 6.7344-5.6562 6.7344-15.125 0-4.5-1.6875-8.5312-1.6719-4.0156-6.125-9.4844-1.2188-1.4219-7.7656-8.1875-6.5312-6.7656-18.453-18.922z\"/></defs><g transform=\"translate(67.926 127.75) scale(.104 -.104)\"><use xlink:href=\"#DejaVuSans-50\"/></g></g><g clip-path=\"url(#p7d018d9f35)\"><defs><path id=\"DejaVuSans-98\" d=\"m48.688 27.297q0 9.9062-4.0781 15.547t-11.203 5.6406q-7.1406 0-11.219-5.6406t-4.0781-15.547 4.0781-15.547 11.219-5.6406q7.125 0 11.203 5.6406t4.0781 15.547zm-30.578 19.094q2.8438 4.875 7.1562 7.2344 4.3281 2.375 10.328 2.375 9.9688 0 16.188-7.9062 6.2344-7.9062 6.2344-20.797t-6.2344-20.812q-6.2188-7.9062-16.188-7.9062-6 0-10.328 2.375-4.3125 2.375-7.1562 7.25v-8.2031h-9.0312v75.984h9.0312z\"/></defs><g transform=\"translate(43.975 138.95) scale(.1625 -.1625)\"><use xlink:href=\"#DejaVuSans-98\"/></g></g><defs><clipPath id=\"p7d018d9f35\"><rect x=\"7.2\" y=\"7.2\" width=\"65.271\" height=\"154.53\"/></clipPath></defs></svg>"
            ],
            "text/plain": [
              "<Figure size 86.452x204.68 with 1 Axes>"
            ]
          },
          "execution_count": 30,
          "metadata": {},
          "output_type": "execute_result"
        }
      ],
      "source": [
        "puzzle.get_circuit().draw(output='mpl')"
      ]
    },
    {
      "cell_type": "markdown",
      "metadata": {
        "id": "PhmHJORWVCch"
      },
      "source": [
        "#### Outro\n",
        "\n",
        "If you are wondering why it is this new circle that represents this information, think of a row extending out from the X output of one qubit, and another row coming out from the X output of the other. The circle at the very top is located where these two rows meet. That's why it represents agreements between the two X outputs."
      ]
    },
    {
      "cell_type": "markdown",
      "metadata": {
        "id": "IrXwr8zjVCch"
      },
      "source": [
        "### Puzzle 13\n",
        "\n",
        "#### Intro\n",
        "\n",
        "There are still two new circles to explain. One is where the Z output row from `q[0]` meets the X output row from `q[1]`. This tells us whether Z output for `q[0]` would agree with the X output from `q[1]`. The other is the same, but with the X output on `q[0]` and the Z output on `q[1]`.\n",
        "\n",
        "#### Exercise\n",
        "*  Make the X output for `q[0]` certain to disagree with the Z output for `q[1]`."
      ]
    },
    {
      "cell_type": "code",
      "execution_count": null,
      "metadata": {
        "id": "A1OF3l6_VCch"
      },
      "outputs": [],
      "source": [
        "initialize = []\n",
        "success_condition = {'XZ': -1.0}\n",
        "allowed_gates = {'0': {'x': 0, 'z': 0, 'h': 0}, '1': {'x': 0, 'z': 0, 'h': 0}, 'both': {}}\n",
        "vi = [[], True, True]\n",
        "qubit_names = {'0':'q[0]', '1':'q[1]'}\n",
        "puzzle = hello_quantum.run_game(initialize, success_condition, allowed_gates, vi, qubit_names)"
      ]
    },
    {
      "cell_type": "code",
      "execution_count": null,
      "metadata": {
        "id": "b1qf7ZSpVCci",
        "outputId": "4042912d-92e4-492d-906e-e26fe088d0ea"
      },
      "outputs": [
        {
          "data": {
            "image/svg+xml": [
              "<?xml version=\"1.0\" encoding=\"UTF-8\"?><!DOCTYPE svg  PUBLIC '-//W3C//DTD SVG 1.1//EN'  'http://www.w3.org/Graphics/SVG/1.1/DTD/svg11.dtd'><svg width=\"79.671pt\" height=\"168.93pt\" version=\"1.1\" viewBox=\"0 0 79.671 168.93\" xmlns=\"http://www.w3.org/2000/svg\" xmlns:xlink=\"http://www.w3.org/1999/xlink\"><defs><style type=\"text/css\">*{stroke-linecap:butt;stroke-linejoin:round;}</style></defs><path d=\"m0 168.93h79.671v-168.93h-79.671z\" fill=\"#ffffff\"/><path d=\"m63.381 43.561h4.5451\" clip-path=\"url(#p46c518227c)\" fill=\"none\" stroke=\"#000000\" stroke-linecap=\"square\" stroke-width=\"2\"/><path d=\"m63.381 89.012h4.5451\" clip-path=\"url(#p46c518227c)\" fill=\"none\" stroke=\"#000000\" stroke-linecap=\"square\" stroke-width=\"2\"/><path d=\"m63.381 132.99h4.5451\" clip-path=\"url(#p46c518227c)\" fill=\"none\" stroke=\"#778899\" stroke-linecap=\"square\" stroke-width=\"2\"/><path d=\"m63.381 135.94h4.5451\" clip-path=\"url(#p46c518227c)\" fill=\"none\" stroke=\"#778899\" stroke-linecap=\"square\" stroke-width=\"2\"/><path d=\"m72.471 139.01 4.5451-9.0902\" clip-path=\"url(#p46c518227c)\" fill=\"none\" stroke=\"#778899\" stroke-linecap=\"square\" stroke-width=\"1.5\"/><g clip-path=\"url(#p46c518227c)\"><defs><path id=\"DejaVuSans-Oblique-113\" d=\"m41.703 8.2031q-3.6094-4.7344-8.5312-7.1875-4.9062-2.4375-10.859-2.4375-8.2969 0-13.016 5.5938-4.7031 5.5938-4.7031 15.406 0 7.9062 2.9062 15.281t8.3281 13.234q3.5156 3.8125 8.0781 5.8594t9.5938 2.0469q6.0469 0 9.9531-2.3906t5.6719-7.2188l1.5625 8.2031h9.0312l-14.594-75.203h-9.0469zm-27.781 12.703q0-7.2344 3.0156-11.016 3.0312-3.7812 8.75-3.7812 8.5 0 14.5 8.125t6 19.75q0 7.0312-3.1094 10.766-3.0938 3.7344-8.8906 3.7344-4.25 0-7.875-1.9844-3.6094-1.9688-6.2969-5.7812-2.8281-4-4.4688-9.375-1.625-5.3594-1.625-10.438z\"/><path id=\"DejaVuSans-48\" d=\"m31.781 66.406q-7.6094 0-11.453-7.5-3.8281-7.4844-3.8281-22.531 0-14.984 3.8281-22.484 3.8438-7.5 11.453-7.5 7.6719 0 11.5 7.5 3.8438 7.5 3.8438 22.484 0 15.047-3.8438 22.531-3.8281 7.5-11.5 7.5zm0 7.8125q12.266 0 18.734-9.7031 6.4688-9.6875 6.4688-28.141 0-18.406-6.4688-28.109-6.4688-9.6875-18.734-9.6875-12.25 0-18.719 9.6875-6.4688 9.7031-6.4688 28.109 0 18.453 6.4688 28.141 6.4688 9.7031 18.719 9.7031z\"/></defs><g transform=\"translate(36.253 48.012) scale(.1625 -.1625)\"><use xlink:href=\"#DejaVuSans-Oblique-113\"/><use transform=\"translate(63.477 -16.406) scale(.7)\" xlink:href=\"#DejaVuSans-48\"/></g></g><g clip-path=\"url(#p46c518227c)\"><defs><path id=\"DejaVuSans-49\" d=\"m12.406 8.2969h16.109v55.625l-17.531-3.5156v8.9844l17.438 3.5156h9.8594v-64.609h16.109v-8.2969h-41.984z\"/></defs><g transform=\"translate(36.253 93.463) scale(.1625 -.1625)\"><use xlink:href=\"#DejaVuSans-Oblique-113\"/><use transform=\"translate(63.477 -16.406) scale(.7)\" xlink:href=\"#DejaVuSans-49\"/></g></g><g clip-path=\"url(#p46c518227c)\"><defs><path id=\"DejaVuSans-50\" d=\"m19.188 8.2969h34.422v-8.2969h-46.281v8.2969q5.6094 5.8125 15.297 15.594 9.7031 9.7969 12.188 12.641 4.7344 5.3125 6.6094 9 1.8906 3.6875 1.8906 7.25 0 5.8125-4.0781 9.4688-4.0781 3.6719-10.625 3.6719-4.6406 0-9.7969-1.6094-5.1406-1.6094-11-4.8906v9.9688q5.9531 2.3906 11.125 3.6094 5.1875 1.2188 9.4844 1.2188 11.328 0 18.062-5.6719 6.7344-5.6562 6.7344-15.125 0-4.5-1.6875-8.5312-1.6719-4.0156-6.125-9.4844-1.2188-1.4219-7.7656-8.1875-6.5312-6.7656-18.453-18.922z\"/></defs><g transform=\"translate(67.926 127.75) scale(.104 -.104)\"><use xlink:href=\"#DejaVuSans-50\"/></g></g><g clip-path=\"url(#p46c518227c)\"><defs><path id=\"DejaVuSans-98\" d=\"m48.688 27.297q0 9.9062-4.0781 15.547t-11.203 5.6406q-7.1406 0-11.219-5.6406t-4.0781-15.547 4.0781-15.547 11.219-5.6406q7.125 0 11.203 5.6406t4.0781 15.547zm-30.578 19.094q2.8438 4.875 7.1562 7.2344 4.3281 2.375 10.328 2.375 9.9688 0 16.188-7.9062 6.2344-7.9062 6.2344-20.797t-6.2344-20.812q-6.2188-7.9062-16.188-7.9062-6 0-10.328 2.375-4.3125 2.375-7.1562 7.25v-8.2031h-9.0312v75.984h9.0312z\"/></defs><g transform=\"translate(43.975 138.95) scale(.1625 -.1625)\"><use xlink:href=\"#DejaVuSans-98\"/></g></g><defs><clipPath id=\"p46c518227c\"><rect x=\"7.2\" y=\"7.2\" width=\"65.271\" height=\"154.53\"/></clipPath></defs></svg>"
            ],
            "text/plain": [
              "<Figure size 86.452x204.68 with 1 Axes>"
            ]
          },
          "execution_count": 32,
          "metadata": {},
          "output_type": "execute_result"
        }
      ],
      "source": [
        "puzzle.get_circuit().draw(output='mpl')"
      ]
    },
    {
      "cell_type": "markdown",
      "metadata": {
        "id": "p9HmR9uKVCci"
      },
      "source": [
        "### Puzzle 14\n",
        "\n",
        "#### Intro\n",
        "Notice how the `x`, `z` and `h` gates affect the new circles. Specifically, the `x` gates don't just affect a single Z output, but a whole row of them: flipping each circle from black to white (or dark to light) and vice-versa.\n",
        "\n",
        "#### Exercise\n",
        "*  Turn the two Z outputs on as much as you can."
      ]
    },
    {
      "cell_type": "code",
      "execution_count": null,
      "metadata": {
        "id": "knIbIZwHVCci"
      },
      "outputs": [],
      "source": [
        "initialize = [['ry(-pi/4)', '1'], ['ry(-pi/4)','0']]\n",
        "success_condition = {'ZI': -0.7071, 'IZ': -0.7071}\n",
        "allowed_gates = {'0': {'x': 0}, '1': {'x': 0}, 'both': {}}\n",
        "vi = [[], True, True]\n",
        "qubit_names = {'0':'q[0]', '1':'q[1]'}\n",
        "puzzle = hello_quantum.run_game(initialize, success_condition, allowed_gates, vi, qubit_names)"
      ]
    },
    {
      "cell_type": "code",
      "execution_count": null,
      "metadata": {
        "id": "v7KaO5lTVCci",
        "outputId": "014def52-b79c-4a7a-bde0-35fd35ed6ea5"
      },
      "outputs": [
        {
          "data": {
            "image/svg+xml": [
              "<?xml version=\"1.0\" encoding=\"UTF-8\"?><!DOCTYPE svg  PUBLIC '-//W3C//DTD SVG 1.1//EN'  'http://www.w3.org/Graphics/SVG/1.1/DTD/svg11.dtd'><svg width=\"79.671pt\" height=\"168.93pt\" version=\"1.1\" viewBox=\"0 0 79.671 168.93\" xmlns=\"http://www.w3.org/2000/svg\" xmlns:xlink=\"http://www.w3.org/1999/xlink\"><defs><style type=\"text/css\">*{stroke-linecap:butt;stroke-linejoin:round;}</style></defs><path d=\"m0 168.93h79.671v-168.93h-79.671z\" fill=\"#ffffff\"/><path d=\"m63.381 43.561h4.5451\" clip-path=\"url(#pab7b0f26a6)\" fill=\"none\" stroke=\"#000000\" stroke-linecap=\"square\" stroke-width=\"2\"/><path d=\"m63.381 89.012h4.5451\" clip-path=\"url(#pab7b0f26a6)\" fill=\"none\" stroke=\"#000000\" stroke-linecap=\"square\" stroke-width=\"2\"/><path d=\"m63.381 132.99h4.5451\" clip-path=\"url(#pab7b0f26a6)\" fill=\"none\" stroke=\"#778899\" stroke-linecap=\"square\" stroke-width=\"2\"/><path d=\"m63.381 135.94h4.5451\" clip-path=\"url(#pab7b0f26a6)\" fill=\"none\" stroke=\"#778899\" stroke-linecap=\"square\" stroke-width=\"2\"/><path d=\"m72.471 139.01 4.5451-9.0902\" clip-path=\"url(#pab7b0f26a6)\" fill=\"none\" stroke=\"#778899\" stroke-linecap=\"square\" stroke-width=\"1.5\"/><g clip-path=\"url(#pab7b0f26a6)\"><defs><path id=\"DejaVuSans-Oblique-113\" d=\"m41.703 8.2031q-3.6094-4.7344-8.5312-7.1875-4.9062-2.4375-10.859-2.4375-8.2969 0-13.016 5.5938-4.7031 5.5938-4.7031 15.406 0 7.9062 2.9062 15.281t8.3281 13.234q3.5156 3.8125 8.0781 5.8594t9.5938 2.0469q6.0469 0 9.9531-2.3906t5.6719-7.2188l1.5625 8.2031h9.0312l-14.594-75.203h-9.0469zm-27.781 12.703q0-7.2344 3.0156-11.016 3.0312-3.7812 8.75-3.7812 8.5 0 14.5 8.125t6 19.75q0 7.0312-3.1094 10.766-3.0938 3.7344-8.8906 3.7344-4.25 0-7.875-1.9844-3.6094-1.9688-6.2969-5.7812-2.8281-4-4.4688-9.375-1.625-5.3594-1.625-10.438z\"/><path id=\"DejaVuSans-48\" d=\"m31.781 66.406q-7.6094 0-11.453-7.5-3.8281-7.4844-3.8281-22.531 0-14.984 3.8281-22.484 3.8438-7.5 11.453-7.5 7.6719 0 11.5 7.5 3.8438 7.5 3.8438 22.484 0 15.047-3.8438 22.531-3.8281 7.5-11.5 7.5zm0 7.8125q12.266 0 18.734-9.7031 6.4688-9.6875 6.4688-28.141 0-18.406-6.4688-28.109-6.4688-9.6875-18.734-9.6875-12.25 0-18.719 9.6875-6.4688 9.7031-6.4688 28.109 0 18.453 6.4688 28.141 6.4688 9.7031 18.719 9.7031z\"/></defs><g transform=\"translate(36.253 48.012) scale(.1625 -.1625)\"><use xlink:href=\"#DejaVuSans-Oblique-113\"/><use transform=\"translate(63.477 -16.406) scale(.7)\" xlink:href=\"#DejaVuSans-48\"/></g></g><g clip-path=\"url(#pab7b0f26a6)\"><defs><path id=\"DejaVuSans-49\" d=\"m12.406 8.2969h16.109v55.625l-17.531-3.5156v8.9844l17.438 3.5156h9.8594v-64.609h16.109v-8.2969h-41.984z\"/></defs><g transform=\"translate(36.253 93.463) scale(.1625 -.1625)\"><use xlink:href=\"#DejaVuSans-Oblique-113\"/><use transform=\"translate(63.477 -16.406) scale(.7)\" xlink:href=\"#DejaVuSans-49\"/></g></g><g clip-path=\"url(#pab7b0f26a6)\"><defs><path id=\"DejaVuSans-50\" d=\"m19.188 8.2969h34.422v-8.2969h-46.281v8.2969q5.6094 5.8125 15.297 15.594 9.7031 9.7969 12.188 12.641 4.7344 5.3125 6.6094 9 1.8906 3.6875 1.8906 7.25 0 5.8125-4.0781 9.4688-4.0781 3.6719-10.625 3.6719-4.6406 0-9.7969-1.6094-5.1406-1.6094-11-4.8906v9.9688q5.9531 2.3906 11.125 3.6094 5.1875 1.2188 9.4844 1.2188 11.328 0 18.062-5.6719 6.7344-5.6562 6.7344-15.125 0-4.5-1.6875-8.5312-1.6719-4.0156-6.125-9.4844-1.2188-1.4219-7.7656-8.1875-6.5312-6.7656-18.453-18.922z\"/></defs><g transform=\"translate(67.926 127.75) scale(.104 -.104)\"><use xlink:href=\"#DejaVuSans-50\"/></g></g><g clip-path=\"url(#pab7b0f26a6)\"><defs><path id=\"DejaVuSans-98\" d=\"m48.688 27.297q0 9.9062-4.0781 15.547t-11.203 5.6406q-7.1406 0-11.219-5.6406t-4.0781-15.547 4.0781-15.547 11.219-5.6406q7.125 0 11.203 5.6406t4.0781 15.547zm-30.578 19.094q2.8438 4.875 7.1562 7.2344 4.3281 2.375 10.328 2.375 9.9688 0 16.188-7.9062 6.2344-7.9062 6.2344-20.797t-6.2344-20.812q-6.2188-7.9062-16.188-7.9062-6 0-10.328 2.375-4.3125 2.375-7.1562 7.25v-8.2031h-9.0312v75.984h9.0312z\"/></defs><g transform=\"translate(43.975 138.95) scale(.1625 -.1625)\"><use xlink:href=\"#DejaVuSans-98\"/></g></g><defs><clipPath id=\"pab7b0f26a6\"><rect x=\"7.2\" y=\"7.2\" width=\"65.271\" height=\"154.53\"/></clipPath></defs></svg>"
            ],
            "text/plain": [
              "<Figure size 86.452x204.68 with 1 Axes>"
            ]
          },
          "execution_count": 34,
          "metadata": {},
          "output_type": "execute_result"
        }
      ],
      "source": [
        "puzzle.get_circuit().draw(output='mpl')"
      ]
    },
    {
      "cell_type": "markdown",
      "metadata": {
        "id": "BucHHL50VCci"
      },
      "source": [
        "#### Outro\n",
        "\n",
        "As you'll see in the next puzzle, the `z` gates affect X output rows in the same way."
      ]
    },
    {
      "cell_type": "markdown",
      "metadata": {
        "id": "izRZjtrUVCci"
      },
      "source": [
        "### Puzzle 15\n",
        "\n",
        "#### Intro\n",
        "\n",
        "We've previously seen how the `h` gate swaps a pair of circles. Now it affects a pair of rows in the same way: swapping each pair of circles until the whole rows have swapped. Again, you may want to check out the [Hello Quantum](https://helloquantum.mybluemix.net/) app for a nice animation.\n",
        "\n",
        "#### Exercise\n",
        "*  Turn off the X outputs."
      ]
    },
    {
      "cell_type": "code",
      "execution_count": null,
      "metadata": {
        "id": "xaqxpq1pVCci"
      },
      "outputs": [],
      "source": [
        "initialize = [['x', '1'], ['x','0']]\n",
        "success_condition = {'XI':1, 'IX':1}\n",
        "allowed_gates = {'0': {'z': 0, 'h': 0}, '1': {'z': 0, 'h': 0}, 'both': {}}\n",
        "vi = [[], True, True]\n",
        "qubit_names = {'0':'q[0]', '1':'q[1]'}\n",
        "puzzle = hello_quantum.run_game(initialize, success_condition, allowed_gates, vi, qubit_names)"
      ]
    },
    {
      "cell_type": "code",
      "execution_count": null,
      "metadata": {
        "id": "q5tliH5qVCci",
        "outputId": "e38c987e-9159-4b10-a173-bda4a1a6aa01"
      },
      "outputs": [
        {
          "data": {
            "image/svg+xml": [
              "<?xml version=\"1.0\" encoding=\"UTF-8\"?><!DOCTYPE svg  PUBLIC '-//W3C//DTD SVG 1.1//EN'  'http://www.w3.org/Graphics/SVG/1.1/DTD/svg11.dtd'><svg width=\"79.671pt\" height=\"168.93pt\" version=\"1.1\" viewBox=\"0 0 79.671 168.93\" xmlns=\"http://www.w3.org/2000/svg\" xmlns:xlink=\"http://www.w3.org/1999/xlink\"><defs><style type=\"text/css\">*{stroke-linecap:butt;stroke-linejoin:round;}</style></defs><path d=\"m0 168.93h79.671v-168.93h-79.671z\" fill=\"#ffffff\"/><path d=\"m63.381 43.561h4.5451\" clip-path=\"url(#p9f2fdc9067)\" fill=\"none\" stroke=\"#000000\" stroke-linecap=\"square\" stroke-width=\"2\"/><path d=\"m63.381 89.012h4.5451\" clip-path=\"url(#p9f2fdc9067)\" fill=\"none\" stroke=\"#000000\" stroke-linecap=\"square\" stroke-width=\"2\"/><path d=\"m63.381 132.99h4.5451\" clip-path=\"url(#p9f2fdc9067)\" fill=\"none\" stroke=\"#778899\" stroke-linecap=\"square\" stroke-width=\"2\"/><path d=\"m63.381 135.94h4.5451\" clip-path=\"url(#p9f2fdc9067)\" fill=\"none\" stroke=\"#778899\" stroke-linecap=\"square\" stroke-width=\"2\"/><path d=\"m72.471 139.01 4.5451-9.0902\" clip-path=\"url(#p9f2fdc9067)\" fill=\"none\" stroke=\"#778899\" stroke-linecap=\"square\" stroke-width=\"1.5\"/><g clip-path=\"url(#p9f2fdc9067)\"><defs><path id=\"DejaVuSans-Oblique-113\" d=\"m41.703 8.2031q-3.6094-4.7344-8.5312-7.1875-4.9062-2.4375-10.859-2.4375-8.2969 0-13.016 5.5938-4.7031 5.5938-4.7031 15.406 0 7.9062 2.9062 15.281t8.3281 13.234q3.5156 3.8125 8.0781 5.8594t9.5938 2.0469q6.0469 0 9.9531-2.3906t5.6719-7.2188l1.5625 8.2031h9.0312l-14.594-75.203h-9.0469zm-27.781 12.703q0-7.2344 3.0156-11.016 3.0312-3.7812 8.75-3.7812 8.5 0 14.5 8.125t6 19.75q0 7.0312-3.1094 10.766-3.0938 3.7344-8.8906 3.7344-4.25 0-7.875-1.9844-3.6094-1.9688-6.2969-5.7812-2.8281-4-4.4688-9.375-1.625-5.3594-1.625-10.438z\"/><path id=\"DejaVuSans-48\" d=\"m31.781 66.406q-7.6094 0-11.453-7.5-3.8281-7.4844-3.8281-22.531 0-14.984 3.8281-22.484 3.8438-7.5 11.453-7.5 7.6719 0 11.5 7.5 3.8438 7.5 3.8438 22.484 0 15.047-3.8438 22.531-3.8281 7.5-11.5 7.5zm0 7.8125q12.266 0 18.734-9.7031 6.4688-9.6875 6.4688-28.141 0-18.406-6.4688-28.109-6.4688-9.6875-18.734-9.6875-12.25 0-18.719 9.6875-6.4688 9.7031-6.4688 28.109 0 18.453 6.4688 28.141 6.4688 9.7031 18.719 9.7031z\"/></defs><g transform=\"translate(36.253 48.012) scale(.1625 -.1625)\"><use xlink:href=\"#DejaVuSans-Oblique-113\"/><use transform=\"translate(63.477 -16.406) scale(.7)\" xlink:href=\"#DejaVuSans-48\"/></g></g><g clip-path=\"url(#p9f2fdc9067)\"><defs><path id=\"DejaVuSans-49\" d=\"m12.406 8.2969h16.109v55.625l-17.531-3.5156v8.9844l17.438 3.5156h9.8594v-64.609h16.109v-8.2969h-41.984z\"/></defs><g transform=\"translate(36.253 93.463) scale(.1625 -.1625)\"><use xlink:href=\"#DejaVuSans-Oblique-113\"/><use transform=\"translate(63.477 -16.406) scale(.7)\" xlink:href=\"#DejaVuSans-49\"/></g></g><g clip-path=\"url(#p9f2fdc9067)\"><defs><path id=\"DejaVuSans-50\" d=\"m19.188 8.2969h34.422v-8.2969h-46.281v8.2969q5.6094 5.8125 15.297 15.594 9.7031 9.7969 12.188 12.641 4.7344 5.3125 6.6094 9 1.8906 3.6875 1.8906 7.25 0 5.8125-4.0781 9.4688-4.0781 3.6719-10.625 3.6719-4.6406 0-9.7969-1.6094-5.1406-1.6094-11-4.8906v9.9688q5.9531 2.3906 11.125 3.6094 5.1875 1.2188 9.4844 1.2188 11.328 0 18.062-5.6719 6.7344-5.6562 6.7344-15.125 0-4.5-1.6875-8.5312-1.6719-4.0156-6.125-9.4844-1.2188-1.4219-7.7656-8.1875-6.5312-6.7656-18.453-18.922z\"/></defs><g transform=\"translate(67.926 127.75) scale(.104 -.104)\"><use xlink:href=\"#DejaVuSans-50\"/></g></g><g clip-path=\"url(#p9f2fdc9067)\"><defs><path id=\"DejaVuSans-98\" d=\"m48.688 27.297q0 9.9062-4.0781 15.547t-11.203 5.6406q-7.1406 0-11.219-5.6406t-4.0781-15.547 4.0781-15.547 11.219-5.6406q7.125 0 11.203 5.6406t4.0781 15.547zm-30.578 19.094q2.8438 4.875 7.1562 7.2344 4.3281 2.375 10.328 2.375 9.9688 0 16.188-7.9062 6.2344-7.9062 6.2344-20.797t-6.2344-20.812q-6.2188-7.9062-16.188-7.9062-6 0-10.328 2.375-4.3125 2.375-7.1562 7.25v-8.2031h-9.0312v75.984h9.0312z\"/></defs><g transform=\"translate(43.975 138.95) scale(.1625 -.1625)\"><use xlink:href=\"#DejaVuSans-98\"/></g></g><defs><clipPath id=\"p9f2fdc9067\"><rect x=\"7.2\" y=\"7.2\" width=\"65.271\" height=\"154.53\"/></clipPath></defs></svg>"
            ],
            "text/plain": [
              "<Figure size 86.452x204.68 with 1 Axes>"
            ]
          },
          "execution_count": 36,
          "metadata": {},
          "output_type": "execute_result"
        }
      ],
      "source": [
        "puzzle.get_circuit().draw(output='mpl')"
      ]
    },
    {
      "cell_type": "markdown",
      "metadata": {
        "id": "Yc44OfpUVCci"
      },
      "source": [
        "#### Output\n",
        "\n",
        "You've now gone through the basics of what two qubits look like and how to manipulate them individually. But the real fun comes once we start using two qubit gates."
      ]
    },
    {
      "cell_type": "markdown",
      "metadata": {
        "id": "9VadSeFpVCcj"
      },
      "source": [
        "\n",
        "## المستوى الثالث: بوّابتان كموميّتان"
      ]
    },
    {
      "cell_type": "markdown",
      "metadata": {
        "id": "TbQtUuYrVCcj"
      },
      "source": [
        "\n",
        "\n",
        "###الأحجية الأولى\n",
        "\n",
        "#### مقدمة\n",
        "\n",
        "في التمارين على البتات، استخدمنا بوابة CNOT. بالنسبة للكيوبيتات لدينا بوابة مشابهة، باستخدام x كإصدار كمي لـ NOT. لهذا السبب، نشير إليها في برامج Qiskit باسم cx.\n",
        "\n",
        "مثل CNOT الكلاسيكية، تحتوي بوابة cx على 'تحكم' و'هدف'. إنها تفحص فعليًا ما سيكون إخراج Z للتحكم، وتستخدم ذلك لتحديد ما إذا كان يتم تطبيق x على كيوبيت الهدف.\n",
        "\n",
        "عندما تقوم بتطبيق هذه البوابة، فإن كيوبيت اختيارك سيؤدي كهدف. ثم سيكون كيوبيت آخر التحكم.\n",
        "\n",
        "#### تدريب\n",
        "\n",
        "* استخدم بوابة cx أو اثنتين لتشغيل خرج Z لـ q[1]، وإيقاف خرج Z لـ q[0].\n"
      ]
    },
    {
      "cell_type": "code",
      "execution_count": null,
      "metadata": {
        "id": "E1RF4MMXVCcj"
      },
      "outputs": [],
      "source": [
        "initialize = [['x', '0']]\n",
        "success_condition = {'ZI': 1.0, 'IZ': -1.0}\n",
        "allowed_gates = {'0': {'cx': 0}, '1': {'cx': 0}, 'both': {}}\n",
        "vi = [[], True, True]\n",
        "qubit_names = {'0':'q[0]', '1':'q[1]'}\n",
        "puzzle = hello_quantum.run_game(initialize, success_condition, allowed_gates, vi, qubit_names)"
      ]
    },
    {
      "cell_type": "code",
      "execution_count": null,
      "metadata": {
        "id": "y84ZA0PdVCcj",
        "outputId": "e749ee48-9ce4-4a8d-f4b8-2f33406fd764"
      },
      "outputs": [
        {
          "data": {
            "image/svg+xml": [
              "<?xml version=\"1.0\" encoding=\"UTF-8\"?><!DOCTYPE svg  PUBLIC '-//W3C//DTD SVG 1.1//EN'  'http://www.w3.org/Graphics/SVG/1.1/DTD/svg11.dtd'><svg width=\"79.671pt\" height=\"168.93pt\" version=\"1.1\" viewBox=\"0 0 79.671 168.93\" xmlns=\"http://www.w3.org/2000/svg\" xmlns:xlink=\"http://www.w3.org/1999/xlink\"><defs><style type=\"text/css\">*{stroke-linecap:butt;stroke-linejoin:round;}</style></defs><path d=\"m0 168.93h79.671v-168.93h-79.671z\" fill=\"#ffffff\"/><path d=\"m63.381 43.561h4.5451\" clip-path=\"url(#pf2a1eae5e3)\" fill=\"none\" stroke=\"#000000\" stroke-linecap=\"square\" stroke-width=\"2\"/><path d=\"m63.381 89.012h4.5451\" clip-path=\"url(#pf2a1eae5e3)\" fill=\"none\" stroke=\"#000000\" stroke-linecap=\"square\" stroke-width=\"2\"/><path d=\"m63.381 132.99h4.5451\" clip-path=\"url(#pf2a1eae5e3)\" fill=\"none\" stroke=\"#778899\" stroke-linecap=\"square\" stroke-width=\"2\"/><path d=\"m63.381 135.94h4.5451\" clip-path=\"url(#pf2a1eae5e3)\" fill=\"none\" stroke=\"#778899\" stroke-linecap=\"square\" stroke-width=\"2\"/><path d=\"m72.471 139.01 4.5451-9.0902\" clip-path=\"url(#pf2a1eae5e3)\" fill=\"none\" stroke=\"#778899\" stroke-linecap=\"square\" stroke-width=\"1.5\"/><g clip-path=\"url(#pf2a1eae5e3)\"><defs><path id=\"DejaVuSans-Oblique-113\" d=\"m41.703 8.2031q-3.6094-4.7344-8.5312-7.1875-4.9062-2.4375-10.859-2.4375-8.2969 0-13.016 5.5938-4.7031 5.5938-4.7031 15.406 0 7.9062 2.9062 15.281t8.3281 13.234q3.5156 3.8125 8.0781 5.8594t9.5938 2.0469q6.0469 0 9.9531-2.3906t5.6719-7.2188l1.5625 8.2031h9.0312l-14.594-75.203h-9.0469zm-27.781 12.703q0-7.2344 3.0156-11.016 3.0312-3.7812 8.75-3.7812 8.5 0 14.5 8.125t6 19.75q0 7.0312-3.1094 10.766-3.0938 3.7344-8.8906 3.7344-4.25 0-7.875-1.9844-3.6094-1.9688-6.2969-5.7812-2.8281-4-4.4688-9.375-1.625-5.3594-1.625-10.438z\"/><path id=\"DejaVuSans-48\" d=\"m31.781 66.406q-7.6094 0-11.453-7.5-3.8281-7.4844-3.8281-22.531 0-14.984 3.8281-22.484 3.8438-7.5 11.453-7.5 7.6719 0 11.5 7.5 3.8438 7.5 3.8438 22.484 0 15.047-3.8438 22.531-3.8281 7.5-11.5 7.5zm0 7.8125q12.266 0 18.734-9.7031 6.4688-9.6875 6.4688-28.141 0-18.406-6.4688-28.109-6.4688-9.6875-18.734-9.6875-12.25 0-18.719 9.6875-6.4688 9.7031-6.4688 28.109 0 18.453 6.4688 28.141 6.4688 9.7031 18.719 9.7031z\"/></defs><g transform=\"translate(36.253 48.012) scale(.1625 -.1625)\"><use xlink:href=\"#DejaVuSans-Oblique-113\"/><use transform=\"translate(63.477 -16.406) scale(.7)\" xlink:href=\"#DejaVuSans-48\"/></g></g><g clip-path=\"url(#pf2a1eae5e3)\"><defs><path id=\"DejaVuSans-49\" d=\"m12.406 8.2969h16.109v55.625l-17.531-3.5156v8.9844l17.438 3.5156h9.8594v-64.609h16.109v-8.2969h-41.984z\"/></defs><g transform=\"translate(36.253 93.463) scale(.1625 -.1625)\"><use xlink:href=\"#DejaVuSans-Oblique-113\"/><use transform=\"translate(63.477 -16.406) scale(.7)\" xlink:href=\"#DejaVuSans-49\"/></g></g><g clip-path=\"url(#pf2a1eae5e3)\"><defs><path id=\"DejaVuSans-50\" d=\"m19.188 8.2969h34.422v-8.2969h-46.281v8.2969q5.6094 5.8125 15.297 15.594 9.7031 9.7969 12.188 12.641 4.7344 5.3125 6.6094 9 1.8906 3.6875 1.8906 7.25 0 5.8125-4.0781 9.4688-4.0781 3.6719-10.625 3.6719-4.6406 0-9.7969-1.6094-5.1406-1.6094-11-4.8906v9.9688q5.9531 2.3906 11.125 3.6094 5.1875 1.2188 9.4844 1.2188 11.328 0 18.062-5.6719 6.7344-5.6562 6.7344-15.125 0-4.5-1.6875-8.5312-1.6719-4.0156-6.125-9.4844-1.2188-1.4219-7.7656-8.1875-6.5312-6.7656-18.453-18.922z\"/></defs><g transform=\"translate(67.926 127.75) scale(.104 -.104)\"><use xlink:href=\"#DejaVuSans-50\"/></g></g><g clip-path=\"url(#pf2a1eae5e3)\"><defs><path id=\"DejaVuSans-98\" d=\"m48.688 27.297q0 9.9062-4.0781 15.547t-11.203 5.6406q-7.1406 0-11.219-5.6406t-4.0781-15.547 4.0781-15.547 11.219-5.6406q7.125 0 11.203 5.6406t4.0781 15.547zm-30.578 19.094q2.8438 4.875 7.1562 7.2344 4.3281 2.375 10.328 2.375 9.9688 0 16.188-7.9062 6.2344-7.9062 6.2344-20.797t-6.2344-20.812q-6.2188-7.9062-16.188-7.9062-6 0-10.328 2.375-4.3125 2.375-7.1562 7.25v-8.2031h-9.0312v75.984h9.0312z\"/></defs><g transform=\"translate(43.975 138.95) scale(.1625 -.1625)\"><use xlink:href=\"#DejaVuSans-98\"/></g></g><defs><clipPath id=\"pf2a1eae5e3\"><rect x=\"7.2\" y=\"7.2\" width=\"65.271\" height=\"154.53\"/></clipPath></defs></svg>"
            ],
            "text/plain": [
              "<Figure size 86.452x204.68 with 1 Axes>"
            ]
          },
          "execution_count": 38,
          "metadata": {},
          "output_type": "execute_result"
        }
      ],
      "source": [
        "puzzle.get_circuit().draw(output='mpl')"
      ]
    },
    {
      "cell_type": "markdown",
      "metadata": {
        "id": "_mwcpLTyVCcj"
      },
      "source": [
        "\n",
        "\n",
        "### الأحجية الثانية\n",
        "\n",
        "#### مقدمة\n",
        "\n",
        "إلى جانب بوابة cx، هناك أيضًا بوابة cz. تعمل هذه البوابة بنفس الطريقة، باستثناء أنها قد تطبق z على الهدف بدلاً من x\n",
        "\n",
        "#### تدريب\n",
        "\n",
        "* شغّل مخرج X لـ q[0].\n"
      ]
    },
    {
      "cell_type": "code",
      "execution_count": null,
      "metadata": {
        "id": "SfyAqTnAVCcj"
      },
      "outputs": [],
      "source": [
        "initialize = [['h', '0'],['x', '1']]\n",
        "success_condition = {'XI': -1.0}\n",
        "allowed_gates = {'0': {'cz': 0}, '1': {}, 'both': {}}\n",
        "vi = [[], True, True]\n",
        "qubit_names = {'0':'q[0]', '1':'q[1]'}\n",
        "puzzle = hello_quantum.run_game(initialize, success_condition, allowed_gates, vi, qubit_names)"
      ]
    },
    {
      "cell_type": "code",
      "execution_count": null,
      "metadata": {
        "id": "ePbSUcJpVCcj",
        "outputId": "19d4b909-4e3e-4cd2-cada-5e20d4c450a7"
      },
      "outputs": [
        {
          "data": {
            "image/svg+xml": [
              "<?xml version=\"1.0\" encoding=\"UTF-8\"?><!DOCTYPE svg  PUBLIC '-//W3C//DTD SVG 1.1//EN'  'http://www.w3.org/Graphics/SVG/1.1/DTD/svg11.dtd'><svg width=\"79.671pt\" height=\"168.93pt\" version=\"1.1\" viewBox=\"0 0 79.671 168.93\" xmlns=\"http://www.w3.org/2000/svg\" xmlns:xlink=\"http://www.w3.org/1999/xlink\"><defs><style type=\"text/css\">*{stroke-linecap:butt;stroke-linejoin:round;}</style></defs><path d=\"m0 168.93h79.671v-168.93h-79.671z\" fill=\"#ffffff\"/><path d=\"m63.381 43.561h4.5451\" clip-path=\"url(#p3f45b802de)\" fill=\"none\" stroke=\"#000000\" stroke-linecap=\"square\" stroke-width=\"2\"/><path d=\"m63.381 89.012h4.5451\" clip-path=\"url(#p3f45b802de)\" fill=\"none\" stroke=\"#000000\" stroke-linecap=\"square\" stroke-width=\"2\"/><path d=\"m63.381 132.99h4.5451\" clip-path=\"url(#p3f45b802de)\" fill=\"none\" stroke=\"#778899\" stroke-linecap=\"square\" stroke-width=\"2\"/><path d=\"m63.381 135.94h4.5451\" clip-path=\"url(#p3f45b802de)\" fill=\"none\" stroke=\"#778899\" stroke-linecap=\"square\" stroke-width=\"2\"/><path d=\"m72.471 139.01 4.5451-9.0902\" clip-path=\"url(#p3f45b802de)\" fill=\"none\" stroke=\"#778899\" stroke-linecap=\"square\" stroke-width=\"1.5\"/><g clip-path=\"url(#p3f45b802de)\"><defs><path id=\"DejaVuSans-Oblique-113\" d=\"m41.703 8.2031q-3.6094-4.7344-8.5312-7.1875-4.9062-2.4375-10.859-2.4375-8.2969 0-13.016 5.5938-4.7031 5.5938-4.7031 15.406 0 7.9062 2.9062 15.281t8.3281 13.234q3.5156 3.8125 8.0781 5.8594t9.5938 2.0469q6.0469 0 9.9531-2.3906t5.6719-7.2188l1.5625 8.2031h9.0312l-14.594-75.203h-9.0469zm-27.781 12.703q0-7.2344 3.0156-11.016 3.0312-3.7812 8.75-3.7812 8.5 0 14.5 8.125t6 19.75q0 7.0312-3.1094 10.766-3.0938 3.7344-8.8906 3.7344-4.25 0-7.875-1.9844-3.6094-1.9688-6.2969-5.7812-2.8281-4-4.4688-9.375-1.625-5.3594-1.625-10.438z\"/><path id=\"DejaVuSans-48\" d=\"m31.781 66.406q-7.6094 0-11.453-7.5-3.8281-7.4844-3.8281-22.531 0-14.984 3.8281-22.484 3.8438-7.5 11.453-7.5 7.6719 0 11.5 7.5 3.8438 7.5 3.8438 22.484 0 15.047-3.8438 22.531-3.8281 7.5-11.5 7.5zm0 7.8125q12.266 0 18.734-9.7031 6.4688-9.6875 6.4688-28.141 0-18.406-6.4688-28.109-6.4688-9.6875-18.734-9.6875-12.25 0-18.719 9.6875-6.4688 9.7031-6.4688 28.109 0 18.453 6.4688 28.141 6.4688 9.7031 18.719 9.7031z\"/></defs><g transform=\"translate(36.253 48.012) scale(.1625 -.1625)\"><use xlink:href=\"#DejaVuSans-Oblique-113\"/><use transform=\"translate(63.477 -16.406) scale(.7)\" xlink:href=\"#DejaVuSans-48\"/></g></g><g clip-path=\"url(#p3f45b802de)\"><defs><path id=\"DejaVuSans-49\" d=\"m12.406 8.2969h16.109v55.625l-17.531-3.5156v8.9844l17.438 3.5156h9.8594v-64.609h16.109v-8.2969h-41.984z\"/></defs><g transform=\"translate(36.253 93.463) scale(.1625 -.1625)\"><use xlink:href=\"#DejaVuSans-Oblique-113\"/><use transform=\"translate(63.477 -16.406) scale(.7)\" xlink:href=\"#DejaVuSans-49\"/></g></g><g clip-path=\"url(#p3f45b802de)\"><defs><path id=\"DejaVuSans-50\" d=\"m19.188 8.2969h34.422v-8.2969h-46.281v8.2969q5.6094 5.8125 15.297 15.594 9.7031 9.7969 12.188 12.641 4.7344 5.3125 6.6094 9 1.8906 3.6875 1.8906 7.25 0 5.8125-4.0781 9.4688-4.0781 3.6719-10.625 3.6719-4.6406 0-9.7969-1.6094-5.1406-1.6094-11-4.8906v9.9688q5.9531 2.3906 11.125 3.6094 5.1875 1.2188 9.4844 1.2188 11.328 0 18.062-5.6719 6.7344-5.6562 6.7344-15.125 0-4.5-1.6875-8.5312-1.6719-4.0156-6.125-9.4844-1.2188-1.4219-7.7656-8.1875-6.5312-6.7656-18.453-18.922z\"/></defs><g transform=\"translate(67.926 127.75) scale(.104 -.104)\"><use xlink:href=\"#DejaVuSans-50\"/></g></g><g clip-path=\"url(#p3f45b802de)\"><defs><path id=\"DejaVuSans-98\" d=\"m48.688 27.297q0 9.9062-4.0781 15.547t-11.203 5.6406q-7.1406 0-11.219-5.6406t-4.0781-15.547 4.0781-15.547 11.219-5.6406q7.125 0 11.203 5.6406t4.0781 15.547zm-30.578 19.094q2.8438 4.875 7.1562 7.2344 4.3281 2.375 10.328 2.375 9.9688 0 16.188-7.9062 6.2344-7.9062 6.2344-20.797t-6.2344-20.812q-6.2188-7.9062-16.188-7.9062-6 0-10.328 2.375-4.3125 2.375-7.1562 7.25v-8.2031h-9.0312v75.984h9.0312z\"/></defs><g transform=\"translate(43.975 138.95) scale(.1625 -.1625)\"><use xlink:href=\"#DejaVuSans-98\"/></g></g><defs><clipPath id=\"p3f45b802de\"><rect x=\"7.2\" y=\"7.2\" width=\"65.271\" height=\"154.53\"/></clipPath></defs></svg>"
            ],
            "text/plain": [
              "<Figure size 86.452x204.68 with 1 Axes>"
            ]
          },
          "execution_count": 40,
          "metadata": {},
          "output_type": "execute_result"
        }
      ],
      "source": [
        "puzzle.get_circuit().draw(output='mpl')"
      ]
    },
    {
      "cell_type": "markdown",
      "metadata": {
        "id": "HJMVHUrDVCcj"
      },
      "source": [
        "\n",
        "\n",
        "### الأحجية الثانية - ب\n",
        "\n",
        "#### مقدمة\n",
        "\n",
        "ن الأمور المثيرة للاهتمام حول البوابات الكمومية أنه غالبًا ما يكون هناك طرق متعددة لشرح ما تفعله. قد تبدو هذه الشروحات غير متوافقة تمامًا في بعض الأحيان، ولكنها أيضًا صحيحة بالتساوي.\n",
        "\n",
        "على سبيل المثال، يمكن أيضًا وصف بوابة cz بأنها بوابة تطبق z على كيوبيت التحكم، اعتمادًا على خرج Z المحتمل لـ كيوبيت الهدف. إنه نفس الشرح تمامًا كما كان من قبل، ولكن مع عكس أدوار الكيوبيتات. ومع ذلك، فهو صحيح بالتساوي.\n",
        "\n",
        "#### تدريب\n",
        "* نفذ نفس التمرين السابق، ولكن مع عكس الكيوبيتات. ومع ذلك، فإن بوابة cz هي نفسها كما كانت من قبل."
      ]
    },
    {
      "cell_type": "code",
      "execution_count": null,
      "metadata": {
        "id": "jSC3OrhLVCcj"
      },
      "outputs": [],
      "source": [
        "initialize = [['h', '1'],['x', '0']]\n",
        "success_condition = {'IX': -1.0}\n",
        "allowed_gates = {'0': {'cz': 0}, '1': {}, 'both': {}}\n",
        "vi = [[], True, True]\n",
        "qubit_names = {'0':'q[0]', '1':'q[1]'}\n",
        "puzzle = hello_quantum.run_game(initialize, success_condition, allowed_gates, vi, qubit_names)"
      ]
    },
    {
      "cell_type": "code",
      "execution_count": null,
      "metadata": {
        "id": "MyhxwbplVCcj",
        "outputId": "8f7b9033-240b-4fab-be4e-f1476fc3ea7e"
      },
      "outputs": [
        {
          "data": {
            "image/svg+xml": [
              "<?xml version=\"1.0\" encoding=\"UTF-8\"?><!DOCTYPE svg  PUBLIC '-//W3C//DTD SVG 1.1//EN'  'http://www.w3.org/Graphics/SVG/1.1/DTD/svg11.dtd'><svg width=\"79.671pt\" height=\"168.93pt\" version=\"1.1\" viewBox=\"0 0 79.671 168.93\" xmlns=\"http://www.w3.org/2000/svg\" xmlns:xlink=\"http://www.w3.org/1999/xlink\"><defs><style type=\"text/css\">*{stroke-linecap:butt;stroke-linejoin:round;}</style></defs><path d=\"m0 168.93h79.671v-168.93h-79.671z\" fill=\"#ffffff\"/><path d=\"m63.381 43.561h4.5451\" clip-path=\"url(#p2bc7d8eb1b)\" fill=\"none\" stroke=\"#000000\" stroke-linecap=\"square\" stroke-width=\"2\"/><path d=\"m63.381 89.012h4.5451\" clip-path=\"url(#p2bc7d8eb1b)\" fill=\"none\" stroke=\"#000000\" stroke-linecap=\"square\" stroke-width=\"2\"/><path d=\"m63.381 132.99h4.5451\" clip-path=\"url(#p2bc7d8eb1b)\" fill=\"none\" stroke=\"#778899\" stroke-linecap=\"square\" stroke-width=\"2\"/><path d=\"m63.381 135.94h4.5451\" clip-path=\"url(#p2bc7d8eb1b)\" fill=\"none\" stroke=\"#778899\" stroke-linecap=\"square\" stroke-width=\"2\"/><path d=\"m72.471 139.01 4.5451-9.0902\" clip-path=\"url(#p2bc7d8eb1b)\" fill=\"none\" stroke=\"#778899\" stroke-linecap=\"square\" stroke-width=\"1.5\"/><g clip-path=\"url(#p2bc7d8eb1b)\"><defs><path id=\"DejaVuSans-Oblique-113\" d=\"m41.703 8.2031q-3.6094-4.7344-8.5312-7.1875-4.9062-2.4375-10.859-2.4375-8.2969 0-13.016 5.5938-4.7031 5.5938-4.7031 15.406 0 7.9062 2.9062 15.281t8.3281 13.234q3.5156 3.8125 8.0781 5.8594t9.5938 2.0469q6.0469 0 9.9531-2.3906t5.6719-7.2188l1.5625 8.2031h9.0312l-14.594-75.203h-9.0469zm-27.781 12.703q0-7.2344 3.0156-11.016 3.0312-3.7812 8.75-3.7812 8.5 0 14.5 8.125t6 19.75q0 7.0312-3.1094 10.766-3.0938 3.7344-8.8906 3.7344-4.25 0-7.875-1.9844-3.6094-1.9688-6.2969-5.7812-2.8281-4-4.4688-9.375-1.625-5.3594-1.625-10.438z\"/><path id=\"DejaVuSans-48\" d=\"m31.781 66.406q-7.6094 0-11.453-7.5-3.8281-7.4844-3.8281-22.531 0-14.984 3.8281-22.484 3.8438-7.5 11.453-7.5 7.6719 0 11.5 7.5 3.8438 7.5 3.8438 22.484 0 15.047-3.8438 22.531-3.8281 7.5-11.5 7.5zm0 7.8125q12.266 0 18.734-9.7031 6.4688-9.6875 6.4688-28.141 0-18.406-6.4688-28.109-6.4688-9.6875-18.734-9.6875-12.25 0-18.719 9.6875-6.4688 9.7031-6.4688 28.109 0 18.453 6.4688 28.141 6.4688 9.7031 18.719 9.7031z\"/></defs><g transform=\"translate(36.253 48.012) scale(.1625 -.1625)\"><use xlink:href=\"#DejaVuSans-Oblique-113\"/><use transform=\"translate(63.477 -16.406) scale(.7)\" xlink:href=\"#DejaVuSans-48\"/></g></g><g clip-path=\"url(#p2bc7d8eb1b)\"><defs><path id=\"DejaVuSans-49\" d=\"m12.406 8.2969h16.109v55.625l-17.531-3.5156v8.9844l17.438 3.5156h9.8594v-64.609h16.109v-8.2969h-41.984z\"/></defs><g transform=\"translate(36.253 93.463) scale(.1625 -.1625)\"><use xlink:href=\"#DejaVuSans-Oblique-113\"/><use transform=\"translate(63.477 -16.406) scale(.7)\" xlink:href=\"#DejaVuSans-49\"/></g></g><g clip-path=\"url(#p2bc7d8eb1b)\"><defs><path id=\"DejaVuSans-50\" d=\"m19.188 8.2969h34.422v-8.2969h-46.281v8.2969q5.6094 5.8125 15.297 15.594 9.7031 9.7969 12.188 12.641 4.7344 5.3125 6.6094 9 1.8906 3.6875 1.8906 7.25 0 5.8125-4.0781 9.4688-4.0781 3.6719-10.625 3.6719-4.6406 0-9.7969-1.6094-5.1406-1.6094-11-4.8906v9.9688q5.9531 2.3906 11.125 3.6094 5.1875 1.2188 9.4844 1.2188 11.328 0 18.062-5.6719 6.7344-5.6562 6.7344-15.125 0-4.5-1.6875-8.5312-1.6719-4.0156-6.125-9.4844-1.2188-1.4219-7.7656-8.1875-6.5312-6.7656-18.453-18.922z\"/></defs><g transform=\"translate(67.926 127.75) scale(.104 -.104)\"><use xlink:href=\"#DejaVuSans-50\"/></g></g><g clip-path=\"url(#p2bc7d8eb1b)\"><defs><path id=\"DejaVuSans-98\" d=\"m48.688 27.297q0 9.9062-4.0781 15.547t-11.203 5.6406q-7.1406 0-11.219-5.6406t-4.0781-15.547 4.0781-15.547 11.219-5.6406q7.125 0 11.203 5.6406t4.0781 15.547zm-30.578 19.094q2.8438 4.875 7.1562 7.2344 4.3281 2.375 10.328 2.375 9.9688 0 16.188-7.9062 6.2344-7.9062 6.2344-20.797t-6.2344-20.812q-6.2188-7.9062-16.188-7.9062-6 0-10.328 2.375-4.3125 2.375-7.1562 7.25v-8.2031h-9.0312v75.984h9.0312z\"/></defs><g transform=\"translate(43.975 138.95) scale(.1625 -.1625)\"><use xlink:href=\"#DejaVuSans-98\"/></g></g><defs><clipPath id=\"p2bc7d8eb1b\"><rect x=\"7.2\" y=\"7.2\" width=\"65.271\" height=\"154.53\"/></clipPath></defs></svg>"
            ],
            "text/plain": [
              "<Figure size 86.452x204.68 with 1 Axes>"
            ]
          },
          "execution_count": 42,
          "metadata": {},
          "output_type": "execute_result"
        }
      ],
      "source": [
        "puzzle.get_circuit().draw(output='mpl')"
      ]
    },
    {
      "cell_type": "markdown",
      "metadata": {
        "id": "MLQ6SgYgVCcj"
      },
      "source": [
        "\n",
        "\n",
        "### الأحجية الثالثة\n",
        "\n",
        "#### مقدمة\n",
        "\n",
        "الآن لشرح مختلف تمامًا، ولكنه صحيح بنفس القدر، لبوابة cz. مثل بوابة h، يمكننا التفكير فيها من حيث تبديل الدوائر. تؤدي بوابة cz إلى:\n",
        "\n",
        "تبديل خرج X لـ q[0] مع الدائرة المجاورة في أعلى اليمين ؛\n",
        "فعل الشيء نفسه مع خرج X لـ q[1] (للدائرة المجاورة في أعلى اليسار).\n",
        "تقوم بوابة cz أيضًا بشيء غريب مع الدائرة الموجودة في أعلى الشبكة، ولكن هذا لغز يجب حله لاحقًا!\n",
        "\n",
        "مجدداَ، التطبيق [Hello Quantum](https://helloquantum.mybluemix.net/)سيقدم لك رسومات لطيفة."
      ]
    },
    {
      "cell_type": "code",
      "execution_count": null,
      "metadata": {
        "id": "u6zJqfC9VCck"
      },
      "outputs": [],
      "source": [
        "initialize = [['h', '0'],['x', '1'],['h', '1']]\n",
        "success_condition = { }\n",
        "allowed_gates = {'0':{'cz': 2}, '1':{'cz': 2}, 'both': {}}\n",
        "vi = [[], True, True]\n",
        "qubit_names = {'0':'q[0]', '1':'q[1]'}\n",
        "puzzle = hello_quantum.run_game(initialize, success_condition, allowed_gates, vi, qubit_names)"
      ]
    },
    {
      "cell_type": "code",
      "execution_count": null,
      "metadata": {
        "id": "HiNWgq9YVCck",
        "outputId": "ca296cb9-713b-45a8-ddee-1250a45f0df2"
      },
      "outputs": [
        {
          "data": {
            "image/svg+xml": [
              "<?xml version=\"1.0\" encoding=\"UTF-8\"?><!DOCTYPE svg  PUBLIC '-//W3C//DTD SVG 1.1//EN'  'http://www.w3.org/Graphics/SVG/1.1/DTD/svg11.dtd'><svg width=\"79.671pt\" height=\"168.93pt\" version=\"1.1\" viewBox=\"0 0 79.671 168.93\" xmlns=\"http://www.w3.org/2000/svg\" xmlns:xlink=\"http://www.w3.org/1999/xlink\"><defs><style type=\"text/css\">*{stroke-linecap:butt;stroke-linejoin:round;}</style></defs><path d=\"m0 168.93h79.671v-168.93h-79.671z\" fill=\"#ffffff\"/><path d=\"m63.381 43.561h4.5451\" clip-path=\"url(#pe6378adcfc)\" fill=\"none\" stroke=\"#000000\" stroke-linecap=\"square\" stroke-width=\"2\"/><path d=\"m63.381 89.012h4.5451\" clip-path=\"url(#pe6378adcfc)\" fill=\"none\" stroke=\"#000000\" stroke-linecap=\"square\" stroke-width=\"2\"/><path d=\"m63.381 132.99h4.5451\" clip-path=\"url(#pe6378adcfc)\" fill=\"none\" stroke=\"#778899\" stroke-linecap=\"square\" stroke-width=\"2\"/><path d=\"m63.381 135.94h4.5451\" clip-path=\"url(#pe6378adcfc)\" fill=\"none\" stroke=\"#778899\" stroke-linecap=\"square\" stroke-width=\"2\"/><path d=\"m72.471 139.01 4.5451-9.0902\" clip-path=\"url(#pe6378adcfc)\" fill=\"none\" stroke=\"#778899\" stroke-linecap=\"square\" stroke-width=\"1.5\"/><g clip-path=\"url(#pe6378adcfc)\"><defs><path id=\"DejaVuSans-Oblique-113\" d=\"m41.703 8.2031q-3.6094-4.7344-8.5312-7.1875-4.9062-2.4375-10.859-2.4375-8.2969 0-13.016 5.5938-4.7031 5.5938-4.7031 15.406 0 7.9062 2.9062 15.281t8.3281 13.234q3.5156 3.8125 8.0781 5.8594t9.5938 2.0469q6.0469 0 9.9531-2.3906t5.6719-7.2188l1.5625 8.2031h9.0312l-14.594-75.203h-9.0469zm-27.781 12.703q0-7.2344 3.0156-11.016 3.0312-3.7812 8.75-3.7812 8.5 0 14.5 8.125t6 19.75q0 7.0312-3.1094 10.766-3.0938 3.7344-8.8906 3.7344-4.25 0-7.875-1.9844-3.6094-1.9688-6.2969-5.7812-2.8281-4-4.4688-9.375-1.625-5.3594-1.625-10.438z\"/><path id=\"DejaVuSans-48\" d=\"m31.781 66.406q-7.6094 0-11.453-7.5-3.8281-7.4844-3.8281-22.531 0-14.984 3.8281-22.484 3.8438-7.5 11.453-7.5 7.6719 0 11.5 7.5 3.8438 7.5 3.8438 22.484 0 15.047-3.8438 22.531-3.8281 7.5-11.5 7.5zm0 7.8125q12.266 0 18.734-9.7031 6.4688-9.6875 6.4688-28.141 0-18.406-6.4688-28.109-6.4688-9.6875-18.734-9.6875-12.25 0-18.719 9.6875-6.4688 9.7031-6.4688 28.109 0 18.453 6.4688 28.141 6.4688 9.7031 18.719 9.7031z\"/></defs><g transform=\"translate(36.253 48.012) scale(.1625 -.1625)\"><use xlink:href=\"#DejaVuSans-Oblique-113\"/><use transform=\"translate(63.477 -16.406) scale(.7)\" xlink:href=\"#DejaVuSans-48\"/></g></g><g clip-path=\"url(#pe6378adcfc)\"><defs><path id=\"DejaVuSans-49\" d=\"m12.406 8.2969h16.109v55.625l-17.531-3.5156v8.9844l17.438 3.5156h9.8594v-64.609h16.109v-8.2969h-41.984z\"/></defs><g transform=\"translate(36.253 93.463) scale(.1625 -.1625)\"><use xlink:href=\"#DejaVuSans-Oblique-113\"/><use transform=\"translate(63.477 -16.406) scale(.7)\" xlink:href=\"#DejaVuSans-49\"/></g></g><g clip-path=\"url(#pe6378adcfc)\"><defs><path id=\"DejaVuSans-50\" d=\"m19.188 8.2969h34.422v-8.2969h-46.281v8.2969q5.6094 5.8125 15.297 15.594 9.7031 9.7969 12.188 12.641 4.7344 5.3125 6.6094 9 1.8906 3.6875 1.8906 7.25 0 5.8125-4.0781 9.4688-4.0781 3.6719-10.625 3.6719-4.6406 0-9.7969-1.6094-5.1406-1.6094-11-4.8906v9.9688q5.9531 2.3906 11.125 3.6094 5.1875 1.2188 9.4844 1.2188 11.328 0 18.062-5.6719 6.7344-5.6562 6.7344-15.125 0-4.5-1.6875-8.5312-1.6719-4.0156-6.125-9.4844-1.2188-1.4219-7.7656-8.1875-6.5312-6.7656-18.453-18.922z\"/></defs><g transform=\"translate(67.926 127.75) scale(.104 -.104)\"><use xlink:href=\"#DejaVuSans-50\"/></g></g><g clip-path=\"url(#pe6378adcfc)\"><defs><path id=\"DejaVuSans-98\" d=\"m48.688 27.297q0 9.9062-4.0781 15.547t-11.203 5.6406q-7.1406 0-11.219-5.6406t-4.0781-15.547 4.0781-15.547 11.219-5.6406q7.125 0 11.203 5.6406t4.0781 15.547zm-30.578 19.094q2.8438 4.875 7.1562 7.2344 4.3281 2.375 10.328 2.375 9.9688 0 16.188-7.9062 6.2344-7.9062 6.2344-20.797t-6.2344-20.812q-6.2188-7.9062-16.188-7.9062-6 0-10.328 2.375-4.3125 2.375-7.1562 7.25v-8.2031h-9.0312v75.984h9.0312z\"/></defs><g transform=\"translate(43.975 138.95) scale(.1625 -.1625)\"><use xlink:href=\"#DejaVuSans-98\"/></g></g><defs><clipPath id=\"pe6378adcfc\"><rect x=\"7.2\" y=\"7.2\" width=\"65.271\" height=\"154.53\"/></clipPath></defs></svg>"
            ],
            "text/plain": [
              "<Figure size 86.452x204.68 with 1 Axes>"
            ]
          },
          "execution_count": 44,
          "metadata": {},
          "output_type": "execute_result"
        }
      ],
      "source": [
        "puzzle.get_circuit().draw(output='mpl')"
      ]
    },
    {
      "cell_type": "markdown",
      "metadata": {
        "id": "EMCQfylIVCck"
      },
      "source": [
        "\n",
        "\n",
        "#### خاتمة\n",
        "\n",
        "لقد تعلمنا الآن شيئًا مفيدًا جدًا حول بوابة cz: لا يهم أي كيوبيت تختاره كتحكم، فإن بوابة cz تقوم بنفس الشيء في كلتا الحالتين. لهذا السبب، فإن اختيار كيوبيت التحكم لبوابة cz ليس مطلوبًا من الآن فصاعدًا."
      ]
    },
    {
      "cell_type": "markdown",
      "metadata": {
        "id": "JCOz7DkOVCck"
      },
      "source": [
        "\n",
        "\n",
        "### الاحجية الثالثة - ب\n",
        "\n",
        "#### مقدمة\n",
        "\n",
        "كما ذكرنا سابقًا، يتوافق مخرجا X و Z مع طريقتين للحصول على إخراج من كيوبيت: القياسات X و Z. كما تشير هذه الأسماء، هناك أيضًا طريقة ثالثة، تُعرف باسم القياس Y.\n",
        "\n",
        "في هذه الألغاز نتجاهل إلى حد كبير قياس Y، فقط لتبسيط الأمور قليلاً. ومع ذلك، للحصول على وصف كامل لكيوبيت، نحتاج إلى تتبع ما قد يبدو عليه خرج Y. وهذا يعني فقط إضافة زوجين آخرين من صفوف الدوائر، لخروجي Y لكل كيوبيت.\n",
        "\n",
        "التمرين التالي هو تمامًا مثل التمرين الأخير، باستثناء أن صفوف خرج Y معروضة. مع هذه الصفوف، فإن التأثير الغريب المرصود في اللغز الأخير يصبح ليس غريباً على الإطلاق. انظر بنفسك!"
      ]
    },
    {
      "cell_type": "code",
      "execution_count": null,
      "metadata": {
        "id": "E_ycK0StVCck"
      },
      "outputs": [],
      "source": [
        "initialize = [['h', '0'],['x', '1'],['h', '1']]\n",
        "success_condition = { }\n",
        "allowed_gates = {'0': {}, '1': {}, 'both': {'cz': 2}}\n",
        "vi = [[], True, True]\n",
        "qubit_names = {'0':'q[0]', '1':'q[1]'}\n",
        "puzzle = hello_quantum.run_game(initialize, success_condition, allowed_gates, vi, qubit_names, mode='y')"
      ]
    },
    {
      "cell_type": "code",
      "execution_count": null,
      "metadata": {
        "id": "q1xT8qn2VCck",
        "outputId": "28ba417d-f2f4-4ffa-e408-a0ff39230aee"
      },
      "outputs": [
        {
          "data": {
            "image/svg+xml": [
              "<?xml version=\"1.0\" encoding=\"UTF-8\"?><!DOCTYPE svg  PUBLIC '-//W3C//DTD SVG 1.1//EN'  'http://www.w3.org/Graphics/SVG/1.1/DTD/svg11.dtd'><svg width=\"79.671pt\" height=\"168.93pt\" version=\"1.1\" viewBox=\"0 0 79.671 168.93\" xmlns=\"http://www.w3.org/2000/svg\" xmlns:xlink=\"http://www.w3.org/1999/xlink\"><defs><style type=\"text/css\">*{stroke-linecap:butt;stroke-linejoin:round;}</style></defs><path d=\"m0 168.93h79.671v-168.93h-79.671z\" fill=\"#ffffff\"/><path d=\"m63.381 43.561h4.5451\" clip-path=\"url(#pff2981202e)\" fill=\"none\" stroke=\"#000000\" stroke-linecap=\"square\" stroke-width=\"2\"/><path d=\"m63.381 89.012h4.5451\" clip-path=\"url(#pff2981202e)\" fill=\"none\" stroke=\"#000000\" stroke-linecap=\"square\" stroke-width=\"2\"/><path d=\"m63.381 132.99h4.5451\" clip-path=\"url(#pff2981202e)\" fill=\"none\" stroke=\"#778899\" stroke-linecap=\"square\" stroke-width=\"2\"/><path d=\"m63.381 135.94h4.5451\" clip-path=\"url(#pff2981202e)\" fill=\"none\" stroke=\"#778899\" stroke-linecap=\"square\" stroke-width=\"2\"/><path d=\"m72.471 139.01 4.5451-9.0902\" clip-path=\"url(#pff2981202e)\" fill=\"none\" stroke=\"#778899\" stroke-linecap=\"square\" stroke-width=\"1.5\"/><g clip-path=\"url(#pff2981202e)\"><defs><path id=\"DejaVuSans-Oblique-113\" d=\"m41.703 8.2031q-3.6094-4.7344-8.5312-7.1875-4.9062-2.4375-10.859-2.4375-8.2969 0-13.016 5.5938-4.7031 5.5938-4.7031 15.406 0 7.9062 2.9062 15.281t8.3281 13.234q3.5156 3.8125 8.0781 5.8594t9.5938 2.0469q6.0469 0 9.9531-2.3906t5.6719-7.2188l1.5625 8.2031h9.0312l-14.594-75.203h-9.0469zm-27.781 12.703q0-7.2344 3.0156-11.016 3.0312-3.7812 8.75-3.7812 8.5 0 14.5 8.125t6 19.75q0 7.0312-3.1094 10.766-3.0938 3.7344-8.8906 3.7344-4.25 0-7.875-1.9844-3.6094-1.9688-6.2969-5.7812-2.8281-4-4.4688-9.375-1.625-5.3594-1.625-10.438z\"/><path id=\"DejaVuSans-48\" d=\"m31.781 66.406q-7.6094 0-11.453-7.5-3.8281-7.4844-3.8281-22.531 0-14.984 3.8281-22.484 3.8438-7.5 11.453-7.5 7.6719 0 11.5 7.5 3.8438 7.5 3.8438 22.484 0 15.047-3.8438 22.531-3.8281 7.5-11.5 7.5zm0 7.8125q12.266 0 18.734-9.7031 6.4688-9.6875 6.4688-28.141 0-18.406-6.4688-28.109-6.4688-9.6875-18.734-9.6875-12.25 0-18.719 9.6875-6.4688 9.7031-6.4688 28.109 0 18.453 6.4688 28.141 6.4688 9.7031 18.719 9.7031z\"/></defs><g transform=\"translate(36.253 48.012) scale(.1625 -.1625)\"><use xlink:href=\"#DejaVuSans-Oblique-113\"/><use transform=\"translate(63.477 -16.406) scale(.7)\" xlink:href=\"#DejaVuSans-48\"/></g></g><g clip-path=\"url(#pff2981202e)\"><defs><path id=\"DejaVuSans-49\" d=\"m12.406 8.2969h16.109v55.625l-17.531-3.5156v8.9844l17.438 3.5156h9.8594v-64.609h16.109v-8.2969h-41.984z\"/></defs><g transform=\"translate(36.253 93.463) scale(.1625 -.1625)\"><use xlink:href=\"#DejaVuSans-Oblique-113\"/><use transform=\"translate(63.477 -16.406) scale(.7)\" xlink:href=\"#DejaVuSans-49\"/></g></g><g clip-path=\"url(#pff2981202e)\"><defs><path id=\"DejaVuSans-50\" d=\"m19.188 8.2969h34.422v-8.2969h-46.281v8.2969q5.6094 5.8125 15.297 15.594 9.7031 9.7969 12.188 12.641 4.7344 5.3125 6.6094 9 1.8906 3.6875 1.8906 7.25 0 5.8125-4.0781 9.4688-4.0781 3.6719-10.625 3.6719-4.6406 0-9.7969-1.6094-5.1406-1.6094-11-4.8906v9.9688q5.9531 2.3906 11.125 3.6094 5.1875 1.2188 9.4844 1.2188 11.328 0 18.062-5.6719 6.7344-5.6562 6.7344-15.125 0-4.5-1.6875-8.5312-1.6719-4.0156-6.125-9.4844-1.2188-1.4219-7.7656-8.1875-6.5312-6.7656-18.453-18.922z\"/></defs><g transform=\"translate(67.926 127.75) scale(.104 -.104)\"><use xlink:href=\"#DejaVuSans-50\"/></g></g><g clip-path=\"url(#pff2981202e)\"><defs><path id=\"DejaVuSans-98\" d=\"m48.688 27.297q0 9.9062-4.0781 15.547t-11.203 5.6406q-7.1406 0-11.219-5.6406t-4.0781-15.547 4.0781-15.547 11.219-5.6406q7.125 0 11.203 5.6406t4.0781 15.547zm-30.578 19.094q2.8438 4.875 7.1562 7.2344 4.3281 2.375 10.328 2.375 9.9688 0 16.188-7.9062 6.2344-7.9062 6.2344-20.797t-6.2344-20.812q-6.2188-7.9062-16.188-7.9062-6 0-10.328 2.375-4.3125 2.375-7.1562 7.25v-8.2031h-9.0312v75.984h9.0312z\"/></defs><g transform=\"translate(43.975 138.95) scale(.1625 -.1625)\"><use xlink:href=\"#DejaVuSans-98\"/></g></g><defs><clipPath id=\"pff2981202e\"><rect x=\"7.2\" y=\"7.2\" width=\"65.271\" height=\"154.53\"/></clipPath></defs></svg>"
            ],
            "text/plain": [
              "<Figure size 86.452x204.68 with 1 Axes>"
            ]
          },
          "execution_count": 46,
          "metadata": {},
          "output_type": "execute_result"
        }
      ],
      "source": [
        "puzzle.get_circuit().draw(output='mpl')"
      ]
    },
    {
      "cell_type": "markdown",
      "metadata": {
        "id": "ZaJheRm-VCck"
      },
      "source": [
        "\n",
        "\n",
        "#### خاتمة\n",
        "\n",
        "هنا نرى التبادل الثالث للدوائر الذي تم بواسطة بوابة cz. يتم تبديل الدائرة الموجودة في الأعلى (التي تمثل الترابط لخروجي X لكلا الكيوبيتين) مع الدائرة الموجودة في الوسط (التي تمثل الترابط لخروجي Y لكلا الكيوبيتين).\n",
        "\n",
        "قد يبدو هذا غريبًا عندما تكون الصفوف الوسطى مفقودة، فقط لأن وصفنا للكيوبيتات لم يكن كاملاً. ومع ذلك، سنواصل استخدام الشبكة البسيطة بدون خروجي Y. إذا كنت تريد إضافتها بنفسك، فما عليك إلا استخدام وسيطة mode='y' في hello_quantum.run_game()."
      ]
    },
    {
      "cell_type": "markdown",
      "metadata": {
        "id": "uyfXJX8TVCck"
      },
      "source": [
        "\n",
        "\n",
        "### الأحجية الرابعة\n",
        "\n",
        "#### مقدمة\n",
        "\n",
        "في تمرين سابق، قمت ببناء بوابة x من بوابة z وبعض بوابات h. بنفس الطريقة، من الممكن إنشاء بوابة cx من بوابة cz وبعض بوابات h.\n",
        "\n",
        "#### تدريب\n",
        "\n",
        "* شغّل مخرج Z لـ q[1]\n"
      ]
    },
    {
      "cell_type": "code",
      "execution_count": null,
      "metadata": {
        "id": "KYRfLQdWVCck"
      },
      "outputs": [],
      "source": [
        "initialize = [['x', '0']]\n",
        "success_condition = {'IZ': -1.0}\n",
        "allowed_gates = {'0': {'h':0}, '1': {'h':0}, 'both': {'cz': 0}}\n",
        "vi = [[], True, True]\n",
        "qubit_names = {'0':'q[0]', '1':'q[1]'}\n",
        "puzzle = hello_quantum.run_game(initialize, success_condition, allowed_gates, vi, qubit_names)"
      ]
    },
    {
      "cell_type": "code",
      "execution_count": null,
      "metadata": {
        "id": "JWcZDR8JVCck",
        "outputId": "48d7ac87-d093-4a55-b5b9-7cee4f24629e"
      },
      "outputs": [
        {
          "data": {
            "image/svg+xml": [
              "<?xml version=\"1.0\" encoding=\"UTF-8\"?><!DOCTYPE svg  PUBLIC '-//W3C//DTD SVG 1.1//EN'  'http://www.w3.org/Graphics/SVG/1.1/DTD/svg11.dtd'><svg width=\"79.671pt\" height=\"168.93pt\" version=\"1.1\" viewBox=\"0 0 79.671 168.93\" xmlns=\"http://www.w3.org/2000/svg\" xmlns:xlink=\"http://www.w3.org/1999/xlink\"><defs><style type=\"text/css\">*{stroke-linecap:butt;stroke-linejoin:round;}</style></defs><path d=\"m0 168.93h79.671v-168.93h-79.671z\" fill=\"#ffffff\"/><path d=\"m63.381 43.561h4.5451\" clip-path=\"url(#p902ff014bb)\" fill=\"none\" stroke=\"#000000\" stroke-linecap=\"square\" stroke-width=\"2\"/><path d=\"m63.381 89.012h4.5451\" clip-path=\"url(#p902ff014bb)\" fill=\"none\" stroke=\"#000000\" stroke-linecap=\"square\" stroke-width=\"2\"/><path d=\"m63.381 132.99h4.5451\" clip-path=\"url(#p902ff014bb)\" fill=\"none\" stroke=\"#778899\" stroke-linecap=\"square\" stroke-width=\"2\"/><path d=\"m63.381 135.94h4.5451\" clip-path=\"url(#p902ff014bb)\" fill=\"none\" stroke=\"#778899\" stroke-linecap=\"square\" stroke-width=\"2\"/><path d=\"m72.471 139.01 4.5451-9.0902\" clip-path=\"url(#p902ff014bb)\" fill=\"none\" stroke=\"#778899\" stroke-linecap=\"square\" stroke-width=\"1.5\"/><g clip-path=\"url(#p902ff014bb)\"><defs><path id=\"DejaVuSans-Oblique-113\" d=\"m41.703 8.2031q-3.6094-4.7344-8.5312-7.1875-4.9062-2.4375-10.859-2.4375-8.2969 0-13.016 5.5938-4.7031 5.5938-4.7031 15.406 0 7.9062 2.9062 15.281t8.3281 13.234q3.5156 3.8125 8.0781 5.8594t9.5938 2.0469q6.0469 0 9.9531-2.3906t5.6719-7.2188l1.5625 8.2031h9.0312l-14.594-75.203h-9.0469zm-27.781 12.703q0-7.2344 3.0156-11.016 3.0312-3.7812 8.75-3.7812 8.5 0 14.5 8.125t6 19.75q0 7.0312-3.1094 10.766-3.0938 3.7344-8.8906 3.7344-4.25 0-7.875-1.9844-3.6094-1.9688-6.2969-5.7812-2.8281-4-4.4688-9.375-1.625-5.3594-1.625-10.438z\"/><path id=\"DejaVuSans-48\" d=\"m31.781 66.406q-7.6094 0-11.453-7.5-3.8281-7.4844-3.8281-22.531 0-14.984 3.8281-22.484 3.8438-7.5 11.453-7.5 7.6719 0 11.5 7.5 3.8438 7.5 3.8438 22.484 0 15.047-3.8438 22.531-3.8281 7.5-11.5 7.5zm0 7.8125q12.266 0 18.734-9.7031 6.4688-9.6875 6.4688-28.141 0-18.406-6.4688-28.109-6.4688-9.6875-18.734-9.6875-12.25 0-18.719 9.6875-6.4688 9.7031-6.4688 28.109 0 18.453 6.4688 28.141 6.4688 9.7031 18.719 9.7031z\"/></defs><g transform=\"translate(36.253 48.012) scale(.1625 -.1625)\"><use xlink:href=\"#DejaVuSans-Oblique-113\"/><use transform=\"translate(63.477 -16.406) scale(.7)\" xlink:href=\"#DejaVuSans-48\"/></g></g><g clip-path=\"url(#p902ff014bb)\"><defs><path id=\"DejaVuSans-49\" d=\"m12.406 8.2969h16.109v55.625l-17.531-3.5156v8.9844l17.438 3.5156h9.8594v-64.609h16.109v-8.2969h-41.984z\"/></defs><g transform=\"translate(36.253 93.463) scale(.1625 -.1625)\"><use xlink:href=\"#DejaVuSans-Oblique-113\"/><use transform=\"translate(63.477 -16.406) scale(.7)\" xlink:href=\"#DejaVuSans-49\"/></g></g><g clip-path=\"url(#p902ff014bb)\"><defs><path id=\"DejaVuSans-50\" d=\"m19.188 8.2969h34.422v-8.2969h-46.281v8.2969q5.6094 5.8125 15.297 15.594 9.7031 9.7969 12.188 12.641 4.7344 5.3125 6.6094 9 1.8906 3.6875 1.8906 7.25 0 5.8125-4.0781 9.4688-4.0781 3.6719-10.625 3.6719-4.6406 0-9.7969-1.6094-5.1406-1.6094-11-4.8906v9.9688q5.9531 2.3906 11.125 3.6094 5.1875 1.2188 9.4844 1.2188 11.328 0 18.062-5.6719 6.7344-5.6562 6.7344-15.125 0-4.5-1.6875-8.5312-1.6719-4.0156-6.125-9.4844-1.2188-1.4219-7.7656-8.1875-6.5312-6.7656-18.453-18.922z\"/></defs><g transform=\"translate(67.926 127.75) scale(.104 -.104)\"><use xlink:href=\"#DejaVuSans-50\"/></g></g><g clip-path=\"url(#p902ff014bb)\"><defs><path id=\"DejaVuSans-98\" d=\"m48.688 27.297q0 9.9062-4.0781 15.547t-11.203 5.6406q-7.1406 0-11.219-5.6406t-4.0781-15.547 4.0781-15.547 11.219-5.6406q7.125 0 11.203 5.6406t4.0781 15.547zm-30.578 19.094q2.8438 4.875 7.1562 7.2344 4.3281 2.375 10.328 2.375 9.9688 0 16.188-7.9062 6.2344-7.9062 6.2344-20.797t-6.2344-20.812q-6.2188-7.9062-16.188-7.9062-6 0-10.328 2.375-4.3125 2.375-7.1562 7.25v-8.2031h-9.0312v75.984h9.0312z\"/></defs><g transform=\"translate(43.975 138.95) scale(.1625 -.1625)\"><use xlink:href=\"#DejaVuSans-98\"/></g></g><defs><clipPath id=\"p902ff014bb\"><rect x=\"7.2\" y=\"7.2\" width=\"65.271\" height=\"154.53\"/></clipPath></defs></svg>"
            ],
            "text/plain": [
              "<Figure size 86.452x204.68 with 1 Axes>"
            ]
          },
          "execution_count": 48,
          "metadata": {},
          "output_type": "execute_result"
        }
      ],
      "source": [
        "puzzle.get_circuit().draw(output='mpl')"
      ]
    },
    {
      "cell_type": "markdown",
      "metadata": {
        "id": "n6dlRa3uVCck"
      },
      "source": [
        "\n",
        "\n",
        "#### خاتمة\n",
        "\n",
        "على عكس بوابة cz، فإن بوابة cx ليست متماثلة. إذا كنت تريد بدلاً من ذلك إنشاء بوابة cx يكون هدفها q[0]، فسيتعين عليك تنفيذ بوابات h على q[0] بدلاً من ذلك."
      ]
    },
    {
      "cell_type": "markdown",
      "metadata": {
        "id": "R0c4QZCFVCck"
      },
      "source": [
        "\n",
        "\n",
        "### الاحجية الخامسة\n",
        "\n",
        "#### مقدمة\n",
        "\n",
        "تمكنا من تفسير بوابة cz \"عكسًا\": شرح بديل حيث لعب كيوبيت الهدف دور التحكم، والعكس صحيح. سنقوم الآن بنفس الشيء مع بوابة cx. ومع ذلك، نظرًا لأن هذه البوابة ليس لها تأثير متماثل، سيكون هذا أكثر صعوبة بعض الشيء.\n",
        "\n",
        "على وجه التحديد، بدلاً من التفكير فيها على أنها تقوم ببوابة x على الهدف اعتمادًا على ما يفعله خرج Z للتحكم، يمكننا التفكير فيها على أنها تقوم ببوابة z على التحكم اعتمادًا على ما يفعله خرج X للهدف.\n",
        "\n",
        "في هذا التمرين، يمكنك رؤية كيف يبدو الأمر كما لو أن الهدف هو الذي يقوم بالتحكم، والتحكم هو الهدف!\n",
        "\n",
        "#### تدريب\n",
        "* شغّل مخرج X لـ q[0].\n"
      ]
    },
    {
      "cell_type": "code",
      "execution_count": null,
      "metadata": {
        "id": "tVIbbNoLVCck"
      },
      "outputs": [],
      "source": [
        "initialize = [['h', '0'],['h', '1']]\n",
        "success_condition = {'XI': -1.0, 'IX': -1.0}\n",
        "allowed_gates = {'0': {}, '1': {'z':0,'cx': 0}, 'both': {}}\n",
        "vi = [[], True, True]\n",
        "qubit_names = {'0':'q[0]', '1':'q[1]'}\n",
        "puzzle = hello_quantum.run_game(initialize, success_condition, allowed_gates, vi, qubit_names)"
      ]
    },
    {
      "cell_type": "code",
      "execution_count": null,
      "metadata": {
        "id": "g5x0w2PtVCcl",
        "outputId": "baf5bb0c-45e7-4b51-8cd2-9699e3b9c40e"
      },
      "outputs": [
        {
          "data": {
            "image/svg+xml": [
              "<?xml version=\"1.0\" encoding=\"UTF-8\"?><!DOCTYPE svg  PUBLIC '-//W3C//DTD SVG 1.1//EN'  'http://www.w3.org/Graphics/SVG/1.1/DTD/svg11.dtd'><svg width=\"79.671pt\" height=\"168.93pt\" version=\"1.1\" viewBox=\"0 0 79.671 168.93\" xmlns=\"http://www.w3.org/2000/svg\" xmlns:xlink=\"http://www.w3.org/1999/xlink\"><defs><style type=\"text/css\">*{stroke-linecap:butt;stroke-linejoin:round;}</style></defs><path d=\"m0 168.93h79.671v-168.93h-79.671z\" fill=\"#ffffff\"/><path d=\"m63.381 43.561h4.5451\" clip-path=\"url(#p6ffc3723d2)\" fill=\"none\" stroke=\"#000000\" stroke-linecap=\"square\" stroke-width=\"2\"/><path d=\"m63.381 89.012h4.5451\" clip-path=\"url(#p6ffc3723d2)\" fill=\"none\" stroke=\"#000000\" stroke-linecap=\"square\" stroke-width=\"2\"/><path d=\"m63.381 132.99h4.5451\" clip-path=\"url(#p6ffc3723d2)\" fill=\"none\" stroke=\"#778899\" stroke-linecap=\"square\" stroke-width=\"2\"/><path d=\"m63.381 135.94h4.5451\" clip-path=\"url(#p6ffc3723d2)\" fill=\"none\" stroke=\"#778899\" stroke-linecap=\"square\" stroke-width=\"2\"/><path d=\"m72.471 139.01 4.5451-9.0902\" clip-path=\"url(#p6ffc3723d2)\" fill=\"none\" stroke=\"#778899\" stroke-linecap=\"square\" stroke-width=\"1.5\"/><g clip-path=\"url(#p6ffc3723d2)\"><defs><path id=\"DejaVuSans-Oblique-113\" d=\"m41.703 8.2031q-3.6094-4.7344-8.5312-7.1875-4.9062-2.4375-10.859-2.4375-8.2969 0-13.016 5.5938-4.7031 5.5938-4.7031 15.406 0 7.9062 2.9062 15.281t8.3281 13.234q3.5156 3.8125 8.0781 5.8594t9.5938 2.0469q6.0469 0 9.9531-2.3906t5.6719-7.2188l1.5625 8.2031h9.0312l-14.594-75.203h-9.0469zm-27.781 12.703q0-7.2344 3.0156-11.016 3.0312-3.7812 8.75-3.7812 8.5 0 14.5 8.125t6 19.75q0 7.0312-3.1094 10.766-3.0938 3.7344-8.8906 3.7344-4.25 0-7.875-1.9844-3.6094-1.9688-6.2969-5.7812-2.8281-4-4.4688-9.375-1.625-5.3594-1.625-10.438z\"/><path id=\"DejaVuSans-48\" d=\"m31.781 66.406q-7.6094 0-11.453-7.5-3.8281-7.4844-3.8281-22.531 0-14.984 3.8281-22.484 3.8438-7.5 11.453-7.5 7.6719 0 11.5 7.5 3.8438 7.5 3.8438 22.484 0 15.047-3.8438 22.531-3.8281 7.5-11.5 7.5zm0 7.8125q12.266 0 18.734-9.7031 6.4688-9.6875 6.4688-28.141 0-18.406-6.4688-28.109-6.4688-9.6875-18.734-9.6875-12.25 0-18.719 9.6875-6.4688 9.7031-6.4688 28.109 0 18.453 6.4688 28.141 6.4688 9.7031 18.719 9.7031z\"/></defs><g transform=\"translate(36.253 48.012) scale(.1625 -.1625)\"><use xlink:href=\"#DejaVuSans-Oblique-113\"/><use transform=\"translate(63.477 -16.406) scale(.7)\" xlink:href=\"#DejaVuSans-48\"/></g></g><g clip-path=\"url(#p6ffc3723d2)\"><defs><path id=\"DejaVuSans-49\" d=\"m12.406 8.2969h16.109v55.625l-17.531-3.5156v8.9844l17.438 3.5156h9.8594v-64.609h16.109v-8.2969h-41.984z\"/></defs><g transform=\"translate(36.253 93.463) scale(.1625 -.1625)\"><use xlink:href=\"#DejaVuSans-Oblique-113\"/><use transform=\"translate(63.477 -16.406) scale(.7)\" xlink:href=\"#DejaVuSans-49\"/></g></g><g clip-path=\"url(#p6ffc3723d2)\"><defs><path id=\"DejaVuSans-50\" d=\"m19.188 8.2969h34.422v-8.2969h-46.281v8.2969q5.6094 5.8125 15.297 15.594 9.7031 9.7969 12.188 12.641 4.7344 5.3125 6.6094 9 1.8906 3.6875 1.8906 7.25 0 5.8125-4.0781 9.4688-4.0781 3.6719-10.625 3.6719-4.6406 0-9.7969-1.6094-5.1406-1.6094-11-4.8906v9.9688q5.9531 2.3906 11.125 3.6094 5.1875 1.2188 9.4844 1.2188 11.328 0 18.062-5.6719 6.7344-5.6562 6.7344-15.125 0-4.5-1.6875-8.5312-1.6719-4.0156-6.125-9.4844-1.2188-1.4219-7.7656-8.1875-6.5312-6.7656-18.453-18.922z\"/></defs><g transform=\"translate(67.926 127.75) scale(.104 -.104)\"><use xlink:href=\"#DejaVuSans-50\"/></g></g><g clip-path=\"url(#p6ffc3723d2)\"><defs><path id=\"DejaVuSans-98\" d=\"m48.688 27.297q0 9.9062-4.0781 15.547t-11.203 5.6406q-7.1406 0-11.219-5.6406t-4.0781-15.547 4.0781-15.547 11.219-5.6406q7.125 0 11.203 5.6406t4.0781 15.547zm-30.578 19.094q2.8438 4.875 7.1562 7.2344 4.3281 2.375 10.328 2.375 9.9688 0 16.188-7.9062 6.2344-7.9062 6.2344-20.797t-6.2344-20.812q-6.2188-7.9062-16.188-7.9062-6 0-10.328 2.375-4.3125 2.375-7.1562 7.25v-8.2031h-9.0312v75.984h9.0312z\"/></defs><g transform=\"translate(43.975 138.95) scale(.1625 -.1625)\"><use xlink:href=\"#DejaVuSans-98\"/></g></g><defs><clipPath id=\"p6ffc3723d2\"><rect x=\"7.2\" y=\"7.2\" width=\"65.271\" height=\"154.53\"/></clipPath></defs></svg>"
            ],
            "text/plain": [
              "<Figure size 86.452x204.68 with 1 Axes>"
            ]
          },
          "execution_count": 50,
          "metadata": {},
          "output_type": "execute_result"
        }
      ],
      "source": [
        "puzzle.get_circuit().draw(output='mpl')"
      ]
    },
    {
      "cell_type": "markdown",
      "metadata": {
        "id": "-51XDMKhVCcl"
      },
      "source": [
        "\n",
        "\n",
        "#### خاتمة\n",
        "\n",
        "على الرغم من أن هاتين القصتين مختلفتين حول كيفية عمل بوابة cx، إلا أنهما وصفان صالحان بالتساوي. مثال رائع على الطبيعة الغريبة والرائعة للبوابات الكمومية."
      ]
    },
    {
      "cell_type": "markdown",
      "metadata": {
        "id": "Ib4c8-OyVCcl"
      },
      "source": [
        "\n",
        "\n",
        "### الأحجية السادسة\n",
        "\n",
        "#### مقدمة\n",
        "\n",
        "الآن بعد أن نعرف هذين التفسيرين لبوابة cx، يمكننا القيام بشيء مفيد للغاية: عكسها.\n",
        "\n",
        "في هذا اللغز، ستحصل على بوابة cx مع q[1] كهدف، ولكن ستحتاج إلى بوابة cx مع q[0] كهدف. انظر إذا يمكنك معرفة كيفية الحصول على نفس التأثير بمساعدة بعض بوابات h.\n",
        "\n",
        "#### تدريب\n",
        "* احتفظ بخروج Z لـ q[1], ولكن قم بإيقاف خرج Z لـ q[0].\n"
      ]
    },
    {
      "cell_type": "code",
      "execution_count": null,
      "metadata": {
        "id": "SADid5IgVCcl"
      },
      "outputs": [],
      "source": [
        "initialize = [('x','0'),('x','1')]\n",
        "success_condition = {'ZI': 1.0,'IZ': -1.0}\n",
        "allowed_gates = {'0': {'h':0}, '1': {'h':0,'cx':0}, 'both': {}}\n",
        "vi = [[], True, True]\n",
        "qubit_names = {'0':'q[0]', '1':'q[1]'}\n",
        "puzzle = hello_quantum.run_game(initialize, success_condition, allowed_gates, vi, qubit_names)"
      ]
    },
    {
      "cell_type": "code",
      "execution_count": null,
      "metadata": {
        "id": "bC6vwmMKVCcl",
        "outputId": "64eb8098-47b3-4561-efd8-fb9ca0dade2c"
      },
      "outputs": [
        {
          "data": {
            "image/svg+xml": [
              "<?xml version=\"1.0\" encoding=\"UTF-8\"?><!DOCTYPE svg  PUBLIC '-//W3C//DTD SVG 1.1//EN'  'http://www.w3.org/Graphics/SVG/1.1/DTD/svg11.dtd'><svg width=\"79.671pt\" height=\"168.93pt\" version=\"1.1\" viewBox=\"0 0 79.671 168.93\" xmlns=\"http://www.w3.org/2000/svg\" xmlns:xlink=\"http://www.w3.org/1999/xlink\"><defs><style type=\"text/css\">*{stroke-linecap:butt;stroke-linejoin:round;}</style></defs><path d=\"m0 168.93h79.671v-168.93h-79.671z\" fill=\"#ffffff\"/><path d=\"m63.381 43.561h4.5451\" clip-path=\"url(#pb0c3960e5a)\" fill=\"none\" stroke=\"#000000\" stroke-linecap=\"square\" stroke-width=\"2\"/><path d=\"m63.381 89.012h4.5451\" clip-path=\"url(#pb0c3960e5a)\" fill=\"none\" stroke=\"#000000\" stroke-linecap=\"square\" stroke-width=\"2\"/><path d=\"m63.381 132.99h4.5451\" clip-path=\"url(#pb0c3960e5a)\" fill=\"none\" stroke=\"#778899\" stroke-linecap=\"square\" stroke-width=\"2\"/><path d=\"m63.381 135.94h4.5451\" clip-path=\"url(#pb0c3960e5a)\" fill=\"none\" stroke=\"#778899\" stroke-linecap=\"square\" stroke-width=\"2\"/><path d=\"m72.471 139.01 4.5451-9.0902\" clip-path=\"url(#pb0c3960e5a)\" fill=\"none\" stroke=\"#778899\" stroke-linecap=\"square\" stroke-width=\"1.5\"/><g clip-path=\"url(#pb0c3960e5a)\"><defs><path id=\"DejaVuSans-Oblique-113\" d=\"m41.703 8.2031q-3.6094-4.7344-8.5312-7.1875-4.9062-2.4375-10.859-2.4375-8.2969 0-13.016 5.5938-4.7031 5.5938-4.7031 15.406 0 7.9062 2.9062 15.281t8.3281 13.234q3.5156 3.8125 8.0781 5.8594t9.5938 2.0469q6.0469 0 9.9531-2.3906t5.6719-7.2188l1.5625 8.2031h9.0312l-14.594-75.203h-9.0469zm-27.781 12.703q0-7.2344 3.0156-11.016 3.0312-3.7812 8.75-3.7812 8.5 0 14.5 8.125t6 19.75q0 7.0312-3.1094 10.766-3.0938 3.7344-8.8906 3.7344-4.25 0-7.875-1.9844-3.6094-1.9688-6.2969-5.7812-2.8281-4-4.4688-9.375-1.625-5.3594-1.625-10.438z\"/><path id=\"DejaVuSans-48\" d=\"m31.781 66.406q-7.6094 0-11.453-7.5-3.8281-7.4844-3.8281-22.531 0-14.984 3.8281-22.484 3.8438-7.5 11.453-7.5 7.6719 0 11.5 7.5 3.8438 7.5 3.8438 22.484 0 15.047-3.8438 22.531-3.8281 7.5-11.5 7.5zm0 7.8125q12.266 0 18.734-9.7031 6.4688-9.6875 6.4688-28.141 0-18.406-6.4688-28.109-6.4688-9.6875-18.734-9.6875-12.25 0-18.719 9.6875-6.4688 9.7031-6.4688 28.109 0 18.453 6.4688 28.141 6.4688 9.7031 18.719 9.7031z\"/></defs><g transform=\"translate(36.253 48.012) scale(.1625 -.1625)\"><use xlink:href=\"#DejaVuSans-Oblique-113\"/><use transform=\"translate(63.477 -16.406) scale(.7)\" xlink:href=\"#DejaVuSans-48\"/></g></g><g clip-path=\"url(#pb0c3960e5a)\"><defs><path id=\"DejaVuSans-49\" d=\"m12.406 8.2969h16.109v55.625l-17.531-3.5156v8.9844l17.438 3.5156h9.8594v-64.609h16.109v-8.2969h-41.984z\"/></defs><g transform=\"translate(36.253 93.463) scale(.1625 -.1625)\"><use xlink:href=\"#DejaVuSans-Oblique-113\"/><use transform=\"translate(63.477 -16.406) scale(.7)\" xlink:href=\"#DejaVuSans-49\"/></g></g><g clip-path=\"url(#pb0c3960e5a)\"><defs><path id=\"DejaVuSans-50\" d=\"m19.188 8.2969h34.422v-8.2969h-46.281v8.2969q5.6094 5.8125 15.297 15.594 9.7031 9.7969 12.188 12.641 4.7344 5.3125 6.6094 9 1.8906 3.6875 1.8906 7.25 0 5.8125-4.0781 9.4688-4.0781 3.6719-10.625 3.6719-4.6406 0-9.7969-1.6094-5.1406-1.6094-11-4.8906v9.9688q5.9531 2.3906 11.125 3.6094 5.1875 1.2188 9.4844 1.2188 11.328 0 18.062-5.6719 6.7344-5.6562 6.7344-15.125 0-4.5-1.6875-8.5312-1.6719-4.0156-6.125-9.4844-1.2188-1.4219-7.7656-8.1875-6.5312-6.7656-18.453-18.922z\"/></defs><g transform=\"translate(67.926 127.75) scale(.104 -.104)\"><use xlink:href=\"#DejaVuSans-50\"/></g></g><g clip-path=\"url(#pb0c3960e5a)\"><defs><path id=\"DejaVuSans-98\" d=\"m48.688 27.297q0 9.9062-4.0781 15.547t-11.203 5.6406q-7.1406 0-11.219-5.6406t-4.0781-15.547 4.0781-15.547 11.219-5.6406q7.125 0 11.203 5.6406t4.0781 15.547zm-30.578 19.094q2.8438 4.875 7.1562 7.2344 4.3281 2.375 10.328 2.375 9.9688 0 16.188-7.9062 6.2344-7.9062 6.2344-20.797t-6.2344-20.812q-6.2188-7.9062-16.188-7.9062-6 0-10.328 2.375-4.3125 2.375-7.1562 7.25v-8.2031h-9.0312v75.984h9.0312z\"/></defs><g transform=\"translate(43.975 138.95) scale(.1625 -.1625)\"><use xlink:href=\"#DejaVuSans-98\"/></g></g><defs><clipPath id=\"pb0c3960e5a\"><rect x=\"7.2\" y=\"7.2\" width=\"65.271\" height=\"154.53\"/></clipPath></defs></svg>"
            ],
            "text/plain": [
              "<Figure size 86.452x204.68 with 1 Axes>"
            ]
          },
          "execution_count": 52,
          "metadata": {},
          "output_type": "execute_result"
        }
      ],
      "source": [
        "puzzle.get_circuit().draw(output='mpl')"
      ]
    },
    {
      "cell_type": "markdown",
      "metadata": {
        "id": "AhrrOVEEVCcl"
      },
      "source": [
        "\n",
        "\n",
        "#### خاتمة\n",
        "\n",
        "إذا كنت تتذكر أي شيء من هذه التمارين، فمن المحتمل أن يكون هذا. من الشائع أن الأجهزة الكمومية الحقيقية تحدد الاتجاه الذي يمكنك من خلاله تنفيذ بوابة cx، لذلك فإن القدرة على عكسها تأتي في متناول اليد للغاية."
      ]
    },
    {
      "cell_type": "markdown",
      "metadata": {
        "id": "XRSuQUxyVCcl"
      },
      "source": [
        "\n",
        "\n",
        "### الأحجية السابعة\n",
        "\n",
        "#### مقدمة\n",
        "\n",
        "بوابة كمومية مفيدة أخرى هي swap. تقوم هذه البوابة بما يشير إليه الاسم تمامًا: إنها تبدل حالات كيوبيتين. على الرغم من أن Qiskit يسمح لنا ببساطة استدعاء الأمر swap، فمن المثير للاهتمام إنشاء هذه البوابة بأنفسنا من بوابات cz أو cx.\n",
        "\n",
        "#### تدريب\n",
        "* بدل الكيوبتس\n",
        "  - اجعل خرج Z لـ q[0] أبيض وخرج X لـ q[0] رماديًا.\n",
        "  - اجعل خرج Z لـ q[1] رماديًا داكنًا وخرج X لـ q[1] رماديًا فاتحًا."
      ]
    },
    {
      "cell_type": "code",
      "execution_count": null,
      "metadata": {
        "id": "zdVGmxFAVCcl"
      },
      "outputs": [],
      "source": [
        "initialize = [['ry(-pi/4)','0'],['ry(-pi/4)','0'],['ry(-pi/4)','0'],['x','0'],['x','1']]\n",
        "success_condition = {'ZI': -1.0,'XI':0,'IZ':0.7071,'IX':-0.7071}\n",
        "allowed_gates = {'0': {'h':0}, '1': {'h':0}, 'both': {'cz': 0}}\n",
        "vi = [[], True, True]\n",
        "qubit_names = {'0':'q[0]', '1':'q[1]'}\n",
        "puzzle = hello_quantum.run_game(initialize, success_condition, allowed_gates, vi, qubit_names)"
      ]
    },
    {
      "cell_type": "code",
      "execution_count": null,
      "metadata": {
        "id": "Jqb2XV9sVCcl",
        "outputId": "0778db1d-e39b-4c09-a023-b968b041e97a"
      },
      "outputs": [
        {
          "data": {
            "image/svg+xml": [
              "<?xml version=\"1.0\" encoding=\"UTF-8\"?><!DOCTYPE svg  PUBLIC '-//W3C//DTD SVG 1.1//EN'  'http://www.w3.org/Graphics/SVG/1.1/DTD/svg11.dtd'><svg width=\"79.671pt\" height=\"168.93pt\" version=\"1.1\" viewBox=\"0 0 79.671 168.93\" xmlns=\"http://www.w3.org/2000/svg\" xmlns:xlink=\"http://www.w3.org/1999/xlink\"><defs><style type=\"text/css\">*{stroke-linecap:butt;stroke-linejoin:round;}</style></defs><path d=\"m0 168.93h79.671v-168.93h-79.671z\" fill=\"#ffffff\"/><path d=\"m63.381 43.561h4.5451\" clip-path=\"url(#p628360cae1)\" fill=\"none\" stroke=\"#000000\" stroke-linecap=\"square\" stroke-width=\"2\"/><path d=\"m63.381 89.012h4.5451\" clip-path=\"url(#p628360cae1)\" fill=\"none\" stroke=\"#000000\" stroke-linecap=\"square\" stroke-width=\"2\"/><path d=\"m63.381 132.99h4.5451\" clip-path=\"url(#p628360cae1)\" fill=\"none\" stroke=\"#778899\" stroke-linecap=\"square\" stroke-width=\"2\"/><path d=\"m63.381 135.94h4.5451\" clip-path=\"url(#p628360cae1)\" fill=\"none\" stroke=\"#778899\" stroke-linecap=\"square\" stroke-width=\"2\"/><path d=\"m72.471 139.01 4.5451-9.0902\" clip-path=\"url(#p628360cae1)\" fill=\"none\" stroke=\"#778899\" stroke-linecap=\"square\" stroke-width=\"1.5\"/><g clip-path=\"url(#p628360cae1)\"><defs><path id=\"DejaVuSans-Oblique-113\" d=\"m41.703 8.2031q-3.6094-4.7344-8.5312-7.1875-4.9062-2.4375-10.859-2.4375-8.2969 0-13.016 5.5938-4.7031 5.5938-4.7031 15.406 0 7.9062 2.9062 15.281t8.3281 13.234q3.5156 3.8125 8.0781 5.8594t9.5938 2.0469q6.0469 0 9.9531-2.3906t5.6719-7.2188l1.5625 8.2031h9.0312l-14.594-75.203h-9.0469zm-27.781 12.703q0-7.2344 3.0156-11.016 3.0312-3.7812 8.75-3.7812 8.5 0 14.5 8.125t6 19.75q0 7.0312-3.1094 10.766-3.0938 3.7344-8.8906 3.7344-4.25 0-7.875-1.9844-3.6094-1.9688-6.2969-5.7812-2.8281-4-4.4688-9.375-1.625-5.3594-1.625-10.438z\"/><path id=\"DejaVuSans-48\" d=\"m31.781 66.406q-7.6094 0-11.453-7.5-3.8281-7.4844-3.8281-22.531 0-14.984 3.8281-22.484 3.8438-7.5 11.453-7.5 7.6719 0 11.5 7.5 3.8438 7.5 3.8438 22.484 0 15.047-3.8438 22.531-3.8281 7.5-11.5 7.5zm0 7.8125q12.266 0 18.734-9.7031 6.4688-9.6875 6.4688-28.141 0-18.406-6.4688-28.109-6.4688-9.6875-18.734-9.6875-12.25 0-18.719 9.6875-6.4688 9.7031-6.4688 28.109 0 18.453 6.4688 28.141 6.4688 9.7031 18.719 9.7031z\"/></defs><g transform=\"translate(36.253 48.012) scale(.1625 -.1625)\"><use xlink:href=\"#DejaVuSans-Oblique-113\"/><use transform=\"translate(63.477 -16.406) scale(.7)\" xlink:href=\"#DejaVuSans-48\"/></g></g><g clip-path=\"url(#p628360cae1)\"><defs><path id=\"DejaVuSans-49\" d=\"m12.406 8.2969h16.109v55.625l-17.531-3.5156v8.9844l17.438 3.5156h9.8594v-64.609h16.109v-8.2969h-41.984z\"/></defs><g transform=\"translate(36.253 93.463) scale(.1625 -.1625)\"><use xlink:href=\"#DejaVuSans-Oblique-113\"/><use transform=\"translate(63.477 -16.406) scale(.7)\" xlink:href=\"#DejaVuSans-49\"/></g></g><g clip-path=\"url(#p628360cae1)\"><defs><path id=\"DejaVuSans-50\" d=\"m19.188 8.2969h34.422v-8.2969h-46.281v8.2969q5.6094 5.8125 15.297 15.594 9.7031 9.7969 12.188 12.641 4.7344 5.3125 6.6094 9 1.8906 3.6875 1.8906 7.25 0 5.8125-4.0781 9.4688-4.0781 3.6719-10.625 3.6719-4.6406 0-9.7969-1.6094-5.1406-1.6094-11-4.8906v9.9688q5.9531 2.3906 11.125 3.6094 5.1875 1.2188 9.4844 1.2188 11.328 0 18.062-5.6719 6.7344-5.6562 6.7344-15.125 0-4.5-1.6875-8.5312-1.6719-4.0156-6.125-9.4844-1.2188-1.4219-7.7656-8.1875-6.5312-6.7656-18.453-18.922z\"/></defs><g transform=\"translate(67.926 127.75) scale(.104 -.104)\"><use xlink:href=\"#DejaVuSans-50\"/></g></g><g clip-path=\"url(#p628360cae1)\"><defs><path id=\"DejaVuSans-98\" d=\"m48.688 27.297q0 9.9062-4.0781 15.547t-11.203 5.6406q-7.1406 0-11.219-5.6406t-4.0781-15.547 4.0781-15.547 11.219-5.6406q7.125 0 11.203 5.6406t4.0781 15.547zm-30.578 19.094q2.8438 4.875 7.1562 7.2344 4.3281 2.375 10.328 2.375 9.9688 0 16.188-7.9062 6.2344-7.9062 6.2344-20.797t-6.2344-20.812q-6.2188-7.9062-16.188-7.9062-6 0-10.328 2.375-4.3125 2.375-7.1562 7.25v-8.2031h-9.0312v75.984h9.0312z\"/></defs><g transform=\"translate(43.975 138.95) scale(.1625 -.1625)\"><use xlink:href=\"#DejaVuSans-98\"/></g></g><defs><clipPath id=\"p628360cae1\"><rect x=\"7.2\" y=\"7.2\" width=\"65.271\" height=\"154.53\"/></clipPath></defs></svg>"
            ],
            "text/plain": [
              "<Figure size 86.452x204.68 with 1 Axes>"
            ]
          },
          "execution_count": 54,
          "metadata": {},
          "output_type": "execute_result"
        }
      ],
      "source": [
        "puzzle.get_circuit().draw(output='mpl')"
      ]
    },
    {
      "cell_type": "markdown",
      "metadata": {
        "id": "3ewtbb76VCcl"
      },
      "source": [
        "\n",
        "\n",
        "#### خاتمة\n",
        "\n",
        "لاحظ أن حلك لهذه اللغز ربما لم يكن تبادلاً عامًا. قارن حلك بالحلول للعديد من الألغاز التالية، والتي تنفذ أيضًا عمليات التبادل."
      ]
    },
    {
      "cell_type": "markdown",
      "metadata": {
        "id": "UmU6_DxwVCcl"
      },
      "source": [
        "\n",
        "\n",
        "### الأحجية الثامنة\n",
        "\n",
        "#### مقدمة\n",
        "\n",
        "هاك لغز آخر قائم علة المبادلة.\n",
        "\n",
        "#### تدريب\n",
        "* بدل الكيوبتس\n",
        "  * اجعل مخرج X لـ q[0] أسود.\n",
        "\n",
        "  * اجعل مخرج Z لـ q[1] أبيض.\n",
        "\n",
        "* وافعل ذلك باستخدام 3 بوابات cz"
      ]
    },
    {
      "cell_type": "code",
      "execution_count": null,
      "metadata": {
        "id": "hSd13KYPVCcl"
      },
      "outputs": [],
      "source": [
        "initialize = [['x','0'],['h','1']]\n",
        "success_condition = {'XI':1,'IZ':-1}\n",
        "allowed_gates = {'0': {'h':0}, '1': {'h':0}, 'both': {'cz':3}}\n",
        "vi = [[], True, True]\n",
        "qubit_names = {'0':'q[0]', '1':'q[1]'}\n",
        "puzzle = hello_quantum.run_game(initialize, success_condition, allowed_gates, vi, qubit_names,shots=2000)"
      ]
    },
    {
      "cell_type": "code",
      "execution_count": null,
      "metadata": {
        "id": "fVRDhHS-VCcm",
        "outputId": "2a92715a-919a-4709-edc8-3a6b9f66c692"
      },
      "outputs": [
        {
          "data": {
            "image/svg+xml": [
              "<?xml version=\"1.0\" encoding=\"UTF-8\"?><!DOCTYPE svg  PUBLIC '-//W3C//DTD SVG 1.1//EN'  'http://www.w3.org/Graphics/SVG/1.1/DTD/svg11.dtd'><svg width=\"79.671pt\" height=\"168.93pt\" version=\"1.1\" viewBox=\"0 0 79.671 168.93\" xmlns=\"http://www.w3.org/2000/svg\" xmlns:xlink=\"http://www.w3.org/1999/xlink\"><defs><style type=\"text/css\">*{stroke-linecap:butt;stroke-linejoin:round;}</style></defs><path d=\"m0 168.93h79.671v-168.93h-79.671z\" fill=\"#ffffff\"/><path d=\"m63.381 43.561h4.5451\" clip-path=\"url(#pfd63a2f5ce)\" fill=\"none\" stroke=\"#000000\" stroke-linecap=\"square\" stroke-width=\"2\"/><path d=\"m63.381 89.012h4.5451\" clip-path=\"url(#pfd63a2f5ce)\" fill=\"none\" stroke=\"#000000\" stroke-linecap=\"square\" stroke-width=\"2\"/><path d=\"m63.381 132.99h4.5451\" clip-path=\"url(#pfd63a2f5ce)\" fill=\"none\" stroke=\"#778899\" stroke-linecap=\"square\" stroke-width=\"2\"/><path d=\"m63.381 135.94h4.5451\" clip-path=\"url(#pfd63a2f5ce)\" fill=\"none\" stroke=\"#778899\" stroke-linecap=\"square\" stroke-width=\"2\"/><path d=\"m72.471 139.01 4.5451-9.0902\" clip-path=\"url(#pfd63a2f5ce)\" fill=\"none\" stroke=\"#778899\" stroke-linecap=\"square\" stroke-width=\"1.5\"/><g clip-path=\"url(#pfd63a2f5ce)\"><defs><path id=\"DejaVuSans-Oblique-113\" d=\"m41.703 8.2031q-3.6094-4.7344-8.5312-7.1875-4.9062-2.4375-10.859-2.4375-8.2969 0-13.016 5.5938-4.7031 5.5938-4.7031 15.406 0 7.9062 2.9062 15.281t8.3281 13.234q3.5156 3.8125 8.0781 5.8594t9.5938 2.0469q6.0469 0 9.9531-2.3906t5.6719-7.2188l1.5625 8.2031h9.0312l-14.594-75.203h-9.0469zm-27.781 12.703q0-7.2344 3.0156-11.016 3.0312-3.7812 8.75-3.7812 8.5 0 14.5 8.125t6 19.75q0 7.0312-3.1094 10.766-3.0938 3.7344-8.8906 3.7344-4.25 0-7.875-1.9844-3.6094-1.9688-6.2969-5.7812-2.8281-4-4.4688-9.375-1.625-5.3594-1.625-10.438z\"/><path id=\"DejaVuSans-48\" d=\"m31.781 66.406q-7.6094 0-11.453-7.5-3.8281-7.4844-3.8281-22.531 0-14.984 3.8281-22.484 3.8438-7.5 11.453-7.5 7.6719 0 11.5 7.5 3.8438 7.5 3.8438 22.484 0 15.047-3.8438 22.531-3.8281 7.5-11.5 7.5zm0 7.8125q12.266 0 18.734-9.7031 6.4688-9.6875 6.4688-28.141 0-18.406-6.4688-28.109-6.4688-9.6875-18.734-9.6875-12.25 0-18.719 9.6875-6.4688 9.7031-6.4688 28.109 0 18.453 6.4688 28.141 6.4688 9.7031 18.719 9.7031z\"/></defs><g transform=\"translate(36.253 48.012) scale(.1625 -.1625)\"><use xlink:href=\"#DejaVuSans-Oblique-113\"/><use transform=\"translate(63.477 -16.406) scale(.7)\" xlink:href=\"#DejaVuSans-48\"/></g></g><g clip-path=\"url(#pfd63a2f5ce)\"><defs><path id=\"DejaVuSans-49\" d=\"m12.406 8.2969h16.109v55.625l-17.531-3.5156v8.9844l17.438 3.5156h9.8594v-64.609h16.109v-8.2969h-41.984z\"/></defs><g transform=\"translate(36.253 93.463) scale(.1625 -.1625)\"><use xlink:href=\"#DejaVuSans-Oblique-113\"/><use transform=\"translate(63.477 -16.406) scale(.7)\" xlink:href=\"#DejaVuSans-49\"/></g></g><g clip-path=\"url(#pfd63a2f5ce)\"><defs><path id=\"DejaVuSans-50\" d=\"m19.188 8.2969h34.422v-8.2969h-46.281v8.2969q5.6094 5.8125 15.297 15.594 9.7031 9.7969 12.188 12.641 4.7344 5.3125 6.6094 9 1.8906 3.6875 1.8906 7.25 0 5.8125-4.0781 9.4688-4.0781 3.6719-10.625 3.6719-4.6406 0-9.7969-1.6094-5.1406-1.6094-11-4.8906v9.9688q5.9531 2.3906 11.125 3.6094 5.1875 1.2188 9.4844 1.2188 11.328 0 18.062-5.6719 6.7344-5.6562 6.7344-15.125 0-4.5-1.6875-8.5312-1.6719-4.0156-6.125-9.4844-1.2188-1.4219-7.7656-8.1875-6.5312-6.7656-18.453-18.922z\"/></defs><g transform=\"translate(67.926 127.75) scale(.104 -.104)\"><use xlink:href=\"#DejaVuSans-50\"/></g></g><g clip-path=\"url(#pfd63a2f5ce)\"><defs><path id=\"DejaVuSans-98\" d=\"m48.688 27.297q0 9.9062-4.0781 15.547t-11.203 5.6406q-7.1406 0-11.219-5.6406t-4.0781-15.547 4.0781-15.547 11.219-5.6406q7.125 0 11.203 5.6406t4.0781 15.547zm-30.578 19.094q2.8438 4.875 7.1562 7.2344 4.3281 2.375 10.328 2.375 9.9688 0 16.188-7.9062 6.2344-7.9062 6.2344-20.797t-6.2344-20.812q-6.2188-7.9062-16.188-7.9062-6 0-10.328 2.375-4.3125 2.375-7.1562 7.25v-8.2031h-9.0312v75.984h9.0312z\"/></defs><g transform=\"translate(43.975 138.95) scale(.1625 -.1625)\"><use xlink:href=\"#DejaVuSans-98\"/></g></g><defs><clipPath id=\"pfd63a2f5ce\"><rect x=\"7.2\" y=\"7.2\" width=\"65.271\" height=\"154.53\"/></clipPath></defs></svg>"
            ],
            "text/plain": [
              "<Figure size 86.452x204.68 with 1 Axes>"
            ]
          },
          "execution_count": 56,
          "metadata": {},
          "output_type": "execute_result"
        }
      ],
      "source": [
        "puzzle.get_circuit().draw(output='mpl')"
      ]
    },
    {
      "cell_type": "markdown",
      "metadata": {
        "id": "pZqyK60OVCcm"
      },
      "source": [
        "\n",
        "\n",
        "### الأحجية التاسعة\n",
        "\n",
        "#### مقدمة\n",
        "\n",
        "ولغز آخر قائم على المبادلة.\n",
        "\n",
        "#### تدريب\n",
        "* بدّل الكيوبتس\n",
        "  * شغّل مخرج Z لـ q[0].\n",
        "  * أطفئ مخرج Z لـ q[1].\n"
      ]
    },
    {
      "cell_type": "code",
      "execution_count": null,
      "metadata": {
        "id": "cUav3YPoVCcm"
      },
      "outputs": [],
      "source": [
        "initialize = [['x','1']]\n",
        "success_condition = {'IZ':1.0,'ZI':-1.0}\n",
        "allowed_gates = {'0': {'h':0}, '1': {'h':0}, 'both': {'cz':0}}\n",
        "vi = [[], True, True]\n",
        "qubit_names = {'0':'q[0]', '1':'q[1]'}\n",
        "puzzle = hello_quantum.run_game(initialize, success_condition, allowed_gates, vi, qubit_names,shots=2000)"
      ]
    },
    {
      "cell_type": "code",
      "execution_count": null,
      "metadata": {
        "id": "zo_FOEMuVCcm",
        "outputId": "71087845-5874-4f9b-fb1a-42804a756ff5"
      },
      "outputs": [
        {
          "data": {
            "image/svg+xml": [
              "<?xml version=\"1.0\" encoding=\"UTF-8\"?><!DOCTYPE svg  PUBLIC '-//W3C//DTD SVG 1.1//EN'  'http://www.w3.org/Graphics/SVG/1.1/DTD/svg11.dtd'><svg width=\"79.671pt\" height=\"168.93pt\" version=\"1.1\" viewBox=\"0 0 79.671 168.93\" xmlns=\"http://www.w3.org/2000/svg\" xmlns:xlink=\"http://www.w3.org/1999/xlink\"><defs><style type=\"text/css\">*{stroke-linecap:butt;stroke-linejoin:round;}</style></defs><path d=\"m0 168.93h79.671v-168.93h-79.671z\" fill=\"#ffffff\"/><path d=\"m63.381 43.561h4.5451\" clip-path=\"url(#pb35bbd82cb)\" fill=\"none\" stroke=\"#000000\" stroke-linecap=\"square\" stroke-width=\"2\"/><path d=\"m63.381 89.012h4.5451\" clip-path=\"url(#pb35bbd82cb)\" fill=\"none\" stroke=\"#000000\" stroke-linecap=\"square\" stroke-width=\"2\"/><path d=\"m63.381 132.99h4.5451\" clip-path=\"url(#pb35bbd82cb)\" fill=\"none\" stroke=\"#778899\" stroke-linecap=\"square\" stroke-width=\"2\"/><path d=\"m63.381 135.94h4.5451\" clip-path=\"url(#pb35bbd82cb)\" fill=\"none\" stroke=\"#778899\" stroke-linecap=\"square\" stroke-width=\"2\"/><path d=\"m72.471 139.01 4.5451-9.0902\" clip-path=\"url(#pb35bbd82cb)\" fill=\"none\" stroke=\"#778899\" stroke-linecap=\"square\" stroke-width=\"1.5\"/><g clip-path=\"url(#pb35bbd82cb)\"><defs><path id=\"DejaVuSans-Oblique-113\" d=\"m41.703 8.2031q-3.6094-4.7344-8.5312-7.1875-4.9062-2.4375-10.859-2.4375-8.2969 0-13.016 5.5938-4.7031 5.5938-4.7031 15.406 0 7.9062 2.9062 15.281t8.3281 13.234q3.5156 3.8125 8.0781 5.8594t9.5938 2.0469q6.0469 0 9.9531-2.3906t5.6719-7.2188l1.5625 8.2031h9.0312l-14.594-75.203h-9.0469zm-27.781 12.703q0-7.2344 3.0156-11.016 3.0312-3.7812 8.75-3.7812 8.5 0 14.5 8.125t6 19.75q0 7.0312-3.1094 10.766-3.0938 3.7344-8.8906 3.7344-4.25 0-7.875-1.9844-3.6094-1.9688-6.2969-5.7812-2.8281-4-4.4688-9.375-1.625-5.3594-1.625-10.438z\"/><path id=\"DejaVuSans-48\" d=\"m31.781 66.406q-7.6094 0-11.453-7.5-3.8281-7.4844-3.8281-22.531 0-14.984 3.8281-22.484 3.8438-7.5 11.453-7.5 7.6719 0 11.5 7.5 3.8438 7.5 3.8438 22.484 0 15.047-3.8438 22.531-3.8281 7.5-11.5 7.5zm0 7.8125q12.266 0 18.734-9.7031 6.4688-9.6875 6.4688-28.141 0-18.406-6.4688-28.109-6.4688-9.6875-18.734-9.6875-12.25 0-18.719 9.6875-6.4688 9.7031-6.4688 28.109 0 18.453 6.4688 28.141 6.4688 9.7031 18.719 9.7031z\"/></defs><g transform=\"translate(36.253 48.012) scale(.1625 -.1625)\"><use xlink:href=\"#DejaVuSans-Oblique-113\"/><use transform=\"translate(63.477 -16.406) scale(.7)\" xlink:href=\"#DejaVuSans-48\"/></g></g><g clip-path=\"url(#pb35bbd82cb)\"><defs><path id=\"DejaVuSans-49\" d=\"m12.406 8.2969h16.109v55.625l-17.531-3.5156v8.9844l17.438 3.5156h9.8594v-64.609h16.109v-8.2969h-41.984z\"/></defs><g transform=\"translate(36.253 93.463) scale(.1625 -.1625)\"><use xlink:href=\"#DejaVuSans-Oblique-113\"/><use transform=\"translate(63.477 -16.406) scale(.7)\" xlink:href=\"#DejaVuSans-49\"/></g></g><g clip-path=\"url(#pb35bbd82cb)\"><defs><path id=\"DejaVuSans-50\" d=\"m19.188 8.2969h34.422v-8.2969h-46.281v8.2969q5.6094 5.8125 15.297 15.594 9.7031 9.7969 12.188 12.641 4.7344 5.3125 6.6094 9 1.8906 3.6875 1.8906 7.25 0 5.8125-4.0781 9.4688-4.0781 3.6719-10.625 3.6719-4.6406 0-9.7969-1.6094-5.1406-1.6094-11-4.8906v9.9688q5.9531 2.3906 11.125 3.6094 5.1875 1.2188 9.4844 1.2188 11.328 0 18.062-5.6719 6.7344-5.6562 6.7344-15.125 0-4.5-1.6875-8.5312-1.6719-4.0156-6.125-9.4844-1.2188-1.4219-7.7656-8.1875-6.5312-6.7656-18.453-18.922z\"/></defs><g transform=\"translate(67.926 127.75) scale(.104 -.104)\"><use xlink:href=\"#DejaVuSans-50\"/></g></g><g clip-path=\"url(#pb35bbd82cb)\"><defs><path id=\"DejaVuSans-98\" d=\"m48.688 27.297q0 9.9062-4.0781 15.547t-11.203 5.6406q-7.1406 0-11.219-5.6406t-4.0781-15.547 4.0781-15.547 11.219-5.6406q7.125 0 11.203 5.6406t4.0781 15.547zm-30.578 19.094q2.8438 4.875 7.1562 7.2344 4.3281 2.375 10.328 2.375 9.9688 0 16.188-7.9062 6.2344-7.9062 6.2344-20.797t-6.2344-20.812q-6.2188-7.9062-16.188-7.9062-6 0-10.328 2.375-4.3125 2.375-7.1562 7.25v-8.2031h-9.0312v75.984h9.0312z\"/></defs><g transform=\"translate(43.975 138.95) scale(.1625 -.1625)\"><use xlink:href=\"#DejaVuSans-98\"/></g></g><defs><clipPath id=\"pb35bbd82cb\"><rect x=\"7.2\" y=\"7.2\" width=\"65.271\" height=\"154.53\"/></clipPath></defs></svg>"
            ],
            "text/plain": [
              "<Figure size 86.452x204.68 with 1 Axes>"
            ]
          },
          "execution_count": 58,
          "metadata": {},
          "output_type": "execute_result"
        }
      ],
      "source": [
        "puzzle.get_circuit().draw(output='mpl')"
      ]
    },
    {
      "cell_type": "markdown",
      "metadata": {
        "id": "OUIt2N67VCcm"
      },
      "source": [
        "\n",
        "\n",
        "## المستوى الرابع: ما بعد بوابات كليفر\n",
        "\n",
        "\n",
        "\n",
        "\n",
        "\n",
        "\n"
      ]
    },
    {
      "cell_type": "markdown",
      "metadata": {
        "id": "aGMvOE95VCcm"
      },
      "source": [
        "### الأحجية الأولى - أ\n",
        "\n",
        "####مقدمة\n",
        "\n",
        "البوابات التي رأيتها حتى الآن تسمى \"بوابات كليفر\". إنها مهمة جدًا لنقل المعلومات وتلاعبها في أجهزة الكمبيوتر الكمومية. ومع ذلك، لا يمكننا إنشاء خوارزميات يمكنها التفوق على أجهزة الكمبيوتر القياسية باستخدام بوابات كليفر وحدها. نحتاج إلى بوابات جديدة.\n",
        "\n",
        "هذا اللغز يحتوي على شيء يمكنك تجربته. ما عليك سوى القيام بذلك عدة مرات، ومعرفة ما إذا كان يمكنك معرفة ما يفعله.\n",
        "\n",
        "####  تدريب\n",
        "* طبق بوابة ry(pi/4) أربع مرات على q[0].\n",
        "\n"
      ]
    },
    {
      "cell_type": "code",
      "execution_count": null,
      "metadata": {
        "id": "bLiXfXjcVCcm"
      },
      "outputs": [],
      "source": [
        "initialize = []\n",
        "success_condition = {}\n",
        "allowed_gates = {'0': {'ry(pi/4)': 4}, '1': {}, 'both': {}}\n",
        "vi = [[], True, True]\n",
        "qubit_names = {'0':'q[0]', '1':'q[1]'}\n",
        "puzzle = hello_quantum.run_game(initialize, success_condition, allowed_gates, vi, qubit_names)"
      ]
    },
    {
      "cell_type": "code",
      "execution_count": null,
      "metadata": {
        "id": "BgIBsRHXVCcm",
        "outputId": "324d2b6e-ec5a-42ed-b3dd-fc73e9c95667"
      },
      "outputs": [
        {
          "data": {
            "image/svg+xml": [
              "<?xml version=\"1.0\" encoding=\"UTF-8\"?><!DOCTYPE svg  PUBLIC '-//W3C//DTD SVG 1.1//EN'  'http://www.w3.org/Graphics/SVG/1.1/DTD/svg11.dtd'><svg width=\"79.671pt\" height=\"168.93pt\" version=\"1.1\" viewBox=\"0 0 79.671 168.93\" xmlns=\"http://www.w3.org/2000/svg\" xmlns:xlink=\"http://www.w3.org/1999/xlink\"><defs><style type=\"text/css\">*{stroke-linecap:butt;stroke-linejoin:round;}</style></defs><path d=\"m0 168.93h79.671v-168.93h-79.671z\" fill=\"#ffffff\"/><path d=\"m63.381 43.561h4.5451\" clip-path=\"url(#p1f4956f7b7)\" fill=\"none\" stroke=\"#000000\" stroke-linecap=\"square\" stroke-width=\"2\"/><path d=\"m63.381 89.012h4.5451\" clip-path=\"url(#p1f4956f7b7)\" fill=\"none\" stroke=\"#000000\" stroke-linecap=\"square\" stroke-width=\"2\"/><path d=\"m63.381 132.99h4.5451\" clip-path=\"url(#p1f4956f7b7)\" fill=\"none\" stroke=\"#778899\" stroke-linecap=\"square\" stroke-width=\"2\"/><path d=\"m63.381 135.94h4.5451\" clip-path=\"url(#p1f4956f7b7)\" fill=\"none\" stroke=\"#778899\" stroke-linecap=\"square\" stroke-width=\"2\"/><path d=\"m72.471 139.01 4.5451-9.0902\" clip-path=\"url(#p1f4956f7b7)\" fill=\"none\" stroke=\"#778899\" stroke-linecap=\"square\" stroke-width=\"1.5\"/><g clip-path=\"url(#p1f4956f7b7)\"><defs><path id=\"DejaVuSans-Oblique-113\" d=\"m41.703 8.2031q-3.6094-4.7344-8.5312-7.1875-4.9062-2.4375-10.859-2.4375-8.2969 0-13.016 5.5938-4.7031 5.5938-4.7031 15.406 0 7.9062 2.9062 15.281t8.3281 13.234q3.5156 3.8125 8.0781 5.8594t9.5938 2.0469q6.0469 0 9.9531-2.3906t5.6719-7.2188l1.5625 8.2031h9.0312l-14.594-75.203h-9.0469zm-27.781 12.703q0-7.2344 3.0156-11.016 3.0312-3.7812 8.75-3.7812 8.5 0 14.5 8.125t6 19.75q0 7.0312-3.1094 10.766-3.0938 3.7344-8.8906 3.7344-4.25 0-7.875-1.9844-3.6094-1.9688-6.2969-5.7812-2.8281-4-4.4688-9.375-1.625-5.3594-1.625-10.438z\"/><path id=\"DejaVuSans-48\" d=\"m31.781 66.406q-7.6094 0-11.453-7.5-3.8281-7.4844-3.8281-22.531 0-14.984 3.8281-22.484 3.8438-7.5 11.453-7.5 7.6719 0 11.5 7.5 3.8438 7.5 3.8438 22.484 0 15.047-3.8438 22.531-3.8281 7.5-11.5 7.5zm0 7.8125q12.266 0 18.734-9.7031 6.4688-9.6875 6.4688-28.141 0-18.406-6.4688-28.109-6.4688-9.6875-18.734-9.6875-12.25 0-18.719 9.6875-6.4688 9.7031-6.4688 28.109 0 18.453 6.4688 28.141 6.4688 9.7031 18.719 9.7031z\"/></defs><g transform=\"translate(36.253 48.012) scale(.1625 -.1625)\"><use xlink:href=\"#DejaVuSans-Oblique-113\"/><use transform=\"translate(63.477 -16.406) scale(.7)\" xlink:href=\"#DejaVuSans-48\"/></g></g><g clip-path=\"url(#p1f4956f7b7)\"><defs><path id=\"DejaVuSans-49\" d=\"m12.406 8.2969h16.109v55.625l-17.531-3.5156v8.9844l17.438 3.5156h9.8594v-64.609h16.109v-8.2969h-41.984z\"/></defs><g transform=\"translate(36.253 93.463) scale(.1625 -.1625)\"><use xlink:href=\"#DejaVuSans-Oblique-113\"/><use transform=\"translate(63.477 -16.406) scale(.7)\" xlink:href=\"#DejaVuSans-49\"/></g></g><g clip-path=\"url(#p1f4956f7b7)\"><defs><path id=\"DejaVuSans-50\" d=\"m19.188 8.2969h34.422v-8.2969h-46.281v8.2969q5.6094 5.8125 15.297 15.594 9.7031 9.7969 12.188 12.641 4.7344 5.3125 6.6094 9 1.8906 3.6875 1.8906 7.25 0 5.8125-4.0781 9.4688-4.0781 3.6719-10.625 3.6719-4.6406 0-9.7969-1.6094-5.1406-1.6094-11-4.8906v9.9688q5.9531 2.3906 11.125 3.6094 5.1875 1.2188 9.4844 1.2188 11.328 0 18.062-5.6719 6.7344-5.6562 6.7344-15.125 0-4.5-1.6875-8.5312-1.6719-4.0156-6.125-9.4844-1.2188-1.4219-7.7656-8.1875-6.5312-6.7656-18.453-18.922z\"/></defs><g transform=\"translate(67.926 127.75) scale(.104 -.104)\"><use xlink:href=\"#DejaVuSans-50\"/></g></g><g clip-path=\"url(#p1f4956f7b7)\"><defs><path id=\"DejaVuSans-98\" d=\"m48.688 27.297q0 9.9062-4.0781 15.547t-11.203 5.6406q-7.1406 0-11.219-5.6406t-4.0781-15.547 4.0781-15.547 11.219-5.6406q7.125 0 11.203 5.6406t4.0781 15.547zm-30.578 19.094q2.8438 4.875 7.1562 7.2344 4.3281 2.375 10.328 2.375 9.9688 0 16.188-7.9062 6.2344-7.9062 6.2344-20.797t-6.2344-20.812q-6.2188-7.9062-16.188-7.9062-6 0-10.328 2.375-4.3125 2.375-7.1562 7.25v-8.2031h-9.0312v75.984h9.0312z\"/></defs><g transform=\"translate(43.975 138.95) scale(.1625 -.1625)\"><use xlink:href=\"#DejaVuSans-98\"/></g></g><defs><clipPath id=\"p1f4956f7b7\"><rect x=\"7.2\" y=\"7.2\" width=\"65.271\" height=\"154.53\"/></clipPath></defs></svg>"
            ],
            "text/plain": [
              "<Figure size 86.452x204.68 with 1 Axes>"
            ]
          },
          "execution_count": 60,
          "metadata": {},
          "output_type": "execute_result"
        }
      ],
      "source": [
        "puzzle.get_circuit().draw(output='mpl')"
      ]
    },
    {
      "cell_type": "markdown",
      "metadata": {
        "id": "Mo63DPHRVCcm"
      },
      "source": [
        "####  خاتمة\n",
        "\n",
        "أحسنت إذا كنت قادرًا على حلها! بالنسبة لبقية منا، دعونا نجرب شيئًا جديدًا لمساعدتنا في معرفة ذلك."
      ]
    },
    {
      "cell_type": "markdown",
      "metadata": {
        "id": "PHA4WaLbVCcm"
      },
      "source": [
        "### الأحجية الاولى - ب\n",
        "\n",
        "#### مقدمة\n",
        "\n",
        "لفهم البوابة التي رأيناها للتو بشكل أفضل، سنستخدم طريقة مختلفة قليلاً لتصور الكيوبيتات. في هذا التصور، سيتم تمثيل الإخراج المؤكد لإعطاء 0 بخط أبيض بدلاً من دائرة بيضاء. وسيتم تمثيل الإخراج المؤكد لإعطاء 1 بخط أسود بدلاً من دائرة سوداء. بالنسبة للإخراج العشوائي، سترى خطًا جزء منه أبيض والجزء الآخر أسود بدلاً من دائرة رمادية.\n",
        "\n",
        "إليك تدريب قديم لمساعدتك على التعود على هذا التصور الجديد:\n",
        "\n",
        "####  تدريب\n",
        "\n",
        "* اجعل مخرجي X متطابقين مؤكدًا."
      ]
    },
    {
      "cell_type": "code",
      "execution_count": null,
      "metadata": {
        "id": "nklCAcsWVCcm"
      },
      "outputs": [],
      "source": [
        "initialize = [['x','0']]\n",
        "success_condition = {'XX': 1.0}\n",
        "allowed_gates = {'0': {'x': 0, 'z': 0, 'h': 0}, '1': {'x': 0, 'z': 0, 'h': 0}, 'both': {}}\n",
        "vi = [[], True, True]\n",
        "qubit_names = {'0':'q[0]', '1':'q[1]'}\n",
        "puzzle = hello_quantum.run_game(initialize, success_condition, allowed_gates, vi, qubit_names, mode='line')"
      ]
    },
    {
      "cell_type": "code",
      "execution_count": null,
      "metadata": {
        "id": "zwVYOqqxVCcm",
        "outputId": "3b50dd44-cbd7-4d80-e7de-23ba7c90e148"
      },
      "outputs": [
        {
          "data": {
            "image/svg+xml": [
              "<?xml version=\"1.0\" encoding=\"UTF-8\"?><!DOCTYPE svg  PUBLIC '-//W3C//DTD SVG 1.1//EN'  'http://www.w3.org/Graphics/SVG/1.1/DTD/svg11.dtd'><svg width=\"79.671pt\" height=\"168.93pt\" version=\"1.1\" viewBox=\"0 0 79.671 168.93\" xmlns=\"http://www.w3.org/2000/svg\" xmlns:xlink=\"http://www.w3.org/1999/xlink\"><defs><style type=\"text/css\">*{stroke-linecap:butt;stroke-linejoin:round;}</style></defs><path d=\"m0 168.93h79.671v-168.93h-79.671z\" fill=\"#ffffff\"/><path d=\"m63.381 43.561h4.5451\" clip-path=\"url(#p496bc474a3)\" fill=\"none\" stroke=\"#000000\" stroke-linecap=\"square\" stroke-width=\"2\"/><path d=\"m63.381 89.012h4.5451\" clip-path=\"url(#p496bc474a3)\" fill=\"none\" stroke=\"#000000\" stroke-linecap=\"square\" stroke-width=\"2\"/><path d=\"m63.381 132.99h4.5451\" clip-path=\"url(#p496bc474a3)\" fill=\"none\" stroke=\"#778899\" stroke-linecap=\"square\" stroke-width=\"2\"/><path d=\"m63.381 135.94h4.5451\" clip-path=\"url(#p496bc474a3)\" fill=\"none\" stroke=\"#778899\" stroke-linecap=\"square\" stroke-width=\"2\"/><path d=\"m72.471 139.01 4.5451-9.0902\" clip-path=\"url(#p496bc474a3)\" fill=\"none\" stroke=\"#778899\" stroke-linecap=\"square\" stroke-width=\"1.5\"/><g clip-path=\"url(#p496bc474a3)\"><defs><path id=\"DejaVuSans-Oblique-113\" d=\"m41.703 8.2031q-3.6094-4.7344-8.5312-7.1875-4.9062-2.4375-10.859-2.4375-8.2969 0-13.016 5.5938-4.7031 5.5938-4.7031 15.406 0 7.9062 2.9062 15.281t8.3281 13.234q3.5156 3.8125 8.0781 5.8594t9.5938 2.0469q6.0469 0 9.9531-2.3906t5.6719-7.2188l1.5625 8.2031h9.0312l-14.594-75.203h-9.0469zm-27.781 12.703q0-7.2344 3.0156-11.016 3.0312-3.7812 8.75-3.7812 8.5 0 14.5 8.125t6 19.75q0 7.0312-3.1094 10.766-3.0938 3.7344-8.8906 3.7344-4.25 0-7.875-1.9844-3.6094-1.9688-6.2969-5.7812-2.8281-4-4.4688-9.375-1.625-5.3594-1.625-10.438z\"/><path id=\"DejaVuSans-48\" d=\"m31.781 66.406q-7.6094 0-11.453-7.5-3.8281-7.4844-3.8281-22.531 0-14.984 3.8281-22.484 3.8438-7.5 11.453-7.5 7.6719 0 11.5 7.5 3.8438 7.5 3.8438 22.484 0 15.047-3.8438 22.531-3.8281 7.5-11.5 7.5zm0 7.8125q12.266 0 18.734-9.7031 6.4688-9.6875 6.4688-28.141 0-18.406-6.4688-28.109-6.4688-9.6875-18.734-9.6875-12.25 0-18.719 9.6875-6.4688 9.7031-6.4688 28.109 0 18.453 6.4688 28.141 6.4688 9.7031 18.719 9.7031z\"/></defs><g transform=\"translate(36.253 48.012) scale(.1625 -.1625)\"><use xlink:href=\"#DejaVuSans-Oblique-113\"/><use transform=\"translate(63.477 -16.406) scale(.7)\" xlink:href=\"#DejaVuSans-48\"/></g></g><g clip-path=\"url(#p496bc474a3)\"><defs><path id=\"DejaVuSans-49\" d=\"m12.406 8.2969h16.109v55.625l-17.531-3.5156v8.9844l17.438 3.5156h9.8594v-64.609h16.109v-8.2969h-41.984z\"/></defs><g transform=\"translate(36.253 93.463) scale(.1625 -.1625)\"><use xlink:href=\"#DejaVuSans-Oblique-113\"/><use transform=\"translate(63.477 -16.406) scale(.7)\" xlink:href=\"#DejaVuSans-49\"/></g></g><g clip-path=\"url(#p496bc474a3)\"><defs><path id=\"DejaVuSans-50\" d=\"m19.188 8.2969h34.422v-8.2969h-46.281v8.2969q5.6094 5.8125 15.297 15.594 9.7031 9.7969 12.188 12.641 4.7344 5.3125 6.6094 9 1.8906 3.6875 1.8906 7.25 0 5.8125-4.0781 9.4688-4.0781 3.6719-10.625 3.6719-4.6406 0-9.7969-1.6094-5.1406-1.6094-11-4.8906v9.9688q5.9531 2.3906 11.125 3.6094 5.1875 1.2188 9.4844 1.2188 11.328 0 18.062-5.6719 6.7344-5.6562 6.7344-15.125 0-4.5-1.6875-8.5312-1.6719-4.0156-6.125-9.4844-1.2188-1.4219-7.7656-8.1875-6.5312-6.7656-18.453-18.922z\"/></defs><g transform=\"translate(67.926 127.75) scale(.104 -.104)\"><use xlink:href=\"#DejaVuSans-50\"/></g></g><g clip-path=\"url(#p496bc474a3)\"><defs><path id=\"DejaVuSans-98\" d=\"m48.688 27.297q0 9.9062-4.0781 15.547t-11.203 5.6406q-7.1406 0-11.219-5.6406t-4.0781-15.547 4.0781-15.547 11.219-5.6406q7.125 0 11.203 5.6406t4.0781 15.547zm-30.578 19.094q2.8438 4.875 7.1562 7.2344 4.3281 2.375 10.328 2.375 9.9688 0 16.188-7.9062 6.2344-7.9062 6.2344-20.797t-6.2344-20.812q-6.2188-7.9062-16.188-7.9062-6 0-10.328 2.375-4.3125 2.375-7.1562 7.25v-8.2031h-9.0312v75.984h9.0312z\"/></defs><g transform=\"translate(43.975 138.95) scale(.1625 -.1625)\"><use xlink:href=\"#DejaVuSans-98\"/></g></g><defs><clipPath id=\"p496bc474a3\"><rect x=\"7.2\" y=\"7.2\" width=\"65.271\" height=\"154.53\"/></clipPath></defs></svg>"
            ],
            "text/plain": [
              "<Figure size 86.452x204.68 with 1 Axes>"
            ]
          },
          "execution_count": 62,
          "metadata": {},
          "output_type": "execute_result"
        }
      ],
      "source": [
        "puzzle.get_circuit().draw(output='mpl')"
      ]
    },
    {
      "cell_type": "markdown",
      "metadata": {
        "id": "wr_BuEyqVCcm"
      },
      "source": [
        "### الأحجية الأولى - ج\n",
        "\n",
        "#### مقدمة\n",
        "\n",
        "في هذا اللغز، سترى شيئًا جديدًا يمكنك فعله: bloch. هذه ليست بوابة في الواقع، ولن تظهر في البرنامج الكمومي. بدلاً من ذلك، تغير فقط التصور، من خلال رسم الخطين لكل كيوبيت فوق بعضهما البعض. كما أنه يضع نقطة حيث يتقاطع مستواها. باستخدام bloch، يجب أن تتمكن من معرفة كيفية عمل بوابة ry(pi/4).\n",
        "\n",
        "####  تدريب\n",
        "* شغّل الخط السفلي لـ q[0] تمامًا، واستخدم بوابة bloch."
      ]
    },
    {
      "cell_type": "code",
      "execution_count": null,
      "metadata": {
        "id": "5mS9-PuoVCcn"
      },
      "outputs": [],
      "source": [
        "initialize = []\n",
        "success_condition = {'ZI': -1.0}\n",
        "allowed_gates = {'0': {'bloch':1, 'ry(pi/4)': 0}, '1':{}, 'both': {'unbloch':0}}\n",
        "vi = [[], True, True]\n",
        "qubit_names = {'0':'q[0]', '1':'q[1]'}\n",
        "puzzle = hello_quantum.run_game(initialize, success_condition, allowed_gates, vi, qubit_names, mode='line')"
      ]
    },
    {
      "cell_type": "code",
      "execution_count": null,
      "metadata": {
        "id": "J-ADqrXzVCcn",
        "outputId": "61414e34-31a0-4c33-c6dc-43e200ac4d50"
      },
      "outputs": [
        {
          "data": {
            "image/svg+xml": [
              "<?xml version=\"1.0\" encoding=\"UTF-8\"?><!DOCTYPE svg  PUBLIC '-//W3C//DTD SVG 1.1//EN'  'http://www.w3.org/Graphics/SVG/1.1/DTD/svg11.dtd'><svg width=\"79.671pt\" height=\"168.93pt\" version=\"1.1\" viewBox=\"0 0 79.671 168.93\" xmlns=\"http://www.w3.org/2000/svg\" xmlns:xlink=\"http://www.w3.org/1999/xlink\"><defs><style type=\"text/css\">*{stroke-linecap:butt;stroke-linejoin:round;}</style></defs><path d=\"m0 168.93h79.671v-168.93h-79.671z\" fill=\"#ffffff\"/><path d=\"m63.381 43.561h4.5451\" clip-path=\"url(#pb3750521f0)\" fill=\"none\" stroke=\"#000000\" stroke-linecap=\"square\" stroke-width=\"2\"/><path d=\"m63.381 89.012h4.5451\" clip-path=\"url(#pb3750521f0)\" fill=\"none\" stroke=\"#000000\" stroke-linecap=\"square\" stroke-width=\"2\"/><path d=\"m63.381 132.99h4.5451\" clip-path=\"url(#pb3750521f0)\" fill=\"none\" stroke=\"#778899\" stroke-linecap=\"square\" stroke-width=\"2\"/><path d=\"m63.381 135.94h4.5451\" clip-path=\"url(#pb3750521f0)\" fill=\"none\" stroke=\"#778899\" stroke-linecap=\"square\" stroke-width=\"2\"/><path d=\"m72.471 139.01 4.5451-9.0902\" clip-path=\"url(#pb3750521f0)\" fill=\"none\" stroke=\"#778899\" stroke-linecap=\"square\" stroke-width=\"1.5\"/><g clip-path=\"url(#pb3750521f0)\"><defs><path id=\"DejaVuSans-Oblique-113\" d=\"m41.703 8.2031q-3.6094-4.7344-8.5312-7.1875-4.9062-2.4375-10.859-2.4375-8.2969 0-13.016 5.5938-4.7031 5.5938-4.7031 15.406 0 7.9062 2.9062 15.281t8.3281 13.234q3.5156 3.8125 8.0781 5.8594t9.5938 2.0469q6.0469 0 9.9531-2.3906t5.6719-7.2188l1.5625 8.2031h9.0312l-14.594-75.203h-9.0469zm-27.781 12.703q0-7.2344 3.0156-11.016 3.0312-3.7812 8.75-3.7812 8.5 0 14.5 8.125t6 19.75q0 7.0312-3.1094 10.766-3.0938 3.7344-8.8906 3.7344-4.25 0-7.875-1.9844-3.6094-1.9688-6.2969-5.7812-2.8281-4-4.4688-9.375-1.625-5.3594-1.625-10.438z\"/><path id=\"DejaVuSans-48\" d=\"m31.781 66.406q-7.6094 0-11.453-7.5-3.8281-7.4844-3.8281-22.531 0-14.984 3.8281-22.484 3.8438-7.5 11.453-7.5 7.6719 0 11.5 7.5 3.8438 7.5 3.8438 22.484 0 15.047-3.8438 22.531-3.8281 7.5-11.5 7.5zm0 7.8125q12.266 0 18.734-9.7031 6.4688-9.6875 6.4688-28.141 0-18.406-6.4688-28.109-6.4688-9.6875-18.734-9.6875-12.25 0-18.719 9.6875-6.4688 9.7031-6.4688 28.109 0 18.453 6.4688 28.141 6.4688 9.7031 18.719 9.7031z\"/></defs><g transform=\"translate(36.253 48.012) scale(.1625 -.1625)\"><use xlink:href=\"#DejaVuSans-Oblique-113\"/><use transform=\"translate(63.477 -16.406) scale(.7)\" xlink:href=\"#DejaVuSans-48\"/></g></g><g clip-path=\"url(#pb3750521f0)\"><defs><path id=\"DejaVuSans-49\" d=\"m12.406 8.2969h16.109v55.625l-17.531-3.5156v8.9844l17.438 3.5156h9.8594v-64.609h16.109v-8.2969h-41.984z\"/></defs><g transform=\"translate(36.253 93.463) scale(.1625 -.1625)\"><use xlink:href=\"#DejaVuSans-Oblique-113\"/><use transform=\"translate(63.477 -16.406) scale(.7)\" xlink:href=\"#DejaVuSans-49\"/></g></g><g clip-path=\"url(#pb3750521f0)\"><defs><path id=\"DejaVuSans-50\" d=\"m19.188 8.2969h34.422v-8.2969h-46.281v8.2969q5.6094 5.8125 15.297 15.594 9.7031 9.7969 12.188 12.641 4.7344 5.3125 6.6094 9 1.8906 3.6875 1.8906 7.25 0 5.8125-4.0781 9.4688-4.0781 3.6719-10.625 3.6719-4.6406 0-9.7969-1.6094-5.1406-1.6094-11-4.8906v9.9688q5.9531 2.3906 11.125 3.6094 5.1875 1.2188 9.4844 1.2188 11.328 0 18.062-5.6719 6.7344-5.6562 6.7344-15.125 0-4.5-1.6875-8.5312-1.6719-4.0156-6.125-9.4844-1.2188-1.4219-7.7656-8.1875-6.5312-6.7656-18.453-18.922z\"/></defs><g transform=\"translate(67.926 127.75) scale(.104 -.104)\"><use xlink:href=\"#DejaVuSans-50\"/></g></g><g clip-path=\"url(#pb3750521f0)\"><defs><path id=\"DejaVuSans-98\" d=\"m48.688 27.297q0 9.9062-4.0781 15.547t-11.203 5.6406q-7.1406 0-11.219-5.6406t-4.0781-15.547 4.0781-15.547 11.219-5.6406q7.125 0 11.203 5.6406t4.0781 15.547zm-30.578 19.094q2.8438 4.875 7.1562 7.2344 4.3281 2.375 10.328 2.375 9.9688 0 16.188-7.9062 6.2344-7.9062 6.2344-20.797t-6.2344-20.812q-6.2188-7.9062-16.188-7.9062-6 0-10.328 2.375-4.3125 2.375-7.1562 7.25v-8.2031h-9.0312v75.984h9.0312z\"/></defs><g transform=\"translate(43.975 138.95) scale(.1625 -.1625)\"><use xlink:href=\"#DejaVuSans-98\"/></g></g><defs><clipPath id=\"pb3750521f0\"><rect x=\"7.2\" y=\"7.2\" width=\"65.271\" height=\"154.53\"/></clipPath></defs></svg>"
            ],
            "text/plain": [
              "<Figure size 86.452x204.68 with 1 Axes>"
            ]
          },
          "execution_count": 64,
          "metadata": {},
          "output_type": "execute_result"
        }
      ],
      "source": [
        "puzzle.get_circuit().draw(output='mpl')"
      ]
    },
    {
      "cell_type": "markdown",
      "metadata": {
        "id": "6eKV4CG9VCcn"
      },
      "source": [
        "\n",
        "\n",
        "#### خاتمة\n",
        "\n",
        "إذا اتبعت النقاط، يجب أن تكون قد لاحظت أن تأثير بوابة ry(pi/4) هو تدويرها بمقدار π/4 راديان (أو 45 درجة). كما تتغير مستويات الخطوط لتتناسب. سيكون تأثير بوابة ry(-pi/4) هو نفسه، باستثناء أن الدوران يكون في الاتجاه الآخر.\n",
        "\n",
        "أيضًا، كما لاحظت على الأرجح، فإن استخدام bloch لا يقتصر على دمج الخطين لكل كيوبيت. بل إنه يدمج صفوفهما بأكملها."
      ]
    },
    {
      "cell_type": "markdown",
      "metadata": {
        "id": "Qx43tFUwVCcn"
      },
      "source": [
        "\n",
        "\n",
        "### الأحجية الثانية\n",
        "\n",
        "#### مقدمة\n",
        "\n",
        "الآن لنستخدم هذه البوابات على الكيوبيت الآخر أيضًا.\n",
        "\n",
        "#### تدريب\n",
        "* شغّل الخطوط السفلية تمامًا."
      ]
    },
    {
      "cell_type": "code",
      "execution_count": null,
      "metadata": {
        "id": "rJ-P7o3NVCcn"
      },
      "outputs": [],
      "source": [
        "initialize = [['h','0'],['h','1']]\n",
        "success_condition = {'ZI': -1.0,'IZ': -1.0}\n",
        "allowed_gates = {'0': {'bloch':0, 'ry(pi/4)': 0, 'ry(-pi/4)': 0}, '1': {'bloch':0, 'ry(pi/4)': 0, 'ry(-pi/4)': 0}, 'both': {'unbloch':0}}\n",
        "vi = [[], True, True]\n",
        "qubit_names = {'0':'q[0]', '1':'q[1]'}\n",
        "puzzle = hello_quantum.run_game(initialize, success_condition, allowed_gates, vi, qubit_names, mode='line')"
      ]
    },
    {
      "cell_type": "code",
      "execution_count": null,
      "metadata": {
        "id": "erhZoXPjVCcn",
        "outputId": "cc958978-aa9c-4bac-f9dc-a73707137b25"
      },
      "outputs": [
        {
          "data": {
            "image/svg+xml": [
              "<?xml version=\"1.0\" encoding=\"UTF-8\"?><!DOCTYPE svg  PUBLIC '-//W3C//DTD SVG 1.1//EN'  'http://www.w3.org/Graphics/SVG/1.1/DTD/svg11.dtd'><svg width=\"79.671pt\" height=\"168.93pt\" version=\"1.1\" viewBox=\"0 0 79.671 168.93\" xmlns=\"http://www.w3.org/2000/svg\" xmlns:xlink=\"http://www.w3.org/1999/xlink\"><defs><style type=\"text/css\">*{stroke-linecap:butt;stroke-linejoin:round;}</style></defs><path d=\"m0 168.93h79.671v-168.93h-79.671z\" fill=\"#ffffff\"/><path d=\"m63.381 43.561h4.5451\" clip-path=\"url(#pdcbae213fe)\" fill=\"none\" stroke=\"#000000\" stroke-linecap=\"square\" stroke-width=\"2\"/><path d=\"m63.381 89.012h4.5451\" clip-path=\"url(#pdcbae213fe)\" fill=\"none\" stroke=\"#000000\" stroke-linecap=\"square\" stroke-width=\"2\"/><path d=\"m63.381 132.99h4.5451\" clip-path=\"url(#pdcbae213fe)\" fill=\"none\" stroke=\"#778899\" stroke-linecap=\"square\" stroke-width=\"2\"/><path d=\"m63.381 135.94h4.5451\" clip-path=\"url(#pdcbae213fe)\" fill=\"none\" stroke=\"#778899\" stroke-linecap=\"square\" stroke-width=\"2\"/><path d=\"m72.471 139.01 4.5451-9.0902\" clip-path=\"url(#pdcbae213fe)\" fill=\"none\" stroke=\"#778899\" stroke-linecap=\"square\" stroke-width=\"1.5\"/><g clip-path=\"url(#pdcbae213fe)\"><defs><path id=\"DejaVuSans-Oblique-113\" d=\"m41.703 8.2031q-3.6094-4.7344-8.5312-7.1875-4.9062-2.4375-10.859-2.4375-8.2969 0-13.016 5.5938-4.7031 5.5938-4.7031 15.406 0 7.9062 2.9062 15.281t8.3281 13.234q3.5156 3.8125 8.0781 5.8594t9.5938 2.0469q6.0469 0 9.9531-2.3906t5.6719-7.2188l1.5625 8.2031h9.0312l-14.594-75.203h-9.0469zm-27.781 12.703q0-7.2344 3.0156-11.016 3.0312-3.7812 8.75-3.7812 8.5 0 14.5 8.125t6 19.75q0 7.0312-3.1094 10.766-3.0938 3.7344-8.8906 3.7344-4.25 0-7.875-1.9844-3.6094-1.9688-6.2969-5.7812-2.8281-4-4.4688-9.375-1.625-5.3594-1.625-10.438z\"/><path id=\"DejaVuSans-48\" d=\"m31.781 66.406q-7.6094 0-11.453-7.5-3.8281-7.4844-3.8281-22.531 0-14.984 3.8281-22.484 3.8438-7.5 11.453-7.5 7.6719 0 11.5 7.5 3.8438 7.5 3.8438 22.484 0 15.047-3.8438 22.531-3.8281 7.5-11.5 7.5zm0 7.8125q12.266 0 18.734-9.7031 6.4688-9.6875 6.4688-28.141 0-18.406-6.4688-28.109-6.4688-9.6875-18.734-9.6875-12.25 0-18.719 9.6875-6.4688 9.7031-6.4688 28.109 0 18.453 6.4688 28.141 6.4688 9.7031 18.719 9.7031z\"/></defs><g transform=\"translate(36.253 48.012) scale(.1625 -.1625)\"><use xlink:href=\"#DejaVuSans-Oblique-113\"/><use transform=\"translate(63.477 -16.406) scale(.7)\" xlink:href=\"#DejaVuSans-48\"/></g></g><g clip-path=\"url(#pdcbae213fe)\"><defs><path id=\"DejaVuSans-49\" d=\"m12.406 8.2969h16.109v55.625l-17.531-3.5156v8.9844l17.438 3.5156h9.8594v-64.609h16.109v-8.2969h-41.984z\"/></defs><g transform=\"translate(36.253 93.463) scale(.1625 -.1625)\"><use xlink:href=\"#DejaVuSans-Oblique-113\"/><use transform=\"translate(63.477 -16.406) scale(.7)\" xlink:href=\"#DejaVuSans-49\"/></g></g><g clip-path=\"url(#pdcbae213fe)\"><defs><path id=\"DejaVuSans-50\" d=\"m19.188 8.2969h34.422v-8.2969h-46.281v8.2969q5.6094 5.8125 15.297 15.594 9.7031 9.7969 12.188 12.641 4.7344 5.3125 6.6094 9 1.8906 3.6875 1.8906 7.25 0 5.8125-4.0781 9.4688-4.0781 3.6719-10.625 3.6719-4.6406 0-9.7969-1.6094-5.1406-1.6094-11-4.8906v9.9688q5.9531 2.3906 11.125 3.6094 5.1875 1.2188 9.4844 1.2188 11.328 0 18.062-5.6719 6.7344-5.6562 6.7344-15.125 0-4.5-1.6875-8.5312-1.6719-4.0156-6.125-9.4844-1.2188-1.4219-7.7656-8.1875-6.5312-6.7656-18.453-18.922z\"/></defs><g transform=\"translate(67.926 127.75) scale(.104 -.104)\"><use xlink:href=\"#DejaVuSans-50\"/></g></g><g clip-path=\"url(#pdcbae213fe)\"><defs><path id=\"DejaVuSans-98\" d=\"m48.688 27.297q0 9.9062-4.0781 15.547t-11.203 5.6406q-7.1406 0-11.219-5.6406t-4.0781-15.547 4.0781-15.547 11.219-5.6406q7.125 0 11.203 5.6406t4.0781 15.547zm-30.578 19.094q2.8438 4.875 7.1562 7.2344 4.3281 2.375 10.328 2.375 9.9688 0 16.188-7.9062 6.2344-7.9062 6.2344-20.797t-6.2344-20.812q-6.2188-7.9062-16.188-7.9062-6 0-10.328 2.375-4.3125 2.375-7.1562 7.25v-8.2031h-9.0312v75.984h9.0312z\"/></defs><g transform=\"translate(43.975 138.95) scale(.1625 -.1625)\"><use xlink:href=\"#DejaVuSans-98\"/></g></g><defs><clipPath id=\"pdcbae213fe\"><rect x=\"7.2\" y=\"7.2\" width=\"65.271\" height=\"154.53\"/></clipPath></defs></svg>"
            ],
            "text/plain": [
              "<Figure size 86.452x204.68 with 1 Axes>"
            ]
          },
          "execution_count": 66,
          "metadata": {},
          "output_type": "execute_result"
        }
      ],
      "source": [
        "puzzle.get_circuit().draw(output='mpl')"
      ]
    },
    {
      "cell_type": "markdown",
      "metadata": {
        "id": "xuhdiQAyVCcn"
      },
      "source": [
        "\n",
        "\n",
        "### الأحجية الثالثة\n",
        "\n",
        "#### مقدمة\n",
        "\n",
        "إليك لغزًا يمكنك حله باستخدام بوابة cx بسيطة، أو بوابة cz وبعض بوابات h. لسوء الحظ، ليس لديك بوابة cx ولا بوابة h، لذلك ستحتاج إلى معرفة كيفية قيام بوابات cz و ry بالمهمة.\n",
        "\n",
        "#### تدريب\n",
        "* اجعل مخرجي Z متطابقين."
      ]
    },
    {
      "cell_type": "code",
      "execution_count": null,
      "metadata": {
        "id": "EAJ35vjqVCcn"
      },
      "outputs": [],
      "source": [
        "initialize = [['h','0']]\n",
        "success_condition = {'ZZ': 1.0}\n",
        "allowed_gates = {'0': {}, '1': {'bloch':0, 'ry(pi/4)': 0, 'ry(-pi/4)': 0}, 'both': {'unbloch':0,'cz':0}}\n",
        "vi = [[], True, True]\n",
        "qubit_names = {'0':'q[0]', '1':'q[1]'}\n",
        "puzzle = hello_quantum.run_game(initialize, success_condition, allowed_gates, vi, qubit_names, mode='line')"
      ]
    },
    {
      "cell_type": "code",
      "execution_count": null,
      "metadata": {
        "id": "0GEV7NI3VCcn",
        "outputId": "d5849922-345b-494c-8cf9-17a8e82bae27"
      },
      "outputs": [
        {
          "data": {
            "image/svg+xml": [
              "<?xml version=\"1.0\" encoding=\"UTF-8\"?><!DOCTYPE svg  PUBLIC '-//W3C//DTD SVG 1.1//EN'  'http://www.w3.org/Graphics/SVG/1.1/DTD/svg11.dtd'><svg width=\"79.671pt\" height=\"168.93pt\" version=\"1.1\" viewBox=\"0 0 79.671 168.93\" xmlns=\"http://www.w3.org/2000/svg\" xmlns:xlink=\"http://www.w3.org/1999/xlink\"><defs><style type=\"text/css\">*{stroke-linecap:butt;stroke-linejoin:round;}</style></defs><path d=\"m0 168.93h79.671v-168.93h-79.671z\" fill=\"#ffffff\"/><path d=\"m63.381 43.561h4.5451\" clip-path=\"url(#p3639999632)\" fill=\"none\" stroke=\"#000000\" stroke-linecap=\"square\" stroke-width=\"2\"/><path d=\"m63.381 89.012h4.5451\" clip-path=\"url(#p3639999632)\" fill=\"none\" stroke=\"#000000\" stroke-linecap=\"square\" stroke-width=\"2\"/><path d=\"m63.381 132.99h4.5451\" clip-path=\"url(#p3639999632)\" fill=\"none\" stroke=\"#778899\" stroke-linecap=\"square\" stroke-width=\"2\"/><path d=\"m63.381 135.94h4.5451\" clip-path=\"url(#p3639999632)\" fill=\"none\" stroke=\"#778899\" stroke-linecap=\"square\" stroke-width=\"2\"/><path d=\"m72.471 139.01 4.5451-9.0902\" clip-path=\"url(#p3639999632)\" fill=\"none\" stroke=\"#778899\" stroke-linecap=\"square\" stroke-width=\"1.5\"/><g clip-path=\"url(#p3639999632)\"><defs><path id=\"DejaVuSans-Oblique-113\" d=\"m41.703 8.2031q-3.6094-4.7344-8.5312-7.1875-4.9062-2.4375-10.859-2.4375-8.2969 0-13.016 5.5938-4.7031 5.5938-4.7031 15.406 0 7.9062 2.9062 15.281t8.3281 13.234q3.5156 3.8125 8.0781 5.8594t9.5938 2.0469q6.0469 0 9.9531-2.3906t5.6719-7.2188l1.5625 8.2031h9.0312l-14.594-75.203h-9.0469zm-27.781 12.703q0-7.2344 3.0156-11.016 3.0312-3.7812 8.75-3.7812 8.5 0 14.5 8.125t6 19.75q0 7.0312-3.1094 10.766-3.0938 3.7344-8.8906 3.7344-4.25 0-7.875-1.9844-3.6094-1.9688-6.2969-5.7812-2.8281-4-4.4688-9.375-1.625-5.3594-1.625-10.438z\"/><path id=\"DejaVuSans-48\" d=\"m31.781 66.406q-7.6094 0-11.453-7.5-3.8281-7.4844-3.8281-22.531 0-14.984 3.8281-22.484 3.8438-7.5 11.453-7.5 7.6719 0 11.5 7.5 3.8438 7.5 3.8438 22.484 0 15.047-3.8438 22.531-3.8281 7.5-11.5 7.5zm0 7.8125q12.266 0 18.734-9.7031 6.4688-9.6875 6.4688-28.141 0-18.406-6.4688-28.109-6.4688-9.6875-18.734-9.6875-12.25 0-18.719 9.6875-6.4688 9.7031-6.4688 28.109 0 18.453 6.4688 28.141 6.4688 9.7031 18.719 9.7031z\"/></defs><g transform=\"translate(36.253 48.012) scale(.1625 -.1625)\"><use xlink:href=\"#DejaVuSans-Oblique-113\"/><use transform=\"translate(63.477 -16.406) scale(.7)\" xlink:href=\"#DejaVuSans-48\"/></g></g><g clip-path=\"url(#p3639999632)\"><defs><path id=\"DejaVuSans-49\" d=\"m12.406 8.2969h16.109v55.625l-17.531-3.5156v8.9844l17.438 3.5156h9.8594v-64.609h16.109v-8.2969h-41.984z\"/></defs><g transform=\"translate(36.253 93.463) scale(.1625 -.1625)\"><use xlink:href=\"#DejaVuSans-Oblique-113\"/><use transform=\"translate(63.477 -16.406) scale(.7)\" xlink:href=\"#DejaVuSans-49\"/></g></g><g clip-path=\"url(#p3639999632)\"><defs><path id=\"DejaVuSans-50\" d=\"m19.188 8.2969h34.422v-8.2969h-46.281v8.2969q5.6094 5.8125 15.297 15.594 9.7031 9.7969 12.188 12.641 4.7344 5.3125 6.6094 9 1.8906 3.6875 1.8906 7.25 0 5.8125-4.0781 9.4688-4.0781 3.6719-10.625 3.6719-4.6406 0-9.7969-1.6094-5.1406-1.6094-11-4.8906v9.9688q5.9531 2.3906 11.125 3.6094 5.1875 1.2188 9.4844 1.2188 11.328 0 18.062-5.6719 6.7344-5.6562 6.7344-15.125 0-4.5-1.6875-8.5312-1.6719-4.0156-6.125-9.4844-1.2188-1.4219-7.7656-8.1875-6.5312-6.7656-18.453-18.922z\"/></defs><g transform=\"translate(67.926 127.75) scale(.104 -.104)\"><use xlink:href=\"#DejaVuSans-50\"/></g></g><g clip-path=\"url(#p3639999632)\"><defs><path id=\"DejaVuSans-98\" d=\"m48.688 27.297q0 9.9062-4.0781 15.547t-11.203 5.6406q-7.1406 0-11.219-5.6406t-4.0781-15.547 4.0781-15.547 11.219-5.6406q7.125 0 11.203 5.6406t4.0781 15.547zm-30.578 19.094q2.8438 4.875 7.1562 7.2344 4.3281 2.375 10.328 2.375 9.9688 0 16.188-7.9062 6.2344-7.9062 6.2344-20.797t-6.2344-20.812q-6.2188-7.9062-16.188-7.9062-6 0-10.328 2.375-4.3125 2.375-7.1562 7.25v-8.2031h-9.0312v75.984h9.0312z\"/></defs><g transform=\"translate(43.975 138.95) scale(.1625 -.1625)\"><use xlink:href=\"#DejaVuSans-98\"/></g></g><defs><clipPath id=\"p3639999632\"><rect x=\"7.2\" y=\"7.2\" width=\"65.271\" height=\"154.53\"/></clipPath></defs></svg>"
            ],
            "text/plain": [
              "<Figure size 86.452x204.68 with 1 Axes>"
            ]
          },
          "execution_count": 68,
          "metadata": {},
          "output_type": "execute_result"
        }
      ],
      "source": [
        "puzzle.get_circuit().draw(output='mpl')"
      ]
    },
    {
      "cell_type": "markdown",
      "metadata": {
        "id": "rEpuEERAVCcn"
      },
      "source": [
        "\n",
        "\n",
        "### الأحجية الرابعة\n",
        "\n",
        "#### مقدمة\n",
        "\n",
        "باستخدام بوابات x أو z، يمكنك بفعالية عكس بوابة ry، لجعلها تتحرك في الاتجاه المعاكس.\n",
        "\n",
        "#### تدريب\n",
        "* أطفئ مخرج Z تمامًا باستخدام بوابة ry(pi/4) واحدة فقط على كل كيوبيت."
      ]
    },
    {
      "cell_type": "code",
      "execution_count": null,
      "metadata": {
        "id": "iRX8h0QwVCcn"
      },
      "outputs": [],
      "source": [
        "initialize = [['ry(pi/4)','0'],['ry(pi/4)','1']]\n",
        "success_condition = {'ZI': 1.0,'IZ': 1.0}\n",
        "allowed_gates = {'0': {'bloch':0, 'z':0, 'ry(pi/4)': 1}, '1': {'bloch':0, 'x':0, 'ry(pi/4)': 1}, 'both': {'unbloch':0}}\n",
        "vi = [[], True, True]\n",
        "qubit_names = {'0':'q[0]', '1':'q[1]'}\n",
        "puzzle = hello_quantum.run_game(initialize, success_condition, allowed_gates, vi, qubit_names, mode='line')"
      ]
    },
    {
      "cell_type": "code",
      "execution_count": null,
      "metadata": {
        "id": "pECH_kDXVCcn",
        "outputId": "50846b4f-dcc5-4329-cb1d-78c336cffdf8"
      },
      "outputs": [
        {
          "data": {
            "image/svg+xml": [
              "<?xml version=\"1.0\" encoding=\"UTF-8\"?><!DOCTYPE svg  PUBLIC '-//W3C//DTD SVG 1.1//EN'  'http://www.w3.org/Graphics/SVG/1.1/DTD/svg11.dtd'><svg width=\"79.671pt\" height=\"168.93pt\" version=\"1.1\" viewBox=\"0 0 79.671 168.93\" xmlns=\"http://www.w3.org/2000/svg\" xmlns:xlink=\"http://www.w3.org/1999/xlink\"><defs><style type=\"text/css\">*{stroke-linecap:butt;stroke-linejoin:round;}</style></defs><path d=\"m0 168.93h79.671v-168.93h-79.671z\" fill=\"#ffffff\"/><path d=\"m63.381 43.561h4.5451\" clip-path=\"url(#pee21e3f56e)\" fill=\"none\" stroke=\"#000000\" stroke-linecap=\"square\" stroke-width=\"2\"/><path d=\"m63.381 89.012h4.5451\" clip-path=\"url(#pee21e3f56e)\" fill=\"none\" stroke=\"#000000\" stroke-linecap=\"square\" stroke-width=\"2\"/><path d=\"m63.381 132.99h4.5451\" clip-path=\"url(#pee21e3f56e)\" fill=\"none\" stroke=\"#778899\" stroke-linecap=\"square\" stroke-width=\"2\"/><path d=\"m63.381 135.94h4.5451\" clip-path=\"url(#pee21e3f56e)\" fill=\"none\" stroke=\"#778899\" stroke-linecap=\"square\" stroke-width=\"2\"/><path d=\"m72.471 139.01 4.5451-9.0902\" clip-path=\"url(#pee21e3f56e)\" fill=\"none\" stroke=\"#778899\" stroke-linecap=\"square\" stroke-width=\"1.5\"/><g clip-path=\"url(#pee21e3f56e)\"><defs><path id=\"DejaVuSans-Oblique-113\" d=\"m41.703 8.2031q-3.6094-4.7344-8.5312-7.1875-4.9062-2.4375-10.859-2.4375-8.2969 0-13.016 5.5938-4.7031 5.5938-4.7031 15.406 0 7.9062 2.9062 15.281t8.3281 13.234q3.5156 3.8125 8.0781 5.8594t9.5938 2.0469q6.0469 0 9.9531-2.3906t5.6719-7.2188l1.5625 8.2031h9.0312l-14.594-75.203h-9.0469zm-27.781 12.703q0-7.2344 3.0156-11.016 3.0312-3.7812 8.75-3.7812 8.5 0 14.5 8.125t6 19.75q0 7.0312-3.1094 10.766-3.0938 3.7344-8.8906 3.7344-4.25 0-7.875-1.9844-3.6094-1.9688-6.2969-5.7812-2.8281-4-4.4688-9.375-1.625-5.3594-1.625-10.438z\"/><path id=\"DejaVuSans-48\" d=\"m31.781 66.406q-7.6094 0-11.453-7.5-3.8281-7.4844-3.8281-22.531 0-14.984 3.8281-22.484 3.8438-7.5 11.453-7.5 7.6719 0 11.5 7.5 3.8438 7.5 3.8438 22.484 0 15.047-3.8438 22.531-3.8281 7.5-11.5 7.5zm0 7.8125q12.266 0 18.734-9.7031 6.4688-9.6875 6.4688-28.141 0-18.406-6.4688-28.109-6.4688-9.6875-18.734-9.6875-12.25 0-18.719 9.6875-6.4688 9.7031-6.4688 28.109 0 18.453 6.4688 28.141 6.4688 9.7031 18.719 9.7031z\"/></defs><g transform=\"translate(36.253 48.012) scale(.1625 -.1625)\"><use xlink:href=\"#DejaVuSans-Oblique-113\"/><use transform=\"translate(63.477 -16.406) scale(.7)\" xlink:href=\"#DejaVuSans-48\"/></g></g><g clip-path=\"url(#pee21e3f56e)\"><defs><path id=\"DejaVuSans-49\" d=\"m12.406 8.2969h16.109v55.625l-17.531-3.5156v8.9844l17.438 3.5156h9.8594v-64.609h16.109v-8.2969h-41.984z\"/></defs><g transform=\"translate(36.253 93.463) scale(.1625 -.1625)\"><use xlink:href=\"#DejaVuSans-Oblique-113\"/><use transform=\"translate(63.477 -16.406) scale(.7)\" xlink:href=\"#DejaVuSans-49\"/></g></g><g clip-path=\"url(#pee21e3f56e)\"><defs><path id=\"DejaVuSans-50\" d=\"m19.188 8.2969h34.422v-8.2969h-46.281v8.2969q5.6094 5.8125 15.297 15.594 9.7031 9.7969 12.188 12.641 4.7344 5.3125 6.6094 9 1.8906 3.6875 1.8906 7.25 0 5.8125-4.0781 9.4688-4.0781 3.6719-10.625 3.6719-4.6406 0-9.7969-1.6094-5.1406-1.6094-11-4.8906v9.9688q5.9531 2.3906 11.125 3.6094 5.1875 1.2188 9.4844 1.2188 11.328 0 18.062-5.6719 6.7344-5.6562 6.7344-15.125 0-4.5-1.6875-8.5312-1.6719-4.0156-6.125-9.4844-1.2188-1.4219-7.7656-8.1875-6.5312-6.7656-18.453-18.922z\"/></defs><g transform=\"translate(67.926 127.75) scale(.104 -.104)\"><use xlink:href=\"#DejaVuSans-50\"/></g></g><g clip-path=\"url(#pee21e3f56e)\"><defs><path id=\"DejaVuSans-98\" d=\"m48.688 27.297q0 9.9062-4.0781 15.547t-11.203 5.6406q-7.1406 0-11.219-5.6406t-4.0781-15.547 4.0781-15.547 11.219-5.6406q7.125 0 11.203 5.6406t4.0781 15.547zm-30.578 19.094q2.8438 4.875 7.1562 7.2344 4.3281 2.375 10.328 2.375 9.9688 0 16.188-7.9062 6.2344-7.9062 6.2344-20.797t-6.2344-20.812q-6.2188-7.9062-16.188-7.9062-6 0-10.328 2.375-4.3125 2.375-7.1562 7.25v-8.2031h-9.0312v75.984h9.0312z\"/></defs><g transform=\"translate(43.975 138.95) scale(.1625 -.1625)\"><use xlink:href=\"#DejaVuSans-98\"/></g></g><defs><clipPath id=\"pee21e3f56e\"><rect x=\"7.2\" y=\"7.2\" width=\"65.271\" height=\"154.53\"/></clipPath></defs></svg>"
            ],
            "text/plain": [
              "<Figure size 86.452x204.68 with 1 Axes>"
            ]
          },
          "execution_count": 70,
          "metadata": {},
          "output_type": "execute_result"
        }
      ],
      "source": [
        "puzzle.get_circuit().draw(output='mpl')"
      ]
    },
    {
      "cell_type": "markdown",
      "metadata": {
        "id": "i_sJE38aVCcn"
      },
      "source": [
        "\n",
        "\n",
        "## الأحجية الخامسة\n",
        "\n",
        "#### مقدمة\n",
        "\n",
        "باستخدام بوابات ry، يمكننا إنشاء بوابات شرطية أكثر إثارة من مجرد cz و cx. على سبيل المثال، يمكننا إنشاء بوابة h محكومة.\n",
        "\n",
        "#### تدريب\n",
        "* أطفئ مخرج Z لـ q[1] باستخدام بوابة ry(pi/4) واحدة بالضبط وبوابة ry(-pi/4) على ذلك الكيوبيت."
      ]
    },
    {
      "cell_type": "code",
      "execution_count": null,
      "metadata": {
        "id": "utT1MSSLVCcn"
      },
      "outputs": [],
      "source": [
        "initialize = [['x','0'],['h','1']]\n",
        "success_condition = {'IZ': 1.0}\n",
        "allowed_gates = {'0': {}, '1': {'bloch':0, 'cx':0, 'ry(pi/4)': 1, 'ry(-pi/4)': 1}, 'both': {'unbloch':0}}\n",
        "vi = [[], True, True]\n",
        "qubit_names = {'0':'q[0]', '1':'q[1]'}\n",
        "puzzle = hello_quantum.run_game(initialize, success_condition, allowed_gates, vi, qubit_names, mode='line')"
      ]
    },
    {
      "cell_type": "code",
      "execution_count": null,
      "metadata": {
        "id": "ECNJqnbMVCco",
        "outputId": "58699439-b5bd-45e5-f98f-00188c1334d0"
      },
      "outputs": [
        {
          "data": {
            "image/svg+xml": [
              "<?xml version=\"1.0\" encoding=\"UTF-8\"?><!DOCTYPE svg  PUBLIC '-//W3C//DTD SVG 1.1//EN'  'http://www.w3.org/Graphics/SVG/1.1/DTD/svg11.dtd'><svg width=\"79.671pt\" height=\"168.93pt\" version=\"1.1\" viewBox=\"0 0 79.671 168.93\" xmlns=\"http://www.w3.org/2000/svg\" xmlns:xlink=\"http://www.w3.org/1999/xlink\"><defs><style type=\"text/css\">*{stroke-linecap:butt;stroke-linejoin:round;}</style></defs><path d=\"m0 168.93h79.671v-168.93h-79.671z\" fill=\"#ffffff\"/><path d=\"m63.381 43.561h4.5451\" clip-path=\"url(#p6adccb72c0)\" fill=\"none\" stroke=\"#000000\" stroke-linecap=\"square\" stroke-width=\"2\"/><path d=\"m63.381 89.012h4.5451\" clip-path=\"url(#p6adccb72c0)\" fill=\"none\" stroke=\"#000000\" stroke-linecap=\"square\" stroke-width=\"2\"/><path d=\"m63.381 132.99h4.5451\" clip-path=\"url(#p6adccb72c0)\" fill=\"none\" stroke=\"#778899\" stroke-linecap=\"square\" stroke-width=\"2\"/><path d=\"m63.381 135.94h4.5451\" clip-path=\"url(#p6adccb72c0)\" fill=\"none\" stroke=\"#778899\" stroke-linecap=\"square\" stroke-width=\"2\"/><path d=\"m72.471 139.01 4.5451-9.0902\" clip-path=\"url(#p6adccb72c0)\" fill=\"none\" stroke=\"#778899\" stroke-linecap=\"square\" stroke-width=\"1.5\"/><g clip-path=\"url(#p6adccb72c0)\"><defs><path id=\"DejaVuSans-Oblique-113\" d=\"m41.703 8.2031q-3.6094-4.7344-8.5312-7.1875-4.9062-2.4375-10.859-2.4375-8.2969 0-13.016 5.5938-4.7031 5.5938-4.7031 15.406 0 7.9062 2.9062 15.281t8.3281 13.234q3.5156 3.8125 8.0781 5.8594t9.5938 2.0469q6.0469 0 9.9531-2.3906t5.6719-7.2188l1.5625 8.2031h9.0312l-14.594-75.203h-9.0469zm-27.781 12.703q0-7.2344 3.0156-11.016 3.0312-3.7812 8.75-3.7812 8.5 0 14.5 8.125t6 19.75q0 7.0312-3.1094 10.766-3.0938 3.7344-8.8906 3.7344-4.25 0-7.875-1.9844-3.6094-1.9688-6.2969-5.7812-2.8281-4-4.4688-9.375-1.625-5.3594-1.625-10.438z\"/><path id=\"DejaVuSans-48\" d=\"m31.781 66.406q-7.6094 0-11.453-7.5-3.8281-7.4844-3.8281-22.531 0-14.984 3.8281-22.484 3.8438-7.5 11.453-7.5 7.6719 0 11.5 7.5 3.8438 7.5 3.8438 22.484 0 15.047-3.8438 22.531-3.8281 7.5-11.5 7.5zm0 7.8125q12.266 0 18.734-9.7031 6.4688-9.6875 6.4688-28.141 0-18.406-6.4688-28.109-6.4688-9.6875-18.734-9.6875-12.25 0-18.719 9.6875-6.4688 9.7031-6.4688 28.109 0 18.453 6.4688 28.141 6.4688 9.7031 18.719 9.7031z\"/></defs><g transform=\"translate(36.253 48.012) scale(.1625 -.1625)\"><use xlink:href=\"#DejaVuSans-Oblique-113\"/><use transform=\"translate(63.477 -16.406) scale(.7)\" xlink:href=\"#DejaVuSans-48\"/></g></g><g clip-path=\"url(#p6adccb72c0)\"><defs><path id=\"DejaVuSans-49\" d=\"m12.406 8.2969h16.109v55.625l-17.531-3.5156v8.9844l17.438 3.5156h9.8594v-64.609h16.109v-8.2969h-41.984z\"/></defs><g transform=\"translate(36.253 93.463) scale(.1625 -.1625)\"><use xlink:href=\"#DejaVuSans-Oblique-113\"/><use transform=\"translate(63.477 -16.406) scale(.7)\" xlink:href=\"#DejaVuSans-49\"/></g></g><g clip-path=\"url(#p6adccb72c0)\"><defs><path id=\"DejaVuSans-50\" d=\"m19.188 8.2969h34.422v-8.2969h-46.281v8.2969q5.6094 5.8125 15.297 15.594 9.7031 9.7969 12.188 12.641 4.7344 5.3125 6.6094 9 1.8906 3.6875 1.8906 7.25 0 5.8125-4.0781 9.4688-4.0781 3.6719-10.625 3.6719-4.6406 0-9.7969-1.6094-5.1406-1.6094-11-4.8906v9.9688q5.9531 2.3906 11.125 3.6094 5.1875 1.2188 9.4844 1.2188 11.328 0 18.062-5.6719 6.7344-5.6562 6.7344-15.125 0-4.5-1.6875-8.5312-1.6719-4.0156-6.125-9.4844-1.2188-1.4219-7.7656-8.1875-6.5312-6.7656-18.453-18.922z\"/></defs><g transform=\"translate(67.926 127.75) scale(.104 -.104)\"><use xlink:href=\"#DejaVuSans-50\"/></g></g><g clip-path=\"url(#p6adccb72c0)\"><defs><path id=\"DejaVuSans-98\" d=\"m48.688 27.297q0 9.9062-4.0781 15.547t-11.203 5.6406q-7.1406 0-11.219-5.6406t-4.0781-15.547 4.0781-15.547 11.219-5.6406q7.125 0 11.203 5.6406t4.0781 15.547zm-30.578 19.094q2.8438 4.875 7.1562 7.2344 4.3281 2.375 10.328 2.375 9.9688 0 16.188-7.9062 6.2344-7.9062 6.2344-20.797t-6.2344-20.812q-6.2188-7.9062-16.188-7.9062-6 0-10.328 2.375-4.3125 2.375-7.1562 7.25v-8.2031h-9.0312v75.984h9.0312z\"/></defs><g transform=\"translate(43.975 138.95) scale(.1625 -.1625)\"><use xlink:href=\"#DejaVuSans-98\"/></g></g><defs><clipPath id=\"p6adccb72c0\"><rect x=\"7.2\" y=\"7.2\" width=\"65.271\" height=\"154.53\"/></clipPath></defs></svg>"
            ],
            "text/plain": [
              "<Figure size 86.452x204.68 with 1 Axes>"
            ]
          },
          "execution_count": 72,
          "metadata": {},
          "output_type": "execute_result"
        }
      ],
      "source": [
        "puzzle.get_circuit().draw(output='mpl')"
      ]
    },
    {
      "cell_type": "markdown",
      "metadata": {
        "id": "Rhx-Lr6xVCco"
      },
      "source": [
        "## المستوى الإضافي: بيئة افتراضية\n",
        "\n",
        "لقد أصبحت الآن تعرف ما يكفي من البوابات الكمومية الأساسية لبناء برامج كمومية قوية بالكامل. ستحصل على طعم من ذلك في المستوى النهائي. ولكن قبل ذلك، إليك مستوى إضافي أو اثنان.\n",
        "\n",
        "أولاً، البيئة الافتراضية لتجربة مهاراتك الجديدة: شبكتان مع تمكين جميع البوابات، حتى تتمكن من اللعب قليلاً.\n",
        "\n",
        "إليك تمرينًا باستخدام التصور المستند إلى الخطوط، لمساعدتك على فهم البوابات غير كليفر."
      ]
    },
    {
      "cell_type": "code",
      "execution_count": null,
      "metadata": {
        "id": "8Q3DYXt6VCco"
      },
      "outputs": [],
      "source": [
        "initialize = []\n",
        "success_condition = {'IZ': 1.0,'IX': 1.0}\n",
        "allowed_gates = {'0': {'bloch':0, 'x':0, 'z':0, 'h':0, 'cx':0, 'ry(pi/4)': 0, 'ry(-pi/4)': 0}, '1': {'bloch':0, 'x':0, 'z':0, 'h':0, 'cx':0, 'ry(pi/4)': 0, 'ry(-pi/4)': 0}, 'both': {'cz':0, 'unbloch':0}}\n",
        "vi = [[], True, True]\n",
        "qubit_names = {'0':'q[0]', '1':'q[1]'}\n",
        "line_sandbox = hello_quantum.run_game(initialize, success_condition, allowed_gates, vi, qubit_names, mode='line')"
      ]
    },
    {
      "cell_type": "code",
      "execution_count": null,
      "metadata": {
        "id": "aTf7h1hLVCco",
        "outputId": "d57ba7bb-ac0a-4022-a244-de814f0b358b"
      },
      "outputs": [
        {
          "data": {
            "image/svg+xml": [
              "<?xml version=\"1.0\" encoding=\"UTF-8\"?><!DOCTYPE svg  PUBLIC '-//W3C//DTD SVG 1.1//EN'  'http://www.w3.org/Graphics/SVG/1.1/DTD/svg11.dtd'><svg width=\"79.671pt\" height=\"168.93pt\" version=\"1.1\" viewBox=\"0 0 79.671 168.93\" xmlns=\"http://www.w3.org/2000/svg\" xmlns:xlink=\"http://www.w3.org/1999/xlink\"><defs><style type=\"text/css\">*{stroke-linecap:butt;stroke-linejoin:round;}</style></defs><path d=\"m0 168.93h79.671v-168.93h-79.671z\" fill=\"#ffffff\"/><path d=\"m63.381 43.561h4.5451\" clip-path=\"url(#pee5af81647)\" fill=\"none\" stroke=\"#000000\" stroke-linecap=\"square\" stroke-width=\"2\"/><path d=\"m63.381 89.012h4.5451\" clip-path=\"url(#pee5af81647)\" fill=\"none\" stroke=\"#000000\" stroke-linecap=\"square\" stroke-width=\"2\"/><path d=\"m63.381 132.99h4.5451\" clip-path=\"url(#pee5af81647)\" fill=\"none\" stroke=\"#778899\" stroke-linecap=\"square\" stroke-width=\"2\"/><path d=\"m63.381 135.94h4.5451\" clip-path=\"url(#pee5af81647)\" fill=\"none\" stroke=\"#778899\" stroke-linecap=\"square\" stroke-width=\"2\"/><path d=\"m72.471 139.01 4.5451-9.0902\" clip-path=\"url(#pee5af81647)\" fill=\"none\" stroke=\"#778899\" stroke-linecap=\"square\" stroke-width=\"1.5\"/><g clip-path=\"url(#pee5af81647)\"><defs><path id=\"DejaVuSans-Oblique-113\" d=\"m41.703 8.2031q-3.6094-4.7344-8.5312-7.1875-4.9062-2.4375-10.859-2.4375-8.2969 0-13.016 5.5938-4.7031 5.5938-4.7031 15.406 0 7.9062 2.9062 15.281t8.3281 13.234q3.5156 3.8125 8.0781 5.8594t9.5938 2.0469q6.0469 0 9.9531-2.3906t5.6719-7.2188l1.5625 8.2031h9.0312l-14.594-75.203h-9.0469zm-27.781 12.703q0-7.2344 3.0156-11.016 3.0312-3.7812 8.75-3.7812 8.5 0 14.5 8.125t6 19.75q0 7.0312-3.1094 10.766-3.0938 3.7344-8.8906 3.7344-4.25 0-7.875-1.9844-3.6094-1.9688-6.2969-5.7812-2.8281-4-4.4688-9.375-1.625-5.3594-1.625-10.438z\"/><path id=\"DejaVuSans-48\" d=\"m31.781 66.406q-7.6094 0-11.453-7.5-3.8281-7.4844-3.8281-22.531 0-14.984 3.8281-22.484 3.8438-7.5 11.453-7.5 7.6719 0 11.5 7.5 3.8438 7.5 3.8438 22.484 0 15.047-3.8438 22.531-3.8281 7.5-11.5 7.5zm0 7.8125q12.266 0 18.734-9.7031 6.4688-9.6875 6.4688-28.141 0-18.406-6.4688-28.109-6.4688-9.6875-18.734-9.6875-12.25 0-18.719 9.6875-6.4688 9.7031-6.4688 28.109 0 18.453 6.4688 28.141 6.4688 9.7031 18.719 9.7031z\"/></defs><g transform=\"translate(36.253 48.012) scale(.1625 -.1625)\"><use xlink:href=\"#DejaVuSans-Oblique-113\"/><use transform=\"translate(63.477 -16.406) scale(.7)\" xlink:href=\"#DejaVuSans-48\"/></g></g><g clip-path=\"url(#pee5af81647)\"><defs><path id=\"DejaVuSans-49\" d=\"m12.406 8.2969h16.109v55.625l-17.531-3.5156v8.9844l17.438 3.5156h9.8594v-64.609h16.109v-8.2969h-41.984z\"/></defs><g transform=\"translate(36.253 93.463) scale(.1625 -.1625)\"><use xlink:href=\"#DejaVuSans-Oblique-113\"/><use transform=\"translate(63.477 -16.406) scale(.7)\" xlink:href=\"#DejaVuSans-49\"/></g></g><g clip-path=\"url(#pee5af81647)\"><defs><path id=\"DejaVuSans-50\" d=\"m19.188 8.2969h34.422v-8.2969h-46.281v8.2969q5.6094 5.8125 15.297 15.594 9.7031 9.7969 12.188 12.641 4.7344 5.3125 6.6094 9 1.8906 3.6875 1.8906 7.25 0 5.8125-4.0781 9.4688-4.0781 3.6719-10.625 3.6719-4.6406 0-9.7969-1.6094-5.1406-1.6094-11-4.8906v9.9688q5.9531 2.3906 11.125 3.6094 5.1875 1.2188 9.4844 1.2188 11.328 0 18.062-5.6719 6.7344-5.6562 6.7344-15.125 0-4.5-1.6875-8.5312-1.6719-4.0156-6.125-9.4844-1.2188-1.4219-7.7656-8.1875-6.5312-6.7656-18.453-18.922z\"/></defs><g transform=\"translate(67.926 127.75) scale(.104 -.104)\"><use xlink:href=\"#DejaVuSans-50\"/></g></g><g clip-path=\"url(#pee5af81647)\"><defs><path id=\"DejaVuSans-98\" d=\"m48.688 27.297q0 9.9062-4.0781 15.547t-11.203 5.6406q-7.1406 0-11.219-5.6406t-4.0781-15.547 4.0781-15.547 11.219-5.6406q7.125 0 11.203 5.6406t4.0781 15.547zm-30.578 19.094q2.8438 4.875 7.1562 7.2344 4.3281 2.375 10.328 2.375 9.9688 0 16.188-7.9062 6.2344-7.9062 6.2344-20.797t-6.2344-20.812q-6.2188-7.9062-16.188-7.9062-6 0-10.328 2.375-4.3125 2.375-7.1562 7.25v-8.2031h-9.0312v75.984h9.0312z\"/></defs><g transform=\"translate(43.975 138.95) scale(.1625 -.1625)\"><use xlink:href=\"#DejaVuSans-98\"/></g></g><defs><clipPath id=\"pee5af81647\"><rect x=\"7.2\" y=\"7.2\" width=\"65.271\" height=\"154.53\"/></clipPath></defs></svg>"
            ],
            "text/plain": [
              "<Figure size 86.452x204.68 with 1 Axes>"
            ]
          },
          "execution_count": 74,
          "metadata": {},
          "output_type": "execute_result"
        }
      ],
      "source": [
        "line_sandbox.get_circuit().draw(output='mpl')"
      ]
    },
    {
      "cell_type": "markdown",
      "metadata": {
        "id": "RlhPE60iVCco"
      },
      "source": [
        "إليك شبكة تحتوي على الخطوط الوسطى، والتي تصف الإخراج لقياسات Y. مع هذا، يمكنك أيضًا تجربة بعض البوابات غير كليفر الجديدة: rx(pi/4) و rx(-pi/4).\n",
        "\n"
      ]
    },
    {
      "cell_type": "code",
      "execution_count": null,
      "metadata": {
        "id": "gqviyhWAVCco"
      },
      "outputs": [],
      "source": [
        "initialize = []\n",
        "success_condition = {'IZ': 1.0,'IX': 1.0}\n",
        "allowed_gates = {'0': {'x':0, 'z':0, 'h':0, 'cx':0, 'ry(pi/4)': 0, 'rx(pi/4)': 0, 'ry(-pi/4)': 0, 'rx(-pi/4)': 0}, '1': {'x':0, 'z':0, 'h':0, 'cx':0, 'ry(pi/4)': 0, 'rx(pi/4)': 0, 'ry(-pi/4)': 0, 'rx(-pi/4)': 0}, 'both': {'cz':0}}\n",
        "vi = [[], True, True]\n",
        "qubit_names = {'0':'q[0]', '1':'q[1]'}\n",
        "y_sandbox = hello_quantum.run_game(initialize, success_condition, allowed_gates, vi, qubit_names, mode='y')"
      ]
    },
    {
      "cell_type": "code",
      "execution_count": null,
      "metadata": {
        "id": "EuDalkClVCco",
        "outputId": "943ecfef-256d-4bae-fa65-9e4dedb7900c"
      },
      "outputs": [
        {
          "data": {
            "image/svg+xml": [
              "<?xml version=\"1.0\" encoding=\"UTF-8\"?><!DOCTYPE svg  PUBLIC '-//W3C//DTD SVG 1.1//EN'  'http://www.w3.org/Graphics/SVG/1.1/DTD/svg11.dtd'><svg width=\"79.671pt\" height=\"168.93pt\" version=\"1.1\" viewBox=\"0 0 79.671 168.93\" xmlns=\"http://www.w3.org/2000/svg\" xmlns:xlink=\"http://www.w3.org/1999/xlink\"><defs><style type=\"text/css\">*{stroke-linecap:butt;stroke-linejoin:round;}</style></defs><path d=\"m0 168.93h79.671v-168.93h-79.671z\" fill=\"#ffffff\"/><path d=\"m63.381 43.561h4.5451\" clip-path=\"url(#pbdc9a39fcd)\" fill=\"none\" stroke=\"#000000\" stroke-linecap=\"square\" stroke-width=\"2\"/><path d=\"m63.381 89.012h4.5451\" clip-path=\"url(#pbdc9a39fcd)\" fill=\"none\" stroke=\"#000000\" stroke-linecap=\"square\" stroke-width=\"2\"/><path d=\"m63.381 132.99h4.5451\" clip-path=\"url(#pbdc9a39fcd)\" fill=\"none\" stroke=\"#778899\" stroke-linecap=\"square\" stroke-width=\"2\"/><path d=\"m63.381 135.94h4.5451\" clip-path=\"url(#pbdc9a39fcd)\" fill=\"none\" stroke=\"#778899\" stroke-linecap=\"square\" stroke-width=\"2\"/><path d=\"m72.471 139.01 4.5451-9.0902\" clip-path=\"url(#pbdc9a39fcd)\" fill=\"none\" stroke=\"#778899\" stroke-linecap=\"square\" stroke-width=\"1.5\"/><g clip-path=\"url(#pbdc9a39fcd)\"><defs><path id=\"DejaVuSans-Oblique-113\" d=\"m41.703 8.2031q-3.6094-4.7344-8.5312-7.1875-4.9062-2.4375-10.859-2.4375-8.2969 0-13.016 5.5938-4.7031 5.5938-4.7031 15.406 0 7.9062 2.9062 15.281t8.3281 13.234q3.5156 3.8125 8.0781 5.8594t9.5938 2.0469q6.0469 0 9.9531-2.3906t5.6719-7.2188l1.5625 8.2031h9.0312l-14.594-75.203h-9.0469zm-27.781 12.703q0-7.2344 3.0156-11.016 3.0312-3.7812 8.75-3.7812 8.5 0 14.5 8.125t6 19.75q0 7.0312-3.1094 10.766-3.0938 3.7344-8.8906 3.7344-4.25 0-7.875-1.9844-3.6094-1.9688-6.2969-5.7812-2.8281-4-4.4688-9.375-1.625-5.3594-1.625-10.438z\"/><path id=\"DejaVuSans-48\" d=\"m31.781 66.406q-7.6094 0-11.453-7.5-3.8281-7.4844-3.8281-22.531 0-14.984 3.8281-22.484 3.8438-7.5 11.453-7.5 7.6719 0 11.5 7.5 3.8438 7.5 3.8438 22.484 0 15.047-3.8438 22.531-3.8281 7.5-11.5 7.5zm0 7.8125q12.266 0 18.734-9.7031 6.4688-9.6875 6.4688-28.141 0-18.406-6.4688-28.109-6.4688-9.6875-18.734-9.6875-12.25 0-18.719 9.6875-6.4688 9.7031-6.4688 28.109 0 18.453 6.4688 28.141 6.4688 9.7031 18.719 9.7031z\"/></defs><g transform=\"translate(36.253 48.012) scale(.1625 -.1625)\"><use xlink:href=\"#DejaVuSans-Oblique-113\"/><use transform=\"translate(63.477 -16.406) scale(.7)\" xlink:href=\"#DejaVuSans-48\"/></g></g><g clip-path=\"url(#pbdc9a39fcd)\"><defs><path id=\"DejaVuSans-49\" d=\"m12.406 8.2969h16.109v55.625l-17.531-3.5156v8.9844l17.438 3.5156h9.8594v-64.609h16.109v-8.2969h-41.984z\"/></defs><g transform=\"translate(36.253 93.463) scale(.1625 -.1625)\"><use xlink:href=\"#DejaVuSans-Oblique-113\"/><use transform=\"translate(63.477 -16.406) scale(.7)\" xlink:href=\"#DejaVuSans-49\"/></g></g><g clip-path=\"url(#pbdc9a39fcd)\"><defs><path id=\"DejaVuSans-50\" d=\"m19.188 8.2969h34.422v-8.2969h-46.281v8.2969q5.6094 5.8125 15.297 15.594 9.7031 9.7969 12.188 12.641 4.7344 5.3125 6.6094 9 1.8906 3.6875 1.8906 7.25 0 5.8125-4.0781 9.4688-4.0781 3.6719-10.625 3.6719-4.6406 0-9.7969-1.6094-5.1406-1.6094-11-4.8906v9.9688q5.9531 2.3906 11.125 3.6094 5.1875 1.2188 9.4844 1.2188 11.328 0 18.062-5.6719 6.7344-5.6562 6.7344-15.125 0-4.5-1.6875-8.5312-1.6719-4.0156-6.125-9.4844-1.2188-1.4219-7.7656-8.1875-6.5312-6.7656-18.453-18.922z\"/></defs><g transform=\"translate(67.926 127.75) scale(.104 -.104)\"><use xlink:href=\"#DejaVuSans-50\"/></g></g><g clip-path=\"url(#pbdc9a39fcd)\"><defs><path id=\"DejaVuSans-98\" d=\"m48.688 27.297q0 9.9062-4.0781 15.547t-11.203 5.6406q-7.1406 0-11.219-5.6406t-4.0781-15.547 4.0781-15.547 11.219-5.6406q7.125 0 11.203 5.6406t4.0781 15.547zm-30.578 19.094q2.8438 4.875 7.1562 7.2344 4.3281 2.375 10.328 2.375 9.9688 0 16.188-7.9062 6.2344-7.9062 6.2344-20.797t-6.2344-20.812q-6.2188-7.9062-16.188-7.9062-6 0-10.328 2.375-4.3125 2.375-7.1562 7.25v-8.2031h-9.0312v75.984h9.0312z\"/></defs><g transform=\"translate(43.975 138.95) scale(.1625 -.1625)\"><use xlink:href=\"#DejaVuSans-98\"/></g></g><defs><clipPath id=\"pbdc9a39fcd\"><rect x=\"7.2\" y=\"7.2\" width=\"65.271\" height=\"154.53\"/></clipPath></defs></svg>"
            ],
            "text/plain": [
              "<Figure size 86.452x204.68 with 1 Axes>"
            ]
          },
          "execution_count": 76,
          "metadata": {},
          "output_type": "execute_result"
        }
      ],
      "source": [
        "y_sandbox.get_circuit().draw(output='mpl')"
      ]
    },
    {
      "cell_type": "markdown",
      "metadata": {
        "id": "SJlMHsEKVCco"
      },
      "source": [
        "## Bonus Level: Make your own puzzles\n",
        "\n",
        "As well as giving you some puzzles, we've also given you the opportunity to make and share puzzles of your own. Using the Quantum Experience you can easily make your own notebook full of your own puzzles.\n",
        "\n",
        "Start by clicking the 'New Notebook' button on [this page](https://quantum-computing.ibm.com/jupyter). Then add the following line to the list of imports.\n",
        "\n",
        "```\n",
        "from qiskit_textbook.games import hello_quantum\n",
        "```\n",
        "\n",
        "This gives you the tools you need for making puzzles. Specifically, you need to create your own call to the `run_game` function using the following form.\n",
        "\n",
        "```\n",
        "puzzle = hello_quantum.run_game(initialize, success_condition, allowed_gates, vi, qubit_names, mode=None)\n",
        "```\n",
        "\n",
        "All the elements of this are explained below.\n",
        "\n",
        "`puzzle`\n",
        "\n",
        "* This is an object containing the puzzle you create.\n",
        "* The quantum circuit made by the player can be accessed using `puzzle.get_circuit()`.\n",
        "\n",
        "`initialize`\n",
        "\n",
        "* A list of gates applied before the puzzle begins, to prepare the initial state.\n",
        "* If this is empty, the default initial state of qubits is used (the Z output is certain to be `0`).\n",
        "* Supported single qubit gates (applied to qubit `'0'` or `'1'`) are `'x'`, `'y'`, `'z'`, `'h'` and `'ry(pi/4)'`.\n",
        "* Supported two qubit gates are `'cz'` and `'cx'`. For these, specify only the target qubit.\n",
        "* Example: `initialize = [['x', '0'],['cx', '1']]`.\n",
        "\n",
        "`success_condition`\n",
        "\n",
        "* Values for Pauli observables that must be obtained for the puzzle to declare success.\n",
        "* Expressed as a dictionary whose keys are the names of the circles in the following form:\n",
        "    * `'ZI'` refers to the Z output of the qubit on the left, and `'XI'` for its X output.\n",
        "    * `'IZ'` and `'IX'` are similarly the outputs for the qubit on the right.\n",
        "    * `'ZX'` refers to the circle for correlations between Z output for the qubit on the left and the X output on the right.\n",
        "    * And so on.\n",
        "* The values of the dictionary are the values that these circles must hold for the puzzle to be completed.\n",
        "    * 1.0 for black.\n",
        "    * -1.0 for white.\n",
        "    * 0.0 for grey.\n",
        "    * And so on.\n",
        "* Only the circles you want to be included in the condition need to be listed.\n",
        "* Example: `success_condition = {'IZ': 1.0}`.\n",
        "\n",
        "`allowed_gates`\n",
        "\n",
        "* For each qubit, specify which operations are allowed in this puzzle.\n",
        "* For operations that don't need a qubit to be specified (`'cz'` and `'unbloch'`), assign the operation to `'both'` instead of qubit `'0'` or `'1'`.\n",
        "* Gates are expressed as a dictionary with an integer as the value.\n",
        "    * If the integer is non-zero, it specifies the exact number of times the gate must be used for the puzzle to be successfully solved.\n",
        "    * If it is zero, the player can use the gate any number of times.\n",
        "* Example: `allowed_gates = {'0': {'h':0}, '1': {'h':0}, 'both': {'cz': 1}}`.\n",
        "\n",
        "`vi`\n",
        "\n",
        "* Some visualization information as a three element list: `vi=[hidden,qubit,corr]`. These specify:\n",
        "    * `hidden`: Which qubits are hidden (empty list if both shown).\n",
        "    * `qubit`: Whether both circles shown for each qubit? (use `True` for qubit puzzles and `False` for bit puzzles).\n",
        "    * `corr`: Whether the correlation circles (the four in the middle) are shown.\n",
        "* Example: `vi = [[], True, True]`.\n",
        "\n",
        "`qubit_names`\n",
        "\n",
        "* The two qubits are always called `'0'` and `'1'` internally. But for the player, we can display different names.\n",
        "* Example: `qubit_names = {'0':'qubit 0', '1':'qubit 1'}`\n",
        "\n",
        "`mode`\n",
        "\n",
        "* An optional argument, which allows you to choose whether to include the Y output rows or use the line-based visualization.\n",
        "* Using `mode=None`, or not including the mode argument at all, gives the default mode.\n",
        "* `mode='y'` includes the Y output rows.\n",
        "* `mode='line'` gives the line-based visualization.\n",
        "\n",
        "\n",
        "\n",
        "\n",
        "The puzzle defined by the examples given here can be run in the following cell."
      ]
    },
    {
      "cell_type": "code",
      "execution_count": null,
      "metadata": {
        "id": "K99QJBBIVCco"
      },
      "outputs": [],
      "source": [
        "initialize = [['x', '0'],['cx', '1']]\n",
        "success_condition = {'IZ': 1.0}\n",
        "allowed_gates = {'0': {'h':0}, '1': {'h':0}, 'both': {'cz': 1}}\n",
        "vi = [[], True, True]\n",
        "qubit_names = {'0':'qubit 0', '1':'qubit 1'}\n",
        "mode = None\n",
        "puzzle = hello_quantum.run_game(initialize, success_condition, allowed_gates, vi, qubit_names, mode=mode)"
      ]
    },
    {
      "cell_type": "markdown",
      "metadata": {
        "id": "lAdkJU0MVCco"
      },
      "source": [
        "Remember to tell players what they should be aiming for. For all the puzzles in this notebook, the target state was described with text. But you can instead create an image of the target state, including a short message for the player, in the following way. This again uses the example parameters provided above."
      ]
    },
    {
      "cell_type": "code",
      "execution_count": null,
      "metadata": {
        "id": "HFgoW6PpVCco",
        "outputId": "da9b2d13-fb2b-4380-e73e-39e29c3eb1f1"
      },
      "outputs": [
        {
          "data": {
            "image/svg+xml": [
              "<?xml version=\"1.0\" encoding=\"UTF-8\"?><!DOCTYPE svg  PUBLIC '-//W3C//DTD SVG 1.1//EN'  'http://www.w3.org/Graphics/SVG/1.1/DTD/svg11.dtd'><svg width=\"349.2pt\" height=\"340.56pt\" version=\"1.1\" viewBox=\"0 0 349.2 340.56\" xmlns=\"http://www.w3.org/2000/svg\" xmlns:xlink=\"http://www.w3.org/1999/xlink\"><defs><style type=\"text/css\">*{stroke-linecap:butt;stroke-linejoin:round;}</style></defs><path d=\"m0 340.56h349.2v-340.56h-349.2z\" fill=\"#02488a\"/><path d=\"m118.8 279 54.684-53.273-54.684-53.273-54.684 53.273z\" clip-path=\"url(#p9f7f983016)\" fill=\"#84b1ec\" stroke=\"#84b1ec\"/><path d=\"m63 224.64 54.684-53.273-54.684-53.273-54.684 53.273z\" clip-path=\"url(#p9f7f983016)\" fill=\"#84b1ec\" stroke=\"#84b1ec\"/><path d=\"m230.4 279 54.684-53.273-54.684-53.273-54.684 53.273z\" clip-path=\"url(#p9f7f983016)\" fill=\"#84b1ec\" stroke=\"#84b1ec\"/><path d=\"m286.2 224.64 54.684-53.273-54.684-53.273-54.684 53.273z\" clip-path=\"url(#p9f7f983016)\" fill=\"#84b1ec\" stroke=\"#84b1ec\"/><path d=\"m174.6 224.64 54.684-53.273-54.684-53.273-54.684 53.273z\" clip-path=\"url(#p9f7f983016)\" fill=\"#2172d8\" stroke=\"#2172d8\"/><path d=\"m230.4 170.28 54.684-53.273-54.684-53.273-54.684 53.273z\" clip-path=\"url(#p9f7f983016)\" fill=\"#2172d8\" stroke=\"#2172d8\"/><path d=\"m118.8 170.28 54.684-53.273-54.684-53.273-54.684 53.273z\" clip-path=\"url(#p9f7f983016)\" fill=\"#2172d8\" stroke=\"#2172d8\"/><path d=\"m174.6 115.92 54.684-53.273-54.684-53.273-54.684 53.273z\" clip-path=\"url(#p9f7f983016)\" fill=\"#2172d8\" stroke=\"#2172d8\"/><path d=\"m230.4 257.26c8.879 0 17.396-3.4366 23.674-9.553 6.2784-6.1164 9.8061-14.413 9.8061-23.063s-3.5277-16.947-9.8061-23.063c-6.2784-6.1164-14.795-9.553-23.674-9.553s-17.396 3.4366-23.674 9.553c-6.2784 6.1164-9.8061 14.413-9.8061 23.063s3.5277 16.947 9.8061 23.063c6.2784 6.1164 14.795 9.553 23.674 9.553z\" clip-path=\"url(#p9f7f983016)\" stroke=\"#000000\"/><defs><path id=\"DejaVuSans-82\" d=\"m44.391 34.188q3.1719-1.0781 6.1719-4.5938t6.0312-9.6719l10.016-19.922h-10.609l-9.3125 18.703q-3.625 7.3281-7.0156 9.7188t-9.25 2.3906h-10.75v-30.812h-9.8594v72.906h22.266q12.5 0 18.656-5.2344 6.1562-5.2188 6.1562-15.766 0-6.8906-3.2031-11.438-3.2031-4.5312-9.2969-6.2812zm-24.719 30.609v-25.875h12.406q7.125 0 10.766 3.2969t3.6406 9.6875-3.6406 9.6406-10.766 3.25z\"/><path id=\"DejaVuSans-117\" d=\"m8.5 21.578v33.109h8.9844v-32.766q0-7.7656 3.0156-11.656 3.0312-3.875 9.0938-3.875 7.2656 0 11.484 4.6406 4.2344 4.6406 4.2344 12.656v31h8.9844v-54.688h-8.9844v8.4062q-3.2656-4.9844-7.5938-7.4062-4.3125-2.4219-10.031-2.4219-9.4219 0-14.312 5.8594-4.875 5.8594-4.875 17.141z\"/><path id=\"DejaVuSans-108\" d=\"m9.4219 75.984h8.9844v-75.984h-8.9844z\"/><path id=\"DejaVuSans-101\" d=\"m56.203 29.594v-4.3906h-41.312q0.59375-9.2812 5.5938-14.141t13.938-4.8594q5.1719 0 10.031 1.2656t9.6562 3.8125v-8.5q-4.8438-2.0469-9.9219-3.125t-10.297-1.0781q-13.094 0-20.734 7.6094-7.6406 7.625-7.6406 20.625 0 13.422 7.25 21.297 7.25 7.8906 19.562 7.8906 11.031 0 17.453-7.1094 6.4219-7.0938 6.4219-19.297zm-8.9844 2.6406q-0.09375 7.3594-4.125 11.75-4.0312 4.4062-10.672 4.4062-7.5156 0-12.031-4.25t-5.2031-11.969z\"/><path id=\"DejaVuSans-115\" d=\"m44.281 53.078v-8.5q-3.7969 1.9531-7.9062 2.9219-4.0938 0.98438-8.5 0.98438-6.6875 0-10.031-2.0469t-3.3438-6.1562q0-3.125 2.3906-4.9062t9.625-3.3906l3.0781-0.6875q9.5625-2.0469 13.594-5.7812t4.0312-10.422q0-7.625-6.0312-12.078-6.0312-4.4375-16.578-4.4375-4.3906 0-9.1562 0.85938t-10.031 2.5625v9.2812q4.9844-2.5938 9.8125-3.8906 4.8281-1.2812 9.5781-1.2812 6.3438 0 9.75 2.1719 3.4219 2.1719 3.4219 6.125 0 3.6562-2.4688 5.6094-2.4531 1.9531-10.812 3.7656l-3.125 0.73438q-8.3438 1.75-12.062 5.3906-3.7031 3.6406-3.7031 9.9844 0 7.7188 5.4688 11.906 5.4688 4.2031 15.531 4.2031 4.9688 0 9.3594-0.73438 4.4062-0.71875 8.1094-2.1875z\"/><path id=\"DejaVuSans-58\" d=\"m11.719 12.406h10.297v-12.406h-10.297zm0 39.297h10.297v-12.391h-10.297z\"/></defs><g transform=\"translate(7.2 295.92) scale(.09 -.09)\" fill=\"#ffffff\"><use xlink:href=\"#DejaVuSans-82\"/><use x=\"64.982422\" xlink:href=\"#DejaVuSans-117\"/><use x=\"128.361328\" xlink:href=\"#DejaVuSans-108\"/><use x=\"156.144531\" xlink:href=\"#DejaVuSans-101\"/><use x=\"217.667969\" xlink:href=\"#DejaVuSans-115\"/><use x=\"269.767578\" xlink:href=\"#DejaVuSans-58\"/></g><defs><path id=\"DejaVuSans-85\" d=\"m8.6875 72.906h9.9219v-44.297q0-11.719 4.2344-16.875 4.25-5.1406 13.781-5.1406 9.4688 0 13.719 5.1406 4.25 5.1562 4.25 16.875v44.297h9.9062v-45.516q0-14.25-7.0625-21.531-7.0469-7.2812-20.812-7.2812-13.828 0-20.891 7.2812-7.0469 7.2812-7.0469 21.531z\"/><path id=\"DejaVuSans-120\" d=\"m54.891 54.688-19.781-26.609 20.797-28.078h-10.594l-15.922 21.484-15.906-21.484h-10.609l21.25 28.609-19.438 26.078h10.594l14.5-19.484 14.5 19.484z\"/><path id=\"DejaVuSans-97\" d=\"m34.281 27.484q-10.891 0-15.094-2.4844t-4.2031-8.5q0-4.7812 3.1562-7.5938 3.1562-2.7969 8.5625-2.7969 7.4844 0 12 5.2969t4.5156 14.078v2zm17.922 3.7188v-31.203h-8.9844v8.2969q-3.0781-4.9688-7.6719-7.3438t-11.234-2.375q-8.3906 0-13.359 4.7188-4.9531 4.7188-4.9531 12.625 0 9.2188 6.1719 13.906 6.1875 4.6875 18.438 4.6875h12.609v0.89062q0 6.2031-4.0781 9.5938t-11.453 3.3906q-4.6875 0-9.1406-1.125-4.4375-1.125-8.5312-3.375v8.3125q4.9219 1.9062 9.5625 2.8438 4.6406 0.95312 9.0312 0.95312 11.875 0 17.734-6.1562 5.8594-6.1406 5.8594-18.641z\"/><path id=\"DejaVuSans-99\" d=\"m48.781 52.594v-8.4062q-3.8125 2.1094-7.6406 3.1562t-7.7344 1.0469q-8.75 0-13.594-5.5469-4.8281-5.5312-4.8281-15.547t4.8281-15.562q4.8438-5.5312 13.594-5.5312 3.9062 0 7.7344 1.0469t7.6406 3.1562v-8.3125q-3.7656-1.75-7.7969-2.625-4.0156-0.89062-8.5625-0.89062-12.359 0-19.641 7.7656-7.2656 7.7656-7.2656 20.953 0 13.375 7.3438 21.031 7.3594 7.6719 20.156 7.6719 4.1406 0 8.0938-0.85938 3.9531-0.84375 7.6719-2.5469z\"/><path id=\"DejaVuSans-116\" d=\"m18.312 70.219v-15.531h18.5v-6.9844h-18.5v-29.688q0-6.6875 1.8281-8.5938t7.4531-1.9062h9.2188v-7.5156h-9.2188q-10.406 0-14.359 3.875-3.9531 3.8906-3.9531 14.141v29.688h-6.5938v6.9844h6.5938v15.531z\"/><path id=\"DejaVuSans-121\" d=\"m32.172-5.0781q-3.7969-9.7656-7.4219-12.734-3.6094-2.9844-9.6562-2.9844h-7.1875v7.5156h5.2812q3.7031 0 5.75 1.7656 2.0625 1.75 4.5469 8.2969l1.6094 4.0938-22.109 53.812h9.5156l17.094-42.766 17.094 42.766h9.5156z\"/><path id=\"DejaVuSans-111\" d=\"m30.609 48.391q-7.2188 0-11.422-5.6406t-4.2031-15.453 4.1719-15.453q4.1875-5.6406 11.453-5.6406 7.1875 0 11.375 5.6562 4.2031 5.6719 4.2031 15.438 0 9.7188-4.2031 15.406-4.1875 5.6875-11.375 5.6875zm0 7.6094q11.719 0 18.406-7.625 6.7031-7.6094 6.7031-21.078 0-13.422-6.7031-21.078-6.6875-7.6406-18.406-7.6406-11.766 0-18.438 7.6406-6.6562 7.6562-6.6562 21.078 0 13.469 6.6562 21.078 6.6719 7.625 18.438 7.625z\"/><path id=\"DejaVuSans-110\" d=\"m54.891 33.016v-33.016h-8.9844v32.719q0 7.7656-3.0312 11.609-3.0312 3.8594-9.0781 3.8594-7.2812 0-11.484-4.6406-4.2031-4.625-4.2031-12.641v-30.906h-9.0312v54.688h9.0312v-8.5q3.2344 4.9375 7.5938 7.375 4.375 2.4375 10.094 2.4375 9.4219 0 14.25-5.8281 4.8438-5.8281 4.8438-17.156z\"/><path id=\"DejaVuSans-122\" d=\"m5.5156 54.688h42.672v-8.2031l-33.781-39.312h33.781v-7.1719h-43.891v8.2031l33.797 39.312h-32.578z\"/><path id=\"DejaVuSans-103\" d=\"m45.406 27.984q0 9.7656-4.0312 15.125-4.0156 5.375-11.297 5.375-7.2188 0-11.25-5.375-4.0312-5.3594-4.0312-15.125 0-9.7188 4.0312-15.094t11.25-5.375q7.2812 0 11.297 5.375 4.0312 5.375 4.0312 15.094zm8.9844-21.203q0-13.953-6.2031-20.766-6.1875-6.8125-18.984-6.8125-4.7344 0-8.9375 0.70312t-8.1562 2.1719v8.7344q3.9531-2.1406 7.8125-3.1562 3.8594-1.0312 7.8594-1.0312 8.8438 0 13.234 4.6094t4.3906 13.938v4.4531q-2.7812-4.8438-7.125-7.2344t-10.406-2.3906q-10.047 0-16.203 7.6562-6.1562 7.6719-6.1562 20.328 0 12.688 6.1562 20.344 6.1562 7.6719 16.203 7.6719 6.0625 0 10.406-2.3906t7.125-7.2188v8.2969h8.9844z\"/><path id=\"DejaVuSans-46\" d=\"m10.688 12.406h10.312v-12.406h-10.312z\"/></defs><g transform=\"translate(7.2 305.99) scale(.09 -.09)\" fill=\"#ffffff\"><use xlink:href=\"#DejaVuSans-32\"/><use x=\"31.787109\" xlink:href=\"#DejaVuSans-32\"/><use x=\"63.574219\" xlink:href=\"#DejaVuSans-32\"/><use x=\"95.361328\" xlink:href=\"#DejaVuSans-32\"/><use x=\"127.148438\" xlink:href=\"#DejaVuSans-85\"/><use x=\"200.341797\" xlink:href=\"#DejaVuSans-115\"/><use x=\"252.441406\" xlink:href=\"#DejaVuSans-101\"/><use x=\"313.964844\" xlink:href=\"#DejaVuSans-32\"/><use x=\"345.751953\" xlink:href=\"#DejaVuSans-101\"/><use x=\"405.525391\" xlink:href=\"#DejaVuSans-120\"/><use x=\"464.705078\" xlink:href=\"#DejaVuSans-97\"/><use x=\"525.984375\" xlink:href=\"#DejaVuSans-99\"/><use x=\"580.964844\" xlink:href=\"#DejaVuSans-116\"/><use x=\"620.173828\" xlink:href=\"#DejaVuSans-108\"/><use x=\"647.957031\" xlink:href=\"#DejaVuSans-121\"/><use x=\"707.136719\" xlink:href=\"#DejaVuSans-32\"/><use x=\"738.923828\" xlink:href=\"#DejaVuSans-111\"/><use x=\"800.105469\" xlink:href=\"#DejaVuSans-110\"/><use x=\"863.484375\" xlink:href=\"#DejaVuSans-101\"/><use x=\"925.007812\" xlink:href=\"#DejaVuSans-32\"/><use x=\"956.794922\" xlink:href=\"#DejaVuSans-99\"/><use x=\"1011.775391\" xlink:href=\"#DejaVuSans-122\"/><use x=\"1064.265625\" xlink:href=\"#DejaVuSans-32\"/><use x=\"1096.052734\" xlink:href=\"#DejaVuSans-103\"/><use x=\"1159.529297\" xlink:href=\"#DejaVuSans-97\"/><use x=\"1220.808594\" xlink:href=\"#DejaVuSans-116\"/><use x=\"1260.017578\" xlink:href=\"#DejaVuSans-101\"/><use x=\"1321.541016\" xlink:href=\"#DejaVuSans-46\"/></g><path d=\"m118.8 224.64z\" clip-path=\"url(#p9f7f983016)\" stroke=\"#000000\"/><path d=\"m118.8 224.64z\" clip-path=\"url(#p9f7f983016)\" fill=\"#ffffff\" stroke=\"#ffffff\"/><path d=\"m63 170.28z\" clip-path=\"url(#p9f7f983016)\" stroke=\"#000000\"/><path d=\"m63 170.28z\" clip-path=\"url(#p9f7f983016)\" fill=\"#ffffff\" stroke=\"#ffffff\"/><path d=\"m230.4 224.64z\" clip-path=\"url(#p9f7f983016)\" stroke=\"#000000\"/><path d=\"m230.4 224.64z\" clip-path=\"url(#p9f7f983016)\" fill=\"#ffffff\" stroke=\"#ffffff\"/><path d=\"m286.2 170.28z\" clip-path=\"url(#p9f7f983016)\" stroke=\"#000000\"/><path d=\"m286.2 170.28z\" clip-path=\"url(#p9f7f983016)\" fill=\"#ffffff\" stroke=\"#ffffff\"/><path d=\"m174.6 170.28z\" clip-path=\"url(#p9f7f983016)\" stroke=\"#000000\"/><path d=\"m174.6 170.28z\" clip-path=\"url(#p9f7f983016)\" fill=\"#ffffff\" stroke=\"#ffffff\"/><path d=\"m230.4 115.92z\" clip-path=\"url(#p9f7f983016)\" stroke=\"#000000\"/><path d=\"m230.4 115.92z\" clip-path=\"url(#p9f7f983016)\" fill=\"#ffffff\" stroke=\"#ffffff\"/><path d=\"m118.8 115.92z\" clip-path=\"url(#p9f7f983016)\" stroke=\"#000000\"/><path d=\"m118.8 115.92z\" clip-path=\"url(#p9f7f983016)\" fill=\"#ffffff\" stroke=\"#ffffff\"/><path d=\"m174.6 61.56z\" clip-path=\"url(#p9f7f983016)\" stroke=\"#000000\"/><path d=\"m174.6 61.56z\" clip-path=\"url(#p9f7f983016)\" fill=\"#ffffff\" stroke=\"#ffffff\"/><defs><clipPath id=\"p9f7f983016\"><rect x=\"7.2\" y=\"7.2\" width=\"334.8\" height=\"326.16\"/></clipPath></defs></svg>"
            ],
            "text/plain": [
              "<Figure size 432x432 with 1 Axes>"
            ]
          },
          "metadata": {},
          "output_type": "display_data"
        }
      ],
      "source": [
        "message = '\\nRules:\\n    Use exactly one cz gate.'\n",
        "grid = hello_quantum.pauli_grid(mode=mode)\n",
        "grid.update_grid(rho=success_condition, hidden=vi[0], qubit=vi[1], corr=vi[2], message=message)"
      ]
    },
    {
      "cell_type": "markdown",
      "metadata": {
        "id": "gJ1BnPlXVCcp"
      },
      "source": [
        "Note that only the circles that need to be matched are shown.\n",
        "\n",
        "To share your puzzles with someone else, simply save the notebook you created and send it to them. They can play by opening an running on the Quantum Experience, using the 'Import' button on [this page](https://quantum-computing.ibm.com/jupyter)."
      ]
    },
    {
      "cell_type": "markdown",
      "metadata": {
        "id": "TDITVf_tVCcp"
      },
      "source": [
        "## المستوى الخامس: إثبات التفرد المتغيرات الكمومية"
      ]
    },
    {
      "cell_type": "markdown",
      "metadata": {
        "id": "gbPchKyLVCcp"
      },
      "source": [
        "### اختبار بيل للمتغيرات الكلاسيكية\n",
        "\n",
        "هنا، سنحقق في كيفية اختلاف المتغيرات الكمومية (القائمة على كيوبيتات) عن المتغيرات القياسية (القائمة على بتات).\n",
        "\n",
        "سنقوم بذلك عن طريق إنشاء زوج من المتغيرات، والتي سنسميها A و B. لن نفرض أي شروط على ما يمكن أن تكون عليه هذه المتغيرات، أو كيفية تهيئتها. لذلك هناك الكثير من الاحتمالات:\n",
        "\n",
        "* يمكن أن تكون أي نوع من المتغيرات، مثل:\n",
        "    * عدد صحيح\n",
        "    * قائمة\n",
        "    * قاموس\n",
        "    * ...\n",
        "* يمكن تهيئة هذه المتغيرات بأي نوع من العمليات، مثل:\n",
        "    * ترك فراغ\n",
        "    * اعطائها مجموعة من القيم\n",
        "    * توليدها بواسطة عملية عشوائية معينة\n",
        "        * تطبيق بشكل مستقل على A و B\n",
        "        * تطبيقها على A و B معًا، مما يسمح بوجود ارتباطات بين عشوائيتهما\n",
        "\n",
        "إذا تم تهيئة المتغيرات بواسطة عملية عشوائية، فهذا يعني أنها ستحمل قيمًا مختلفة في كل مرة نقوم بتشغيل برنامجنا. هذا أمر جيد تمامًا. القاعدة الوحيدة التي يجب أن نلتزم بها هي أن عملية توليد العشوائية تكون متسقة في كل تشغيل.\n",
        "\n",
        "سنستخدم الدالة التالية لإعداد هذه المتغيرات. يتم حاليًا تعريف A و B على أنهما أعداد عشرية عشوائية مرتبطة جزئيًا. ولكن يمكنك تغييرها إلى ما تريد."
      ]
    },
    {
      "cell_type": "code",
      "execution_count": null,
      "metadata": {
        "id": "NLKg2iWPVCcp"
      },
      "outputs": [],
      "source": [
        "import random\n",
        "def setup_variables ():\n",
        "\n",
        "    ### استبدل هذا القسم بأي شيء تريده ###\n",
        "\n",
        "    r = random.random()\n",
        "\n",
        "    A = r*(2/3)\n",
        "    B = r*(1/3)\n",
        "\n",
        "    ### نهاية القسم ###\n",
        "\n",
        "    return A, B"
      ]
    },
    {
      "cell_type": "markdown",
      "metadata": {
        "id": "uZR3bfQKVCcp"
      },
      "source": [
        "مهمتنا التالية هي تعريف دالة هاش. تحتاج هذه الدالة ببساطة إلى أخذ أحد المتغيرات كمدخل، ثم إعطاء قيمة بت كإخراج.\n",
        "\n",
        "يجب أن تكون هذه الدالة أيضًا قادرة على تنفيذ نوعين مختلفين من الهاش. لذلك، يجب أن تكون قادرة على معالجة متغير وإخراج بت بطريقتين مختلفتين. وبالتالي، سنحتاج أيضًا إلى إخبار الدالة بنوع الهاش الذي نريد استخدامه.\n",
        "\n",
        "لكي تتسق مع بقية البرنامج، يجب أن تسمى نوعي الهاش الممكنان 'H' و 'V'. أيضًا، يجب أن يكون الإخراج في شكل سلسلة بت ذات قيمة واحدة: إما '0' أو '1'.\n",
        "\n",
        "في المثال (المحدد إلى حد ما) المقدم، تم إنشاء البتات عن طريق مقارنة A و B بقيمة معينة. يكون الإخراج '1' إذا كانت أقل من تلك القيمة، و'0' بخلاف ذلك. يحدد نوع الهاش القيمة المستخدمة."
      ]
    },
    {
      "cell_type": "code",
      "execution_count": null,
      "metadata": {
        "id": "-g4gol9GVCcp"
      },
      "outputs": [],
      "source": [
        "def hash2bit ( variable, hash ):\n",
        "\n",
        "    ### استبدل هذا القسم بأي شيء تريده ###\n",
        "\n",
        "    if hash=='V':\n",
        "        bit = (variable<0.5)\n",
        "    elif hash=='H':\n",
        "        bit = (variable<0.25)\n",
        "\n",
        "    bit = str(int(bit)) # حوّل القيم المنطقية True أو False إلى الأرقام الثنائية '1' و '0'\n",
        "\n",
        "    ### نهاية القسم ###\n",
        "\n",
        "    return bit"
      ]
    },
    {
      "cell_type": "markdown",
      "metadata": {
        "id": "4uwGSKzeVCcp"
      },
      "source": [
        "\n",
        "بمجرد تعريف هذه المتغيرات، هناك أربعة كميات نرغب في حسابها: `P['HH']`، `P['HV']`، `P['VH']` و `P['VV']`.\n",
        "\n",
        "لنركز على `P['HV']` كمثال. هذا هو احتمال أن تختلف قيمة البت المستمدة من نوع هاش 'H' على A عن قيمة البت المستمدة من نوع هاش `'V'` على `B`. سنقدر هذا الاحتمال عن طريق أخذ عينات متعددة وتحديد نسبة العينات التي تختلف فيها قيم البت المقابلة.\n",
        "\n",
        "\n",
        "يتم تعريف الاحتمالات الأخرى بشكل مشابه: `P['HH']` يقارن نوع هاش `'H'` على كلا المتغيرين `A` و `B`، `P['VV']` يقارن نوع هاش `'V'` على كلا المتغيرين، `P['VH'] `يقارن نوع هاش `'V'` على `A` مع نوع هاش `'H'` على `B`.\n",
        "\n",
        "يتم حساب هذه الاحتمالات في الدالة التالية، التي تُرجع جميع قيم `P` في قاموس. المعلمة shots هي عدد العينات التي سنستخدمها."
      ]
    },
    {
      "cell_type": "code",
      "execution_count": null,
      "metadata": {
        "id": "I6DdSKYYVCcp"
      },
      "outputs": [],
      "source": [
        "shots = 8192\n",
        "def calculate_P ( ):\n",
        "\n",
        "    P = {}\n",
        "    for hashes in ['VV','VH','HV','HH']:\n",
        "\n",
        "        # احسب كل P[hashes] عن طريق أخذ عينات على shots عينة\n",
        "        P[hashes] = 0\n",
        "        for shot in range(shots):\n",
        "\n",
        "            A, B = setup_variables()\n",
        "\n",
        "            a = hash2bit ( A, hashes[0] ) # نوع الهاش للمتغير `A` هو الحرف الأول من `hashes`\n",
        "            b = hash2bit ( B, hashes[1] ) # نوع الهاش للمتغير `B` هو الحرف الثاني من `hashes`\n",
        "\n",
        "            P[hashes] += (a!=b) / shots\n",
        "\n",
        "    return P"
      ]
    },
    {
      "cell_type": "markdown",
      "metadata": {
        "id": "1ZSRHz_dVCcp"
      },
      "source": [
        "الآن دعونا نحسب هذه القيم فعليًا للطريقة التي اخترناها لإعداد المتغيرات والهاش."
      ]
    },
    {
      "cell_type": "code",
      "execution_count": null,
      "metadata": {
        "id": "qYV95sDGVCcp",
        "outputId": "bef2cb66-144d-40b3-8171-bd920a4faef3"
      },
      "outputs": [
        {
          "name": "stdout",
          "output_type": "stream",
          "text": [
            "{'VV': 0.2520751953125, 'VH': 0.0, 'HV': 0.6229248046875, 'HH': 0.36279296875}\n"
          ]
        }
      ],
      "source": [
        "P = calculate_P()\n",
        "print(P)"
      ]
    },
    {
      "cell_type": "markdown",
      "metadata": {
        "id": "fPaXZ_2xVCcp"
      },
      "source": [
        "ستختلف هذه القيم قليلاً من تشغيل إلى آخر نظرًا لحقيقة أننا نستخدم عددًا محدودًا من العينات. لتغييرها بشكل كبير، نحتاج إلى تغيير طريقة تهيئة المتغيرات، و/أو طريقة تعريف دوال الهاش.\n",
        "\n",
        "بغض النظر عن كيفية تعريف هذه الدوال، هناك قيود معينة ستطيعها قيم `P` دائمًا.\n",
        "\n",
        "على سبيل المثال، ضع في اعتبارك الحالة التي تكون فيها قيم `P['HV']`، `P['VH']`، و `P['VV']` كلها تساوي `0.0`. الطريقة الوحيدة التي يمكن أن يحدث هذا بها هي أن تكون قيمة `P['HH']` أيضًا تساوي `0.0`.\n",
        "\n",
        "للفهم، دعنا نبدأ بملاحظة أن `P['HV']=0.0` يوحي لنا `hash2bit(A, H)` و `hash2bit(B, V)` لم يكونا مختلفين. وهذا يعني بأنه يمكننا التوقع بمساواتهما دائما.\n",
        "\n",
        "    hash2bit(A, H) = hash2bit(B, V)        (1)\n",
        "    \n",
        "من `P['VV']=0.0` و `P['VH']=0.0` يمكننا الحصول بتماثل\n",
        "\n",
        "    hash2bit(A, V) = hash2bit(B, V)        (2)\n",
        "    \n",
        "    hash2bit(A, V) = hash2bit(B, H)        (3)\n",
        "    \n",
        "وضع (1) و (2) معاً يوحي بأن\n",
        "\n",
        "    hash2bit(A, H) = hash2bit(A, V)        (4)\n",
        "    \n",
        "جكع هذا مع (3) يعطي\n",
        "\n",
        "    hash2bit(A, H) = hash2bit(B, H)        (5)\n",
        "\n",
        "وإذا كانت هذه القيم متساوية دائمًا، فلن نرى أبدًا تشغيلًا تختلف فيه. هذا هو بالضبط ما سعينا لإثباته: `P['HH']=0.0`.\n",
        "\n",
        "بشكل أعم أكثر، يمككنا استخدام `P['HV']`, `P['VH']` و `P['VV']` لوضع حد أعلى لما `P['HH']` يقدر ان يكون. عن طريق تطبيق [CHSH inequality](https://en.wikipedia.org/wiki/CHSH_inequality) نجد ما يلي\n",
        "\n",
        "$\\,\\,\\,\\,\\,\\,\\,$ `P['HH']` $\\, \\leq \\,$ `P['HV'] + P['VH'] + P['VV']`\n",
        "\n",
        "هذه ليست خاصية تابعة ل `P['HH']`. وهي صحيحة للباقي: كل واحد من هذه الاحتمالات لا يمكن أن يكون أكبر من مجموع الآخرين.\n",
        "\n",
        "للاختبار ما إذا كان هذا المنطق صحيحًا، سنرى كيف تلتزم الاحتمالات بهذه المتباينات. لاحظ أنه قد نحصل على انتهاكات طفيفة بسبب حقيقة أن`P` القيم ليست دقيقة، بل تقديرات تم الحصول عليها باستخدام عدد محدود من العينات."
      ]
    },
    {
      "cell_type": "code",
      "execution_count": null,
      "metadata": {
        "id": "iOQJ73ZqVCcp"
      },
      "outputs": [],
      "source": [
        "def bell_test (P):\n",
        "\n",
        "    sum_P = sum(P.values())\n",
        "    for hashes in P:\n",
        "\n",
        "        bound = sum_P - P[hashes]\n",
        "\n",
        "        print(\"The upper bound for P['\"+hashes+\"'] is \"+str(bound))\n",
        "        print(\"The value of P['\"+hashes+\"'] is \"+str(P[hashes]))\n",
        "        if P[hashes]<=bound:\n",
        "            print(\"The upper bound is obeyed :)\\n\")\n",
        "        else:\n",
        "            if P[hashes]-bound < 0.1:\n",
        "                print(\"This seems to have gone over the upper bound, but only by a little bit :S\\nProbably just rounding errors or statistical noise.\\n\")\n",
        "            else:\n",
        "                print(\"!!!!! This has gone well over the upper bound :O !!!!!\\n\")"
      ]
    },
    {
      "cell_type": "code",
      "execution_count": null,
      "metadata": {
        "id": "j2bYAiXNVCcq",
        "outputId": "36446fab-ae3b-4023-eb9b-7a2e5eff5bd2"
      },
      "outputs": [
        {
          "name": "stdout",
          "output_type": "stream",
          "text": [
            "The upper bound for P['VV'] is 0.9857177734375\n",
            "The value of P['VV'] is 0.2520751953125\n",
            "The upper bound is obeyed :)\n",
            "\n",
            "The upper bound for P['VH'] is 1.23779296875\n",
            "The value of P['VH'] is 0.0\n",
            "The upper bound is obeyed :)\n",
            "\n",
            "The upper bound for P['HV'] is 0.6148681640625\n",
            "The value of P['HV'] is 0.6229248046875\n",
            "This seems to have gone over the upper bound, but only by a little bit :S\n",
            "Probably just rounding errors or statistical noise.\n",
            "\n",
            "The upper bound for P['HH'] is 0.875\n",
            "The value of P['HH'] is 0.36279296875\n",
            "The upper bound is obeyed :)\n",
            "\n"
          ]
        }
      ],
      "source": [
        "bell_test(P)"
      ]
    },
    {
      "cell_type": "markdown",
      "metadata": {
        "id": "bxdw-e6cVCcq"
      },
      "source": [
        "مع وظائف التهيئة والهاش المقدمة في هذا الدفتر، يجب أن تكون قيمة `P('HV')` قريبة جدًا من الحد الأعلى. نظرًا لأن الأرقام تُقدَّر إحصائيًا، وبالتالي فهي تقريبية إلى حد ما بسبب الضوضاء الإحصائية، فقد ترى حتى أنها تتجاوز الحد الأعلى بقليل. ولكنك لن ترى أبدًا تجاوزًا كبيرًا للحد.\n",
        "\n",
        "إذا لم تصدقني، جربها بنفسك. قم بتغيير طريقة تهيئة المتغيرات، وكيفية حساب الهاشات، وحاول الحصول على أحد الحدود المكسور بشكل كبير."
      ]
    },
    {
      "cell_type": "markdown",
      "metadata": {
        "id": "nCxMaGtCVCcq"
      },
      "source": [
        "### Bell test for quantum variables\n",
        "\n",
        "Now we are going to do the same thing all over again, except our variables `A` and `B` will be quantum variables. Specifically, they'll be the simplest kind of quantum variable: qubits."
      ]
    },
    {
      "cell_type": "markdown",
      "metadata": {
        "id": "Uj7fkTTXVCcq"
      },
      "source": [
        "When writing quantum programs, we have to set up our qubits and bits before we can use them. This is done by the function below. It defines a register of two bits, and assigns them as our variables `A` and `B`. It then sets up a register of two bits to receive the outputs, and assigns them as `a` and `b`.\n",
        "\n",
        "Finally it uses these registers to set up an empty quantum program. This is called `qc`."
      ]
    },
    {
      "cell_type": "code",
      "execution_count": null,
      "metadata": {
        "id": "4EpVKsUHVCcq"
      },
      "outputs": [],
      "source": [
        "from qiskit import QuantumRegister, ClassicalRegister, QuantumCircuit\n",
        "\n",
        "def initialize_program ():\n",
        "\n",
        "    qubit = QuantumRegister(2)\n",
        "    A = qubit[0]\n",
        "    B = qubit[1]\n",
        "\n",
        "    bit = ClassicalRegister(2)\n",
        "    a = bit[0]\n",
        "    b = bit[1]\n",
        "\n",
        "    qc = QuantumCircuit(qubit, bit)\n",
        "\n",
        "    return A, B, a, b, qc"
      ]
    },
    {
      "cell_type": "markdown",
      "metadata": {
        "id": "-uEDztP2VCcq"
      },
      "source": [
        "Before we start writing the quantum program to set up our variables, let's think about what needs to happen at the end of the program. This will be where we define the different hash functions, which turn our qubits into bits.\n",
        "\n",
        "The simplest way to extract a bit from a qubit is through the `measure` gate. This corresponds to the Z output of a qubit in the visualization we've been using. Let's use this as our `V` type hash.\n",
        "\n",
        "For the output that corresponds to the X output, there is no direct means of access. However, we can do it indirectly by first doing an `h` to swap the top and Z outputs, and then using the `measure` gate. This will be our `H` type hash.\n",
        "\n",
        "Note that this function has more inputs that its classical counterpart. We have to tell it the `bit` on which to write the result, and the quantum program, `qc`, on which we write the gates."
      ]
    },
    {
      "cell_type": "code",
      "execution_count": null,
      "metadata": {
        "id": "xkNtPVXZVCcq"
      },
      "outputs": [],
      "source": [
        "def hash2bit  ( variable, hash, bit, qc ):\n",
        "\n",
        "    if hash=='H':\n",
        "        qc.h( variable )\n",
        "\n",
        "    qc.measure( variable, bit )"
      ]
    },
    {
      "cell_type": "markdown",
      "metadata": {
        "id": "XlBRfSCYVCcq"
      },
      "source": [
        "Now its time to set up the variables `A` and `B`. To write this program, you can use the grid below. You can either follow the suggested exercise, or do whatever you like. Once you are ready, just move on. The cell containing the `setup_variables()` function, will then use the program you wrote with the grid.\n",
        "\n",
        "Note that our choice of means that the probabilities `P['HH']`, `P['HV']`, `P['VH']` and `P['VV']` will explicitly correspond to circles on our grid. For example, the circle at the very top tells us how likely the two X outputs would be to disagree. If this is white, then `P['HH']=1` , if it is black then `P['HH']=0`.\n",
        "\n",
        "### Exercise\n",
        "* Make it so that the X outputs of both qubits are more likely to disagree, whereas all other combinations of outputs are more likely to agree."
      ]
    },
    {
      "cell_type": "code",
      "execution_count": null,
      "metadata": {
        "id": "Rx7Q3lMWVCcq"
      },
      "outputs": [],
      "source": [
        "initialize = []\n",
        "success_condition = {'ZZ':+0.7071,'ZX':+0.7071,'XZ':+0.7071,'XX':-0.7071}\n",
        "allowed_gates = {'0': {'bloch':0, 'x':0, 'z':0, 'h':0, 'cx':0, 'ry(pi/4)': 0, 'ry(-pi/4)': 0}, '1': {'bloch':0, 'x':0, 'z':0, 'h':0, 'cx':0, 'ry(pi/4)': 0, 'ry(-pi/4)': 0}, 'both': {'cz':0, 'unbloch':0}}\n",
        "vi = [[], True, True]\n",
        "qubit_names = {'0':'A', '1':'B'}\n",
        "puzzle = hello_quantum.run_game(initialize, success_condition, allowed_gates, vi, qubit_names, mode='line')"
      ]
    },
    {
      "cell_type": "markdown",
      "metadata": {
        "id": "Fi-JvBCuVCcr"
      },
      "source": [
        "Now the program as written above will be used to set up the quantum variables."
      ]
    },
    {
      "cell_type": "code",
      "execution_count": null,
      "metadata": {
        "id": "SjJsNh_xVCcr"
      },
      "outputs": [],
      "source": [
        "import numpy as np\n",
        "def setup_variables ( A, B, qc ):\n",
        "\n",
        "    for line in puzzle.program:\n",
        "        eval(line)"
      ]
    },
    {
      "cell_type": "markdown",
      "metadata": {
        "id": "Z1bq26ObVCcr"
      },
      "source": [
        "The values of `P` are calculated in the function below. In this, as in the puzzles in the rest of this notebook, this is done by running the job using Qiskit and getting results which tell us how many of the samples gave each possible output. The output is given as a bit string, `string`, which Qiskit numbers from right to left. This means that the value of `a`, which corresponds to `bit[0]` is the first from the right\n",
        "\n",
        "    a = string[-1]\n",
        "    \n",
        "and the value of `b` is right next to it at the second from the right\n",
        "\n",
        "    b = string[-2]\n",
        "\n",
        "The number of samples for this bit string is provided by the dictionary of results, `stats`, as `stats[string]`."
      ]
    },
    {
      "cell_type": "code",
      "execution_count": null,
      "metadata": {
        "id": "12ciBbB3VCcr"
      },
      "outputs": [],
      "source": [
        "shots = 8192\n",
        "from qiskit import assemble, transpile\n",
        "\n",
        "def calculate_P ( backend ):\n",
        "\n",
        "    P = {}\n",
        "    program = {}\n",
        "    for hashes in ['VV','VH','HV','HH']:\n",
        "\n",
        "        A, B, a, b, program[hashes] = initialize_program ()\n",
        "\n",
        "        setup_variables( A, B, program[hashes] )\n",
        "\n",
        "        hash2bit ( A, hashes[0], a, program[hashes])\n",
        "        hash2bit ( B, hashes[1], b, program[hashes])\n",
        "\n",
        "    # submit jobs\n",
        "    t_qcs = transpile(list(program.values()), backend)\n",
        "    qobj = assemble(t_qcs, shots=shots)\n",
        "    job = backend.run(qobj)\n",
        "\n",
        "    # get the results\n",
        "    for hashes in ['VV','VH','HV','HH']:\n",
        "        stats = job.result().get_counts(program[hashes])\n",
        "\n",
        "        P[hashes] = 0\n",
        "        for string in stats.keys():\n",
        "            a = string[-1]\n",
        "            b = string[-2]\n",
        "\n",
        "            if a!=b:\n",
        "                P[hashes] += stats[string] / shots\n",
        "\n",
        "    return P"
      ]
    },
    {
      "cell_type": "markdown",
      "metadata": {
        "id": "vchpzNkSVCcr"
      },
      "source": [
        "Now its time to choose and set up the actually device we are going to use. By default, we'll use a simulator. You could instead use a real cloud-based device by changing the backend accordingly."
      ]
    },
    {
      "cell_type": "code",
      "execution_count": null,
      "metadata": {
        "id": "lWHqKKrMVCcr"
      },
      "outputs": [],
      "source": [
        "from qiskit import Aer\n",
        "device = 'aer_simulator'\n",
        "backend = Aer.get_backend(device)"
      ]
    },
    {
      "cell_type": "code",
      "execution_count": null,
      "metadata": {
        "id": "H7Zhbf6IVCcr",
        "outputId": "fe8df1ca-3905-4b24-8759-e55110626033"
      },
      "outputs": [
        {
          "name": "stdout",
          "output_type": "stream",
          "text": [
            "{'VV': 0, 'VH': 0.5074462890625, 'HV': 0.501220703125, 'HH': 0.5057373046875}\n"
          ]
        }
      ],
      "source": [
        "P = calculate_P( backend )\n",
        "print(P)"
      ]
    },
    {
      "cell_type": "code",
      "execution_count": null,
      "metadata": {
        "id": "RC4ZZRstVCcr"
      },
      "outputs": [],
      "source": [
        "bell_test( P )"
      ]
    },
    {
      "cell_type": "markdown",
      "metadata": {
        "id": "x5OHOYuQVCcr"
      },
      "source": [
        "If you prepared the state suggestion by the exercise, you will have found a significant violation of the upper bound for `P['HH']`. So what is going on here? The chain of logic we based the Bell test on obviously doesn't apply to quantum variables. But why?\n",
        "\n",
        "The answer is that there is a hidden assumption in that logic. To see why, let's revisit point (4).\n",
        "\n",
        "    hash2bit ( A, H ) = hash2bit ( A, V )        (4)\n",
        "    \n",
        "Here we compare the value we'd get from an `H` type of hash of the variable `A` with that for a `V` type hash.\n",
        "\n",
        "For classical variables, this is perfectly sensible. There is nothing stopping us from calculating both hashes and comparing the results. Even if calculating the hash of a variable changes the variable, that's not a problem. All we need to do is copy it beforehand and we can do both hashes without any issue.\n",
        "\n",
        "The same is not true for quantum variables. The result of the hashes is not known until we actually do them. It's only then that the qubit actually decides what bit value to give. And once it decides the value for one type of hash, we can never determine what it would have decided if we had used another type of hash. We can't get around this by copying the quantum variables either, because quantum variables [cannot be copied](https://en.wikipedia.org/wiki/No-cloning_theorem). This means there is no context in which the values `hash2bit(A,H)` and `hash2bit(A,V)` are well-defined at the same time, and so it is impossible to compare them.\n",
        "\n",
        "Another hidden assumption is that `hash2bit(A,hash)` depends only on the type of hash chosen for variable `A`, and not the one chosen for variable `B`. This is also perfectly sensible, since this exactly the way we set up the `hash2bit()` function. However, the very fact that the upper bound was violated does seem to imply that each variable knows what hash is  being done to the other, so they they can conspire to give very different behaviour when both have a `H` type hash.\n",
        "\n",
        "Even so, we cannot say that our choice of hash on one qubit affects the outcome on the other. The effect is more subtle than that. For example, it is impossible to determine which variable is affecting which: You can change the order in which the hashes are done, or [effectively do them at the same time](https://en.wikipedia.org/wiki/Loopholes_in_Bell_test_experiments#Communication,_or_locality), and you'll get the same results. What we can say is that the results are [contextual](https://en.wikipedia.org/wiki/Quantum_contextuality): to fully understand results from one variable, it is sometimes required to look at what was done to another.\n",
        "\n",
        "All this goes to show that quantum variables don't always follow the logic we are used to. They follow different rules, the rules of quantum mechanics, which will allow us to find ways of performing computation in new and different ways."
      ]
    },
    {
      "cell_type": "code",
      "execution_count": null,
      "metadata": {
        "id": "kvu_N8KBVCcr",
        "outputId": "2050c4d4-75bd-4798-a18f-2e26172b9621"
      },
      "outputs": [
        {
          "data": {
            "text/plain": [
              "{'qiskit-terra': '0.16.1',\n",
              " 'qiskit-aer': '0.7.2',\n",
              " 'qiskit-ignis': '0.5.1',\n",
              " 'qiskit-ibmq-provider': '0.11.1',\n",
              " 'qiskit-aqua': '0.8.1',\n",
              " 'qiskit': '0.23.2'}"
            ]
          },
          "execution_count": 93,
          "metadata": {},
          "output_type": "execute_result"
        }
      ],
      "source": [
        "import qiskit.tools.jupyter\n",
        "%qiskit_version_table"
      ]
    }
  ],
  "metadata": {
    "kernelspec": {
      "display_name": "Python 3",
      "language": "python",
      "name": "python3"
    },
    "language_info": {
      "codemirror_mode": {
        "name": "ipython",
        "version": 3
      },
      "file_extension": ".py",
      "mimetype": "text/x-python",
      "name": "python",
      "nbconvert_exporter": "python",
      "pygments_lexer": "ipython3",
      "version": "3.9"
    },
    "colab": {
      "provenance": [],
      "include_colab_link": true
    }
  },
  "nbformat": 4,
  "nbformat_minor": 0
}